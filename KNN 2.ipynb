{
 "cells": [
  {
   "cell_type": "code",
   "execution_count": 1,
   "metadata": {},
   "outputs": [],
   "source": [
    "import numpy as np  \n",
    "import matplotlib.pyplot as plt  \n",
    "import pandas as pd "
   ]
  },
  {
   "cell_type": "code",
   "execution_count": 2,
   "metadata": {},
   "outputs": [],
   "source": [
    "data = pd.read_csv(\"/home/madhav/Desktop/MADHAV/finaldata.csv\")"
   ]
  },
  {
   "cell_type": "code",
   "execution_count": 3,
   "metadata": {},
   "outputs": [
    {
     "data": {
      "text/plain": [
       "Index(['STATE', 'ACCOUNT LENGTH', 'AREA CODE', 'PHONE NUMBER',\n",
       "       'INTERNATIONAL PLAN', 'VOICE MAIL PLAN', 'NUMBER VMAIL MESSAGES',\n",
       "       'TOTAL DAY MINUTES', 'TOTAL DAY CALLS', 'TOTAL DAY CHARGE',\n",
       "       'TOTAL EVE MINUTES', 'TOTAL EVE CALLS', 'TOTAL EVE CHARGE',\n",
       "       'TOTAL NIGHT MINUTES', 'TOTAL NIGHT CALLS', 'TOTAL NIGHT CHARGE',\n",
       "       'TOTAL INTL MINUTES', 'TOTAL INTL CALLS', 'TOTAL INTL CHARGE',\n",
       "       'CUSTOMER SERVICE CALLS', 'CHURN'],\n",
       "      dtype='object')"
      ]
     },
     "execution_count": 3,
     "metadata": {},
     "output_type": "execute_result"
    }
   ],
   "source": [
    "## Making the column name in upper case\n",
    "data.columns=map(str.upper,data.columns)\n",
    "data.columns"
   ]
  },
  {
   "cell_type": "code",
   "execution_count": 4,
   "metadata": {},
   "outputs": [],
   "source": [
    "# Making Dummy Variables for boolean variables \n",
    "\n",
    "data['INTERNATIONAL PLAN'] = np.where(data['INTERNATIONAL PLAN']=='Yes', 1,0)\n",
    "data['VOICE MAIL PLAN'] = np.where(data['VOICE MAIL PLAN']=='Yes', 1,0)\n",
    "data['CHURN'] = np.where(data['CHURN']==True, 1,0)"
   ]
  },
  {
   "cell_type": "code",
   "execution_count": 5,
   "metadata": {},
   "outputs": [],
   "source": [
    "# Making dummy variable for categorical variables\n",
    "\n",
    "data = pd.get_dummies(data,columns=['AREA CODE','CUSTOMER SERVICE CALLS'])"
   ]
  },
  {
   "cell_type": "code",
   "execution_count": 6,
   "metadata": {},
   "outputs": [],
   "source": [
    "## Subset variables\n",
    "final_data=data[['ACCOUNT LENGTH','NUMBER VMAIL MESSAGES','TOTAL DAY MINUTES', 'TOTAL DAY CALLS',\n",
    "        'TOTAL EVE MINUTES', 'TOTAL EVE CALLS',\n",
    "        'TOTAL NIGHT MINUTES', 'TOTAL NIGHT CALLS',\n",
    "        'TOTAL INTL MINUTES', 'TOTAL INTL CALLS']]"
   ]
  },
  {
   "cell_type": "code",
   "execution_count": 7,
   "metadata": {},
   "outputs": [],
   "source": [
    "\n",
    "from sklearn import preprocessing\n",
    "clustervar = final_data.copy()\n",
    "clustervar['ACCOUNT LENGTH']=preprocessing.scale(clustervar['ACCOUNT LENGTH'].astype('float64'))\n",
    "clustervar['NUMBER VMAIL MESSAGES']=preprocessing.scale(clustervar['NUMBER VMAIL MESSAGES'].astype('float64'))\n",
    "clustervar['TOTAL DAY MINUTES']=preprocessing.scale(clustervar['TOTAL DAY MINUTES'].astype('float64'))\n",
    "clustervar['TOTAL DAY CALLS']=preprocessing.scale(clustervar['TOTAL DAY CALLS'].astype('float64'))\n",
    "#clustervar['TOTAL DAY CHARGE']=preprocessing.scale(clustervar['TOTAL DAY CHARGE'].astype('float64'))\n",
    "clustervar['TOTAL EVE MINUTES']=preprocessing.scale(clustervar['TOTAL EVE MINUTES'].astype('float64'))\n",
    "clustervar['TOTAL EVE CALLS']=preprocessing.scale(clustervar['TOTAL EVE CALLS'].astype('float64'))\n",
    "#clustervar['TOTAL EVE CHARGE']=preprocessing.scale(clustervar['TOTAL EVE CHARGE'].astype('float64'))\n",
    "clustervar['TOTAL NIGHT MINUTES']=preprocessing.scale(clustervar['TOTAL NIGHT MINUTES'].astype('float64'))\n",
    "clustervar['TOTAL NIGHT CALLS']=preprocessing.scale(clustervar['TOTAL NIGHT CALLS'].astype('float64'))\n",
    "#clustervar['TOTAL NIGHT CHARGE']=preprocessing.scale(clustervar['TOTAL NIGHT CHARGE'].astype('float64'))\n",
    "clustervar['TOTAL INTL MINUTES']=preprocessing.scale(clustervar['TOTAL INTL MINUTES'].astype('float64'))\n",
    "clustervar['TOTAL INTL CALLS']=preprocessing.scale(clustervar['TOTAL INTL CALLS'].astype('float64'))\n",
    "#clustervar['TOTAL INTL CHARGE']=preprocessing.scale(clustervar['TOTAL INTL CHARGE'].astype('float64'))"
   ]
  },
  {
   "cell_type": "code",
   "execution_count": 8,
   "metadata": {},
   "outputs": [],
   "source": [
    "strdata = pd.DataFrame(clustervar)"
   ]
  },
  {
   "cell_type": "code",
   "execution_count": 9,
   "metadata": {},
   "outputs": [],
   "source": [
    "#Concatenatinating the dataset \n",
    "final_data = pd.concat([strdata,data['INTERNATIONAL PLAN'],data['VOICE MAIL PLAN'],\n",
    "       data['CHURN'], data['AREA CODE_408'], data['AREA CODE_415'],\n",
    "       data['AREA CODE_510'], data['CUSTOMER SERVICE CALLS_1'], data['CUSTOMER SERVICE CALLS_2'],\n",
    "       data['CUSTOMER SERVICE CALLS_3']], axis=1)"
   ]
  },
  {
   "cell_type": "code",
   "execution_count": 10,
   "metadata": {},
   "outputs": [
    {
     "data": {
      "text/html": [
       "<div>\n",
       "<style scoped>\n",
       "    .dataframe tbody tr th:only-of-type {\n",
       "        vertical-align: middle;\n",
       "    }\n",
       "\n",
       "    .dataframe tbody tr th {\n",
       "        vertical-align: top;\n",
       "    }\n",
       "\n",
       "    .dataframe thead th {\n",
       "        text-align: right;\n",
       "    }\n",
       "</style>\n",
       "<table border=\"1\" class=\"dataframe\">\n",
       "  <thead>\n",
       "    <tr style=\"text-align: right;\">\n",
       "      <th></th>\n",
       "      <th>ACCOUNT LENGTH</th>\n",
       "      <th>NUMBER VMAIL MESSAGES</th>\n",
       "      <th>TOTAL DAY MINUTES</th>\n",
       "      <th>TOTAL DAY CALLS</th>\n",
       "      <th>TOTAL EVE MINUTES</th>\n",
       "      <th>TOTAL EVE CALLS</th>\n",
       "      <th>TOTAL NIGHT MINUTES</th>\n",
       "      <th>TOTAL NIGHT CALLS</th>\n",
       "      <th>TOTAL INTL MINUTES</th>\n",
       "      <th>TOTAL INTL CALLS</th>\n",
       "      <th>INTERNATIONAL PLAN</th>\n",
       "      <th>VOICE MAIL PLAN</th>\n",
       "      <th>CHURN</th>\n",
       "      <th>AREA CODE_408</th>\n",
       "      <th>AREA CODE_415</th>\n",
       "      <th>AREA CODE_510</th>\n",
       "      <th>CUSTOMER SERVICE CALLS_1</th>\n",
       "      <th>CUSTOMER SERVICE CALLS_2</th>\n",
       "      <th>CUSTOMER SERVICE CALLS_3</th>\n",
       "    </tr>\n",
       "  </thead>\n",
       "  <tbody>\n",
       "    <tr>\n",
       "      <th>0</th>\n",
       "      <td>0.696851</td>\n",
       "      <td>1.227234</td>\n",
       "      <td>1.637000</td>\n",
       "      <td>0.487788</td>\n",
       "      <td>-0.067723</td>\n",
       "      <td>-0.058698</td>\n",
       "      <td>0.921441</td>\n",
       "      <td>-0.495382</td>\n",
       "      <td>-0.123535</td>\n",
       "      <td>-0.624820</td>\n",
       "      <td>0</td>\n",
       "      <td>0</td>\n",
       "      <td>0</td>\n",
       "      <td>0</td>\n",
       "      <td>1</td>\n",
       "      <td>0</td>\n",
       "      <td>1</td>\n",
       "      <td>0</td>\n",
       "      <td>0</td>\n",
       "    </tr>\n",
       "    <tr>\n",
       "      <th>1</th>\n",
       "      <td>0.165355</td>\n",
       "      <td>1.300169</td>\n",
       "      <td>-0.343142</td>\n",
       "      <td>1.162035</td>\n",
       "      <td>-0.106838</td>\n",
       "      <td>0.151244</td>\n",
       "      <td>1.122003</td>\n",
       "      <td>0.138630</td>\n",
       "      <td>1.339016</td>\n",
       "      <td>-0.624820</td>\n",
       "      <td>0</td>\n",
       "      <td>0</td>\n",
       "      <td>0</td>\n",
       "      <td>0</td>\n",
       "      <td>1</td>\n",
       "      <td>0</td>\n",
       "      <td>1</td>\n",
       "      <td>0</td>\n",
       "      <td>0</td>\n",
       "    </tr>\n",
       "    <tr>\n",
       "      <th>2</th>\n",
       "      <td>-0.644543</td>\n",
       "      <td>-0.596150</td>\n",
       "      <td>-0.245570</td>\n",
       "      <td>0.643384</td>\n",
       "      <td>-1.078541</td>\n",
       "      <td>1.148469</td>\n",
       "      <td>-0.273665</td>\n",
       "      <td>1.089648</td>\n",
       "      <td>-0.084007</td>\n",
       "      <td>-0.624820</td>\n",
       "      <td>0</td>\n",
       "      <td>0</td>\n",
       "      <td>0</td>\n",
       "      <td>0</td>\n",
       "      <td>1</td>\n",
       "      <td>0</td>\n",
       "      <td>0</td>\n",
       "      <td>0</td>\n",
       "      <td>1</td>\n",
       "    </tr>\n",
       "    <tr>\n",
       "      <th>3</th>\n",
       "      <td>1.709224</td>\n",
       "      <td>-0.596150</td>\n",
       "      <td>-0.970665</td>\n",
       "      <td>-0.238324</td>\n",
       "      <td>-1.972013</td>\n",
       "      <td>-1.528293</td>\n",
       "      <td>-1.220652</td>\n",
       "      <td>1.459488</td>\n",
       "      <td>0.350806</td>\n",
       "      <td>-1.028216</td>\n",
       "      <td>0</td>\n",
       "      <td>0</td>\n",
       "      <td>0</td>\n",
       "      <td>1</td>\n",
       "      <td>0</td>\n",
       "      <td>0</td>\n",
       "      <td>1</td>\n",
       "      <td>0</td>\n",
       "      <td>0</td>\n",
       "    </tr>\n",
       "    <tr>\n",
       "      <th>4</th>\n",
       "      <td>-0.138357</td>\n",
       "      <td>-0.596150</td>\n",
       "      <td>-0.438801</td>\n",
       "      <td>-0.653245</td>\n",
       "      <td>0.965740</td>\n",
       "      <td>-1.318351</td>\n",
       "      <td>-0.162011</td>\n",
       "      <td>0.772642</td>\n",
       "      <td>0.785618</td>\n",
       "      <td>0.181970</td>\n",
       "      <td>0</td>\n",
       "      <td>0</td>\n",
       "      <td>0</td>\n",
       "      <td>0</td>\n",
       "      <td>0</td>\n",
       "      <td>1</td>\n",
       "      <td>0</td>\n",
       "      <td>0</td>\n",
       "      <td>1</td>\n",
       "    </tr>\n",
       "  </tbody>\n",
       "</table>\n",
       "</div>"
      ],
      "text/plain": [
       "   ACCOUNT LENGTH  NUMBER VMAIL MESSAGES  TOTAL DAY MINUTES  TOTAL DAY CALLS  \\\n",
       "0        0.696851               1.227234           1.637000         0.487788   \n",
       "1        0.165355               1.300169          -0.343142         1.162035   \n",
       "2       -0.644543              -0.596150          -0.245570         0.643384   \n",
       "3        1.709224              -0.596150          -0.970665        -0.238324   \n",
       "4       -0.138357              -0.596150          -0.438801        -0.653245   \n",
       "\n",
       "   TOTAL EVE MINUTES  TOTAL EVE CALLS  TOTAL NIGHT MINUTES  TOTAL NIGHT CALLS  \\\n",
       "0          -0.067723        -0.058698             0.921441          -0.495382   \n",
       "1          -0.106838         0.151244             1.122003           0.138630   \n",
       "2          -1.078541         1.148469            -0.273665           1.089648   \n",
       "3          -1.972013        -1.528293            -1.220652           1.459488   \n",
       "4           0.965740        -1.318351            -0.162011           0.772642   \n",
       "\n",
       "   TOTAL INTL MINUTES  TOTAL INTL CALLS  INTERNATIONAL PLAN  VOICE MAIL PLAN  \\\n",
       "0           -0.123535         -0.624820                   0                0   \n",
       "1            1.339016         -0.624820                   0                0   \n",
       "2           -0.084007         -0.624820                   0                0   \n",
       "3            0.350806         -1.028216                   0                0   \n",
       "4            0.785618          0.181970                   0                0   \n",
       "\n",
       "   CHURN  AREA CODE_408  AREA CODE_415  AREA CODE_510  \\\n",
       "0      0              0              1              0   \n",
       "1      0              0              1              0   \n",
       "2      0              0              1              0   \n",
       "3      0              1              0              0   \n",
       "4      0              0              0              1   \n",
       "\n",
       "   CUSTOMER SERVICE CALLS_1  CUSTOMER SERVICE CALLS_2  \\\n",
       "0                         1                         0   \n",
       "1                         1                         0   \n",
       "2                         0                         0   \n",
       "3                         1                         0   \n",
       "4                         0                         0   \n",
       "\n",
       "   CUSTOMER SERVICE CALLS_3  \n",
       "0                         0  \n",
       "1                         0  \n",
       "2                         1  \n",
       "3                         0  \n",
       "4                         1  "
      ]
     },
     "execution_count": 10,
     "metadata": {},
     "output_type": "execute_result"
    }
   ],
   "source": [
    "final_data.head(5)"
   ]
  },
  {
   "cell_type": "code",
   "execution_count": 11,
   "metadata": {},
   "outputs": [],
   "source": [
    "X = final_data.drop('CHURN',axis=1)\n",
    "y = final_data['CHURN']"
   ]
  },
  {
   "cell_type": "code",
   "execution_count": 12,
   "metadata": {},
   "outputs": [],
   "source": [
    "from sklearn.model_selection import train_test_split  \n",
    "X_train, X_test, y_train, y_test = train_test_split(X, y, test_size=0.30) "
   ]
  },
  {
   "cell_type": "code",
   "execution_count": 13,
   "metadata": {},
   "outputs": [],
   "source": [
    "# The gradient descent algorithm (which is used in neural network training and other machine learning algorithms)\n",
    "#also converges faster with normalized features.\n",
    "\n",
    "from sklearn.preprocessing import StandardScaler  \n",
    "scaler = StandardScaler()  \n",
    "scaler.fit(X_train)\n",
    "\n",
    "X_train = scaler.transform(X_train)  \n",
    "X_test = scaler.transform(X_test) "
   ]
  },
  {
   "cell_type": "code",
   "execution_count": 14,
   "metadata": {},
   "outputs": [
    {
     "data": {
      "text/plain": [
       "KNeighborsClassifier(algorithm='auto', leaf_size=30, metric='minkowski',\n",
       "           metric_params=None, n_jobs=1, n_neighbors=5, p=2,\n",
       "           weights='uniform')"
      ]
     },
     "execution_count": 14,
     "metadata": {},
     "output_type": "execute_result"
    }
   ],
   "source": [
    "# Training and Predictions\n",
    "\n",
    "from sklearn.neighbors import KNeighborsClassifier  \n",
    "classifier = KNeighborsClassifier(n_neighbors=5)  \n",
    "classifier.fit(X_train, y_train) "
   ]
  },
  {
   "cell_type": "code",
   "execution_count": 15,
   "metadata": {},
   "outputs": [],
   "source": [
    "y_pred = classifier.predict(X_test) "
   ]
  },
  {
   "cell_type": "code",
   "execution_count": 16,
   "metadata": {},
   "outputs": [
    {
     "name": "stdout",
     "output_type": "stream",
     "text": [
      "[[580   2]\n",
      " [ 71   4]]\n",
      "             precision    recall  f1-score   support\n",
      "\n",
      "          0       0.89      1.00      0.94       582\n",
      "          1       0.67      0.05      0.10        75\n",
      "\n",
      "avg / total       0.87      0.89      0.84       657\n",
      "\n"
     ]
    }
   ],
   "source": [
    "#Evaluating the Algorithm\n",
    "\n",
    "from sklearn.metrics import classification_report, confusion_matrix  \n",
    "print(confusion_matrix(y_test, y_pred))  \n",
    "print(classification_report(y_test, y_pred)) "
   ]
  },
  {
   "cell_type": "code",
   "execution_count": 17,
   "metadata": {},
   "outputs": [
    {
     "name": "stdout",
     "output_type": "stream",
     "text": [
      "Accuracy: 0.8888888888888888\n",
      "F1 score: 0.09876543209876544\n",
      "Recall: 0.05333333333333334\n",
      "Precision: 0.6666666666666666\n",
      "\n",
      " clasification report:\n",
      "              precision    recall  f1-score   support\n",
      "\n",
      "          0       0.89      1.00      0.94       582\n",
      "          1       0.67      0.05      0.10        75\n",
      "\n",
      "avg / total       0.87      0.89      0.84       657\n",
      "\n",
      "\n",
      " confussion matrix:\n",
      " [[580   2]\n",
      " [ 71   4]]\n"
     ]
    }
   ],
   "source": [
    "from sklearn.metrics import precision_score,recall_score, confusion_matrix, classification_report,accuracy_score, f1_score\n",
    "\n",
    "print('Accuracy:', accuracy_score(y_test, y_pred))\n",
    "print('F1 score:', f1_score(y_test , y_pred ))\n",
    "print('Recall:', recall_score(y_test,  y_pred))\n",
    "print('Precision:', precision_score(y_test,  y_pred))\n",
    "print('\\n clasification report:\\n', classification_report(y_test, y_pred))\n",
    "print('\\n confussion matrix:\\n',confusion_matrix(y_test,  y_pred))"
   ]
  },
  {
   "cell_type": "code",
   "execution_count": 18,
   "metadata": {},
   "outputs": [],
   "source": [
    "#Comparing Error Rate with the K Value\n",
    "error = []\n",
    "# Calculating error for K values between 1 and 40\n",
    "for i in range(1, 40):  \n",
    "    knn = KNeighborsClassifier(n_neighbors=i)\n",
    "    knn.fit(X_train, y_train)\n",
    "    pred_i = knn.predict(X_test)\n",
    "    error.append(np.mean(pred_i != y_test))"
   ]
  },
  {
   "cell_type": "code",
   "execution_count": 19,
   "metadata": {},
   "outputs": [
    {
     "data": {
      "text/plain": [
       "Text(0,0.5,'Mean Error')"
      ]
     },
     "execution_count": 19,
     "metadata": {},
     "output_type": "execute_result"
    },
    {
     "data": {
      "image/png": "[encoded data removed]",
      "text/plain": [
       "<Figure size 864x432 with 1 Axes>"
      ]
     },
     "metadata": {},
     "output_type": "display_data"
    }
   ],
   "source": [
    "plt.figure(figsize=(12, 6))  \n",
    "plt.plot(range(1, 40), error, color='red', linestyle='dashed', marker='o',  \n",
    "         markerfacecolor='blue', markersize=10)\n",
    "plt.title('Error Rate K Value')  \n",
    "plt.xlabel('K Value')  \n",
    "plt.ylabel('Mean Error')"
   ]
  },
  {
   "cell_type": "code",
   "execution_count": 20,
   "metadata": {},
   "outputs": [],
   "source": [
    "#From the output we can see that the mean error is zero when the value of the K is 7. So, it would be advise you to play around with the value of K to see how it impacts the accuracy of the predictions."
   ]
  }
 ],
 "metadata": {
  "kernelspec": {
   "display_name": "Python 3",
   "language": "python",
   "name": "python3"
  },
  "language_info": {
   "codemirror_mode": {
    "name": "ipython",
    "version": 3
   },
   "file_extension": ".py",
   "mimetype": "text/x-python",
   "name": "python",
   "nbconvert_exporter": "python",
   "pygments_lexer": "ipython3",
   "version": "3.6.5"
  }
 },
 "nbformat": 4,
 "nbformat_minor": 2
}
