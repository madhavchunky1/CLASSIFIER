{
 "cells": [
  {
   "cell_type": "code",
   "execution_count": 55,
   "metadata": {},
   "outputs": [],
   "source": [
    "# Importing the packages\n",
    "\n",
    "import numpy as np\n",
    "import pandas as pd\n",
    "from sklearn import preprocessing\n",
    "import matplotlib.pyplot as plt \n",
    "from imblearn.over_sampling import SMOTE\n",
    "from sklearn.linear_model import LogisticRegression\n",
    "from sklearn.cross_validation import train_test_split\n",
    "import seaborn as sns\n"
   ]
  },
  {
   "cell_type": "code",
   "execution_count": 2,
   "metadata": {},
   "outputs": [
    {
     "data": {
      "text/plain": [
       "(2188, 21)"
      ]
     },
     "execution_count": 2,
     "metadata": {},
     "output_type": "execute_result"
    }
   ],
   "source": [
    "final_data = pd.read_csv(\"/home/madhav/Desktop/MADHAV/finaldata.csv\")\n",
    "final_data.shape"
   ]
  },
  {
   "cell_type": "code",
   "execution_count": 3,
   "metadata": {},
   "outputs": [
    {
     "data": {
      "text/plain": [
       "(2188, 21)"
      ]
     },
     "execution_count": 3,
     "metadata": {},
     "output_type": "execute_result"
    }
   ],
   "source": [
    "## Checking the NA\n",
    "data=final_data.dropna()\n",
    "data.shape # Hence , there is no NA values."
   ]
  },
  {
   "cell_type": "code",
   "execution_count": 4,
   "metadata": {},
   "outputs": [
    {
     "data": {
      "text/plain": [
       "state                      object\n",
       "account length              int64\n",
       "area code                   int64\n",
       "phone number               object\n",
       "international plan         object\n",
       "voice mail plan            object\n",
       "number vmail messages       int64\n",
       "total day minutes         float64\n",
       "total day calls             int64\n",
       "total day charge          float64\n",
       "total eve minutes         float64\n",
       "total eve calls             int64\n",
       "total eve charge          float64\n",
       "total night minutes       float64\n",
       "total night calls           int64\n",
       "total night charge        float64\n",
       "total intl minutes        float64\n",
       "total intl calls            int64\n",
       "total intl charge         float64\n",
       "customer service calls      int64\n",
       "churn                        bool\n",
       "dtype: object"
      ]
     },
     "execution_count": 4,
     "metadata": {},
     "output_type": "execute_result"
    }
   ],
   "source": [
    "data.dtypes"
   ]
  },
  {
   "cell_type": "code",
   "execution_count": 5,
   "metadata": {},
   "outputs": [
    {
     "data": {
      "text/html": [
       "<div>\n",
       "<style scoped>\n",
       "    .dataframe tbody tr th:only-of-type {\n",
       "        vertical-align: middle;\n",
       "    }\n",
       "\n",
       "    .dataframe tbody tr th {\n",
       "        vertical-align: top;\n",
       "    }\n",
       "\n",
       "    .dataframe thead th {\n",
       "        text-align: right;\n",
       "    }\n",
       "</style>\n",
       "<table border=\"1\" class=\"dataframe\">\n",
       "  <thead>\n",
       "    <tr style=\"text-align: right;\">\n",
       "      <th></th>\n",
       "      <th>state</th>\n",
       "      <th>account length</th>\n",
       "      <th>area code</th>\n",
       "      <th>phone number</th>\n",
       "      <th>international plan</th>\n",
       "      <th>voice mail plan</th>\n",
       "      <th>number vmail messages</th>\n",
       "      <th>total day minutes</th>\n",
       "      <th>total day calls</th>\n",
       "      <th>total day charge</th>\n",
       "      <th>...</th>\n",
       "      <th>total eve calls</th>\n",
       "      <th>total eve charge</th>\n",
       "      <th>total night minutes</th>\n",
       "      <th>total night calls</th>\n",
       "      <th>total night charge</th>\n",
       "      <th>total intl minutes</th>\n",
       "      <th>total intl calls</th>\n",
       "      <th>total intl charge</th>\n",
       "      <th>customer service calls</th>\n",
       "      <th>churn</th>\n",
       "    </tr>\n",
       "  </thead>\n",
       "  <tbody>\n",
       "    <tr>\n",
       "      <th>0</th>\n",
       "      <td>KS</td>\n",
       "      <td>128</td>\n",
       "      <td>415</td>\n",
       "      <td>382-4657</td>\n",
       "      <td>no</td>\n",
       "      <td>yes</td>\n",
       "      <td>25</td>\n",
       "      <td>265.1</td>\n",
       "      <td>110</td>\n",
       "      <td>45.07</td>\n",
       "      <td>...</td>\n",
       "      <td>99</td>\n",
       "      <td>16.78</td>\n",
       "      <td>244.7</td>\n",
       "      <td>91</td>\n",
       "      <td>11.01</td>\n",
       "      <td>10.0</td>\n",
       "      <td>3</td>\n",
       "      <td>2.70</td>\n",
       "      <td>1</td>\n",
       "      <td>False</td>\n",
       "    </tr>\n",
       "    <tr>\n",
       "      <th>1</th>\n",
       "      <td>OH</td>\n",
       "      <td>107</td>\n",
       "      <td>415</td>\n",
       "      <td>371-7191</td>\n",
       "      <td>no</td>\n",
       "      <td>yes</td>\n",
       "      <td>26</td>\n",
       "      <td>161.6</td>\n",
       "      <td>123</td>\n",
       "      <td>27.47</td>\n",
       "      <td>...</td>\n",
       "      <td>103</td>\n",
       "      <td>16.62</td>\n",
       "      <td>254.4</td>\n",
       "      <td>103</td>\n",
       "      <td>11.45</td>\n",
       "      <td>13.7</td>\n",
       "      <td>3</td>\n",
       "      <td>3.70</td>\n",
       "      <td>1</td>\n",
       "      <td>False</td>\n",
       "    </tr>\n",
       "    <tr>\n",
       "      <th>2</th>\n",
       "      <td>OK</td>\n",
       "      <td>75</td>\n",
       "      <td>415</td>\n",
       "      <td>330-6626</td>\n",
       "      <td>yes</td>\n",
       "      <td>no</td>\n",
       "      <td>0</td>\n",
       "      <td>166.7</td>\n",
       "      <td>113</td>\n",
       "      <td>28.34</td>\n",
       "      <td>...</td>\n",
       "      <td>122</td>\n",
       "      <td>12.61</td>\n",
       "      <td>186.9</td>\n",
       "      <td>121</td>\n",
       "      <td>8.41</td>\n",
       "      <td>10.1</td>\n",
       "      <td>3</td>\n",
       "      <td>2.73</td>\n",
       "      <td>3</td>\n",
       "      <td>False</td>\n",
       "    </tr>\n",
       "    <tr>\n",
       "      <th>3</th>\n",
       "      <td>IA</td>\n",
       "      <td>168</td>\n",
       "      <td>408</td>\n",
       "      <td>363-1107</td>\n",
       "      <td>no</td>\n",
       "      <td>no</td>\n",
       "      <td>0</td>\n",
       "      <td>128.8</td>\n",
       "      <td>96</td>\n",
       "      <td>21.90</td>\n",
       "      <td>...</td>\n",
       "      <td>71</td>\n",
       "      <td>8.92</td>\n",
       "      <td>141.1</td>\n",
       "      <td>128</td>\n",
       "      <td>6.35</td>\n",
       "      <td>11.2</td>\n",
       "      <td>2</td>\n",
       "      <td>3.02</td>\n",
       "      <td>1</td>\n",
       "      <td>False</td>\n",
       "    </tr>\n",
       "    <tr>\n",
       "      <th>4</th>\n",
       "      <td>MT</td>\n",
       "      <td>95</td>\n",
       "      <td>510</td>\n",
       "      <td>394-8006</td>\n",
       "      <td>no</td>\n",
       "      <td>no</td>\n",
       "      <td>0</td>\n",
       "      <td>156.6</td>\n",
       "      <td>88</td>\n",
       "      <td>26.62</td>\n",
       "      <td>...</td>\n",
       "      <td>75</td>\n",
       "      <td>21.05</td>\n",
       "      <td>192.3</td>\n",
       "      <td>115</td>\n",
       "      <td>8.65</td>\n",
       "      <td>12.3</td>\n",
       "      <td>5</td>\n",
       "      <td>3.32</td>\n",
       "      <td>3</td>\n",
       "      <td>False</td>\n",
       "    </tr>\n",
       "  </tbody>\n",
       "</table>\n",
       "<p>5 rows × 21 columns</p>\n",
       "</div>"
      ],
      "text/plain": [
       "  state  account length  area code phone number international plan  \\\n",
       "0    KS             128        415     382-4657                 no   \n",
       "1    OH             107        415     371-7191                 no   \n",
       "2    OK              75        415     330-6626                yes   \n",
       "3    IA             168        408     363-1107                 no   \n",
       "4    MT              95        510     394-8006                 no   \n",
       "\n",
       "  voice mail plan  number vmail messages  total day minutes  total day calls  \\\n",
       "0             yes                     25              265.1              110   \n",
       "1             yes                     26              161.6              123   \n",
       "2              no                      0              166.7              113   \n",
       "3              no                      0              128.8               96   \n",
       "4              no                      0              156.6               88   \n",
       "\n",
       "   total day charge  ...    total eve calls  total eve charge  \\\n",
       "0             45.07  ...                 99             16.78   \n",
       "1             27.47  ...                103             16.62   \n",
       "2             28.34  ...                122             12.61   \n",
       "3             21.90  ...                 71              8.92   \n",
       "4             26.62  ...                 75             21.05   \n",
       "\n",
       "   total night minutes  total night calls  total night charge  \\\n",
       "0                244.7                 91               11.01   \n",
       "1                254.4                103               11.45   \n",
       "2                186.9                121                8.41   \n",
       "3                141.1                128                6.35   \n",
       "4                192.3                115                8.65   \n",
       "\n",
       "   total intl minutes  total intl calls  total intl charge  \\\n",
       "0                10.0                 3               2.70   \n",
       "1                13.7                 3               3.70   \n",
       "2                10.1                 3               2.73   \n",
       "3                11.2                 2               3.02   \n",
       "4                12.3                 5               3.32   \n",
       "\n",
       "   customer service calls  churn  \n",
       "0                       1  False  \n",
       "1                       1  False  \n",
       "2                       3  False  \n",
       "3                       1  False  \n",
       "4                       3  False  \n",
       "\n",
       "[5 rows x 21 columns]"
      ]
     },
     "execution_count": 5,
     "metadata": {},
     "output_type": "execute_result"
    }
   ],
   "source": [
    "data.head(5)"
   ]
  },
  {
   "cell_type": "code",
   "execution_count": 6,
   "metadata": {},
   "outputs": [
    {
     "data": {
      "text/plain": [
       "Index(['state', 'account length', 'area code', 'phone number',\n",
       "       'international plan', 'voice mail plan', 'number vmail messages',\n",
       "       'total day minutes', 'total day calls', 'total day charge',\n",
       "       'total eve minutes', 'total eve calls', 'total eve charge',\n",
       "       'total night minutes', 'total night calls', 'total night charge',\n",
       "       'total intl minutes', 'total intl calls', 'total intl charge',\n",
       "       'customer service calls', 'churn'],\n",
       "      dtype='object')"
      ]
     },
     "execution_count": 6,
     "metadata": {},
     "output_type": "execute_result"
    }
   ],
   "source": [
    "data.columns"
   ]
  },
  {
   "cell_type": "code",
   "execution_count": 7,
   "metadata": {},
   "outputs": [
    {
     "data": {
      "text/plain": [
       "21"
      ]
     },
     "execution_count": 7,
     "metadata": {},
     "output_type": "execute_result"
    }
   ],
   "source": [
    "len(data.columns)"
   ]
  },
  {
   "cell_type": "code",
   "execution_count": 8,
   "metadata": {},
   "outputs": [
    {
     "data": {
      "text/html": [
       "<div>\n",
       "<style scoped>\n",
       "    .dataframe tbody tr th:only-of-type {\n",
       "        vertical-align: middle;\n",
       "    }\n",
       "\n",
       "    .dataframe tbody tr th {\n",
       "        vertical-align: top;\n",
       "    }\n",
       "\n",
       "    .dataframe thead th {\n",
       "        text-align: right;\n",
       "    }\n",
       "</style>\n",
       "<table border=\"1\" class=\"dataframe\">\n",
       "  <thead>\n",
       "    <tr style=\"text-align: right;\">\n",
       "      <th></th>\n",
       "      <th>account length</th>\n",
       "      <th>area code</th>\n",
       "      <th>number vmail messages</th>\n",
       "      <th>total day minutes</th>\n",
       "      <th>total day calls</th>\n",
       "      <th>total day charge</th>\n",
       "      <th>total eve minutes</th>\n",
       "      <th>total eve calls</th>\n",
       "      <th>total eve charge</th>\n",
       "      <th>total night minutes</th>\n",
       "      <th>total night calls</th>\n",
       "      <th>total night charge</th>\n",
       "      <th>total intl minutes</th>\n",
       "      <th>total intl calls</th>\n",
       "      <th>total intl charge</th>\n",
       "      <th>customer service calls</th>\n",
       "    </tr>\n",
       "  </thead>\n",
       "  <tbody>\n",
       "    <tr>\n",
       "      <th>count</th>\n",
       "      <td>2188.000000</td>\n",
       "      <td>2188.000000</td>\n",
       "      <td>2188.000000</td>\n",
       "      <td>2188.000000</td>\n",
       "      <td>2188.000000</td>\n",
       "      <td>2188.000000</td>\n",
       "      <td>2188.000000</td>\n",
       "      <td>2188.000000</td>\n",
       "      <td>2188.000000</td>\n",
       "      <td>2188.000000</td>\n",
       "      <td>2188.000000</td>\n",
       "      <td>2188.000000</td>\n",
       "      <td>2188.000000</td>\n",
       "      <td>2188.000000</td>\n",
       "      <td>2188.000000</td>\n",
       "      <td>2188.000000</td>\n",
       "    </tr>\n",
       "    <tr>\n",
       "      <th>mean</th>\n",
       "      <td>100.466636</td>\n",
       "      <td>437.345978</td>\n",
       "      <td>8.173675</td>\n",
       "      <td>179.535695</td>\n",
       "      <td>100.595064</td>\n",
       "      <td>30.521563</td>\n",
       "      <td>200.689625</td>\n",
       "      <td>100.118373</td>\n",
       "      <td>17.058821</td>\n",
       "      <td>200.135512</td>\n",
       "      <td>100.376143</td>\n",
       "      <td>9.006133</td>\n",
       "      <td>10.312523</td>\n",
       "      <td>4.548903</td>\n",
       "      <td>2.784899</td>\n",
       "      <td>1.687843</td>\n",
       "    </tr>\n",
       "    <tr>\n",
       "      <th>std</th>\n",
       "      <td>39.520159</td>\n",
       "      <td>42.513760</td>\n",
       "      <td>13.713910</td>\n",
       "      <td>52.280929</td>\n",
       "      <td>19.285182</td>\n",
       "      <td>8.887697</td>\n",
       "      <td>48.585649</td>\n",
       "      <td>19.057230</td>\n",
       "      <td>4.129858</td>\n",
       "      <td>48.374990</td>\n",
       "      <td>18.931415</td>\n",
       "      <td>2.176978</td>\n",
       "      <td>2.530404</td>\n",
       "      <td>2.479525</td>\n",
       "      <td>0.683209</td>\n",
       "      <td>0.759574</td>\n",
       "    </tr>\n",
       "    <tr>\n",
       "      <th>min</th>\n",
       "      <td>1.000000</td>\n",
       "      <td>408.000000</td>\n",
       "      <td>0.000000</td>\n",
       "      <td>37.700000</td>\n",
       "      <td>49.000000</td>\n",
       "      <td>6.410000</td>\n",
       "      <td>67.000000</td>\n",
       "      <td>51.000000</td>\n",
       "      <td>5.700000</td>\n",
       "      <td>67.700000</td>\n",
       "      <td>48.000000</td>\n",
       "      <td>3.050000</td>\n",
       "      <td>4.000000</td>\n",
       "      <td>1.000000</td>\n",
       "      <td>1.080000</td>\n",
       "      <td>1.000000</td>\n",
       "    </tr>\n",
       "    <tr>\n",
       "      <th>25%</th>\n",
       "      <td>73.000000</td>\n",
       "      <td>408.000000</td>\n",
       "      <td>0.000000</td>\n",
       "      <td>143.375000</td>\n",
       "      <td>87.750000</td>\n",
       "      <td>24.375000</td>\n",
       "      <td>167.275000</td>\n",
       "      <td>87.000000</td>\n",
       "      <td>14.217500</td>\n",
       "      <td>167.000000</td>\n",
       "      <td>87.000000</td>\n",
       "      <td>7.520000</td>\n",
       "      <td>8.600000</td>\n",
       "      <td>3.000000</td>\n",
       "      <td>2.320000</td>\n",
       "      <td>1.000000</td>\n",
       "    </tr>\n",
       "    <tr>\n",
       "      <th>50%</th>\n",
       "      <td>100.500000</td>\n",
       "      <td>415.000000</td>\n",
       "      <td>0.000000</td>\n",
       "      <td>179.300000</td>\n",
       "      <td>101.000000</td>\n",
       "      <td>30.480000</td>\n",
       "      <td>201.050000</td>\n",
       "      <td>100.000000</td>\n",
       "      <td>17.090000</td>\n",
       "      <td>199.050000</td>\n",
       "      <td>101.000000</td>\n",
       "      <td>8.960000</td>\n",
       "      <td>10.300000</td>\n",
       "      <td>4.000000</td>\n",
       "      <td>2.780000</td>\n",
       "      <td>2.000000</td>\n",
       "    </tr>\n",
       "    <tr>\n",
       "      <th>75%</th>\n",
       "      <td>127.000000</td>\n",
       "      <td>510.000000</td>\n",
       "      <td>20.250000</td>\n",
       "      <td>215.175000</td>\n",
       "      <td>114.000000</td>\n",
       "      <td>36.582500</td>\n",
       "      <td>233.725000</td>\n",
       "      <td>113.000000</td>\n",
       "      <td>19.862500</td>\n",
       "      <td>233.700000</td>\n",
       "      <td>113.000000</td>\n",
       "      <td>10.520000</td>\n",
       "      <td>12.100000</td>\n",
       "      <td>6.000000</td>\n",
       "      <td>3.270000</td>\n",
       "      <td>2.000000</td>\n",
       "    </tr>\n",
       "    <tr>\n",
       "      <th>max</th>\n",
       "      <td>205.000000</td>\n",
       "      <td>510.000000</td>\n",
       "      <td>51.000000</td>\n",
       "      <td>322.500000</td>\n",
       "      <td>152.000000</td>\n",
       "      <td>54.830000</td>\n",
       "      <td>336.000000</td>\n",
       "      <td>154.000000</td>\n",
       "      <td>28.560000</td>\n",
       "      <td>329.200000</td>\n",
       "      <td>152.000000</td>\n",
       "      <td>14.810000</td>\n",
       "      <td>17.300000</td>\n",
       "      <td>20.000000</td>\n",
       "      <td>4.670000</td>\n",
       "      <td>3.000000</td>\n",
       "    </tr>\n",
       "  </tbody>\n",
       "</table>\n",
       "</div>"
      ],
      "text/plain": [
       "       account length    area code  number vmail messages  total day minutes  \\\n",
       "count     2188.000000  2188.000000            2188.000000        2188.000000   \n",
       "mean       100.466636   437.345978               8.173675         179.535695   \n",
       "std         39.520159    42.513760              13.713910          52.280929   \n",
       "min          1.000000   408.000000               0.000000          37.700000   \n",
       "25%         73.000000   408.000000               0.000000         143.375000   \n",
       "50%        100.500000   415.000000               0.000000         179.300000   \n",
       "75%        127.000000   510.000000              20.250000         215.175000   \n",
       "max        205.000000   510.000000              51.000000         322.500000   \n",
       "\n",
       "       total day calls  total day charge  total eve minutes  total eve calls  \\\n",
       "count      2188.000000       2188.000000        2188.000000      2188.000000   \n",
       "mean        100.595064         30.521563         200.689625       100.118373   \n",
       "std          19.285182          8.887697          48.585649        19.057230   \n",
       "min          49.000000          6.410000          67.000000        51.000000   \n",
       "25%          87.750000         24.375000         167.275000        87.000000   \n",
       "50%         101.000000         30.480000         201.050000       100.000000   \n",
       "75%         114.000000         36.582500         233.725000       113.000000   \n",
       "max         152.000000         54.830000         336.000000       154.000000   \n",
       "\n",
       "       total eve charge  total night minutes  total night calls  \\\n",
       "count       2188.000000          2188.000000        2188.000000   \n",
       "mean          17.058821           200.135512         100.376143   \n",
       "std            4.129858            48.374990          18.931415   \n",
       "min            5.700000            67.700000          48.000000   \n",
       "25%           14.217500           167.000000          87.000000   \n",
       "50%           17.090000           199.050000         101.000000   \n",
       "75%           19.862500           233.700000         113.000000   \n",
       "max           28.560000           329.200000         152.000000   \n",
       "\n",
       "       total night charge  total intl minutes  total intl calls  \\\n",
       "count         2188.000000         2188.000000       2188.000000   \n",
       "mean             9.006133           10.312523          4.548903   \n",
       "std              2.176978            2.530404          2.479525   \n",
       "min              3.050000            4.000000          1.000000   \n",
       "25%              7.520000            8.600000          3.000000   \n",
       "50%              8.960000           10.300000          4.000000   \n",
       "75%             10.520000           12.100000          6.000000   \n",
       "max             14.810000           17.300000         20.000000   \n",
       "\n",
       "       total intl charge  customer service calls  \n",
       "count        2188.000000             2188.000000  \n",
       "mean            2.784899                1.687843  \n",
       "std             0.683209                0.759574  \n",
       "min             1.080000                1.000000  \n",
       "25%             2.320000                1.000000  \n",
       "50%             2.780000                2.000000  \n",
       "75%             3.270000                2.000000  \n",
       "max             4.670000                3.000000  "
      ]
     },
     "execution_count": 8,
     "metadata": {},
     "output_type": "execute_result"
    }
   ],
   "source": [
    "data.describe()"
   ]
  },
  {
   "cell_type": "code",
   "execution_count": 9,
   "metadata": {},
   "outputs": [
    {
     "data": {
      "text/plain": [
       "array(['KS', 'OH', 'OK', 'IA', 'MT', 'ID', 'VT', 'VA', 'TX', 'SC', 'NE',\n",
       "       'HI', 'IL', 'NH', 'AZ', 'GA', 'MA', 'AK', 'NJ', 'AR', 'OR', 'MI',\n",
       "       'DE', 'WY', 'IN', 'UT', 'CO', 'CA', 'MN', 'SD', 'NC', 'WA', 'NM',\n",
       "       'NV', 'MD', 'WV', 'KY', 'DC', 'ME', 'MS', 'MO', 'AL', 'FL', 'LA',\n",
       "       'RI', 'NY', 'PA', 'TN', 'WI', 'ND', 'CT'], dtype=object)"
      ]
     },
     "execution_count": 9,
     "metadata": {},
     "output_type": "execute_result"
    }
   ],
   "source": [
    "data['state'].unique() "
   ]
  },
  {
   "cell_type": "code",
   "execution_count": 10,
   "metadata": {},
   "outputs": [
    {
     "data": {
      "text/plain": [
       "array([415, 408, 510])"
      ]
     },
     "execution_count": 10,
     "metadata": {},
     "output_type": "execute_result"
    }
   ],
   "source": [
    "data['area code'].unique() "
   ]
  },
  {
   "cell_type": "code",
   "execution_count": 11,
   "metadata": {},
   "outputs": [
    {
     "data": {
      "text/plain": [
       "array(['no', 'yes'], dtype=object)"
      ]
     },
     "execution_count": 11,
     "metadata": {},
     "output_type": "execute_result"
    }
   ],
   "source": [
    "data['international plan'].unique() "
   ]
  },
  {
   "cell_type": "code",
   "execution_count": 12,
   "metadata": {},
   "outputs": [
    {
     "data": {
      "text/plain": [
       "array(['yes', 'no'], dtype=object)"
      ]
     },
     "execution_count": 12,
     "metadata": {},
     "output_type": "execute_result"
    }
   ],
   "source": [
    "data['voice mail plan'].unique() "
   ]
  },
  {
   "cell_type": "code",
   "execution_count": 13,
   "metadata": {},
   "outputs": [
    {
     "data": {
      "text/plain": [
       "array([25, 26,  0, 27, 33, 37, 28, 24, 30, 34, 41, 35, 29, 21, 32, 36, 23,\n",
       "       43, 31, 38, 22, 40, 48, 18, 39, 45, 16, 20, 17, 14, 42, 19, 51, 15,\n",
       "       11, 47, 44, 12,  4, 13,  8, 50,  9])"
      ]
     },
     "execution_count": 13,
     "metadata": {},
     "output_type": "execute_result"
    }
   ],
   "source": [
    "data['number vmail messages'].unique() "
   ]
  },
  {
   "cell_type": "code",
   "execution_count": 14,
   "metadata": {},
   "outputs": [
    {
     "data": {
      "text/plain": [
       "array([110, 123, 113,  96,  88, 139, 114,  66,  90, 103,  76,  73, 117,\n",
       "        95, 105, 118,  80,  64, 106,  94, 102,  82,  77,  97, 120, 133,\n",
       "       135, 108,  57, 112,  67,  98, 129,  83,  91,  92,  74,  70,  93,\n",
       "       146,  72,  99, 104, 101, 125,  61, 100,  71, 131, 124, 119,  52,\n",
       "       115, 109, 107,  86,  87, 121, 116, 151, 126, 111,  68, 145,  85,\n",
       "        78, 140,  81, 122,  79,  55,  89, 134,  63,  53,  84,  65, 141,\n",
       "       128, 132,  69, 137,  75, 138, 144, 143, 130, 150,  54, 127, 147,\n",
       "        56,  58,  51, 148,  60,  62, 136, 152,  49, 142,  59])"
      ]
     },
     "execution_count": 14,
     "metadata": {},
     "output_type": "execute_result"
    }
   ],
   "source": [
    "data['total day calls'].unique() "
   ]
  },
  {
   "cell_type": "code",
   "execution_count": 15,
   "metadata": {},
   "outputs": [
    {
     "data": {
      "text/plain": [
       "array([ 3,  2,  5,  4,  6,  1,  9,  8,  7, 10, 11, 12, 13, 18, 15, 14, 20,\n",
       "       17])"
      ]
     },
     "execution_count": 15,
     "metadata": {},
     "output_type": "execute_result"
    }
   ],
   "source": [
    "data['total intl calls'].unique()"
   ]
  },
  {
   "cell_type": "code",
   "execution_count": 16,
   "metadata": {},
   "outputs": [
    {
     "data": {
      "text/plain": [
       "array([ 3,  2,  5,  4,  6,  1,  9,  8,  7, 10, 11, 12, 13, 18, 15, 14, 20,\n",
       "       17])"
      ]
     },
     "execution_count": 16,
     "metadata": {},
     "output_type": "execute_result"
    }
   ],
   "source": [
    "data['total intl calls'].unique()"
   ]
  },
  {
   "cell_type": "code",
   "execution_count": 17,
   "metadata": {},
   "outputs": [
    {
     "data": {
      "text/plain": [
       "array([1, 3, 2])"
      ]
     },
     "execution_count": 17,
     "metadata": {},
     "output_type": "execute_result"
    }
   ],
   "source": [
    "data['customer service calls'].unique()"
   ]
  },
  {
   "cell_type": "code",
   "execution_count": 18,
   "metadata": {},
   "outputs": [],
   "source": [
    "# Making Dummy Variables for boolean variables \n",
    "\n",
    "data['international plan'] = np.where(data['international plan']=='Yes', 1,0)\n",
    "data['voice mail plan'] = np.where(data['voice mail plan']=='Yes', 1,0)\n",
    "data['churn'] = np.where(data['churn']==True, 1,0)"
   ]
  },
  {
   "cell_type": "code",
   "execution_count": 19,
   "metadata": {},
   "outputs": [
    {
     "data": {
      "text/plain": [
       "Index(['state', 'account length', 'area code', 'phone number',\n",
       "       'international plan', 'voice mail plan', 'number vmail messages',\n",
       "       'total day minutes', 'total day calls', 'total day charge',\n",
       "       'total eve minutes', 'total eve calls', 'total eve charge',\n",
       "       'total night minutes', 'total night calls', 'total night charge',\n",
       "       'total intl minutes', 'total intl calls', 'total intl charge',\n",
       "       'customer service calls', 'churn'],\n",
       "      dtype='object')"
      ]
     },
     "execution_count": 19,
     "metadata": {},
     "output_type": "execute_result"
    }
   ],
   "source": [
    "data.columns"
   ]
  },
  {
   "cell_type": "code",
   "execution_count": 20,
   "metadata": {},
   "outputs": [],
   "source": [
    "# Making dummy variable for categorical variables\n",
    "\n",
    "data = pd.get_dummies(data,columns=['area code','customer service calls'])\n"
   ]
  },
  {
   "cell_type": "code",
   "execution_count": 21,
   "metadata": {},
   "outputs": [
    {
     "data": {
      "text/plain": [
       "Index(['state', 'account length', 'phone number', 'international plan',\n",
       "       'voice mail plan', 'number vmail messages', 'total day minutes',\n",
       "       'total day calls', 'total day charge', 'total eve minutes',\n",
       "       'total eve calls', 'total eve charge', 'total night minutes',\n",
       "       'total night calls', 'total night charge', 'total intl minutes',\n",
       "       'total intl calls', 'total intl charge', 'churn', 'area code_408',\n",
       "       'area code_415', 'area code_510', 'customer service calls_1',\n",
       "       'customer service calls_2', 'customer service calls_3'],\n",
       "      dtype='object')"
      ]
     },
     "execution_count": 21,
     "metadata": {},
     "output_type": "execute_result"
    }
   ],
   "source": [
    "data.columns"
   ]
  },
  {
   "cell_type": "code",
   "execution_count": 22,
   "metadata": {},
   "outputs": [
    {
     "data": {
      "text/html": [
       "<div>\n",
       "<style scoped>\n",
       "    .dataframe tbody tr th:only-of-type {\n",
       "        vertical-align: middle;\n",
       "    }\n",
       "\n",
       "    .dataframe tbody tr th {\n",
       "        vertical-align: top;\n",
       "    }\n",
       "\n",
       "    .dataframe thead th {\n",
       "        text-align: right;\n",
       "    }\n",
       "</style>\n",
       "<table border=\"1\" class=\"dataframe\">\n",
       "  <thead>\n",
       "    <tr style=\"text-align: right;\">\n",
       "      <th></th>\n",
       "      <th>account length</th>\n",
       "      <th>international plan</th>\n",
       "      <th>voice mail plan</th>\n",
       "      <th>number vmail messages</th>\n",
       "      <th>total day minutes</th>\n",
       "      <th>total day calls</th>\n",
       "      <th>total day charge</th>\n",
       "      <th>total eve minutes</th>\n",
       "      <th>total eve calls</th>\n",
       "      <th>total eve charge</th>\n",
       "      <th>...</th>\n",
       "      <th>total intl minutes</th>\n",
       "      <th>total intl calls</th>\n",
       "      <th>total intl charge</th>\n",
       "      <th>churn</th>\n",
       "      <th>area code_408</th>\n",
       "      <th>area code_415</th>\n",
       "      <th>area code_510</th>\n",
       "      <th>customer service calls_1</th>\n",
       "      <th>customer service calls_2</th>\n",
       "      <th>customer service calls_3</th>\n",
       "    </tr>\n",
       "  </thead>\n",
       "  <tbody>\n",
       "    <tr>\n",
       "      <th>0</th>\n",
       "      <td>128</td>\n",
       "      <td>0</td>\n",
       "      <td>0</td>\n",
       "      <td>25</td>\n",
       "      <td>265.1</td>\n",
       "      <td>110</td>\n",
       "      <td>45.07</td>\n",
       "      <td>197.4</td>\n",
       "      <td>99</td>\n",
       "      <td>16.78</td>\n",
       "      <td>...</td>\n",
       "      <td>10.0</td>\n",
       "      <td>3</td>\n",
       "      <td>2.70</td>\n",
       "      <td>0</td>\n",
       "      <td>0</td>\n",
       "      <td>1</td>\n",
       "      <td>0</td>\n",
       "      <td>1</td>\n",
       "      <td>0</td>\n",
       "      <td>0</td>\n",
       "    </tr>\n",
       "    <tr>\n",
       "      <th>1</th>\n",
       "      <td>107</td>\n",
       "      <td>0</td>\n",
       "      <td>0</td>\n",
       "      <td>26</td>\n",
       "      <td>161.6</td>\n",
       "      <td>123</td>\n",
       "      <td>27.47</td>\n",
       "      <td>195.5</td>\n",
       "      <td>103</td>\n",
       "      <td>16.62</td>\n",
       "      <td>...</td>\n",
       "      <td>13.7</td>\n",
       "      <td>3</td>\n",
       "      <td>3.70</td>\n",
       "      <td>0</td>\n",
       "      <td>0</td>\n",
       "      <td>1</td>\n",
       "      <td>0</td>\n",
       "      <td>1</td>\n",
       "      <td>0</td>\n",
       "      <td>0</td>\n",
       "    </tr>\n",
       "    <tr>\n",
       "      <th>2</th>\n",
       "      <td>75</td>\n",
       "      <td>0</td>\n",
       "      <td>0</td>\n",
       "      <td>0</td>\n",
       "      <td>166.7</td>\n",
       "      <td>113</td>\n",
       "      <td>28.34</td>\n",
       "      <td>148.3</td>\n",
       "      <td>122</td>\n",
       "      <td>12.61</td>\n",
       "      <td>...</td>\n",
       "      <td>10.1</td>\n",
       "      <td>3</td>\n",
       "      <td>2.73</td>\n",
       "      <td>0</td>\n",
       "      <td>0</td>\n",
       "      <td>1</td>\n",
       "      <td>0</td>\n",
       "      <td>0</td>\n",
       "      <td>0</td>\n",
       "      <td>1</td>\n",
       "    </tr>\n",
       "    <tr>\n",
       "      <th>3</th>\n",
       "      <td>168</td>\n",
       "      <td>0</td>\n",
       "      <td>0</td>\n",
       "      <td>0</td>\n",
       "      <td>128.8</td>\n",
       "      <td>96</td>\n",
       "      <td>21.90</td>\n",
       "      <td>104.9</td>\n",
       "      <td>71</td>\n",
       "      <td>8.92</td>\n",
       "      <td>...</td>\n",
       "      <td>11.2</td>\n",
       "      <td>2</td>\n",
       "      <td>3.02</td>\n",
       "      <td>0</td>\n",
       "      <td>1</td>\n",
       "      <td>0</td>\n",
       "      <td>0</td>\n",
       "      <td>1</td>\n",
       "      <td>0</td>\n",
       "      <td>0</td>\n",
       "    </tr>\n",
       "    <tr>\n",
       "      <th>4</th>\n",
       "      <td>95</td>\n",
       "      <td>0</td>\n",
       "      <td>0</td>\n",
       "      <td>0</td>\n",
       "      <td>156.6</td>\n",
       "      <td>88</td>\n",
       "      <td>26.62</td>\n",
       "      <td>247.6</td>\n",
       "      <td>75</td>\n",
       "      <td>21.05</td>\n",
       "      <td>...</td>\n",
       "      <td>12.3</td>\n",
       "      <td>5</td>\n",
       "      <td>3.32</td>\n",
       "      <td>0</td>\n",
       "      <td>0</td>\n",
       "      <td>0</td>\n",
       "      <td>1</td>\n",
       "      <td>0</td>\n",
       "      <td>0</td>\n",
       "      <td>1</td>\n",
       "    </tr>\n",
       "  </tbody>\n",
       "</table>\n",
       "<p>5 rows × 23 columns</p>\n",
       "</div>"
      ],
      "text/plain": [
       "   account length  international plan  voice mail plan  number vmail messages  \\\n",
       "0             128                   0                0                     25   \n",
       "1             107                   0                0                     26   \n",
       "2              75                   0                0                      0   \n",
       "3             168                   0                0                      0   \n",
       "4              95                   0                0                      0   \n",
       "\n",
       "   total day minutes  total day calls  total day charge  total eve minutes  \\\n",
       "0              265.1              110             45.07              197.4   \n",
       "1              161.6              123             27.47              195.5   \n",
       "2              166.7              113             28.34              148.3   \n",
       "3              128.8               96             21.90              104.9   \n",
       "4              156.6               88             26.62              247.6   \n",
       "\n",
       "   total eve calls  total eve charge            ...             \\\n",
       "0               99             16.78            ...              \n",
       "1              103             16.62            ...              \n",
       "2              122             12.61            ...              \n",
       "3               71              8.92            ...              \n",
       "4               75             21.05            ...              \n",
       "\n",
       "   total intl minutes  total intl calls  total intl charge  churn  \\\n",
       "0                10.0                 3               2.70      0   \n",
       "1                13.7                 3               3.70      0   \n",
       "2                10.1                 3               2.73      0   \n",
       "3                11.2                 2               3.02      0   \n",
       "4                12.3                 5               3.32      0   \n",
       "\n",
       "   area code_408  area code_415  area code_510  customer service calls_1  \\\n",
       "0              0              1              0                         1   \n",
       "1              0              1              0                         1   \n",
       "2              0              1              0                         0   \n",
       "3              1              0              0                         1   \n",
       "4              0              0              1                         0   \n",
       "\n",
       "   customer service calls_2  customer service calls_3  \n",
       "0                         0                         0  \n",
       "1                         0                         0  \n",
       "2                         0                         1  \n",
       "3                         0                         0  \n",
       "4                         0                         1  \n",
       "\n",
       "[5 rows x 23 columns]"
      ]
     },
     "execution_count": 22,
     "metadata": {},
     "output_type": "execute_result"
    }
   ],
   "source": [
    "data= data.drop(['state','phone number'], axis=1)\n",
    "\n",
    "data.head(5)\n"
   ]
  },
  {
   "cell_type": "code",
   "execution_count": 23,
   "metadata": {},
   "outputs": [
    {
     "data": {
      "text/plain": [
       "Index(['account length', 'international plan', 'voice mail plan',\n",
       "       'number vmail messages', 'total day minutes', 'total day calls',\n",
       "       'total day charge', 'total eve minutes', 'total eve calls',\n",
       "       'total eve charge', 'total night minutes', 'total night calls',\n",
       "       'total night charge', 'total intl minutes', 'total intl calls',\n",
       "       'total intl charge', 'churn', 'area code_408', 'area code_415',\n",
       "       'area code_510', 'customer service calls_1', 'customer service calls_2',\n",
       "       'customer service calls_3'],\n",
       "      dtype='object')"
      ]
     },
     "execution_count": 23,
     "metadata": {},
     "output_type": "execute_result"
    }
   ],
   "source": [
    "data.columns"
   ]
  },
  {
   "cell_type": "code",
   "execution_count": 24,
   "metadata": {},
   "outputs": [
    {
     "data": {
      "text/plain": [
       "Index(['ACCOUNT LENGTH', 'INTERNATIONAL PLAN', 'VOICE MAIL PLAN',\n",
       "       'NUMBER VMAIL MESSAGES', 'TOTAL DAY MINUTES', 'TOTAL DAY CALLS',\n",
       "       'TOTAL DAY CHARGE', 'TOTAL EVE MINUTES', 'TOTAL EVE CALLS',\n",
       "       'TOTAL EVE CHARGE', 'TOTAL NIGHT MINUTES', 'TOTAL NIGHT CALLS',\n",
       "       'TOTAL NIGHT CHARGE', 'TOTAL INTL MINUTES', 'TOTAL INTL CALLS',\n",
       "       'TOTAL INTL CHARGE', 'CHURN', 'AREA CODE_408', 'AREA CODE_415',\n",
       "       'AREA CODE_510', 'CUSTOMER SERVICE CALLS_1', 'CUSTOMER SERVICE CALLS_2',\n",
       "       'CUSTOMER SERVICE CALLS_3'],\n",
       "      dtype='object')"
      ]
     },
     "execution_count": 24,
     "metadata": {},
     "output_type": "execute_result"
    }
   ],
   "source": [
    "## Making the column name in upper case\n",
    "data.columns=map(str.upper,data.columns)\n",
    "data.columns"
   ]
  },
  {
   "cell_type": "code",
   "execution_count": 25,
   "metadata": {},
   "outputs": [],
   "source": [
    "## Subset variables\n",
    "final_data=data[['ACCOUNT LENGTH','NUMBER VMAIL MESSAGES','TOTAL DAY MINUTES', 'TOTAL DAY CALLS',\n",
    "        'TOTAL EVE MINUTES', 'TOTAL EVE CALLS',\n",
    "        'TOTAL NIGHT MINUTES', 'TOTAL NIGHT CALLS',\n",
    "        'TOTAL INTL MINUTES', 'TOTAL INTL CALLS']]"
   ]
  },
  {
   "cell_type": "code",
   "execution_count": 26,
   "metadata": {},
   "outputs": [],
   "source": [
    "\n",
    "from sklearn import preprocessing\n",
    "clustervar = final_data.copy()\n",
    "clustervar['ACCOUNT LENGTH']=preprocessing.scale(clustervar['ACCOUNT LENGTH'].astype('float64'))\n",
    "clustervar['NUMBER VMAIL MESSAGES']=preprocessing.scale(clustervar['NUMBER VMAIL MESSAGES'].astype('float64'))\n",
    "clustervar['TOTAL DAY MINUTES']=preprocessing.scale(clustervar['TOTAL DAY MINUTES'].astype('float64'))\n",
    "clustervar['TOTAL DAY CALLS']=preprocessing.scale(clustervar['TOTAL DAY CALLS'].astype('float64'))\n",
    "#clustervar['TOTAL DAY CHARGE']=preprocessing.scale(clustervar['TOTAL DAY CHARGE'].astype('float64'))\n",
    "clustervar['TOTAL EVE MINUTES']=preprocessing.scale(clustervar['TOTAL EVE MINUTES'].astype('float64'))\n",
    "clustervar['TOTAL EVE CALLS']=preprocessing.scale(clustervar['TOTAL EVE CALLS'].astype('float64'))\n",
    "#clustervar['TOTAL EVE CHARGE']=preprocessing.scale(clustervar['TOTAL EVE CHARGE'].astype('float64'))\n",
    "clustervar['TOTAL NIGHT MINUTES']=preprocessing.scale(clustervar['TOTAL NIGHT MINUTES'].astype('float64'))\n",
    "clustervar['TOTAL NIGHT CALLS']=preprocessing.scale(clustervar['TOTAL NIGHT CALLS'].astype('float64'))\n",
    "#clustervar['TOTAL NIGHT CHARGE']=preprocessing.scale(clustervar['TOTAL NIGHT CHARGE'].astype('float64'))\n",
    "clustervar['TOTAL INTL MINUTES']=preprocessing.scale(clustervar['TOTAL INTL MINUTES'].astype('float64'))\n",
    "clustervar['TOTAL INTL CALLS']=preprocessing.scale(clustervar['TOTAL INTL CALLS'].astype('float64'))\n",
    "#clustervar['TOTAL INTL CHARGE']=preprocessing.scale(clustervar['TOTAL INTL CHARGE'].astype('float64'))\n"
   ]
  },
  {
   "cell_type": "code",
   "execution_count": 27,
   "metadata": {},
   "outputs": [
    {
     "data": {
      "text/html": [
       "<div>\n",
       "<style scoped>\n",
       "    .dataframe tbody tr th:only-of-type {\n",
       "        vertical-align: middle;\n",
       "    }\n",
       "\n",
       "    .dataframe tbody tr th {\n",
       "        vertical-align: top;\n",
       "    }\n",
       "\n",
       "    .dataframe thead th {\n",
       "        text-align: right;\n",
       "    }\n",
       "</style>\n",
       "<table border=\"1\" class=\"dataframe\">\n",
       "  <thead>\n",
       "    <tr style=\"text-align: right;\">\n",
       "      <th></th>\n",
       "      <th>ACCOUNT LENGTH</th>\n",
       "      <th>NUMBER VMAIL MESSAGES</th>\n",
       "      <th>TOTAL DAY MINUTES</th>\n",
       "      <th>TOTAL DAY CALLS</th>\n",
       "      <th>TOTAL EVE MINUTES</th>\n",
       "      <th>TOTAL EVE CALLS</th>\n",
       "      <th>TOTAL NIGHT MINUTES</th>\n",
       "      <th>TOTAL NIGHT CALLS</th>\n",
       "      <th>TOTAL INTL MINUTES</th>\n",
       "      <th>TOTAL INTL CALLS</th>\n",
       "    </tr>\n",
       "  </thead>\n",
       "  <tbody>\n",
       "    <tr>\n",
       "      <th>0</th>\n",
       "      <td>0.696851</td>\n",
       "      <td>1.227234</td>\n",
       "      <td>1.637000</td>\n",
       "      <td>0.487788</td>\n",
       "      <td>-0.067723</td>\n",
       "      <td>-0.058698</td>\n",
       "      <td>0.921441</td>\n",
       "      <td>-0.495382</td>\n",
       "      <td>-0.123535</td>\n",
       "      <td>-0.624820</td>\n",
       "    </tr>\n",
       "    <tr>\n",
       "      <th>1</th>\n",
       "      <td>0.165355</td>\n",
       "      <td>1.300169</td>\n",
       "      <td>-0.343142</td>\n",
       "      <td>1.162035</td>\n",
       "      <td>-0.106838</td>\n",
       "      <td>0.151244</td>\n",
       "      <td>1.122003</td>\n",
       "      <td>0.138630</td>\n",
       "      <td>1.339016</td>\n",
       "      <td>-0.624820</td>\n",
       "    </tr>\n",
       "    <tr>\n",
       "      <th>2</th>\n",
       "      <td>-0.644543</td>\n",
       "      <td>-0.596150</td>\n",
       "      <td>-0.245570</td>\n",
       "      <td>0.643384</td>\n",
       "      <td>-1.078541</td>\n",
       "      <td>1.148469</td>\n",
       "      <td>-0.273665</td>\n",
       "      <td>1.089648</td>\n",
       "      <td>-0.084007</td>\n",
       "      <td>-0.624820</td>\n",
       "    </tr>\n",
       "    <tr>\n",
       "      <th>3</th>\n",
       "      <td>1.709224</td>\n",
       "      <td>-0.596150</td>\n",
       "      <td>-0.970665</td>\n",
       "      <td>-0.238324</td>\n",
       "      <td>-1.972013</td>\n",
       "      <td>-1.528293</td>\n",
       "      <td>-1.220652</td>\n",
       "      <td>1.459488</td>\n",
       "      <td>0.350806</td>\n",
       "      <td>-1.028216</td>\n",
       "    </tr>\n",
       "    <tr>\n",
       "      <th>4</th>\n",
       "      <td>-0.138357</td>\n",
       "      <td>-0.596150</td>\n",
       "      <td>-0.438801</td>\n",
       "      <td>-0.653245</td>\n",
       "      <td>0.965740</td>\n",
       "      <td>-1.318351</td>\n",
       "      <td>-0.162011</td>\n",
       "      <td>0.772642</td>\n",
       "      <td>0.785618</td>\n",
       "      <td>0.181970</td>\n",
       "    </tr>\n",
       "  </tbody>\n",
       "</table>\n",
       "</div>"
      ],
      "text/plain": [
       "   ACCOUNT LENGTH  NUMBER VMAIL MESSAGES  TOTAL DAY MINUTES  TOTAL DAY CALLS  \\\n",
       "0        0.696851               1.227234           1.637000         0.487788   \n",
       "1        0.165355               1.300169          -0.343142         1.162035   \n",
       "2       -0.644543              -0.596150          -0.245570         0.643384   \n",
       "3        1.709224              -0.596150          -0.970665        -0.238324   \n",
       "4       -0.138357              -0.596150          -0.438801        -0.653245   \n",
       "\n",
       "   TOTAL EVE MINUTES  TOTAL EVE CALLS  TOTAL NIGHT MINUTES  TOTAL NIGHT CALLS  \\\n",
       "0          -0.067723        -0.058698             0.921441          -0.495382   \n",
       "1          -0.106838         0.151244             1.122003           0.138630   \n",
       "2          -1.078541         1.148469            -0.273665           1.089648   \n",
       "3          -1.972013        -1.528293            -1.220652           1.459488   \n",
       "4           0.965740        -1.318351            -0.162011           0.772642   \n",
       "\n",
       "   TOTAL INTL MINUTES  TOTAL INTL CALLS  \n",
       "0           -0.123535         -0.624820  \n",
       "1            1.339016         -0.624820  \n",
       "2           -0.084007         -0.624820  \n",
       "3            0.350806         -1.028216  \n",
       "4            0.785618          0.181970  "
      ]
     },
     "execution_count": 27,
     "metadata": {},
     "output_type": "execute_result"
    }
   ],
   "source": [
    "clustervar.head(5)\n"
   ]
  },
  {
   "cell_type": "code",
   "execution_count": 28,
   "metadata": {},
   "outputs": [],
   "source": [
    "strdata = pd.DataFrame(clustervar)"
   ]
  },
  {
   "cell_type": "code",
   "execution_count": 29,
   "metadata": {},
   "outputs": [
    {
     "data": {
      "text/html": [
       "<div>\n",
       "<style scoped>\n",
       "    .dataframe tbody tr th:only-of-type {\n",
       "        vertical-align: middle;\n",
       "    }\n",
       "\n",
       "    .dataframe tbody tr th {\n",
       "        vertical-align: top;\n",
       "    }\n",
       "\n",
       "    .dataframe thead th {\n",
       "        text-align: right;\n",
       "    }\n",
       "</style>\n",
       "<table border=\"1\" class=\"dataframe\">\n",
       "  <thead>\n",
       "    <tr style=\"text-align: right;\">\n",
       "      <th></th>\n",
       "      <th>ACCOUNT LENGTH</th>\n",
       "      <th>NUMBER VMAIL MESSAGES</th>\n",
       "      <th>TOTAL DAY MINUTES</th>\n",
       "      <th>TOTAL DAY CALLS</th>\n",
       "      <th>TOTAL EVE MINUTES</th>\n",
       "      <th>TOTAL EVE CALLS</th>\n",
       "      <th>TOTAL NIGHT MINUTES</th>\n",
       "      <th>TOTAL NIGHT CALLS</th>\n",
       "      <th>TOTAL INTL MINUTES</th>\n",
       "      <th>TOTAL INTL CALLS</th>\n",
       "    </tr>\n",
       "  </thead>\n",
       "  <tbody>\n",
       "    <tr>\n",
       "      <th>0</th>\n",
       "      <td>0.696851</td>\n",
       "      <td>1.227234</td>\n",
       "      <td>1.637000</td>\n",
       "      <td>0.487788</td>\n",
       "      <td>-0.067723</td>\n",
       "      <td>-0.058698</td>\n",
       "      <td>0.921441</td>\n",
       "      <td>-0.495382</td>\n",
       "      <td>-0.123535</td>\n",
       "      <td>-0.624820</td>\n",
       "    </tr>\n",
       "    <tr>\n",
       "      <th>1</th>\n",
       "      <td>0.165355</td>\n",
       "      <td>1.300169</td>\n",
       "      <td>-0.343142</td>\n",
       "      <td>1.162035</td>\n",
       "      <td>-0.106838</td>\n",
       "      <td>0.151244</td>\n",
       "      <td>1.122003</td>\n",
       "      <td>0.138630</td>\n",
       "      <td>1.339016</td>\n",
       "      <td>-0.624820</td>\n",
       "    </tr>\n",
       "    <tr>\n",
       "      <th>2</th>\n",
       "      <td>-0.644543</td>\n",
       "      <td>-0.596150</td>\n",
       "      <td>-0.245570</td>\n",
       "      <td>0.643384</td>\n",
       "      <td>-1.078541</td>\n",
       "      <td>1.148469</td>\n",
       "      <td>-0.273665</td>\n",
       "      <td>1.089648</td>\n",
       "      <td>-0.084007</td>\n",
       "      <td>-0.624820</td>\n",
       "    </tr>\n",
       "    <tr>\n",
       "      <th>3</th>\n",
       "      <td>1.709224</td>\n",
       "      <td>-0.596150</td>\n",
       "      <td>-0.970665</td>\n",
       "      <td>-0.238324</td>\n",
       "      <td>-1.972013</td>\n",
       "      <td>-1.528293</td>\n",
       "      <td>-1.220652</td>\n",
       "      <td>1.459488</td>\n",
       "      <td>0.350806</td>\n",
       "      <td>-1.028216</td>\n",
       "    </tr>\n",
       "    <tr>\n",
       "      <th>4</th>\n",
       "      <td>-0.138357</td>\n",
       "      <td>-0.596150</td>\n",
       "      <td>-0.438801</td>\n",
       "      <td>-0.653245</td>\n",
       "      <td>0.965740</td>\n",
       "      <td>-1.318351</td>\n",
       "      <td>-0.162011</td>\n",
       "      <td>0.772642</td>\n",
       "      <td>0.785618</td>\n",
       "      <td>0.181970</td>\n",
       "    </tr>\n",
       "  </tbody>\n",
       "</table>\n",
       "</div>"
      ],
      "text/plain": [
       "   ACCOUNT LENGTH  NUMBER VMAIL MESSAGES  TOTAL DAY MINUTES  TOTAL DAY CALLS  \\\n",
       "0        0.696851               1.227234           1.637000         0.487788   \n",
       "1        0.165355               1.300169          -0.343142         1.162035   \n",
       "2       -0.644543              -0.596150          -0.245570         0.643384   \n",
       "3        1.709224              -0.596150          -0.970665        -0.238324   \n",
       "4       -0.138357              -0.596150          -0.438801        -0.653245   \n",
       "\n",
       "   TOTAL EVE MINUTES  TOTAL EVE CALLS  TOTAL NIGHT MINUTES  TOTAL NIGHT CALLS  \\\n",
       "0          -0.067723        -0.058698             0.921441          -0.495382   \n",
       "1          -0.106838         0.151244             1.122003           0.138630   \n",
       "2          -1.078541         1.148469            -0.273665           1.089648   \n",
       "3          -1.972013        -1.528293            -1.220652           1.459488   \n",
       "4           0.965740        -1.318351            -0.162011           0.772642   \n",
       "\n",
       "   TOTAL INTL MINUTES  TOTAL INTL CALLS  \n",
       "0           -0.123535         -0.624820  \n",
       "1            1.339016         -0.624820  \n",
       "2           -0.084007         -0.624820  \n",
       "3            0.350806         -1.028216  \n",
       "4            0.785618          0.181970  "
      ]
     },
     "execution_count": 29,
     "metadata": {},
     "output_type": "execute_result"
    }
   ],
   "source": [
    "strdata.head(5)"
   ]
  },
  {
   "cell_type": "code",
   "execution_count": 30,
   "metadata": {},
   "outputs": [],
   "source": [
    "#Concatenatinating the dataset \n",
    "final_data = pd.concat([strdata,data['INTERNATIONAL PLAN'],data['VOICE MAIL PLAN'],\n",
    "       data['CHURN'], data['AREA CODE_408'], data['AREA CODE_415'],\n",
    "       data['AREA CODE_510'], data['CUSTOMER SERVICE CALLS_1'], data['CUSTOMER SERVICE CALLS_2'],\n",
    "       data['CUSTOMER SERVICE CALLS_3']], axis=1)"
   ]
  },
  {
   "cell_type": "code",
   "execution_count": 31,
   "metadata": {},
   "outputs": [
    {
     "data": {
      "text/html": [
       "<div>\n",
       "<style scoped>\n",
       "    .dataframe tbody tr th:only-of-type {\n",
       "        vertical-align: middle;\n",
       "    }\n",
       "\n",
       "    .dataframe tbody tr th {\n",
       "        vertical-align: top;\n",
       "    }\n",
       "\n",
       "    .dataframe thead th {\n",
       "        text-align: right;\n",
       "    }\n",
       "</style>\n",
       "<table border=\"1\" class=\"dataframe\">\n",
       "  <thead>\n",
       "    <tr style=\"text-align: right;\">\n",
       "      <th></th>\n",
       "      <th>ACCOUNT LENGTH</th>\n",
       "      <th>NUMBER VMAIL MESSAGES</th>\n",
       "      <th>TOTAL DAY MINUTES</th>\n",
       "      <th>TOTAL DAY CALLS</th>\n",
       "      <th>TOTAL EVE MINUTES</th>\n",
       "      <th>TOTAL EVE CALLS</th>\n",
       "      <th>TOTAL NIGHT MINUTES</th>\n",
       "      <th>TOTAL NIGHT CALLS</th>\n",
       "      <th>TOTAL INTL MINUTES</th>\n",
       "      <th>TOTAL INTL CALLS</th>\n",
       "      <th>INTERNATIONAL PLAN</th>\n",
       "      <th>VOICE MAIL PLAN</th>\n",
       "      <th>CHURN</th>\n",
       "      <th>AREA CODE_408</th>\n",
       "      <th>AREA CODE_415</th>\n",
       "      <th>AREA CODE_510</th>\n",
       "      <th>CUSTOMER SERVICE CALLS_1</th>\n",
       "      <th>CUSTOMER SERVICE CALLS_2</th>\n",
       "      <th>CUSTOMER SERVICE CALLS_3</th>\n",
       "    </tr>\n",
       "  </thead>\n",
       "  <tbody>\n",
       "    <tr>\n",
       "      <th>0</th>\n",
       "      <td>0.696851</td>\n",
       "      <td>1.227234</td>\n",
       "      <td>1.637000</td>\n",
       "      <td>0.487788</td>\n",
       "      <td>-0.067723</td>\n",
       "      <td>-0.058698</td>\n",
       "      <td>0.921441</td>\n",
       "      <td>-0.495382</td>\n",
       "      <td>-0.123535</td>\n",
       "      <td>-0.624820</td>\n",
       "      <td>0</td>\n",
       "      <td>0</td>\n",
       "      <td>0</td>\n",
       "      <td>0</td>\n",
       "      <td>1</td>\n",
       "      <td>0</td>\n",
       "      <td>1</td>\n",
       "      <td>0</td>\n",
       "      <td>0</td>\n",
       "    </tr>\n",
       "    <tr>\n",
       "      <th>1</th>\n",
       "      <td>0.165355</td>\n",
       "      <td>1.300169</td>\n",
       "      <td>-0.343142</td>\n",
       "      <td>1.162035</td>\n",
       "      <td>-0.106838</td>\n",
       "      <td>0.151244</td>\n",
       "      <td>1.122003</td>\n",
       "      <td>0.138630</td>\n",
       "      <td>1.339016</td>\n",
       "      <td>-0.624820</td>\n",
       "      <td>0</td>\n",
       "      <td>0</td>\n",
       "      <td>0</td>\n",
       "      <td>0</td>\n",
       "      <td>1</td>\n",
       "      <td>0</td>\n",
       "      <td>1</td>\n",
       "      <td>0</td>\n",
       "      <td>0</td>\n",
       "    </tr>\n",
       "    <tr>\n",
       "      <th>2</th>\n",
       "      <td>-0.644543</td>\n",
       "      <td>-0.596150</td>\n",
       "      <td>-0.245570</td>\n",
       "      <td>0.643384</td>\n",
       "      <td>-1.078541</td>\n",
       "      <td>1.148469</td>\n",
       "      <td>-0.273665</td>\n",
       "      <td>1.089648</td>\n",
       "      <td>-0.084007</td>\n",
       "      <td>-0.624820</td>\n",
       "      <td>0</td>\n",
       "      <td>0</td>\n",
       "      <td>0</td>\n",
       "      <td>0</td>\n",
       "      <td>1</td>\n",
       "      <td>0</td>\n",
       "      <td>0</td>\n",
       "      <td>0</td>\n",
       "      <td>1</td>\n",
       "    </tr>\n",
       "    <tr>\n",
       "      <th>3</th>\n",
       "      <td>1.709224</td>\n",
       "      <td>-0.596150</td>\n",
       "      <td>-0.970665</td>\n",
       "      <td>-0.238324</td>\n",
       "      <td>-1.972013</td>\n",
       "      <td>-1.528293</td>\n",
       "      <td>-1.220652</td>\n",
       "      <td>1.459488</td>\n",
       "      <td>0.350806</td>\n",
       "      <td>-1.028216</td>\n",
       "      <td>0</td>\n",
       "      <td>0</td>\n",
       "      <td>0</td>\n",
       "      <td>1</td>\n",
       "      <td>0</td>\n",
       "      <td>0</td>\n",
       "      <td>1</td>\n",
       "      <td>0</td>\n",
       "      <td>0</td>\n",
       "    </tr>\n",
       "    <tr>\n",
       "      <th>4</th>\n",
       "      <td>-0.138357</td>\n",
       "      <td>-0.596150</td>\n",
       "      <td>-0.438801</td>\n",
       "      <td>-0.653245</td>\n",
       "      <td>0.965740</td>\n",
       "      <td>-1.318351</td>\n",
       "      <td>-0.162011</td>\n",
       "      <td>0.772642</td>\n",
       "      <td>0.785618</td>\n",
       "      <td>0.181970</td>\n",
       "      <td>0</td>\n",
       "      <td>0</td>\n",
       "      <td>0</td>\n",
       "      <td>0</td>\n",
       "      <td>0</td>\n",
       "      <td>1</td>\n",
       "      <td>0</td>\n",
       "      <td>0</td>\n",
       "      <td>1</td>\n",
       "    </tr>\n",
       "  </tbody>\n",
       "</table>\n",
       "</div>"
      ],
      "text/plain": [
       "   ACCOUNT LENGTH  NUMBER VMAIL MESSAGES  TOTAL DAY MINUTES  TOTAL DAY CALLS  \\\n",
       "0        0.696851               1.227234           1.637000         0.487788   \n",
       "1        0.165355               1.300169          -0.343142         1.162035   \n",
       "2       -0.644543              -0.596150          -0.245570         0.643384   \n",
       "3        1.709224              -0.596150          -0.970665        -0.238324   \n",
       "4       -0.138357              -0.596150          -0.438801        -0.653245   \n",
       "\n",
       "   TOTAL EVE MINUTES  TOTAL EVE CALLS  TOTAL NIGHT MINUTES  TOTAL NIGHT CALLS  \\\n",
       "0          -0.067723        -0.058698             0.921441          -0.495382   \n",
       "1          -0.106838         0.151244             1.122003           0.138630   \n",
       "2          -1.078541         1.148469            -0.273665           1.089648   \n",
       "3          -1.972013        -1.528293            -1.220652           1.459488   \n",
       "4           0.965740        -1.318351            -0.162011           0.772642   \n",
       "\n",
       "   TOTAL INTL MINUTES  TOTAL INTL CALLS  INTERNATIONAL PLAN  VOICE MAIL PLAN  \\\n",
       "0           -0.123535         -0.624820                   0                0   \n",
       "1            1.339016         -0.624820                   0                0   \n",
       "2           -0.084007         -0.624820                   0                0   \n",
       "3            0.350806         -1.028216                   0                0   \n",
       "4            0.785618          0.181970                   0                0   \n",
       "\n",
       "   CHURN  AREA CODE_408  AREA CODE_415  AREA CODE_510  \\\n",
       "0      0              0              1              0   \n",
       "1      0              0              1              0   \n",
       "2      0              0              1              0   \n",
       "3      0              1              0              0   \n",
       "4      0              0              0              1   \n",
       "\n",
       "   CUSTOMER SERVICE CALLS_1  CUSTOMER SERVICE CALLS_2  \\\n",
       "0                         1                         0   \n",
       "1                         1                         0   \n",
       "2                         0                         0   \n",
       "3                         1                         0   \n",
       "4                         0                         0   \n",
       "\n",
       "   CUSTOMER SERVICE CALLS_3  \n",
       "0                         0  \n",
       "1                         0  \n",
       "2                         1  \n",
       "3                         0  \n",
       "4                         1  "
      ]
     },
     "execution_count": 31,
     "metadata": {},
     "output_type": "execute_result"
    }
   ],
   "source": [
    "final_data.head(5)"
   ]
  },
  {
   "cell_type": "code",
   "execution_count": 32,
   "metadata": {},
   "outputs": [
    {
     "data": {
      "text/plain": [
       "Index(['ACCOUNT LENGTH', 'NUMBER VMAIL MESSAGES', 'TOTAL DAY MINUTES',\n",
       "       'TOTAL DAY CALLS', 'TOTAL EVE MINUTES', 'TOTAL EVE CALLS',\n",
       "       'TOTAL NIGHT MINUTES', 'TOTAL NIGHT CALLS', 'TOTAL INTL MINUTES',\n",
       "       'TOTAL INTL CALLS', 'INTERNATIONAL PLAN', 'VOICE MAIL PLAN', 'CHURN',\n",
       "       'AREA CODE_408', 'AREA CODE_415', 'AREA CODE_510',\n",
       "       'CUSTOMER SERVICE CALLS_1', 'CUSTOMER SERVICE CALLS_2',\n",
       "       'CUSTOMER SERVICE CALLS_3'],\n",
       "      dtype='object')"
      ]
     },
     "execution_count": 32,
     "metadata": {},
     "output_type": "execute_result"
    }
   ],
   "source": [
    "final_data.columns\n"
   ]
  },
  {
   "cell_type": "code",
   "execution_count": 33,
   "metadata": {},
   "outputs": [],
   "source": [
    " #Applying the logistic regression \n",
    "\n",
    "X = final_data.drop('CHURN',axis=1)\n",
    "y = final_data['CHURN']"
   ]
  },
  {
   "cell_type": "code",
   "execution_count": 34,
   "metadata": {},
   "outputs": [],
   "source": [
    "## Splitting the test train dataset\n",
    "from sklearn.cross_validation import train_test_split\n",
    "\n",
    "X_train, X_test, y_train, y_test = train_test_split(X, y, test_size=0.3, random_state=0,stratify=y)"
   ]
  },
  {
   "cell_type": "code",
   "execution_count": 35,
   "metadata": {},
   "outputs": [],
   "source": [
    "#sm = SMOTE(random_state=12, ratio = 1.0)(class_weight='balanced')\n",
    "#X_train_res, y_train_res = sm.fit_sample(X_train, y_train)"
   ]
  },
  {
   "cell_type": "code",
   "execution_count": 52,
   "metadata": {},
   "outputs": [],
   "source": [
    "from sklearn.linear_model import LogisticRegression\n",
    "from sklearn import metrics\n",
    "logreg = LogisticRegression()\n",
    "model=logreg.fit(X_train, y_train)\n",
    "y_pred = logreg.predict(X_test)"
   ]
  },
  {
   "cell_type": "code",
   "execution_count": 53,
   "metadata": {},
   "outputs": [
    {
     "ename": "AttributeError",
     "evalue": "'LogisticRegression' object has no attribute 'summary'",
     "output_type": "error",
     "traceback": [
      "\u001b[0;31m---------------------------------------------------------------------------\u001b[0m",
      "\u001b[0;31mAttributeError\u001b[0m                            Traceback (most recent call last)",
      "\u001b[0;32m<ipython-input-53-5f15418b3570>\u001b[0m in \u001b[0;36m<module>\u001b[0;34m()\u001b[0m\n\u001b[0;32m----> 1\u001b[0;31m \u001b[0mmodel\u001b[0m\u001b[0;34m.\u001b[0m\u001b[0msummary\u001b[0m\u001b[0;34m(\u001b[0m\u001b[0;34m)\u001b[0m\u001b[0;34m\u001b[0m\u001b[0m\n\u001b[0m",
      "\u001b[0;31mAttributeError\u001b[0m: 'LogisticRegression' object has no attribute 'summary'"
     ]
    }
   ],
   "source": []
  },
  {
   "cell_type": "code",
   "execution_count": 37,
   "metadata": {},
   "outputs": [],
   "source": [
    "y_pred=y_pred.tolist()"
   ]
  },
  {
   "cell_type": "code",
   "execution_count": 38,
   "metadata": {},
   "outputs": [
    {
     "name": "stdout",
     "output_type": "stream",
     "text": [
      "Accuracy of logistic regression classifier on test set: 0.91\n"
     ]
    }
   ],
   "source": [
    "print('Accuracy of logistic regression classifier on test set: {:.2f}'.format(logreg.score(X_test, y_test)))"
   ]
  },
  {
   "cell_type": "code",
   "execution_count": 39,
   "metadata": {},
   "outputs": [
    {
     "name": "stdout",
     "output_type": "stream",
     "text": [
      "[[586   3]\n",
      " [ 54  14]]\n"
     ]
    }
   ],
   "source": [
    "from sklearn.metrics import confusion_matrix\n",
    "confusion_matrix = confusion_matrix(y_test, y_pred)\n",
    "print(confusion_matrix)"
   ]
  },
  {
   "cell_type": "code",
   "execution_count": 40,
   "metadata": {},
   "outputs": [
    {
     "name": "stdout",
     "output_type": "stream",
     "text": [
      "                          ACCOUNT LENGTH  NUMBER VMAIL MESSAGES  \\\n",
      "ACCOUNT LENGTH                  1.000000              -0.007768   \n",
      "NUMBER VMAIL MESSAGES          -0.007768               1.000000   \n",
      "TOTAL DAY MINUTES               0.020925               0.022712   \n",
      "TOTAL DAY CALLS                 0.057037              -0.012512   \n",
      "TOTAL EVE MINUTES              -0.015626              -0.002165   \n",
      "TOTAL EVE CALLS                 0.026143              -0.001743   \n",
      "TOTAL NIGHT MINUTES             0.002170               0.000069   \n",
      "TOTAL NIGHT CALLS              -0.017790               0.004380   \n",
      "TOTAL INTL MINUTES              0.022907               0.004109   \n",
      "TOTAL INTL CALLS                0.015667               0.001727   \n",
      "INTERNATIONAL PLAN                   NaN                    NaN   \n",
      "VOICE MAIL PLAN                      NaN                    NaN   \n",
      "AREA CODE_408                   0.019715              -0.005301   \n",
      "AREA CODE_415                  -0.005294               0.020138   \n",
      "AREA CODE_510                  -0.013695              -0.017807   \n",
      "CUSTOMER SERVICE CALLS_1        0.027984               0.024910   \n",
      "CUSTOMER SERVICE CALLS_2       -0.035507               0.009471   \n",
      "CUSTOMER SERVICE CALLS_3        0.006887              -0.043877   \n",
      "\n",
      "                          TOTAL DAY MINUTES  TOTAL DAY CALLS  \\\n",
      "ACCOUNT LENGTH                     0.020925         0.057037   \n",
      "NUMBER VMAIL MESSAGES              0.022712        -0.012512   \n",
      "TOTAL DAY MINUTES                  1.000000         0.008652   \n",
      "TOTAL DAY CALLS                    0.008652         1.000000   \n",
      "TOTAL EVE MINUTES                 -0.001115        -0.013559   \n",
      "TOTAL EVE CALLS                    0.022043         0.018098   \n",
      "TOTAL NIGHT MINUTES                0.000948         0.038660   \n",
      "TOTAL NIGHT CALLS                  0.023737        -0.011938   \n",
      "TOTAL INTL MINUTES                -0.009048        -0.003414   \n",
      "TOTAL INTL CALLS                   0.004793        -0.013470   \n",
      "INTERNATIONAL PLAN                      NaN              NaN   \n",
      "VOICE MAIL PLAN                         NaN              NaN   \n",
      "AREA CODE_408                     -0.047511         0.000769   \n",
      "AREA CODE_415                      0.037589        -0.012202   \n",
      "AREA CODE_510                      0.004490         0.013239   \n",
      "CUSTOMER SERVICE CALLS_1           0.003484         0.055802   \n",
      "CUSTOMER SERVICE CALLS_2          -0.028242        -0.033292   \n",
      "CUSTOMER SERVICE CALLS_3           0.029858        -0.031932   \n",
      "\n",
      "                          TOTAL EVE MINUTES  TOTAL EVE CALLS  \\\n",
      "ACCOUNT LENGTH                    -0.015626         0.026143   \n",
      "NUMBER VMAIL MESSAGES             -0.002165        -0.001743   \n",
      "TOTAL DAY MINUTES                 -0.001115         0.022043   \n",
      "TOTAL DAY CALLS                   -0.013559         0.018098   \n",
      "TOTAL EVE MINUTES                  1.000000        -0.017104   \n",
      "TOTAL EVE CALLS                   -0.017104         1.000000   \n",
      "TOTAL NIGHT MINUTES               -0.020503         0.011122   \n",
      "TOTAL NIGHT CALLS                 -0.005067         0.006320   \n",
      "TOTAL INTL MINUTES                -0.029946         0.021218   \n",
      "TOTAL INTL CALLS                   0.012888         0.008872   \n",
      "INTERNATIONAL PLAN                      NaN              NaN   \n",
      "VOICE MAIL PLAN                         NaN              NaN   \n",
      "AREA CODE_408                     -0.022391         0.000637   \n",
      "AREA CODE_415                      0.028230         0.005673   \n",
      "AREA CODE_510                     -0.009957        -0.007153   \n",
      "CUSTOMER SERVICE CALLS_1           0.030832         0.010137   \n",
      "CUSTOMER SERVICE CALLS_2          -0.011892         0.007349   \n",
      "CUSTOMER SERVICE CALLS_3          -0.025560        -0.022111   \n",
      "\n",
      "                          TOTAL NIGHT MINUTES  TOTAL NIGHT CALLS  \\\n",
      "ACCOUNT LENGTH                       0.002170          -0.017790   \n",
      "NUMBER VMAIL MESSAGES                0.000069           0.004380   \n",
      "TOTAL DAY MINUTES                    0.000948           0.023737   \n",
      "TOTAL DAY CALLS                      0.038660          -0.011938   \n",
      "TOTAL EVE MINUTES                   -0.020503          -0.005067   \n",
      "TOTAL EVE CALLS                      0.011122           0.006320   \n",
      "TOTAL NIGHT MINUTES                  1.000000           0.012663   \n",
      "TOTAL NIGHT CALLS                    0.012663           1.000000   \n",
      "TOTAL INTL MINUTES                  -0.003839          -0.005173   \n",
      "TOTAL INTL CALLS                    -0.004911          -0.017453   \n",
      "INTERNATIONAL PLAN                        NaN                NaN   \n",
      "VOICE MAIL PLAN                           NaN                NaN   \n",
      "AREA CODE_408                       -0.013347          -0.028647   \n",
      "AREA CODE_415                        0.030401           0.008123   \n",
      "AREA CODE_510                       -0.021520           0.019405   \n",
      "CUSTOMER SERVICE CALLS_1            -0.004125           0.004788   \n",
      "CUSTOMER SERVICE CALLS_2            -0.000793           0.021319   \n",
      "CUSTOMER SERVICE CALLS_3             0.006321          -0.032172   \n",
      "\n",
      "                          TOTAL INTL MINUTES  TOTAL INTL CALLS  \\\n",
      "ACCOUNT LENGTH                      0.022907          0.015667   \n",
      "NUMBER VMAIL MESSAGES               0.004109          0.001727   \n",
      "TOTAL DAY MINUTES                  -0.009048          0.004793   \n",
      "TOTAL DAY CALLS                    -0.003414         -0.013470   \n",
      "TOTAL EVE MINUTES                  -0.029946          0.012888   \n",
      "TOTAL EVE CALLS                     0.021218          0.008872   \n",
      "TOTAL NIGHT MINUTES                -0.003839         -0.004911   \n",
      "TOTAL NIGHT CALLS                  -0.005173         -0.017453   \n",
      "TOTAL INTL MINUTES                  1.000000         -0.024599   \n",
      "TOTAL INTL CALLS                   -0.024599          1.000000   \n",
      "INTERNATIONAL PLAN                       NaN               NaN   \n",
      "VOICE MAIL PLAN                          NaN               NaN   \n",
      "AREA CODE_408                      -0.011595         -0.007150   \n",
      "AREA CODE_415                       0.037364          0.043197   \n",
      "AREA CODE_510                      -0.031273         -0.042429   \n",
      "CUSTOMER SERVICE CALLS_1           -0.011821          0.014284   \n",
      "CUSTOMER SERVICE CALLS_2            0.015291         -0.009979   \n",
      "CUSTOMER SERVICE CALLS_3           -0.003265         -0.006400   \n",
      "\n",
      "                          INTERNATIONAL PLAN  VOICE MAIL PLAN  AREA CODE_408  \\\n",
      "ACCOUNT LENGTH                           NaN              NaN       0.019715   \n",
      "NUMBER VMAIL MESSAGES                    NaN              NaN      -0.005301   \n",
      "TOTAL DAY MINUTES                        NaN              NaN      -0.047511   \n",
      "TOTAL DAY CALLS                          NaN              NaN       0.000769   \n",
      "TOTAL EVE MINUTES                        NaN              NaN      -0.022391   \n",
      "TOTAL EVE CALLS                          NaN              NaN       0.000637   \n",
      "TOTAL NIGHT MINUTES                      NaN              NaN      -0.013347   \n",
      "TOTAL NIGHT CALLS                        NaN              NaN      -0.028647   \n",
      "TOTAL INTL MINUTES                       NaN              NaN      -0.011595   \n",
      "TOTAL INTL CALLS                         NaN              NaN      -0.007150   \n",
      "INTERNATIONAL PLAN                       NaN              NaN            NaN   \n",
      "VOICE MAIL PLAN                          NaN              NaN            NaN   \n",
      "AREA CODE_408                            NaN              NaN       1.000000   \n",
      "AREA CODE_415                            NaN              NaN      -0.574984   \n",
      "AREA CODE_510                            NaN              NaN      -0.342740   \n",
      "CUSTOMER SERVICE CALLS_1                 NaN              NaN       0.044690   \n",
      "CUSTOMER SERVICE CALLS_2                 NaN              NaN       0.002653   \n",
      "CUSTOMER SERVICE CALLS_3                 NaN              NaN      -0.061262   \n",
      "\n",
      "                          AREA CODE_415  AREA CODE_510  \\\n",
      "ACCOUNT LENGTH                -0.005294      -0.013695   \n",
      "NUMBER VMAIL MESSAGES          0.020138      -0.017807   \n",
      "TOTAL DAY MINUTES              0.037589       0.004490   \n",
      "TOTAL DAY CALLS               -0.012202       0.013239   \n",
      "TOTAL EVE MINUTES              0.028230      -0.009957   \n",
      "TOTAL EVE CALLS                0.005673      -0.007153   \n",
      "TOTAL NIGHT MINUTES            0.030401      -0.021520   \n",
      "TOTAL NIGHT CALLS              0.008123       0.019405   \n",
      "TOTAL INTL MINUTES             0.037364      -0.031273   \n",
      "TOTAL INTL CALLS               0.043197      -0.042429   \n",
      "INTERNATIONAL PLAN                  NaN            NaN   \n",
      "VOICE MAIL PLAN                     NaN            NaN   \n",
      "AREA CODE_408                 -0.574984      -0.342740   \n",
      "AREA CODE_415                  1.000000      -0.571538   \n",
      "AREA CODE_510                 -0.571538       1.000000   \n",
      "CUSTOMER SERVICE CALLS_1      -0.000288      -0.044491   \n",
      "CUSTOMER SERVICE CALLS_2      -0.003911       0.001830   \n",
      "CUSTOMER SERVICE CALLS_3       0.005136       0.055545   \n",
      "\n",
      "                          CUSTOMER SERVICE CALLS_1  CUSTOMER SERVICE CALLS_2  \\\n",
      "ACCOUNT LENGTH                            0.027984                 -0.035507   \n",
      "NUMBER VMAIL MESSAGES                     0.024910                  0.009471   \n",
      "TOTAL DAY MINUTES                         0.003484                 -0.028242   \n",
      "TOTAL DAY CALLS                           0.055802                 -0.033292   \n",
      "TOTAL EVE MINUTES                         0.030832                 -0.011892   \n",
      "TOTAL EVE CALLS                           0.010137                  0.007349   \n",
      "TOTAL NIGHT MINUTES                      -0.004125                 -0.000793   \n",
      "TOTAL NIGHT CALLS                         0.004788                  0.021319   \n",
      "TOTAL INTL MINUTES                       -0.011821                  0.015291   \n",
      "TOTAL INTL CALLS                          0.014284                 -0.009979   \n",
      "INTERNATIONAL PLAN                             NaN                       NaN   \n",
      "VOICE MAIL PLAN                                NaN                       NaN   \n",
      "AREA CODE_408                             0.044690                  0.002653   \n",
      "AREA CODE_415                            -0.000288                 -0.003911   \n",
      "AREA CODE_510                            -0.044491                  0.001830   \n",
      "CUSTOMER SERVICE CALLS_1                  1.000000                 -0.685794   \n",
      "CUSTOMER SERVICE CALLS_2                 -0.685794                  1.000000   \n",
      "CUSTOMER SERVICE CALLS_3                 -0.463686                 -0.326834   \n",
      "\n",
      "                          CUSTOMER SERVICE CALLS_3  \n",
      "ACCOUNT LENGTH                            0.006887  \n",
      "NUMBER VMAIL MESSAGES                    -0.043877  \n",
      "TOTAL DAY MINUTES                         0.029858  \n",
      "TOTAL DAY CALLS                          -0.031932  \n",
      "TOTAL EVE MINUTES                        -0.025560  \n",
      "TOTAL EVE CALLS                          -0.022111  \n",
      "TOTAL NIGHT MINUTES                       0.006321  \n",
      "TOTAL NIGHT CALLS                        -0.032172  \n",
      "TOTAL INTL MINUTES                       -0.003265  \n",
      "TOTAL INTL CALLS                         -0.006400  \n",
      "INTERNATIONAL PLAN                             NaN  \n",
      "VOICE MAIL PLAN                                NaN  \n",
      "AREA CODE_408                            -0.061262  \n",
      "AREA CODE_415                             0.005136  \n",
      "AREA CODE_510                             0.055545  \n",
      "CUSTOMER SERVICE CALLS_1                 -0.463686  \n",
      "CUSTOMER SERVICE CALLS_2                 -0.326834  \n",
      "CUSTOMER SERVICE CALLS_3                  1.000000  \n"
     ]
    }
   ],
   "source": [
    "print(X.corr())"
   ]
  },
  {
   "cell_type": "code",
   "execution_count": 41,
   "metadata": {},
   "outputs": [],
   "source": [
    "def get_redundant_pairs(df):\n",
    "    '''Get diagonal and lower triangular pairs of correlation matrix'''\n",
    "    pairs_to_drop = set()\n",
    "    cols = df.columns\n",
    "    for i in range(0, df.shape[1]):\n",
    "        for j in range(0, i+1):\n",
    "            pairs_to_drop.add((cols[i], cols[j]))\n",
    "    return pairs_to_drop\n",
    "\n",
    "def get_top_abs_correlations(df, n=5):\n",
    "    au_corr = df.corr().abs().unstack()\n",
    "    labels_to_drop = get_redundant_pairs(df)\n",
    "    au_corr = au_corr.drop(labels=labels_to_drop).sort_values(ascending=False)\n",
    "    return au_corr[0:n]"
   ]
  },
  {
   "cell_type": "code",
   "execution_count": 42,
   "metadata": {},
   "outputs": [
    {
     "name": "stdout",
     "output_type": "stream",
     "text": [
      "Top Absolute Correlations\n",
      "CUSTOMER SERVICE CALLS_1  CUSTOMER SERVICE CALLS_2    0.685794\n",
      "AREA CODE_408             AREA CODE_415               0.574984\n",
      "AREA CODE_415             AREA CODE_510               0.571538\n",
      "CUSTOMER SERVICE CALLS_1  CUSTOMER SERVICE CALLS_3    0.463686\n",
      "AREA CODE_408             AREA CODE_510               0.342740\n",
      "CUSTOMER SERVICE CALLS_2  CUSTOMER SERVICE CALLS_3    0.326834\n",
      "AREA CODE_408             CUSTOMER SERVICE CALLS_3    0.061262\n",
      "ACCOUNT LENGTH            TOTAL DAY CALLS             0.057037\n",
      "TOTAL DAY CALLS           CUSTOMER SERVICE CALLS_1    0.055802\n",
      "AREA CODE_510             CUSTOMER SERVICE CALLS_3    0.055545\n",
      "TOTAL DAY MINUTES         AREA CODE_408               0.047511\n",
      "AREA CODE_408             CUSTOMER SERVICE CALLS_1    0.044690\n",
      "AREA CODE_510             CUSTOMER SERVICE CALLS_1    0.044491\n",
      "NUMBER VMAIL MESSAGES     CUSTOMER SERVICE CALLS_3    0.043877\n",
      "TOTAL INTL CALLS          AREA CODE_415               0.043197\n",
      "                          AREA CODE_510               0.042429\n",
      "TOTAL DAY CALLS           TOTAL NIGHT MINUTES         0.038660\n",
      "TOTAL DAY MINUTES         AREA CODE_415               0.037589\n",
      "TOTAL INTL MINUTES        AREA CODE_415               0.037364\n",
      "ACCOUNT LENGTH            CUSTOMER SERVICE CALLS_2    0.035507\n",
      "TOTAL DAY CALLS           CUSTOMER SERVICE CALLS_2    0.033292\n",
      "TOTAL NIGHT CALLS         CUSTOMER SERVICE CALLS_3    0.032172\n",
      "TOTAL DAY CALLS           CUSTOMER SERVICE CALLS_3    0.031932\n",
      "TOTAL INTL MINUTES        AREA CODE_510               0.031273\n",
      "TOTAL EVE MINUTES         CUSTOMER SERVICE CALLS_1    0.030832\n",
      "TOTAL NIGHT MINUTES       AREA CODE_415               0.030401\n",
      "TOTAL EVE MINUTES         TOTAL INTL MINUTES          0.029946\n",
      "TOTAL DAY MINUTES         CUSTOMER SERVICE CALLS_3    0.029858\n",
      "TOTAL NIGHT CALLS         AREA CODE_408               0.028647\n",
      "TOTAL DAY MINUTES         CUSTOMER SERVICE CALLS_2    0.028242\n",
      "TOTAL EVE MINUTES         AREA CODE_415               0.028230\n",
      "dtype: float64\n"
     ]
    }
   ],
   "source": [
    "print(\"Top Absolute Correlations\")\n",
    "print(get_top_abs_correlations(X, 31))\n"
   ]
  },
  {
   "cell_type": "code",
   "execution_count": 43,
   "metadata": {},
   "outputs": [],
   "source": [
    "#Top Absolute Correlations\n",
    "#TOTAL DAY MINUTES         TOTAL DAY CHARGE            1.000000\n",
    "#TOTAL EVE MINUTES         TOTAL EVE CHARGE            1.000000\n",
    "#TOTAL NIGHT MINUTES       TOTAL NIGHT CHARGE          0.999999\n",
    "#TOTAL INTL MINUTES        TOTAL INTL CHARGE           0.999991\n",
    "#CUSTOMER SERVICE CALLS_1  CUSTOMER SERVICE CALLS_2    0.685794\n",
    "#AREA CODE_408             AREA CODE_415               0.574984\n",
    "#AREA CODE_415             AREA CODE_510               0.571538\n",
    "#CUSTOMER SERVICE CALLS_1  CUSTOMER SERVICE CALLS_3    0.463686\n",
    "#AREA CODE_408             AREA CODE_510               0.342740\n",
    "#CUSTOMER SERVICE CALLS_2  CUSTOMER SERVICE CALLS_3    0.326834\n",
    "#AREA CODE_408             CUSTOMER SERVICE CALLS_3    0.061262\n",
    "#ACCOUNT LENGTH            TOTAL DAY CALLS             0.057037\n",
    "#TOTAL DAY CALLS           CUSTOMER SERVICE CALLS_1    0.055802\n",
    "#AREA CODE_510             CUSTOMER SERVICE CALLS_3    0.055545\n",
    "#TOTAL DAY CHARGE          AREA CODE_408               0.047512\n",
    "#TOTAL DAY MINUTES         AREA CODE_408               0.047511\n",
    "#AREA CODE_408             CUSTOMER SERVICE CALLS_1    0.044690\n",
    "#AREA CODE_510             CUSTOMER SERVICE CALLS_1    0.044491\n",
    "#NUMBER VMAIL MESSAGES     CUSTOMER SERVICE CALLS_3    0.043877\n",
    "#TOTAL INTL CALLS          AREA CODE_415               0.043197\n",
    "#                          AREA CODE_510               0.042429\n",
    "#TOTAL DAY CALLS           TOTAL NIGHT MINUTES         0.038660\n",
    "#                          TOTAL NIGHT CHARGE          0.038621\n",
    "#TOTAL DAY CHARGE          AREA CODE_415               0.037594\n",
    "#TOTAL DAY MINUTES         AREA CODE_415               0.037589\n",
    "#TOTAL INTL MINUTES        AREA CODE_415               0.037364\n",
    "#TOTAL INTL CHARGE         AREA CODE_415               0.037348\n",
    "#ACCOUNT LENGTH            CUSTOMER SERVICE CALLS_2    0.035507\n",
    "#TOTAL DAY CALLS           CUSTOMER SERVICE CALLS_2    0.033292\n",
    "#TOTAL NIGHT CALLS         CUSTOMER SERVICE CALLS_3    0.032172\n",
    "#TOTAL DAY CALLS           CUSTOMER SERVICE CALLS_3    0.031932\n",
    "#dtype: float64"
   ]
  },
  {
   "cell_type": "code",
   "execution_count": 44,
   "metadata": {},
   "outputs": [
    {
     "name": "stdout",
     "output_type": "stream",
     "text": [
      "Accuracy: 0.91324200913242\n",
      "F1 score: 0.32941176470588235\n",
      "Recall: 0.20588235294117646\n",
      "Precision: 0.8235294117647058\n",
      "\n",
      " clasification report:\n",
      "              precision    recall  f1-score   support\n",
      "\n",
      "          0       0.92      0.99      0.95       589\n",
      "          1       0.82      0.21      0.33        68\n",
      "\n",
      "avg / total       0.91      0.91      0.89       657\n",
      "\n",
      "\n",
      " confussion matrix:\n",
      " [[586   3]\n",
      " [ 54  14]]\n"
     ]
    }
   ],
   "source": [
    "from sklearn.svm import SVC \n",
    "\n",
    "clf = SVC(kernel='linear', C= 1)\n",
    "clf.fit(X, y)\n",
    "prediction = clf.predict(X_test)\n",
    "\n",
    "\n",
    "from sklearn.metrics import precision_score,recall_score, confusion_matrix, classification_report,accuracy_score, f1_score\n",
    "\n",
    "print('Accuracy:', accuracy_score(y_test, y_pred))\n",
    "print('F1 score:', f1_score(y_test , y_pred ))\n",
    "print('Recall:', recall_score(y_test,  y_pred))\n",
    "print('Precision:', precision_score(y_test,  y_pred))\n",
    "print('\\n clasification report:\\n', classification_report(y_test, y_pred))\n",
    "print('\\n confussion matrix:\\n',confusion_matrix(y_test,  y_pred))\n"
   ]
  },
  {
   "cell_type": "code",
   "execution_count": 45,
   "metadata": {},
   "outputs": [],
   "source": [
    "#clf_rf.fit(x_train_res, y_train_res)\n",
    "#print 'Validation Results'\n",
    "#print clf_rf.score(x_val, y_val)\n",
    "#print recall_score(y_val, clf_rf.predict(x_val))\n",
    "#print '\\nTest Results'\n",
    "#print clf_rf.score(test_features, test_target)\n",
    "#print recall_score(test_target, clf_rf.predict(test_features))"
   ]
  },
  {
   "cell_type": "code",
   "execution_count": 46,
   "metadata": {},
   "outputs": [
    {
     "data": {
      "text/plain": [
       "640"
      ]
     },
     "execution_count": 46,
     "metadata": {},
     "output_type": "execute_result"
    }
   ],
   "source": [
    "len(y_pred) - sum(y_pred) ## No of 0 in y predicted "
   ]
  },
  {
   "cell_type": "code",
   "execution_count": 47,
   "metadata": {},
   "outputs": [
    {
     "data": {
      "text/plain": [
       "17"
      ]
     },
     "execution_count": 47,
     "metadata": {},
     "output_type": "execute_result"
    }
   ],
   "source": [
    " sum(y_pred)"
   ]
  },
  {
   "cell_type": "code",
   "execution_count": 48,
   "metadata": {},
   "outputs": [
    {
     "data": {
      "text/plain": [
       "0    89.670932\n",
       "1    10.329068\n",
       "Name: CHURN, dtype: float64"
      ]
     },
     "execution_count": 48,
     "metadata": {},
     "output_type": "execute_result"
    }
   ],
   "source": [
    "final_data['CHURN'].value_counts()/np.sum(final_data['CHURN'].value_counts().values)*100 # Raw Data\n",
    "\n",
    "# This is the case of class imbalance ."
   ]
  },
  {
   "cell_type": "code",
   "execution_count": 49,
   "metadata": {},
   "outputs": [
    {
     "name": "stdout",
     "output_type": "stream",
     "text": [
      "Requirement already satisfied: scikit-plot in /home/madhav/anaconda3/lib/python3.6/site-packages (0.3.7)\n",
      "Requirement already satisfied: scipy>=0.9 in /home/madhav/anaconda3/lib/python3.6/site-packages (from scikit-plot) (1.1.0)\n",
      "Requirement already satisfied: matplotlib>=1.4.0 in /home/madhav/anaconda3/lib/python3.6/site-packages (from scikit-plot) (2.2.2)\n",
      "Requirement already satisfied: joblib>=0.10 in /home/madhav/anaconda3/lib/python3.6/site-packages (from scikit-plot) (0.12.2)\n",
      "Requirement already satisfied: scikit-learn>=0.18 in /home/madhav/anaconda3/lib/python3.6/site-packages (from scikit-plot) (0.19.1)\n",
      "Requirement already satisfied: numpy>=1.7.1 in /home/madhav/anaconda3/lib/python3.6/site-packages (from matplotlib>=1.4.0->scikit-plot) (1.14.3)\n",
      "Requirement already satisfied: cycler>=0.10 in /home/madhav/anaconda3/lib/python3.6/site-packages (from matplotlib>=1.4.0->scikit-plot) (0.10.0)\n",
      "Requirement already satisfied: pyparsing!=2.0.4,!=2.1.2,!=2.1.6,>=2.0.1 in /home/madhav/anaconda3/lib/python3.6/site-packages (from matplotlib>=1.4.0->scikit-plot) (2.2.0)\n",
      "Requirement already satisfied: python-dateutil>=2.1 in /home/madhav/anaconda3/lib/python3.6/site-packages (from matplotlib>=1.4.0->scikit-plot) (2.7.3)\n",
      "Requirement already satisfied: pytz in /home/madhav/anaconda3/lib/python3.6/site-packages (from matplotlib>=1.4.0->scikit-plot) (2018.4)\n",
      "Requirement already satisfied: six>=1.10 in /home/madhav/anaconda3/lib/python3.6/site-packages (from matplotlib>=1.4.0->scikit-plot) (1.11.0)\n",
      "Requirement already satisfied: kiwisolver>=1.0.1 in /home/madhav/anaconda3/lib/python3.6/site-packages (from matplotlib>=1.4.0->scikit-plot) (1.0.1)\n",
      "Requirement already satisfied: setuptools in /home/madhav/anaconda3/lib/python3.6/site-packages (from kiwisolver>=1.0.1->matplotlib>=1.4.0->scikit-plot) (39.1.0)\n",
      "\u001b[31mdistributed 1.21.8 requires msgpack, which is not installed.\u001b[0m\n",
      "\u001b[33mYou are using pip version 10.0.1, however version 18.0 is available.\n",
      "You should consider upgrading via the 'pip install --upgrade pip' command.\u001b[0m\n"
     ]
    },
    {
     "name": "stderr",
     "output_type": "stream",
     "text": [
      "/home/madhav/anaconda3/lib/python3.6/site-packages/sklearn/utils/deprecation.py:77: DeprecationWarning: Function plot_roc_curve is deprecated; This will be removed in v0.5.0. Please use scikitplot.metrics.plot_roc instead.\n",
      "  warnings.warn(msg, category=DeprecationWarning)\n"
     ]
    },
    {
     "ename": "IndexError",
     "evalue": "too many indices for array",
     "output_type": "error",
     "traceback": [
      "\u001b[0;31m---------------------------------------------------------------------------\u001b[0m",
      "\u001b[0;31mIndexError\u001b[0m                                Traceback (most recent call last)",
      "\u001b[0;32m<ipython-input-49-0e7c5f8668ee>\u001b[0m in \u001b[0;36m<module>\u001b[0;34m()\u001b[0m\n\u001b[1;32m      3\u001b[0m \u001b[0;32mimport\u001b[0m \u001b[0mmatplotlib\u001b[0m\u001b[0;34m.\u001b[0m\u001b[0mpyplot\u001b[0m \u001b[0;32mas\u001b[0m \u001b[0mplt\u001b[0m\u001b[0;34m\u001b[0m\u001b[0m\n\u001b[1;32m      4\u001b[0m \u001b[0;34m\u001b[0m\u001b[0m\n\u001b[0;32m----> 5\u001b[0;31m \u001b[0mskplt\u001b[0m\u001b[0;34m.\u001b[0m\u001b[0mmetrics\u001b[0m\u001b[0;34m.\u001b[0m\u001b[0mplot_roc_curve\u001b[0m\u001b[0;34m(\u001b[0m\u001b[0my_test\u001b[0m\u001b[0;34m,\u001b[0m \u001b[0my_pred\u001b[0m\u001b[0;34m)\u001b[0m\u001b[0;34m\u001b[0m\u001b[0m\n\u001b[0m\u001b[1;32m      6\u001b[0m \u001b[0mplt\u001b[0m\u001b[0;34m.\u001b[0m\u001b[0mshow\u001b[0m\u001b[0;34m(\u001b[0m\u001b[0;34m)\u001b[0m\u001b[0;34m\u001b[0m\u001b[0m\n",
      "\u001b[0;32m~/anaconda3/lib/python3.6/site-packages/sklearn/utils/deprecation.py\u001b[0m in \u001b[0;36mwrapped\u001b[0;34m(*args, **kwargs)\u001b[0m\n\u001b[1;32m     76\u001b[0m         \u001b[0;32mdef\u001b[0m \u001b[0mwrapped\u001b[0m\u001b[0;34m(\u001b[0m\u001b[0;34m*\u001b[0m\u001b[0margs\u001b[0m\u001b[0;34m,\u001b[0m \u001b[0;34m**\u001b[0m\u001b[0mkwargs\u001b[0m\u001b[0;34m)\u001b[0m\u001b[0;34m:\u001b[0m\u001b[0;34m\u001b[0m\u001b[0m\n\u001b[1;32m     77\u001b[0m             \u001b[0mwarnings\u001b[0m\u001b[0;34m.\u001b[0m\u001b[0mwarn\u001b[0m\u001b[0;34m(\u001b[0m\u001b[0mmsg\u001b[0m\u001b[0;34m,\u001b[0m \u001b[0mcategory\u001b[0m\u001b[0;34m=\u001b[0m\u001b[0mDeprecationWarning\u001b[0m\u001b[0;34m)\u001b[0m\u001b[0;34m\u001b[0m\u001b[0m\n\u001b[0;32m---> 78\u001b[0;31m             \u001b[0;32mreturn\u001b[0m \u001b[0mfun\u001b[0m\u001b[0;34m(\u001b[0m\u001b[0;34m*\u001b[0m\u001b[0margs\u001b[0m\u001b[0;34m,\u001b[0m \u001b[0;34m**\u001b[0m\u001b[0mkwargs\u001b[0m\u001b[0;34m)\u001b[0m\u001b[0;34m\u001b[0m\u001b[0m\n\u001b[0m\u001b[1;32m     79\u001b[0m \u001b[0;34m\u001b[0m\u001b[0m\n\u001b[1;32m     80\u001b[0m         \u001b[0mwrapped\u001b[0m\u001b[0;34m.\u001b[0m\u001b[0m__doc__\u001b[0m \u001b[0;34m=\u001b[0m \u001b[0mself\u001b[0m\u001b[0;34m.\u001b[0m\u001b[0m_update_doc\u001b[0m\u001b[0;34m(\u001b[0m\u001b[0mwrapped\u001b[0m\u001b[0;34m.\u001b[0m\u001b[0m__doc__\u001b[0m\u001b[0;34m)\u001b[0m\u001b[0;34m\u001b[0m\u001b[0m\n",
      "\u001b[0;32m~/anaconda3/lib/python3.6/site-packages/scikitplot/metrics.py\u001b[0m in \u001b[0;36mplot_roc_curve\u001b[0;34m(y_true, y_probas, title, curves, ax, figsize, cmap, title_fontsize, text_fontsize)\u001b[0m\n\u001b[1;32m    255\u001b[0m     \u001b[0mroc_auc\u001b[0m \u001b[0;34m=\u001b[0m \u001b[0mdict\u001b[0m\u001b[0;34m(\u001b[0m\u001b[0;34m)\u001b[0m\u001b[0;34m\u001b[0m\u001b[0m\n\u001b[1;32m    256\u001b[0m     \u001b[0;32mfor\u001b[0m \u001b[0mi\u001b[0m \u001b[0;32min\u001b[0m \u001b[0mrange\u001b[0m\u001b[0;34m(\u001b[0m\u001b[0mlen\u001b[0m\u001b[0;34m(\u001b[0m\u001b[0mclasses\u001b[0m\u001b[0;34m)\u001b[0m\u001b[0;34m)\u001b[0m\u001b[0;34m:\u001b[0m\u001b[0;34m\u001b[0m\u001b[0m\n\u001b[0;32m--> 257\u001b[0;31m         fpr[i], tpr[i], _ = roc_curve(y_true, probas[:, i],\n\u001b[0m\u001b[1;32m    258\u001b[0m                                       pos_label=classes[i])\n\u001b[1;32m    259\u001b[0m         \u001b[0mroc_auc\u001b[0m\u001b[0;34m[\u001b[0m\u001b[0mi\u001b[0m\u001b[0;34m]\u001b[0m \u001b[0;34m=\u001b[0m \u001b[0mauc\u001b[0m\u001b[0;34m(\u001b[0m\u001b[0mfpr\u001b[0m\u001b[0;34m[\u001b[0m\u001b[0mi\u001b[0m\u001b[0;34m]\u001b[0m\u001b[0;34m,\u001b[0m \u001b[0mtpr\u001b[0m\u001b[0;34m[\u001b[0m\u001b[0mi\u001b[0m\u001b[0;34m]\u001b[0m\u001b[0;34m)\u001b[0m\u001b[0;34m\u001b[0m\u001b[0m\n",
      "\u001b[0;31mIndexError\u001b[0m: too many indices for array"
     ]
    }
   ],
   "source": [
    "!pip install scikit-plot\n",
    "import scikitplot as skplt\n",
    "import matplotlib.pyplot as plt\n",
    "\n",
    "skplt.metrics.plot_roc_curve(y_test, y_pred)\n",
    "plt.show()"
   ]
  },
  {
   "cell_type": "code",
   "execution_count": 50,
   "metadata": {},
   "outputs": [
    {
     "data": {
      "image/png": "[encoded data removed]",
      "text/plain": [
       "<Figure size 432x288 with 1 Axes>"
      ]
     },
     "metadata": {},
     "output_type": "display_data"
    }
   ],
   "source": [
    "import matplotlib.pyplot as plt\n",
    "\n",
    "# ROC Curve\n",
    "fpr, tpr, _ = metrics.roc_curve(y_test,y_pred)\n",
    "auc = metrics.roc_auc_score(y_test,y_pred)\n",
    "plt.plot(fpr,tpr,label=\"data 1, auc=\"+str(auc))\n",
    "plt.legend(loc=4)\n",
    "plt.show()"
   ]
  },
  {
   "cell_type": "code",
   "execution_count": 51,
   "metadata": {},
   "outputs": [
    {
     "name": "stderr",
     "output_type": "stream",
     "text": [
      "/home/madhav/anaconda3/lib/python3.6/site-packages/sklearn/utils/deprecation.py:77: DeprecationWarning: Function plot_precision_recall_curve is deprecated; This will be removed in v0.5.0. Please use scikitplot.metrics.plot_precision_recall instead.\n",
      "  warnings.warn(msg, category=DeprecationWarning)\n"
     ]
    },
    {
     "ename": "IndexError",
     "evalue": "too many indices for array",
     "output_type": "error",
     "traceback": [
      "\u001b[0;31m---------------------------------------------------------------------------\u001b[0m",
      "\u001b[0;31mIndexError\u001b[0m                                Traceback (most recent call last)",
      "\u001b[0;32m<ipython-input-51-3be8247a7e40>\u001b[0m in \u001b[0;36m<module>\u001b[0;34m()\u001b[0m\n\u001b[0;32m----> 1\u001b[0;31m \u001b[0mskplt\u001b[0m\u001b[0;34m.\u001b[0m\u001b[0mmetrics\u001b[0m\u001b[0;34m.\u001b[0m\u001b[0mplot_precision_recall_curve\u001b[0m\u001b[0;34m(\u001b[0m\u001b[0my_test\u001b[0m\u001b[0;34m,\u001b[0m\u001b[0my_pred\u001b[0m\u001b[0;34m)\u001b[0m\u001b[0;34m\u001b[0m\u001b[0m\n\u001b[0m",
      "\u001b[0;32m~/anaconda3/lib/python3.6/site-packages/sklearn/utils/deprecation.py\u001b[0m in \u001b[0;36mwrapped\u001b[0;34m(*args, **kwargs)\u001b[0m\n\u001b[1;32m     76\u001b[0m         \u001b[0;32mdef\u001b[0m \u001b[0mwrapped\u001b[0m\u001b[0;34m(\u001b[0m\u001b[0;34m*\u001b[0m\u001b[0margs\u001b[0m\u001b[0;34m,\u001b[0m \u001b[0;34m**\u001b[0m\u001b[0mkwargs\u001b[0m\u001b[0;34m)\u001b[0m\u001b[0;34m:\u001b[0m\u001b[0;34m\u001b[0m\u001b[0m\n\u001b[1;32m     77\u001b[0m             \u001b[0mwarnings\u001b[0m\u001b[0;34m.\u001b[0m\u001b[0mwarn\u001b[0m\u001b[0;34m(\u001b[0m\u001b[0mmsg\u001b[0m\u001b[0;34m,\u001b[0m \u001b[0mcategory\u001b[0m\u001b[0;34m=\u001b[0m\u001b[0mDeprecationWarning\u001b[0m\u001b[0;34m)\u001b[0m\u001b[0;34m\u001b[0m\u001b[0m\n\u001b[0;32m---> 78\u001b[0;31m             \u001b[0;32mreturn\u001b[0m \u001b[0mfun\u001b[0m\u001b[0;34m(\u001b[0m\u001b[0;34m*\u001b[0m\u001b[0margs\u001b[0m\u001b[0;34m,\u001b[0m \u001b[0;34m**\u001b[0m\u001b[0mkwargs\u001b[0m\u001b[0;34m)\u001b[0m\u001b[0;34m\u001b[0m\u001b[0m\n\u001b[0m\u001b[1;32m     79\u001b[0m \u001b[0;34m\u001b[0m\u001b[0m\n\u001b[1;32m     80\u001b[0m         \u001b[0mwrapped\u001b[0m\u001b[0;34m.\u001b[0m\u001b[0m__doc__\u001b[0m \u001b[0;34m=\u001b[0m \u001b[0mself\u001b[0m\u001b[0;34m.\u001b[0m\u001b[0m_update_doc\u001b[0m\u001b[0;34m(\u001b[0m\u001b[0mwrapped\u001b[0m\u001b[0;34m.\u001b[0m\u001b[0m__doc__\u001b[0m\u001b[0;34m)\u001b[0m\u001b[0;34m\u001b[0m\u001b[0m\n",
      "\u001b[0;32m~/anaconda3/lib/python3.6/site-packages/scikitplot/metrics.py\u001b[0m in \u001b[0;36mplot_precision_recall_curve\u001b[0;34m(y_true, y_probas, title, curves, ax, figsize, cmap, title_fontsize, text_fontsize)\u001b[0m\n\u001b[1;32m    623\u001b[0m     \u001b[0;32mfor\u001b[0m \u001b[0mi\u001b[0m \u001b[0;32min\u001b[0m \u001b[0mrange\u001b[0m\u001b[0;34m(\u001b[0m\u001b[0mlen\u001b[0m\u001b[0;34m(\u001b[0m\u001b[0mclasses\u001b[0m\u001b[0;34m)\u001b[0m\u001b[0;34m)\u001b[0m\u001b[0;34m:\u001b[0m\u001b[0;34m\u001b[0m\u001b[0m\n\u001b[1;32m    624\u001b[0m         precision[i], recall[i], _ = precision_recall_curve(\n\u001b[0;32m--> 625\u001b[0;31m             y_true, probas[:, i], pos_label=classes[i])\n\u001b[0m\u001b[1;32m    626\u001b[0m \u001b[0;34m\u001b[0m\u001b[0m\n\u001b[1;32m    627\u001b[0m     \u001b[0my_true\u001b[0m \u001b[0;34m=\u001b[0m \u001b[0mlabel_binarize\u001b[0m\u001b[0;34m(\u001b[0m\u001b[0my_true\u001b[0m\u001b[0;34m,\u001b[0m \u001b[0mclasses\u001b[0m\u001b[0;34m=\u001b[0m\u001b[0mclasses\u001b[0m\u001b[0;34m)\u001b[0m\u001b[0;34m\u001b[0m\u001b[0m\n",
      "\u001b[0;31mIndexError\u001b[0m: too many indices for array"
     ]
    }
   ],
   "source": [
    " skplt.metrics.plot_precision_recall_curve(y_test,y_pred)"
   ]
  },
  {
   "cell_type": "code",
   "execution_count": 54,
   "metadata": {},
   "outputs": [
    {
     "ename": "SyntaxError",
     "evalue": "invalid syntax (<ipython-input-54-fa3cc411d854>, line 1)",
     "output_type": "error",
     "traceback": [
      "\u001b[0;36m  File \u001b[0;32m\"<ipython-input-54-fa3cc411d854>\"\u001b[0;36m, line \u001b[0;32m1\u001b[0m\n\u001b[0;31m    model.predict_probab(X_test)y\u001b[0m\n\u001b[0m                                ^\u001b[0m\n\u001b[0;31mSyntaxError\u001b[0m\u001b[0;31m:\u001b[0m invalid syntax\n"
     ]
    }
   ],
   "source": [
    "model.predict_probab(X_test)y"
   ]
  },
  {
   "cell_type": "code",
   "execution_count": null,
   "metadata": {},
   "outputs": [],
   "source": []
  }
 ],
 "metadata": {
  "kernelspec": {
   "display_name": "Python 3",
   "language": "python",
   "name": "python3"
  },
  "language_info": {
   "codemirror_mode": {
    "name": "ipython",
    "version": 3
   },
   "file_extension": ".py",
   "mimetype": "text/x-python",
   "name": "python",
   "nbconvert_exporter": "python",
   "pygments_lexer": "ipython3",
   "version": "3.6.5"
  }
 },
 "nbformat": 4,
 "nbformat_minor": 2
}
