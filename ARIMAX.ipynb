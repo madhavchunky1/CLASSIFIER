{
 "cells": [
  {
   "cell_type": "code",
   "execution_count": 73,
   "metadata": {},
   "outputs": [],
   "source": [
    "import warnings\n",
    "import itertools\n",
    "import numpy as np\n",
    "import matplotlib.pyplot as plt\n",
    "\n",
    "import pandas as pd\n",
    "#import statsmodels.api as sm\n",
    "import matplotlib\n",
    "#from statsmodels.tsa.holtwinters import ExponentialSmoothing\n",
    "#import pmdarima as pm\n",
    "\n",
    "from sklearn.metrics import mean_squared_error\n",
    "import holidays\n",
    "\n",
    "warnings.filterwarnings(\"ignore\")\n",
    "# #plt.style.use('fivethirtyeight')\n",
    "\n",
    "import pyflux as pf"
   ]
  },
  {
   "cell_type": "code",
   "execution_count": 48,
   "metadata": {},
   "outputs": [],
   "source": [
    "uk_holidays = holidays.UnitedKingdom()"
   ]
  },
  {
   "cell_type": "code",
   "execution_count": 49,
   "metadata": {},
   "outputs": [],
   "source": [
    "uk_holidays=[]\n",
    "for ptr in holidays.UnitedKingdom(years = [2018,2019]).keys(): \n",
    "      uk_holidays.append(ptr)\n",
    "\n",
    "us_holidays=[]\n",
    "for ptr in holidays.US(years = [2018,2019]).keys(): \n",
    "      us_holidays.append(ptr)"
   ]
  },
  {
   "cell_type": "code",
   "execution_count": 26,
   "metadata": {},
   "outputs": [],
   "source": [
    "Hist = pd.read_excel('/home/madhav/Documents/Cargo_Virgin_Atlantis/Historic and Future Bookings.xlsx',sheet_name='Data Historic Bookings')"
   ]
  },
  {
   "cell_type": "code",
   "execution_count": 27,
   "metadata": {},
   "outputs": [
    {
     "data": {
      "text/plain": [
       "Index(['FLT_NUM', 'BRD_PNT', 'DEP_DATE', 'OFF_PNT', 'CREATED_DATE',\n",
       "       'MVT_STS_CODE', 'NOT_RDY_IND', 'ORIG', 'DEST', 'MTH', 'BKD_DAY', 'DOW',\n",
       "       'CUST_CODE', 'AWB', 'JRN_NUM', 'RBI', 'PROD_CODE', 'CMDTY_CODE',\n",
       "       'AWB_PCS', 'AWB_CHG_WT', 'AWB_ACT_WT', 'AWB_VOL', 'ULD_RES_IND',\n",
       "       'ITN_WT', 'ITN_VOL', 'CHG_WG', 'ENQ_IND', 'OFFLOD_CNTR', 'ITN_CNX',\n",
       "       'RES_CNX', 'WEEK', 'YEAR'],\n",
       "      dtype='object')"
      ]
     },
     "execution_count": 27,
     "metadata": {},
     "output_type": "execute_result"
    }
   ],
   "source": [
    "Hist.columns"
   ]
  },
  {
   "cell_type": "code",
   "execution_count": 28,
   "metadata": {},
   "outputs": [],
   "source": [
    "Hist['Route']= Hist['BRD_PNT']+'_'+Hist['OFF_PNT']"
   ]
  },
  {
   "cell_type": "code",
   "execution_count": 29,
   "metadata": {},
   "outputs": [],
   "source": [
    "Hist_forecast= Hist[['DEP_DATE','Route','CHG_WG','BKD_DAY','DOW','WEEK']]"
   ]
  },
  {
   "cell_type": "code",
   "execution_count": 30,
   "metadata": {},
   "outputs": [
    {
     "data": {
      "text/html": [
       "<div>\n",
       "<style scoped>\n",
       "    .dataframe tbody tr th:only-of-type {\n",
       "        vertical-align: middle;\n",
       "    }\n",
       "\n",
       "    .dataframe tbody tr th {\n",
       "        vertical-align: top;\n",
       "    }\n",
       "\n",
       "    .dataframe thead th {\n",
       "        text-align: right;\n",
       "    }\n",
       "</style>\n",
       "<table border=\"1\" class=\"dataframe\">\n",
       "  <thead>\n",
       "    <tr style=\"text-align: right;\">\n",
       "      <th></th>\n",
       "      <th>DEP_DATE</th>\n",
       "      <th>Route</th>\n",
       "      <th>CHG_WG</th>\n",
       "      <th>BKD_DAY</th>\n",
       "      <th>DOW</th>\n",
       "      <th>WEEK</th>\n",
       "    </tr>\n",
       "  </thead>\n",
       "  <tbody>\n",
       "    <tr>\n",
       "      <th>0</th>\n",
       "      <td>2018-02-22</td>\n",
       "      <td>LHR_DXB</td>\n",
       "      <td>163.0</td>\n",
       "      <td>8</td>\n",
       "      <td>4</td>\n",
       "      <td>8</td>\n",
       "    </tr>\n",
       "    <tr>\n",
       "      <th>1</th>\n",
       "      <td>2018-12-01</td>\n",
       "      <td>LHR_JNB</td>\n",
       "      <td>100.0</td>\n",
       "      <td>10</td>\n",
       "      <td>6</td>\n",
       "      <td>48</td>\n",
       "    </tr>\n",
       "    <tr>\n",
       "      <th>2</th>\n",
       "      <td>2018-12-18</td>\n",
       "      <td>LHR_JNB</td>\n",
       "      <td>107.0</td>\n",
       "      <td>18</td>\n",
       "      <td>2</td>\n",
       "      <td>51</td>\n",
       "    </tr>\n",
       "    <tr>\n",
       "      <th>3</th>\n",
       "      <td>2018-03-14</td>\n",
       "      <td>LHR_DXB</td>\n",
       "      <td>71.0</td>\n",
       "      <td>5</td>\n",
       "      <td>3</td>\n",
       "      <td>11</td>\n",
       "    </tr>\n",
       "    <tr>\n",
       "      <th>4</th>\n",
       "      <td>2018-03-24</td>\n",
       "      <td>LHR_LOS</td>\n",
       "      <td>85.0</td>\n",
       "      <td>8</td>\n",
       "      <td>6</td>\n",
       "      <td>12</td>\n",
       "    </tr>\n",
       "  </tbody>\n",
       "</table>\n",
       "</div>"
      ],
      "text/plain": [
       "    DEP_DATE    Route  CHG_WG  BKD_DAY  DOW  WEEK\n",
       "0 2018-02-22  LHR_DXB   163.0        8    4     8\n",
       "1 2018-12-01  LHR_JNB   100.0       10    6    48\n",
       "2 2018-12-18  LHR_JNB   107.0       18    2    51\n",
       "3 2018-03-14  LHR_DXB    71.0        5    3    11\n",
       "4 2018-03-24  LHR_LOS    85.0        8    6    12"
      ]
     },
     "execution_count": 30,
     "metadata": {},
     "output_type": "execute_result"
    }
   ],
   "source": [
    "Hist_forecast.head()"
   ]
  },
  {
   "cell_type": "code",
   "execution_count": 31,
   "metadata": {},
   "outputs": [
    {
     "data": {
      "text/plain": [
       "0   2018-02-22\n",
       "1   2018-12-01\n",
       "2   2018-12-18\n",
       "3   2018-03-14\n",
       "4   2018-03-24\n",
       "Name: DEP_DATE, dtype: datetime64[ns]"
      ]
     },
     "execution_count": 31,
     "metadata": {},
     "output_type": "execute_result"
    }
   ],
   "source": [
    "Hist_forecast.DEP_DATE.head()"
   ]
  },
  {
   "cell_type": "code",
   "execution_count": 34,
   "metadata": {},
   "outputs": [],
   "source": [
    "Hist_eda= Hist_forecast[Hist_forecast.DEP_DATE < '2019-01-01'].copy()\n",
    "Hist_eda= Hist_forecast.groupby(['Route']).agg({'CHG_WG':np.average})\n",
    "Hist_eda.reset_index(inplace=True)"
   ]
  },
  {
   "cell_type": "code",
   "execution_count": 36,
   "metadata": {},
   "outputs": [
    {
     "data": {
      "text/html": [
       "<div>\n",
       "<style scoped>\n",
       "    .dataframe tbody tr th:only-of-type {\n",
       "        vertical-align: middle;\n",
       "    }\n",
       "\n",
       "    .dataframe tbody tr th {\n",
       "        vertical-align: top;\n",
       "    }\n",
       "\n",
       "    .dataframe thead th {\n",
       "        text-align: right;\n",
       "    }\n",
       "</style>\n",
       "<table border=\"1\" class=\"dataframe\">\n",
       "  <thead>\n",
       "    <tr style=\"text-align: right;\">\n",
       "      <th></th>\n",
       "      <th>Route</th>\n",
       "      <th>CHG_WG</th>\n",
       "    </tr>\n",
       "  </thead>\n",
       "  <tbody>\n",
       "    <tr>\n",
       "      <th>16</th>\n",
       "      <td>LGW_SBD</td>\n",
       "      <td>182297.000000</td>\n",
       "    </tr>\n",
       "    <tr>\n",
       "      <th>4</th>\n",
       "      <td>LGW_ATL</td>\n",
       "      <td>180824.000000</td>\n",
       "    </tr>\n",
       "    <tr>\n",
       "      <th>15</th>\n",
       "      <td>LGW_MSP</td>\n",
       "      <td>121369.000000</td>\n",
       "    </tr>\n",
       "    <tr>\n",
       "      <th>42</th>\n",
       "      <td>LHR_MSP</td>\n",
       "      <td>95877.500000</td>\n",
       "    </tr>\n",
       "    <tr>\n",
       "      <th>10</th>\n",
       "      <td>LGW_LAS</td>\n",
       "      <td>10084.612748</td>\n",
       "    </tr>\n",
       "    <tr>\n",
       "      <th>20</th>\n",
       "      <td>LGW_XMN</td>\n",
       "      <td>7553.500000</td>\n",
       "    </tr>\n",
       "    <tr>\n",
       "      <th>1</th>\n",
       "      <td>GLA_MAN</td>\n",
       "      <td>4622.233333</td>\n",
       "    </tr>\n",
       "    <tr>\n",
       "      <th>36</th>\n",
       "      <td>LHR_LGW</td>\n",
       "      <td>4421.000000</td>\n",
       "    </tr>\n",
       "    <tr>\n",
       "      <th>5</th>\n",
       "      <td>LGW_BFS</td>\n",
       "      <td>4087.300000</td>\n",
       "    </tr>\n",
       "    <tr>\n",
       "      <th>46</th>\n",
       "      <td>LHR_XMN</td>\n",
       "      <td>3766.500000</td>\n",
       "    </tr>\n",
       "  </tbody>\n",
       "</table>\n",
       "</div>"
      ],
      "text/plain": [
       "      Route         CHG_WG\n",
       "16  LGW_SBD  182297.000000\n",
       "4   LGW_ATL  180824.000000\n",
       "15  LGW_MSP  121369.000000\n",
       "42  LHR_MSP   95877.500000\n",
       "10  LGW_LAS   10084.612748\n",
       "20  LGW_XMN    7553.500000\n",
       "1   GLA_MAN    4622.233333\n",
       "36  LHR_LGW    4421.000000\n",
       "5   LGW_BFS    4087.300000\n",
       "46  LHR_XMN    3766.500000"
      ]
     },
     "execution_count": 36,
     "metadata": {},
     "output_type": "execute_result"
    }
   ],
   "source": [
    "Hist_eda.sort_values(by=['CHG_WG'],ascending=False).iloc[:10,:]"
   ]
  },
  {
   "cell_type": "code",
   "execution_count": 37,
   "metadata": {},
   "outputs": [],
   "source": [
    "Hist_eda1=Hist_forecast[Hist_forecast.DEP_DATE < '2019-01-01'].copy()"
   ]
  },
  {
   "cell_type": "code",
   "execution_count": 40,
   "metadata": {},
   "outputs": [
    {
     "data": {
      "text/html": [
       "<div>\n",
       "<style scoped>\n",
       "    .dataframe tbody tr th:only-of-type {\n",
       "        vertical-align: middle;\n",
       "    }\n",
       "\n",
       "    .dataframe tbody tr th {\n",
       "        vertical-align: top;\n",
       "    }\n",
       "\n",
       "    .dataframe thead th {\n",
       "        text-align: right;\n",
       "    }\n",
       "</style>\n",
       "<table border=\"1\" class=\"dataframe\">\n",
       "  <thead>\n",
       "    <tr style=\"text-align: right;\">\n",
       "      <th></th>\n",
       "      <th>DEP_DATE</th>\n",
       "      <th>Route</th>\n",
       "      <th>CHG_WG</th>\n",
       "      <th>BKD_DAY</th>\n",
       "      <th>DOW</th>\n",
       "      <th>WEEK</th>\n",
       "      <th>weekday</th>\n",
       "    </tr>\n",
       "  </thead>\n",
       "  <tbody>\n",
       "    <tr>\n",
       "      <th>0</th>\n",
       "      <td>2018-02-22</td>\n",
       "      <td>LHR_DXB</td>\n",
       "      <td>163.0</td>\n",
       "      <td>8</td>\n",
       "      <td>4</td>\n",
       "      <td>8</td>\n",
       "      <td>NaN</td>\n",
       "    </tr>\n",
       "    <tr>\n",
       "      <th>1</th>\n",
       "      <td>2018-12-01</td>\n",
       "      <td>LHR_JNB</td>\n",
       "      <td>100.0</td>\n",
       "      <td>10</td>\n",
       "      <td>6</td>\n",
       "      <td>48</td>\n",
       "      <td>NaN</td>\n",
       "    </tr>\n",
       "    <tr>\n",
       "      <th>2</th>\n",
       "      <td>2018-12-18</td>\n",
       "      <td>LHR_JNB</td>\n",
       "      <td>107.0</td>\n",
       "      <td>18</td>\n",
       "      <td>2</td>\n",
       "      <td>51</td>\n",
       "      <td>NaN</td>\n",
       "    </tr>\n",
       "    <tr>\n",
       "      <th>3</th>\n",
       "      <td>2018-03-14</td>\n",
       "      <td>LHR_DXB</td>\n",
       "      <td>71.0</td>\n",
       "      <td>5</td>\n",
       "      <td>3</td>\n",
       "      <td>11</td>\n",
       "      <td>NaN</td>\n",
       "    </tr>\n",
       "    <tr>\n",
       "      <th>4</th>\n",
       "      <td>2018-03-24</td>\n",
       "      <td>LHR_LOS</td>\n",
       "      <td>85.0</td>\n",
       "      <td>8</td>\n",
       "      <td>6</td>\n",
       "      <td>12</td>\n",
       "      <td>NaN</td>\n",
       "    </tr>\n",
       "  </tbody>\n",
       "</table>\n",
       "</div>"
      ],
      "text/plain": [
       "    DEP_DATE    Route  CHG_WG  BKD_DAY  DOW  WEEK  weekday\n",
       "0 2018-02-22  LHR_DXB   163.0        8    4     8      NaN\n",
       "1 2018-12-01  LHR_JNB   100.0       10    6    48      NaN\n",
       "2 2018-12-18  LHR_JNB   107.0       18    2    51      NaN\n",
       "3 2018-03-14  LHR_DXB    71.0        5    3    11      NaN\n",
       "4 2018-03-24  LHR_LOS    85.0        8    6    12      NaN"
      ]
     },
     "execution_count": 40,
     "metadata": {},
     "output_type": "execute_result"
    }
   ],
   "source": [
    "Hist_eda1.head()"
   ]
  },
  {
   "cell_type": "code",
   "execution_count": 50,
   "metadata": {},
   "outputs": [],
   "source": [
    "def variable_extract(Hist,route):\n",
    "    Hist_route=Hist[Hist.Route==route]\n",
    "    Hist_route['peak']=np.where(Hist_route['CHG_WG']>=30000,1,0)\n",
    "    Hist_route.reset_index(inplace=True)\n",
    "    Hist_route['week']=Hist_route['DEP_DATE'].dt.week\n",
    "    Hist_route['day_of_week']=Hist_route['DEP_DATE'].dt.dayofweek\n",
    "    Hist['weekday'] = ((Hist_route['day_of_week'])// 5 == 1).astype(int)\n",
    "    Hist_route['month']=Hist_route['DEP_DATE'].dt.month\n",
    "    Hist_route['uk_holidays'] = Hist_route.index.isin(uk_holidays).astype('int')\n",
    "    Hist_route['us_holidays'] = Hist_route.index.isin(us_holidays).astype('int')\n",
    "    \n",
    "    return Hist_route"
   ]
  },
  {
   "cell_type": "code",
   "execution_count": 51,
   "metadata": {},
   "outputs": [],
   "source": [
    "Hist_LGW_SBD=variable_extract(Hist_eda1,'LGW_SBD')"
   ]
  },
  {
   "cell_type": "code",
   "execution_count": 52,
   "metadata": {},
   "outputs": [
    {
     "data": {
      "text/html": [
       "<div>\n",
       "<style scoped>\n",
       "    .dataframe tbody tr th:only-of-type {\n",
       "        vertical-align: middle;\n",
       "    }\n",
       "\n",
       "    .dataframe tbody tr th {\n",
       "        vertical-align: top;\n",
       "    }\n",
       "\n",
       "    .dataframe thead th {\n",
       "        text-align: right;\n",
       "    }\n",
       "</style>\n",
       "<table border=\"1\" class=\"dataframe\">\n",
       "  <thead>\n",
       "    <tr style=\"text-align: right;\">\n",
       "      <th></th>\n",
       "      <th>index</th>\n",
       "      <th>DEP_DATE</th>\n",
       "      <th>Route</th>\n",
       "      <th>CHG_WG</th>\n",
       "      <th>BKD_DAY</th>\n",
       "      <th>DOW</th>\n",
       "      <th>WEEK</th>\n",
       "      <th>weekday</th>\n",
       "      <th>peak</th>\n",
       "      <th>week</th>\n",
       "      <th>day_of_week</th>\n",
       "      <th>month</th>\n",
       "      <th>uk_holidays</th>\n",
       "      <th>us_holidays</th>\n",
       "    </tr>\n",
       "  </thead>\n",
       "  <tbody>\n",
       "  </tbody>\n",
       "</table>\n",
       "</div>"
      ],
      "text/plain": [
       "Empty DataFrame\n",
       "Columns: [index, DEP_DATE, Route, CHG_WG, BKD_DAY, DOW, WEEK, weekday, peak, week, day_of_week, month, uk_holidays, us_holidays]\n",
       "Index: []"
      ]
     },
     "execution_count": 52,
     "metadata": {},
     "output_type": "execute_result"
    }
   ],
   "source": [
    "Hist_LGW_SBD.head()"
   ]
  },
  {
   "cell_type": "code",
   "execution_count": 54,
   "metadata": {},
   "outputs": [],
   "source": [
    "Hist_LGW_SBD.to_excel(\"/home/madhav/Documents/Cargo_Virgin_Atlantis/LGW_SBD.xlsx\")"
   ]
  },
  {
   "cell_type": "code",
   "execution_count": 56,
   "metadata": {},
   "outputs": [],
   "source": [
    "Hist_forecast1=Hist_forecast.groupby(['DEP_DATE','Route','BKD_DAY']).agg({'CHG_WG':np.sum})\n",
    "Hist_forecast1.reset_index(inplace=True)"
   ]
  },
  {
   "cell_type": "code",
   "execution_count": 57,
   "metadata": {},
   "outputs": [],
   "source": [
    "Hist_LGW_MBJ = Hist_forecast1[Hist_forecast1.Route==\"LGW_MBJ\"]"
   ]
  },
  {
   "cell_type": "code",
   "execution_count": 59,
   "metadata": {},
   "outputs": [],
   "source": [
    "Hist_LHR_BOS = Hist_forecast1[Hist_forecast1.Route==\"LHR_BOS\"]"
   ]
  },
  {
   "cell_type": "code",
   "execution_count": 60,
   "metadata": {},
   "outputs": [
    {
     "data": {
      "text/html": [
       "<div>\n",
       "<style scoped>\n",
       "    .dataframe tbody tr th:only-of-type {\n",
       "        vertical-align: middle;\n",
       "    }\n",
       "\n",
       "    .dataframe tbody tr th {\n",
       "        vertical-align: top;\n",
       "    }\n",
       "\n",
       "    .dataframe thead th {\n",
       "        text-align: right;\n",
       "    }\n",
       "</style>\n",
       "<table border=\"1\" class=\"dataframe\">\n",
       "  <thead>\n",
       "    <tr style=\"text-align: right;\">\n",
       "      <th></th>\n",
       "      <th>DEP_DATE</th>\n",
       "      <th>Route</th>\n",
       "      <th>BKD_DAY</th>\n",
       "      <th>CHG_WG</th>\n",
       "    </tr>\n",
       "  </thead>\n",
       "  <tbody>\n",
       "    <tr>\n",
       "      <th>20</th>\n",
       "      <td>2018-01-01</td>\n",
       "      <td>LHR_BOS</td>\n",
       "      <td>3</td>\n",
       "      <td>455.0</td>\n",
       "    </tr>\n",
       "    <tr>\n",
       "      <th>21</th>\n",
       "      <td>2018-01-01</td>\n",
       "      <td>LHR_BOS</td>\n",
       "      <td>4</td>\n",
       "      <td>128.0</td>\n",
       "    </tr>\n",
       "    <tr>\n",
       "      <th>22</th>\n",
       "      <td>2018-01-01</td>\n",
       "      <td>LHR_BOS</td>\n",
       "      <td>12</td>\n",
       "      <td>1277.0</td>\n",
       "    </tr>\n",
       "    <tr>\n",
       "      <th>23</th>\n",
       "      <td>2018-01-01</td>\n",
       "      <td>LHR_BOS</td>\n",
       "      <td>13</td>\n",
       "      <td>937.0</td>\n",
       "    </tr>\n",
       "    <tr>\n",
       "      <th>144</th>\n",
       "      <td>2018-01-02</td>\n",
       "      <td>LHR_BOS</td>\n",
       "      <td>12</td>\n",
       "      <td>14639.0</td>\n",
       "    </tr>\n",
       "  </tbody>\n",
       "</table>\n",
       "</div>"
      ],
      "text/plain": [
       "      DEP_DATE    Route  BKD_DAY   CHG_WG\n",
       "20  2018-01-01  LHR_BOS        3    455.0\n",
       "21  2018-01-01  LHR_BOS        4    128.0\n",
       "22  2018-01-01  LHR_BOS       12   1277.0\n",
       "23  2018-01-01  LHR_BOS       13    937.0\n",
       "144 2018-01-02  LHR_BOS       12  14639.0"
      ]
     },
     "execution_count": 60,
     "metadata": {},
     "output_type": "execute_result"
    }
   ],
   "source": [
    "Hist_LHR_BOS.head()"
   ]
  },
  {
   "cell_type": "code",
   "execution_count": 61,
   "metadata": {},
   "outputs": [],
   "source": [
    "df_LHR_BOS=Hist_LHR_BOS.set_index(\"DEP_DATE\")"
   ]
  },
  {
   "cell_type": "code",
   "execution_count": 62,
   "metadata": {},
   "outputs": [
    {
     "data": {
      "text/plain": [
       "[<matplotlib.lines.Line2D at 0x7f814a829be0>]"
      ]
     },
     "execution_count": 62,
     "metadata": {},
     "output_type": "execute_result"
    },
    {
     "data": {
      "image/png": "[encoded data removed]",
      "text/plain": [
       "<Figure size 1152x576 with 1 Axes>"
      ]
     },
     "metadata": {
      "needs_background": "light"
     },
     "output_type": "display_data"
    }
   ],
   "source": [
    "plt.figure(figsize=(16,8))\n",
    "plt.plot(df_LHR_BOS[\"CHG_WG\"])"
   ]
  },
  {
   "cell_type": "code",
   "execution_count": 63,
   "metadata": {},
   "outputs": [],
   "source": [
    "df_LHR_BOS['peak']=np.where(df_LHR_BOS['CHG_WG']>=30000,1,0)"
   ]
  },
  {
   "cell_type": "code",
   "execution_count": 64,
   "metadata": {},
   "outputs": [],
   "source": [
    "df_LHR_BOS.reset_index(inplace=True)"
   ]
  },
  {
   "cell_type": "code",
   "execution_count": 65,
   "metadata": {},
   "outputs": [],
   "source": [
    "df_LHR_BOS['week']=df_LHR_BOS['DEP_DATE'].dt.week\n",
    "df_LHR_BOS['day_of_week']=df_LHR_BOS['DEP_DATE'].dt.dayofweek\n",
    "df_LHR_BOS['weekday']=df_LHR_BOS['DEP_DATE'].dt.weekday\n",
    "df_LHR_BOS['month']=df_LHR_BOS['DEP_DATE'].dt.month"
   ]
  },
  {
   "cell_type": "code",
   "execution_count": 67,
   "metadata": {},
   "outputs": [
    {
     "name": "stdout",
     "output_type": "stream",
     "text": [
      "(datetime.date(2018, 1, 1), \"New Year's Day\")\n",
      "(datetime.date(2018, 1, 15), 'Martin Luther King, Jr. Day')\n",
      "(datetime.date(2018, 2, 19), \"Washington's Birthday\")\n",
      "(datetime.date(2018, 5, 28), 'Memorial Day')\n",
      "(datetime.date(2018, 7, 4), 'Independence Day')\n",
      "(datetime.date(2018, 9, 3), 'Labor Day')\n",
      "(datetime.date(2018, 10, 8), 'Columbus Day')\n",
      "(datetime.date(2018, 11, 11), 'Veterans Day')\n",
      "(datetime.date(2018, 11, 12), 'Veterans Day (Observed)')\n",
      "(datetime.date(2018, 11, 22), 'Thanksgiving')\n",
      "(datetime.date(2018, 12, 25), 'Christmas Day')\n",
      "(datetime.date(2019, 1, 1), \"New Year's Day\")\n",
      "(datetime.date(2019, 1, 21), 'Martin Luther King, Jr. Day')\n",
      "(datetime.date(2019, 2, 18), \"Washington's Birthday\")\n",
      "(datetime.date(2019, 5, 27), 'Memorial Day')\n",
      "(datetime.date(2019, 7, 4), 'Independence Day')\n",
      "(datetime.date(2019, 9, 2), 'Labor Day')\n",
      "(datetime.date(2019, 10, 14), 'Columbus Day')\n",
      "(datetime.date(2019, 11, 11), 'Veterans Day')\n",
      "(datetime.date(2019, 11, 28), 'Thanksgiving')\n",
      "(datetime.date(2019, 12, 25), 'Christmas Day')\n"
     ]
    }
   ],
   "source": [
    "for ptr in holidays.US(years = [2018,2019]).items(): \n",
    "      print(ptr)"
   ]
  },
  {
   "cell_type": "code",
   "execution_count": 69,
   "metadata": {},
   "outputs": [],
   "source": [
    "df_LHR_BOS['uk_holidays'] = df_LHR_BOS.index.isin(uk_holidays).astype('int')\n",
    "df_LHR_BOS['us_holidays'] = df_LHR_BOS.index.isin(us_holidays).astype('int')"
   ]
  },
  {
   "cell_type": "code",
   "execution_count": 70,
   "metadata": {},
   "outputs": [
    {
     "data": {
      "text/html": [
       "<div>\n",
       "<style scoped>\n",
       "    .dataframe tbody tr th:only-of-type {\n",
       "        vertical-align: middle;\n",
       "    }\n",
       "\n",
       "    .dataframe tbody tr th {\n",
       "        vertical-align: top;\n",
       "    }\n",
       "\n",
       "    .dataframe thead th {\n",
       "        text-align: right;\n",
       "    }\n",
       "</style>\n",
       "<table border=\"1\" class=\"dataframe\">\n",
       "  <thead>\n",
       "    <tr style=\"text-align: right;\">\n",
       "      <th></th>\n",
       "      <th>DEP_DATE</th>\n",
       "      <th>Route</th>\n",
       "      <th>BKD_DAY</th>\n",
       "      <th>CHG_WG</th>\n",
       "      <th>peak</th>\n",
       "      <th>week</th>\n",
       "      <th>day_of_week</th>\n",
       "      <th>weekday</th>\n",
       "      <th>month</th>\n",
       "      <th>uk_holidays</th>\n",
       "      <th>us_holidays</th>\n",
       "    </tr>\n",
       "  </thead>\n",
       "  <tbody>\n",
       "    <tr>\n",
       "      <th>0</th>\n",
       "      <td>2018-01-01</td>\n",
       "      <td>LHR_BOS</td>\n",
       "      <td>3</td>\n",
       "      <td>455.0</td>\n",
       "      <td>0</td>\n",
       "      <td>1</td>\n",
       "      <td>0</td>\n",
       "      <td>0</td>\n",
       "      <td>1</td>\n",
       "      <td>0</td>\n",
       "      <td>0</td>\n",
       "    </tr>\n",
       "    <tr>\n",
       "      <th>1</th>\n",
       "      <td>2018-01-01</td>\n",
       "      <td>LHR_BOS</td>\n",
       "      <td>4</td>\n",
       "      <td>128.0</td>\n",
       "      <td>0</td>\n",
       "      <td>1</td>\n",
       "      <td>0</td>\n",
       "      <td>0</td>\n",
       "      <td>1</td>\n",
       "      <td>0</td>\n",
       "      <td>0</td>\n",
       "    </tr>\n",
       "    <tr>\n",
       "      <th>2</th>\n",
       "      <td>2018-01-01</td>\n",
       "      <td>LHR_BOS</td>\n",
       "      <td>12</td>\n",
       "      <td>1277.0</td>\n",
       "      <td>0</td>\n",
       "      <td>1</td>\n",
       "      <td>0</td>\n",
       "      <td>0</td>\n",
       "      <td>1</td>\n",
       "      <td>0</td>\n",
       "      <td>0</td>\n",
       "    </tr>\n",
       "    <tr>\n",
       "      <th>3</th>\n",
       "      <td>2018-01-01</td>\n",
       "      <td>LHR_BOS</td>\n",
       "      <td>13</td>\n",
       "      <td>937.0</td>\n",
       "      <td>0</td>\n",
       "      <td>1</td>\n",
       "      <td>0</td>\n",
       "      <td>0</td>\n",
       "      <td>1</td>\n",
       "      <td>0</td>\n",
       "      <td>0</td>\n",
       "    </tr>\n",
       "    <tr>\n",
       "      <th>4</th>\n",
       "      <td>2018-01-02</td>\n",
       "      <td>LHR_BOS</td>\n",
       "      <td>12</td>\n",
       "      <td>14639.0</td>\n",
       "      <td>0</td>\n",
       "      <td>1</td>\n",
       "      <td>1</td>\n",
       "      <td>1</td>\n",
       "      <td>1</td>\n",
       "      <td>0</td>\n",
       "      <td>0</td>\n",
       "    </tr>\n",
       "    <tr>\n",
       "      <th>5</th>\n",
       "      <td>2018-01-02</td>\n",
       "      <td>LHR_BOS</td>\n",
       "      <td>13</td>\n",
       "      <td>1934.5</td>\n",
       "      <td>0</td>\n",
       "      <td>1</td>\n",
       "      <td>1</td>\n",
       "      <td>1</td>\n",
       "      <td>1</td>\n",
       "      <td>0</td>\n",
       "      <td>0</td>\n",
       "    </tr>\n",
       "    <tr>\n",
       "      <th>6</th>\n",
       "      <td>2018-01-03</td>\n",
       "      <td>LHR_BOS</td>\n",
       "      <td>14</td>\n",
       "      <td>5134.0</td>\n",
       "      <td>0</td>\n",
       "      <td>1</td>\n",
       "      <td>2</td>\n",
       "      <td>2</td>\n",
       "      <td>1</td>\n",
       "      <td>0</td>\n",
       "      <td>0</td>\n",
       "    </tr>\n",
       "    <tr>\n",
       "      <th>7</th>\n",
       "      <td>2018-01-04</td>\n",
       "      <td>LHR_BOS</td>\n",
       "      <td>2</td>\n",
       "      <td>1666.5</td>\n",
       "      <td>0</td>\n",
       "      <td>1</td>\n",
       "      <td>3</td>\n",
       "      <td>3</td>\n",
       "      <td>1</td>\n",
       "      <td>0</td>\n",
       "      <td>0</td>\n",
       "    </tr>\n",
       "    <tr>\n",
       "      <th>8</th>\n",
       "      <td>2018-01-05</td>\n",
       "      <td>LHR_BOS</td>\n",
       "      <td>7</td>\n",
       "      <td>1428.0</td>\n",
       "      <td>0</td>\n",
       "      <td>1</td>\n",
       "      <td>4</td>\n",
       "      <td>4</td>\n",
       "      <td>1</td>\n",
       "      <td>0</td>\n",
       "      <td>0</td>\n",
       "    </tr>\n",
       "    <tr>\n",
       "      <th>9</th>\n",
       "      <td>2018-01-06</td>\n",
       "      <td>LHR_BOS</td>\n",
       "      <td>1</td>\n",
       "      <td>27.5</td>\n",
       "      <td>0</td>\n",
       "      <td>1</td>\n",
       "      <td>5</td>\n",
       "      <td>5</td>\n",
       "      <td>1</td>\n",
       "      <td>0</td>\n",
       "      <td>0</td>\n",
       "    </tr>\n",
       "  </tbody>\n",
       "</table>\n",
       "</div>"
      ],
      "text/plain": [
       "    DEP_DATE    Route  BKD_DAY   CHG_WG  peak  week  day_of_week  weekday  \\\n",
       "0 2018-01-01  LHR_BOS        3    455.0     0     1            0        0   \n",
       "1 2018-01-01  LHR_BOS        4    128.0     0     1            0        0   \n",
       "2 2018-01-01  LHR_BOS       12   1277.0     0     1            0        0   \n",
       "3 2018-01-01  LHR_BOS       13    937.0     0     1            0        0   \n",
       "4 2018-01-02  LHR_BOS       12  14639.0     0     1            1        1   \n",
       "5 2018-01-02  LHR_BOS       13   1934.5     0     1            1        1   \n",
       "6 2018-01-03  LHR_BOS       14   5134.0     0     1            2        2   \n",
       "7 2018-01-04  LHR_BOS        2   1666.5     0     1            3        3   \n",
       "8 2018-01-05  LHR_BOS        7   1428.0     0     1            4        4   \n",
       "9 2018-01-06  LHR_BOS        1     27.5     0     1            5        5   \n",
       "\n",
       "   month  uk_holidays  us_holidays  \n",
       "0      1            0            0  \n",
       "1      1            0            0  \n",
       "2      1            0            0  \n",
       "3      1            0            0  \n",
       "4      1            0            0  \n",
       "5      1            0            0  \n",
       "6      1            0            0  \n",
       "7      1            0            0  \n",
       "8      1            0            0  \n",
       "9      1            0            0  "
      ]
     },
     "execution_count": 70,
     "metadata": {},
     "output_type": "execute_result"
    }
   ],
   "source": [
    "df_LHR_BOS.head(10)"
   ]
  },
  {
   "cell_type": "code",
   "execution_count": 75,
   "metadata": {},
   "outputs": [],
   "source": [
    "df_LHR_BOS1 = df_LHR_BOS.groupby(['DEP_DATE','peak','week','day_of_week','weekday','month','uk_holidays','us_holidays','BKD_DAY']).agg({'CHG_WG':np.sum})\n",
    "df_LHR_BOS1.reset_index(inplace=True)"
   ]
  },
  {
   "cell_type": "code",
   "execution_count": 98,
   "metadata": {},
   "outputs": [],
   "source": [
    "df_LHR_BOS1 = df_LHR_BOS.groupby(['DEP_DATE','day_of_week','month','uk_holidays','us_holidays','peak','week','weekday']).agg({'CHG_WG':np.sum})\n",
    "df_LHR_BOS1.reset_index(inplace=True)"
   ]
  },
  {
   "cell_type": "code",
   "execution_count": 99,
   "metadata": {},
   "outputs": [
    {
     "data": {
      "text/html": [
       "<div>\n",
       "<style scoped>\n",
       "    .dataframe tbody tr th:only-of-type {\n",
       "        vertical-align: middle;\n",
       "    }\n",
       "\n",
       "    .dataframe tbody tr th {\n",
       "        vertical-align: top;\n",
       "    }\n",
       "\n",
       "    .dataframe thead th {\n",
       "        text-align: right;\n",
       "    }\n",
       "</style>\n",
       "<table border=\"1\" class=\"dataframe\">\n",
       "  <thead>\n",
       "    <tr style=\"text-align: right;\">\n",
       "      <th></th>\n",
       "      <th>DEP_DATE</th>\n",
       "      <th>day_of_week</th>\n",
       "      <th>month</th>\n",
       "      <th>uk_holidays</th>\n",
       "      <th>us_holidays</th>\n",
       "      <th>peak</th>\n",
       "      <th>week</th>\n",
       "      <th>weekday</th>\n",
       "      <th>CHG_WG</th>\n",
       "    </tr>\n",
       "  </thead>\n",
       "  <tbody>\n",
       "    <tr>\n",
       "      <th>0</th>\n",
       "      <td>2018-01-01</td>\n",
       "      <td>0</td>\n",
       "      <td>1</td>\n",
       "      <td>0</td>\n",
       "      <td>0</td>\n",
       "      <td>0</td>\n",
       "      <td>1</td>\n",
       "      <td>0</td>\n",
       "      <td>2797.0</td>\n",
       "    </tr>\n",
       "    <tr>\n",
       "      <th>1</th>\n",
       "      <td>2018-01-02</td>\n",
       "      <td>1</td>\n",
       "      <td>1</td>\n",
       "      <td>0</td>\n",
       "      <td>0</td>\n",
       "      <td>0</td>\n",
       "      <td>1</td>\n",
       "      <td>1</td>\n",
       "      <td>16573.5</td>\n",
       "    </tr>\n",
       "    <tr>\n",
       "      <th>2</th>\n",
       "      <td>2018-01-03</td>\n",
       "      <td>2</td>\n",
       "      <td>1</td>\n",
       "      <td>0</td>\n",
       "      <td>0</td>\n",
       "      <td>0</td>\n",
       "      <td>1</td>\n",
       "      <td>2</td>\n",
       "      <td>5134.0</td>\n",
       "    </tr>\n",
       "    <tr>\n",
       "      <th>3</th>\n",
       "      <td>2018-01-04</td>\n",
       "      <td>3</td>\n",
       "      <td>1</td>\n",
       "      <td>0</td>\n",
       "      <td>0</td>\n",
       "      <td>0</td>\n",
       "      <td>1</td>\n",
       "      <td>3</td>\n",
       "      <td>1666.5</td>\n",
       "    </tr>\n",
       "    <tr>\n",
       "      <th>4</th>\n",
       "      <td>2018-01-05</td>\n",
       "      <td>4</td>\n",
       "      <td>1</td>\n",
       "      <td>0</td>\n",
       "      <td>0</td>\n",
       "      <td>0</td>\n",
       "      <td>1</td>\n",
       "      <td>4</td>\n",
       "      <td>1428.0</td>\n",
       "    </tr>\n",
       "  </tbody>\n",
       "</table>\n",
       "</div>"
      ],
      "text/plain": [
       "    DEP_DATE  day_of_week  month  uk_holidays  us_holidays  peak  week  \\\n",
       "0 2018-01-01            0      1            0            0     0     1   \n",
       "1 2018-01-02            1      1            0            0     0     1   \n",
       "2 2018-01-03            2      1            0            0     0     1   \n",
       "3 2018-01-04            3      1            0            0     0     1   \n",
       "4 2018-01-05            4      1            0            0     0     1   \n",
       "\n",
       "   weekday   CHG_WG  \n",
       "0        0   2797.0  \n",
       "1        1  16573.5  \n",
       "2        2   5134.0  \n",
       "3        3   1666.5  \n",
       "4        4   1428.0  "
      ]
     },
     "execution_count": 99,
     "metadata": {},
     "output_type": "execute_result"
    }
   ],
   "source": [
    "df_LHR_BOS1.head()"
   ]
  },
  {
   "cell_type": "code",
   "execution_count": 101,
   "metadata": {},
   "outputs": [],
   "source": [
    "#df_LHR_BOS1.to_excel('/home/madhav/Documents/Cargo_Virgin_Atlantis/LHR_BOS.xlsx')"
   ]
  },
  {
   "cell_type": "code",
   "execution_count": 100,
   "metadata": {},
   "outputs": [
    {
     "name": "stdout",
     "output_type": "stream",
     "text": [
      "Hessian not invertible! Consider a different model specification.\n",
      "\n",
      "Normal ARIMAX(1,0,1)                                                                                      \n",
      "======================================================= ==================================================\n",
      "Dependent Variable: CHG_WG                              Method: MLE                                       \n",
      "Start Date: 1                                           Log Likelihood: -4919.2149                        \n",
      "End Date: 464                                           AIC: 9860.42972355323                             \n",
      "Number of observations: 464                             BIC: 9905.96845362772                             \n",
      "==========================================================================================================\n",
      "Latent Variable                          Estimate  \n",
      "======================================== ==========\n",
      "AR(1)                                    0.997     \n",
      "MA(1)                                    -0.8992   \n",
      "Beta 1                                   0.0005    \n",
      "Beta day_of_week                         0.0011    \n",
      "Beta month                               0.0026    \n",
      "Beta uk_holidays                         0.0       \n",
      "Beta us_holidays                         0.0       \n",
      "Beta peak                                0.0       \n",
      "Beta week                                0.0107    \n",
      "Beta weekday                             0.0011    \n",
      "Normal Scale                             9728.4632 \n",
      "==========================================================================================================\n"
     ]
    }
   ],
   "source": [
    "model = pf.ARIMAX(data =df_LHR_BOS1 , formula='CHG_WG ~ 1+day_of_week+month+uk_holidays+us_holidays+peak+week+weekday',\n",
    "                  ar=1,ma=1, family=pf.Normal())\n",
    "x = model.fit(\"MLE\")\n",
    "x.summary()"
   ]
  },
  {
   "cell_type": "code",
   "execution_count": null,
   "metadata": {},
   "outputs": [],
   "source": []
  }
 ],
 "metadata": {
  "kernelspec": {
   "display_name": "Python 2",
   "language": "python",
   "name": "python2"
  },
  "language_info": {
   "codemirror_mode": {
    "name": "ipython",
    "version": 2
   },
   "file_extension": ".py",
   "mimetype": "text/x-python",
   "name": "python",
   "nbconvert_exporter": "python",
   "pygments_lexer": "ipython2",
   "version": "2.7.15"
  }
 },
 "nbformat": 4,
 "nbformat_minor": 2
}
