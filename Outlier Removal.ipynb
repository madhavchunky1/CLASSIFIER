{
 "cells": [
  {
   "cell_type": "code",
   "execution_count": 1,
   "metadata": {},
   "outputs": [],
   "source": [
    "import pandas as pd\n",
    "data = pd.read_csv(\"/home/madhav/Desktop/MADHAV/Telcom_Data.csv\")\n",
    "data=pd.DataFrame(data)"
   ]
  },
  {
   "cell_type": "code",
   "execution_count": 176,
   "metadata": {},
   "outputs": [
    {
     "data": {
      "text/plain": [
       "{'whiskers': [<matplotlib.lines.Line2D at 0x7f3856dc4940>,\n",
       "  <matplotlib.lines.Line2D at 0x7f3856dc4dd8>],\n",
       " 'caps': [<matplotlib.lines.Line2D at 0x7f3856dcd240>,\n",
       "  <matplotlib.lines.Line2D at 0x7f3856dcd668>],\n",
       " 'boxes': [<matplotlib.lines.Line2D at 0x7f3856dc47f0>],\n",
       " 'medians': [<matplotlib.lines.Line2D at 0x7f3856dcda90>],\n",
       " 'fliers': [<matplotlib.lines.Line2D at 0x7f3856dcdeb8>],\n",
       " 'means': []}"
      ]
     },
     "execution_count": 176,
     "metadata": {},
     "output_type": "execute_result"
    },
    {
     "data": {
      "image/png": "[encoded data removed]",
      "text/plain": [
       "<Figure size 432x288 with 1 Axes>"
      ]
     },
     "metadata": {},
     "output_type": "display_data"
    }
   ],
   "source": [
    "acclen_in = data[data['account length'] <208]\n",
    "plt.boxplot(acclen_in['account length'])"
   ]
  },
  {
   "cell_type": "code",
   "execution_count": 191,
   "metadata": {},
   "outputs": [
    {
     "data": {
      "text/plain": [
       "{'whiskers': [<matplotlib.lines.Line2D at 0x7f3856b9ca20>,\n",
       "  <matplotlib.lines.Line2D at 0x7f3856b9ceb8>],\n",
       " 'caps': [<matplotlib.lines.Line2D at 0x7f3856ba2320>,\n",
       "  <matplotlib.lines.Line2D at 0x7f3856ba2748>],\n",
       " 'boxes': [<matplotlib.lines.Line2D at 0x7f3856b9c8d0>],\n",
       " 'medians': [<matplotlib.lines.Line2D at 0x7f3856ba2b70>],\n",
       " 'fliers': [<matplotlib.lines.Line2D at 0x7f3856ba2f98>],\n",
       " 'means': []}"
      ]
     },
     "execution_count": 191,
     "metadata": {},
     "output_type": "execute_result"
    },
    {
     "data": {
      "image/png": "[encoded data removed]",
      "text/plain": [
       "<Figure size 432x288 with 1 Axes>"
      ]
     },
     "metadata": {},
     "output_type": "display_data"
    }
   ],
   "source": [
    "daymin_in = data[(data['total day minutes'] <324) & (data['total day minutes']>24) ]\n",
    "plt.boxplot(daymin_in['total day minutes'])"
   ]
  },
  {
   "cell_type": "code",
   "execution_count": 210,
   "metadata": {},
   "outputs": [
    {
     "data": {
      "text/plain": [
       "{'whiskers': [<matplotlib.lines.Line2D at 0x7f38565159e8>,\n",
       "  <matplotlib.lines.Line2D at 0x7f3856515e80>],\n",
       " 'caps': [<matplotlib.lines.Line2D at 0x7f385651f2e8>,\n",
       "  <matplotlib.lines.Line2D at 0x7f385651f710>],\n",
       " 'boxes': [<matplotlib.lines.Line2D at 0x7f3856515898>],\n",
       " 'medians': [<matplotlib.lines.Line2D at 0x7f385651fb38>],\n",
       " 'fliers': [<matplotlib.lines.Line2D at 0x7f385651ff60>],\n",
       " 'means': []}"
      ]
     },
     "execution_count": 210,
     "metadata": {},
     "output_type": "execute_result"
    },
    {
     "data": {
      "image/png": "[encoded data removed]",
      "text/plain": [
       "<Figure size 432x288 with 1 Axes>"
      ]
     },
     "metadata": {},
     "output_type": "display_data"
    }
   ],
   "source": [
    "daymin_in = acclen_in[(acclen_in['total day minutes'] <324) & (acclen_in['total day minutes']>36) ]\n",
    "plt.boxplot(daymin_in['total day minutes'])"
   ]
  },
  {
   "cell_type": "code",
   "execution_count": 53,
   "metadata": {},
   "outputs": [
    {
     "data": {
      "text/plain": [
       "{'whiskers': [<matplotlib.lines.Line2D at 0x7f38599270f0>,\n",
       "  <matplotlib.lines.Line2D at 0x7f3859927588>],\n",
       " 'caps': [<matplotlib.lines.Line2D at 0x7f38599279b0>,\n",
       "  <matplotlib.lines.Line2D at 0x7f3859927dd8>],\n",
       " 'boxes': [<matplotlib.lines.Line2D at 0x7f385991df60>],\n",
       " 'medians': [<matplotlib.lines.Line2D at 0x7f385992f240>],\n",
       " 'fliers': [<matplotlib.lines.Line2D at 0x7f385992f668>],\n",
       " 'means': []}"
      ]
     },
     "execution_count": 53,
     "metadata": {},
     "output_type": "execute_result"
    },
    {
     "data": {
      "image/png": "[encoded data removed]",
      "text/plain": [
       "<Figure size 432x288 with 1 Axes>"
      ]
     },
     "metadata": {},
     "output_type": "display_data"
    }
   ],
   "source": [
    "daycall_in = data[(data['total day calls'] <156) & (data['total day calls']>48) ]\n",
    "plt.boxplot(daycall_in['total day calls'])"
   ]
  },
  {
   "cell_type": "code",
   "execution_count": 218,
   "metadata": {},
   "outputs": [
    {
     "data": {
      "text/plain": [
       "{'whiskers': [<matplotlib.lines.Line2D at 0x7f3856252320>,\n",
       "  <matplotlib.lines.Line2D at 0x7f38562527b8>],\n",
       " 'caps': [<matplotlib.lines.Line2D at 0x7f3856252be0>,\n",
       "  <matplotlib.lines.Line2D at 0x7f385625b048>],\n",
       " 'boxes': [<matplotlib.lines.Line2D at 0x7f38562521d0>],\n",
       " 'medians': [<matplotlib.lines.Line2D at 0x7f385625b470>],\n",
       " 'fliers': [<matplotlib.lines.Line2D at 0x7f385625b898>],\n",
       " 'means': []}"
      ]
     },
     "execution_count": 218,
     "metadata": {},
     "output_type": "execute_result"
    },
    {
     "data": {
      "image/png": "[encoded data removed]",
      "text/plain": [
       "<Figure size 432x288 with 1 Axes>"
      ]
     },
     "metadata": {},
     "output_type": "display_data"
    }
   ],
   "source": [
    "daycall_in = daymin_in[(daymin_in['total day calls'] <156) & (daymin_in['total day calls']>48) ]\n",
    "plt.boxplot(daycall_in['total day calls'])"
   ]
  },
  {
   "cell_type": "code",
   "execution_count": 62,
   "metadata": {},
   "outputs": [
    {
     "data": {
      "text/plain": [
       "{'whiskers': [<matplotlib.lines.Line2D at 0x7f38596343c8>,\n",
       "  <matplotlib.lines.Line2D at 0x7f3859634860>],\n",
       " 'caps': [<matplotlib.lines.Line2D at 0x7f3859634c88>,\n",
       "  <matplotlib.lines.Line2D at 0x7f38595bf0f0>],\n",
       " 'boxes': [<matplotlib.lines.Line2D at 0x7f3859634278>],\n",
       " 'medians': [<matplotlib.lines.Line2D at 0x7f38595bf518>],\n",
       " 'fliers': [<matplotlib.lines.Line2D at 0x7f38595bf940>],\n",
       " 'means': []}"
      ]
     },
     "execution_count": 62,
     "metadata": {},
     "output_type": "execute_result"
    },
    {
     "data": {
      "image/png": "[encoded data removed]",
      "text/plain": [
       "<Figure size 432x288 with 1 Axes>"
      ]
     },
     "metadata": {},
     "output_type": "display_data"
    }
   ],
   "source": [
    "daychar_in = data[(data['total day charge'] <55) & (data['total day charge']>6) ]\n",
    "plt.boxplot(daychar_in['total day charge'])"
   ]
  },
  {
   "cell_type": "code",
   "execution_count": 228,
   "metadata": {},
   "outputs": [
    {
     "data": {
      "text/plain": [
       "{'whiskers': [<matplotlib.lines.Line2D at 0x7f3855f31a90>,\n",
       "  <matplotlib.lines.Line2D at 0x7f3855f31f28>],\n",
       " 'caps': [<matplotlib.lines.Line2D at 0x7f3855ebc390>,\n",
       "  <matplotlib.lines.Line2D at 0x7f3855ebc7b8>],\n",
       " 'boxes': [<matplotlib.lines.Line2D at 0x7f3855f31940>],\n",
       " 'medians': [<matplotlib.lines.Line2D at 0x7f3855ebcbe0>],\n",
       " 'fliers': [<matplotlib.lines.Line2D at 0x7f3855ec3048>],\n",
       " 'means': []}"
      ]
     },
     "execution_count": 228,
     "metadata": {},
     "output_type": "execute_result"
    },
    {
     "data": {
      "image/png": "[encoded data removed]",
      "text/plain": [
       "<Figure size 432x288 with 1 Axes>"
      ]
     },
     "metadata": {},
     "output_type": "display_data"
    }
   ],
   "source": [
    "daychar_in = daycall_in[(daycall_in['total day charge'] <200) & (daycall_in['total day charge']>0)]\n",
    "plt.boxplot(daychar_in['total day charge'])"
   ]
  },
  {
   "cell_type": "code",
   "execution_count": 242,
   "metadata": {},
   "outputs": [
    {
     "data": {
      "text/plain": [
       "{'whiskers': [<matplotlib.lines.Line2D at 0x7f3855a08240>,\n",
       "  <matplotlib.lines.Line2D at 0x7f3855a086d8>],\n",
       " 'caps': [<matplotlib.lines.Line2D at 0x7f3855a08b00>,\n",
       "  <matplotlib.lines.Line2D at 0x7f3855a08f28>],\n",
       " 'boxes': [<matplotlib.lines.Line2D at 0x7f3855a080f0>],\n",
       " 'medians': [<matplotlib.lines.Line2D at 0x7f3855a10390>],\n",
       " 'fliers': [<matplotlib.lines.Line2D at 0x7f3855a107b8>],\n",
       " 'means': []}"
      ]
     },
     "execution_count": 242,
     "metadata": {},
     "output_type": "execute_result"
    },
    {
     "data": {
      "image/png": "[encoded data removed]",
      "text/plain": [
       "<Figure size 432x288 with 1 Axes>"
      ]
     },
     "metadata": {},
     "output_type": "display_data"
    }
   ],
   "source": [
    "evemin_in = daychar_in[(daychar_in['total eve minutes'] <337) & (daychar_in['total eve minutes']>66) ]\n",
    "plt.boxplot(evemin_in['total eve minutes'])"
   ]
  },
  {
   "cell_type": "code",
   "execution_count": 249,
   "metadata": {},
   "outputs": [
    {
     "data": {
      "text/plain": [
       "{'whiskers': [<matplotlib.lines.Line2D at 0x7f38557e2da0>,\n",
       "  <matplotlib.lines.Line2D at 0x7f38557ec278>],\n",
       " 'caps': [<matplotlib.lines.Line2D at 0x7f38557ec6a0>,\n",
       "  <matplotlib.lines.Line2D at 0x7f38557ecac8>],\n",
       " 'boxes': [<matplotlib.lines.Line2D at 0x7f38557e2c50>],\n",
       " 'medians': [<matplotlib.lines.Line2D at 0x7f38557ecef0>],\n",
       " 'fliers': [<matplotlib.lines.Line2D at 0x7f38557f5358>],\n",
       " 'means': []}"
      ]
     },
     "execution_count": 249,
     "metadata": {},
     "output_type": "execute_result"
    },
    {
     "data": {
      "image/png": "[encoded data removed]",
      "text/plain": [
       "<Figure size 432x288 with 1 Axes>"
      ]
     },
     "metadata": {},
     "output_type": "display_data"
    }
   ],
   "source": [
    "evecall_in = evemin_in[(evemin_in['total eve calls'] <155) & (evemin_in['total eve calls']>50) ]\n",
    "plt.boxplot(daychar_in['total eve calls'])"
   ]
  },
  {
   "cell_type": "code",
   "execution_count": 255,
   "metadata": {},
   "outputs": [
    {
     "data": {
      "text/plain": [
       "{'whiskers': [<matplotlib.lines.Line2D at 0x7f38555e3160>,\n",
       "  <matplotlib.lines.Line2D at 0x7f38555e35f8>],\n",
       " 'caps': [<matplotlib.lines.Line2D at 0x7f38555e3a20>,\n",
       "  <matplotlib.lines.Line2D at 0x7f38555e3e48>],\n",
       " 'boxes': [<matplotlib.lines.Line2D at 0x7f38555dcfd0>],\n",
       " 'medians': [<matplotlib.lines.Line2D at 0x7f38555ec2b0>],\n",
       " 'fliers': [<matplotlib.lines.Line2D at 0x7f38555ec6d8>],\n",
       " 'means': []}"
      ]
     },
     "execution_count": 255,
     "metadata": {},
     "output_type": "execute_result"
    },
    {
     "data": {
      "image/png": "[encoded data removed]",
      "text/plain": [
       "<Figure size 432x288 with 1 Axes>"
      ]
     },
     "metadata": {},
     "output_type": "display_data"
    }
   ],
   "source": [
    "evechr_in = evecall_in[(evecall_in['total eve charge'] <200) & (evecall_in['total eve charge']>0) ]\n",
    "plt.boxplot(daychar_in['total eve charge'])"
   ]
  },
  {
   "cell_type": "code",
   "execution_count": null,
   "metadata": {},
   "outputs": [],
   "source": [
    "daychar_in = daychar_in[(daychar_in['total eve charge'] <28) & (daychar_in['total eve charge']>6) ]\n",
    "plt.boxplot(daychar_in['total eve charge'])"
   ]
  },
  {
   "cell_type": "code",
   "execution_count": 126,
   "metadata": {},
   "outputs": [
    {
     "data": {
      "text/plain": [
       "{'whiskers': [<matplotlib.lines.Line2D at 0x7f3858022208>,\n",
       "  <matplotlib.lines.Line2D at 0x7f38580226a0>],\n",
       " 'caps': [<matplotlib.lines.Line2D at 0x7f3858022ac8>,\n",
       "  <matplotlib.lines.Line2D at 0x7f3858022ef0>],\n",
       " 'boxes': [<matplotlib.lines.Line2D at 0x7f38580220b8>],\n",
       " 'medians': [<matplotlib.lines.Line2D at 0x7f3858029358>],\n",
       " 'fliers': [<matplotlib.lines.Line2D at 0x7f3858029780>],\n",
       " 'means': []}"
      ]
     },
     "execution_count": 126,
     "metadata": {},
     "output_type": "execute_result"
    },
    {
     "data": {
      "image/png": "[encoded data removed]",
      "text/plain": [
       "<Figure size 432x288 with 1 Axes>"
      ]
     },
     "metadata": {},
     "output_type": "display_data"
    }
   ],
   "source": [
    "nitmin_in = data[(data['total night minutes']<342) & (data['total night minutes']>66)]\n",
    "plt.boxplot(nitmin_in['total night minutes'])"
   ]
  },
  {
   "cell_type": "code",
   "execution_count": 264,
   "metadata": {},
   "outputs": [
    {
     "data": {
      "text/plain": [
       "{'whiskers': [<matplotlib.lines.Line2D at 0x7f385527c518>,\n",
       "  <matplotlib.lines.Line2D at 0x7f385527c9b0>],\n",
       " 'caps': [<matplotlib.lines.Line2D at 0x7f385527cdd8>,\n",
       "  <matplotlib.lines.Line2D at 0x7f3855285240>],\n",
       " 'boxes': [<matplotlib.lines.Line2D at 0x7f385527c3c8>],\n",
       " 'medians': [<matplotlib.lines.Line2D at 0x7f3855285668>],\n",
       " 'fliers': [<matplotlib.lines.Line2D at 0x7f3855285a90>],\n",
       " 'means': []}"
      ]
     },
     "execution_count": 264,
     "metadata": {},
     "output_type": "execute_result"
    },
    {
     "data": {
      "image/png": "[encoded data removed]",
      "text/plain": [
       "<Figure size 432x288 with 1 Axes>"
      ]
     },
     "metadata": {},
     "output_type": "display_data"
    }
   ],
   "source": [
    "nitmin_in = evechr_in[(evechr_in['total night minutes']<342) & (evechr_in['total night minutes']>65)]\n",
    "plt.boxplot(nitmin_in['total night minutes'])"
   ]
  },
  {
   "cell_type": "code",
   "execution_count": 133,
   "metadata": {},
   "outputs": [
    {
     "data": {
      "text/plain": [
       "{'whiskers': [<matplotlib.lines.Line2D at 0x7f3857d802e8>,\n",
       "  <matplotlib.lines.Line2D at 0x7f3857d80780>],\n",
       " 'caps': [<matplotlib.lines.Line2D at 0x7f3857d80ba8>,\n",
       "  <matplotlib.lines.Line2D at 0x7f3857d80fd0>],\n",
       " 'boxes': [<matplotlib.lines.Line2D at 0x7f3857d80198>],\n",
       " 'medians': [<matplotlib.lines.Line2D at 0x7f3857d8c438>],\n",
       " 'fliers': [<matplotlib.lines.Line2D at 0x7f3857d8c860>],\n",
       " 'means': []}"
      ]
     },
     "execution_count": 133,
     "metadata": {},
     "output_type": "execute_result"
    },
    {
     "data": {
      "image/png": "[encoded data removed]",
      "text/plain": [
       "<Figure size 432x288 with 1 Axes>"
      ]
     },
     "metadata": {},
     "output_type": "display_data"
    }
   ],
   "source": [
    "nitcal_in = data[(data['total night calls']< 153) & (data['total night calls']>46)]\n",
    "plt.boxplot(nitcal_in['total night calls'])"
   ]
  },
  {
   "cell_type": "code",
   "execution_count": 269,
   "metadata": {},
   "outputs": [
    {
     "data": {
      "text/plain": [
       "{'whiskers': [<matplotlib.lines.Line2D at 0x7f385512f6a0>,\n",
       "  <matplotlib.lines.Line2D at 0x7f385512fb38>],\n",
       " 'caps': [<matplotlib.lines.Line2D at 0x7f385512ff60>,\n",
       "  <matplotlib.lines.Line2D at 0x7f38551363c8>],\n",
       " 'boxes': [<matplotlib.lines.Line2D at 0x7f385512f550>],\n",
       " 'medians': [<matplotlib.lines.Line2D at 0x7f38551367f0>],\n",
       " 'fliers': [<matplotlib.lines.Line2D at 0x7f3855136c18>],\n",
       " 'means': []}"
      ]
     },
     "execution_count": 269,
     "metadata": {},
     "output_type": "execute_result"
    },
    {
     "data": {
      "image/png": "[encoded data removed]",
      "text/plain": [
       "<Figure size 432x288 with 1 Axes>"
      ]
     },
     "metadata": {},
     "output_type": "display_data"
    }
   ],
   "source": [
    "nitcal_in = nitmin_in[(nitmin_in['total night calls']< 153) & (nitmin_in['total night calls']>45)]\n",
    "plt.boxplot(nitcal_in['total night calls'])"
   ]
  },
  {
   "cell_type": "code",
   "execution_count": 139,
   "metadata": {},
   "outputs": [
    {
     "data": {
      "text/plain": [
       "{'whiskers': [<matplotlib.lines.Line2D at 0x7f3857b8ff60>,\n",
       "  <matplotlib.lines.Line2D at 0x7f3857b9a438>],\n",
       " 'caps': [<matplotlib.lines.Line2D at 0x7f3857b9a860>,\n",
       "  <matplotlib.lines.Line2D at 0x7f3857b9ac88>],\n",
       " 'boxes': [<matplotlib.lines.Line2D at 0x7f3857b8fe10>],\n",
       " 'medians': [<matplotlib.lines.Line2D at 0x7f3857ba10f0>],\n",
       " 'fliers': [<matplotlib.lines.Line2D at 0x7f3857ba1518>],\n",
       " 'means': []}"
      ]
     },
     "execution_count": 139,
     "metadata": {},
     "output_type": "execute_result"
    },
    {
     "data": {
      "image/png": "[encoded data removed]",
      "text/plain": [
       "<Figure size 432x288 with 1 Axes>"
      ]
     },
     "metadata": {},
     "output_type": "display_data"
    }
   ],
   "source": [
    "nitcha_in = data[(data['total night charge']< 15) & (data['total night charge']>3)]\n",
    "plt.boxplot(nitcha_in['total night charge'])"
   ]
  },
  {
   "cell_type": "code",
   "execution_count": 270,
   "metadata": {},
   "outputs": [
    {
     "data": {
      "text/plain": [
       "{'whiskers': [<matplotlib.lines.Line2D at 0x7f38550865f8>,\n",
       "  <matplotlib.lines.Line2D at 0x7f3855086a90>],\n",
       " 'caps': [<matplotlib.lines.Line2D at 0x7f3855086eb8>,\n",
       "  <matplotlib.lines.Line2D at 0x7f3855090320>],\n",
       " 'boxes': [<matplotlib.lines.Line2D at 0x7f38550864a8>],\n",
       " 'medians': [<matplotlib.lines.Line2D at 0x7f3855090748>],\n",
       " 'fliers': [<matplotlib.lines.Line2D at 0x7f3855090b70>],\n",
       " 'means': []}"
      ]
     },
     "execution_count": 270,
     "metadata": {},
     "output_type": "execute_result"
    },
    {
     "data": {
      "image/png": "[encoded data removed]",
      "text/plain": [
       "<Figure size 432x288 with 1 Axes>"
      ]
     },
     "metadata": {},
     "output_type": "display_data"
    }
   ],
   "source": [
    "nitcha_in = nitcal_in[(nitcal_in['total night charge']< 15) & (nitcal_in['total night charge']>3)]\n",
    "plt.boxplot(nitcha_in['total night charge'])"
   ]
  },
  {
   "cell_type": "code",
   "execution_count": 147,
   "metadata": {},
   "outputs": [
    {
     "data": {
      "text/plain": [
       "{'whiskers': [<matplotlib.lines.Line2D at 0x7f3857888e10>,\n",
       "  <matplotlib.lines.Line2D at 0x7f38578912e8>],\n",
       " 'caps': [<matplotlib.lines.Line2D at 0x7f3857891710>,\n",
       "  <matplotlib.lines.Line2D at 0x7f3857891b38>],\n",
       " 'boxes': [<matplotlib.lines.Line2D at 0x7f3857888cc0>],\n",
       " 'medians': [<matplotlib.lines.Line2D at 0x7f3857891f60>],\n",
       " 'fliers': [<matplotlib.lines.Line2D at 0x7f385789b3c8>],\n",
       " 'means': []}"
      ]
     },
     "execution_count": 147,
     "metadata": {},
     "output_type": "execute_result"
    },
    {
     "data": {
      "image/png": "[encoded data removed]",
      "text/plain": [
       "<Figure size 432x288 with 1 Axes>"
      ]
     },
     "metadata": {},
     "output_type": "display_data"
    }
   ],
   "source": [
    "nitcha_in = data[(data['total intl minutes']< 17.6) & (data['total intl minutes']>3.1)]\n",
    "plt.boxplot(nitcha_in['total intl minutes'])"
   ]
  },
  {
   "cell_type": "code",
   "execution_count": 284,
   "metadata": {},
   "outputs": [
    {
     "data": {
      "text/plain": [
       "{'whiskers': [<matplotlib.lines.Line2D at 0x7f3854ba1d68>,\n",
       "  <matplotlib.lines.Line2D at 0x7f3854bab240>],\n",
       " 'caps': [<matplotlib.lines.Line2D at 0x7f3854bab668>,\n",
       "  <matplotlib.lines.Line2D at 0x7f3854baba90>],\n",
       " 'boxes': [<matplotlib.lines.Line2D at 0x7f3854ba1c18>],\n",
       " 'medians': [<matplotlib.lines.Line2D at 0x7f3854babeb8>],\n",
       " 'fliers': [<matplotlib.lines.Line2D at 0x7f3854bb4320>],\n",
       " 'means': []}"
      ]
     },
     "execution_count": 284,
     "metadata": {},
     "output_type": "execute_result"
    },
    {
     "data": {
      "image/png": "[encoded data removed]",
      "text/plain": [
       "<Figure size 432x288 with 1 Axes>"
      ]
     },
     "metadata": {},
     "output_type": "display_data"
    }
   ],
   "source": [
    "intlmin_in = nitcha_in[(nitcha_in['total intl minutes']< 17.5) & (nitcha_in['total intl minutes']>0)]\n",
    "plt.boxplot(nitcha_in['total intl minutes'])"
   ]
  },
  {
   "cell_type": "code",
   "execution_count": 156,
   "metadata": {},
   "outputs": [
    {
     "data": {
      "text/plain": [
       "{'whiskers': [<matplotlib.lines.Line2D at 0x7f385755cf60>,\n",
       "  <matplotlib.lines.Line2D at 0x7f3857566438>],\n",
       " 'caps': [<matplotlib.lines.Line2D at 0x7f3857566860>,\n",
       "  <matplotlib.lines.Line2D at 0x7f3857566c88>],\n",
       " 'boxes': [<matplotlib.lines.Line2D at 0x7f385755ce10>],\n",
       " 'medians': [<matplotlib.lines.Line2D at 0x7f38575700f0>],\n",
       " 'fliers': [<matplotlib.lines.Line2D at 0x7f3857570518>],\n",
       " 'means': []}"
      ]
     },
     "execution_count": 156,
     "metadata": {},
     "output_type": "execute_result"
    },
    {
     "data": {
      "image/png": "[encoded data removed]",
      "text/plain": [
       "<Figure size 432x288 with 1 Axes>"
      ]
     },
     "metadata": {},
     "output_type": "display_data"
    }
   ],
   "source": [
    "intlchrg_in = data[(data['total intl charge']< 4.7) & (data['total intl charge']>0.9)]\n",
    "plt.boxplot(intlchrg_in['total intl charge'])"
   ]
  },
  {
   "cell_type": "code",
   "execution_count": 290,
   "metadata": {},
   "outputs": [
    {
     "data": {
      "text/plain": [
       "{'whiskers': [<matplotlib.lines.Line2D at 0x7f3854960048>,\n",
       "  <matplotlib.lines.Line2D at 0x7f38549604e0>],\n",
       " 'caps': [<matplotlib.lines.Line2D at 0x7f3854960908>,\n",
       "  <matplotlib.lines.Line2D at 0x7f3854960d30>],\n",
       " 'boxes': [<matplotlib.lines.Line2D at 0x7f3854956eb8>],\n",
       " 'medians': [<matplotlib.lines.Line2D at 0x7f385496b198>],\n",
       " 'fliers': [<matplotlib.lines.Line2D at 0x7f385496b5c0>],\n",
       " 'means': []}"
      ]
     },
     "execution_count": 290,
     "metadata": {},
     "output_type": "execute_result"
    },
    {
     "data": {
      "image/png": "[encoded data removed]",
      "text/plain": [
       "<Figure size 432x288 with 1 Axes>"
      ]
     },
     "metadata": {},
     "output_type": "display_data"
    }
   ],
   "source": [
    "intlchrg_in = intlmin_in[(intlmin_in['total intl charge']< 200) & (intlmin_in['total intl charge']>0)]\n",
    "plt.boxplot(intlchrg_in['total intl charge'])"
   ]
  },
  {
   "cell_type": "code",
   "execution_count": 293,
   "metadata": {},
   "outputs": [
    {
     "data": {
      "text/plain": [
       "{'whiskers': [<matplotlib.lines.Line2D at 0x7f3854878a58>,\n",
       "  <matplotlib.lines.Line2D at 0x7f3854878ef0>],\n",
       " 'caps': [<matplotlib.lines.Line2D at 0x7f3854802358>,\n",
       "  <matplotlib.lines.Line2D at 0x7f3854802780>],\n",
       " 'boxes': [<matplotlib.lines.Line2D at 0x7f3854878908>],\n",
       " 'medians': [<matplotlib.lines.Line2D at 0x7f3854802ba8>],\n",
       " 'fliers': [<matplotlib.lines.Line2D at 0x7f3854802fd0>],\n",
       " 'means': []}"
      ]
     },
     "execution_count": 293,
     "metadata": {},
     "output_type": "execute_result"
    },
    {
     "data": {
      "image/png": "[encoded data removed]",
      "text/plain": [
       "<Figure size 432x288 with 1 Axes>"
      ]
     },
     "metadata": {},
     "output_type": "display_data"
    }
   ],
   "source": [
    "cuscall_in = intlchrg_in[(intlchrg_in['customer service calls'] < 4.0) & (intlchrg_in['customer service calls']>0)]\n",
    "plt.boxplot(cuscall_in['customer service calls'])"
   ]
  },
  {
   "cell_type": "code",
   "execution_count": 294,
   "metadata": {},
   "outputs": [
    {
     "data": {
      "text/plain": [
       "(2188, 21)"
      ]
     },
     "execution_count": 294,
     "metadata": {},
     "output_type": "execute_result"
    }
   ],
   "source": [
    "cuscall_in.shape"
   ]
  },
  {
   "cell_type": "code",
   "execution_count": 295,
   "metadata": {},
   "outputs": [],
   "source": [
    "finaldata = cuscall_in"
   ]
  },
  {
   "cell_type": "code",
   "execution_count": 297,
   "metadata": {},
   "outputs": [],
   "source": [
    "finaldata.to_csv(\"/home/madhav/Desktop/MADHAV/finaldata.csv\")"
   ]
  },
  {
   "cell_type": "code",
   "execution_count": null,
   "metadata": {},
   "outputs": [],
   "source": []
  }
 ],
 "metadata": {
  "kernelspec": {
   "display_name": "Python 3",
   "language": "python",
   "name": "python3"
  },
  "language_info": {
   "codemirror_mode": {
    "name": "ipython",
    "version": 3
   },
   "file_extension": ".py",
   "mimetype": "text/x-python",
   "name": "python",
   "nbconvert_exporter": "python",
   "pygments_lexer": "ipython3",
   "version": "3.6.5"
  }
 },
 "nbformat": 4,
 "nbformat_minor": 2
}
