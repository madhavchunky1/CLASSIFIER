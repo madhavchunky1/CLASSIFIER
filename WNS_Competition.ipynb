{
 "cells": [
  {
   "cell_type": "code",
   "execution_count": 1,
   "metadata": {},
   "outputs": [],
   "source": [
    "import numpy as np\n",
    "import pandas as pd\n",
    "from sklearn import preprocessing\n",
    "import matplotlib.pyplot as plt \n",
    "from sklearn.linear_model import LogisticRegression\n",
    "from sklearn import metrics\n",
    "#from imblearn.over_sampling import SMOTE\n",
    "from sklearn.linear_model import LogisticRegression\n",
    "#from sklearn.cross_validation import train_test_split\n",
    "import seaborn as sns\n",
    "#import dataset \n",
    "from statistics import mode\n"
   ]
  },
  {
   "cell_type": "code",
   "execution_count": 2,
   "metadata": {},
   "outputs": [],
   "source": [
    "# Data Import\n",
    "train_data = pd.read_csv(\"/home/madhav/Desktop/WNS_Competition/train_LZdllcl.csv\")"
   ]
  },
  {
   "cell_type": "code",
   "execution_count": 3,
   "metadata": {},
   "outputs": [
    {
     "name": "stdout",
     "output_type": "stream",
     "text": [
      "<class 'pandas.core.frame.DataFrame'>\n",
      "RangeIndex: 54808 entries, 0 to 54807\n",
      "Data columns (total 14 columns):\n",
      "employee_id             54808 non-null int64\n",
      "department              54808 non-null object\n",
      "region                  54808 non-null object\n",
      "education               52399 non-null float64\n",
      "gender                  54808 non-null object\n",
      "recruitment_channel     54808 non-null object\n",
      "no_of_trainings         54808 non-null int64\n",
      "age                     54808 non-null int64\n",
      "previous_year_rating    50684 non-null float64\n",
      "length_of_service       54808 non-null int64\n",
      "KPIs_met >80%           54808 non-null int64\n",
      "awards_won?             54808 non-null int64\n",
      "avg_training_score      54808 non-null int64\n",
      "is_promoted             54808 non-null int64\n",
      "dtypes: float64(2), int64(8), object(4)\n",
      "memory usage: 5.9+ MB\n"
     ]
    }
   ],
   "source": [
    "train_data.info()"
   ]
  },
  {
   "cell_type": "code",
   "execution_count": 4,
   "metadata": {},
   "outputs": [
    {
     "data": {
      "text/plain": [
       "(54808, 14)"
      ]
     },
     "execution_count": 4,
     "metadata": {},
     "output_type": "execute_result"
    }
   ],
   "source": [
    "train_data.shape"
   ]
  },
  {
   "cell_type": "code",
   "execution_count": 44,
   "metadata": {},
   "outputs": [
    {
     "data": {
      "text/plain": [
       "0    50140\n",
       "1     4668\n",
       "Name: is_promoted, dtype: int64"
      ]
     },
     "execution_count": 44,
     "metadata": {},
     "output_type": "execute_result"
    }
   ],
   "source": [
    "(train_data['is_promoted']).value_counts()"
   ]
  },
  {
   "cell_type": "code",
   "execution_count": 45,
   "metadata": {},
   "outputs": [],
   "source": [
    "NOT_PROMOTED=50140*100/54808\n",
    "PROMOTED    ="
   ]
  },
  {
   "cell_type": "code",
   "execution_count": 46,
   "metadata": {},
   "outputs": [
    {
     "data": {
      "text/plain": [
       "0    91.482995\n",
       "1     8.517005\n",
       "Name: is_promoted, dtype: float64"
      ]
     },
     "execution_count": 46,
     "metadata": {},
     "output_type": "execute_result"
    }
   ],
   "source": [
    "train_data['is_promoted'].value_counts()/np.sum(train_data['is_promoted'].value_counts().values)*100"
   ]
  },
  {
   "cell_type": "code",
   "execution_count": 5,
   "metadata": {},
   "outputs": [
    {
     "data": {
      "text/plain": [
       "array(['Sales & Marketing', 'Operations', 'Technology', 'Analytics',\n",
       "       'R&D', 'Procurement', 'Finance', 'HR', 'Legal'], dtype=object)"
      ]
     },
     "execution_count": 5,
     "metadata": {},
     "output_type": "execute_result"
    }
   ],
   "source": [
    "train_data['department'].unique()"
   ]
  },
  {
   "cell_type": "code",
   "execution_count": 6,
   "metadata": {},
   "outputs": [
    {
     "data": {
      "text/plain": [
       "array(['region_7', 'region_22', 'region_19', 'region_23', 'region_26',\n",
       "       'region_2', 'region_20', 'region_34', 'region_1', 'region_4',\n",
       "       'region_29', 'region_31', 'region_15', 'region_14', 'region_11',\n",
       "       'region_5', 'region_28', 'region_17', 'region_13', 'region_16',\n",
       "       'region_25', 'region_10', 'region_27', 'region_30', 'region_12',\n",
       "       'region_21', 'region_8', 'region_32', 'region_6', 'region_33',\n",
       "       'region_24', 'region_3', 'region_9', 'region_18'], dtype=object)"
      ]
     },
     "execution_count": 6,
     "metadata": {},
     "output_type": "execute_result"
    }
   ],
   "source": [
    "train_data['region'].unique()"
   ]
  },
  {
   "cell_type": "code",
   "execution_count": 7,
   "metadata": {},
   "outputs": [
    {
     "data": {
      "text/plain": [
       "array([ 3.,  2., nan,  1.])"
      ]
     },
     "execution_count": 7,
     "metadata": {},
     "output_type": "execute_result"
    }
   ],
   "source": [
    "train_data['education'].unique()"
   ]
  },
  {
   "cell_type": "code",
   "execution_count": 8,
   "metadata": {},
   "outputs": [
    {
     "data": {
      "text/html": [
       "<div>\n",
       "<style scoped>\n",
       "    .dataframe tbody tr th:only-of-type {\n",
       "        vertical-align: middle;\n",
       "    }\n",
       "\n",
       "    .dataframe tbody tr th {\n",
       "        vertical-align: top;\n",
       "    }\n",
       "\n",
       "    .dataframe thead th {\n",
       "        text-align: right;\n",
       "    }\n",
       "</style>\n",
       "<table border=\"1\" class=\"dataframe\">\n",
       "  <thead>\n",
       "    <tr style=\"text-align: right;\">\n",
       "      <th></th>\n",
       "      <th>employee_id</th>\n",
       "      <th>department</th>\n",
       "      <th>region</th>\n",
       "      <th>gender</th>\n",
       "      <th>recruitment_channel</th>\n",
       "      <th>no_of_trainings</th>\n",
       "      <th>age</th>\n",
       "      <th>previous_year_rating</th>\n",
       "      <th>length_of_service</th>\n",
       "      <th>KPIs_met &gt;80%</th>\n",
       "      <th>awards_won?</th>\n",
       "      <th>avg_training_score</th>\n",
       "      <th>is_promoted</th>\n",
       "    </tr>\n",
       "    <tr>\n",
       "      <th>education</th>\n",
       "      <th></th>\n",
       "      <th></th>\n",
       "      <th></th>\n",
       "      <th></th>\n",
       "      <th></th>\n",
       "      <th></th>\n",
       "      <th></th>\n",
       "      <th></th>\n",
       "      <th></th>\n",
       "      <th></th>\n",
       "      <th></th>\n",
       "      <th></th>\n",
       "      <th></th>\n",
       "    </tr>\n",
       "  </thead>\n",
       "  <tbody>\n",
       "    <tr>\n",
       "      <th>1.0</th>\n",
       "      <td>805</td>\n",
       "      <td>805</td>\n",
       "      <td>805</td>\n",
       "      <td>805</td>\n",
       "      <td>805</td>\n",
       "      <td>805</td>\n",
       "      <td>805</td>\n",
       "      <td>458</td>\n",
       "      <td>805</td>\n",
       "      <td>805</td>\n",
       "      <td>805</td>\n",
       "      <td>805</td>\n",
       "      <td>805</td>\n",
       "    </tr>\n",
       "    <tr>\n",
       "      <th>2.0</th>\n",
       "      <td>36669</td>\n",
       "      <td>36669</td>\n",
       "      <td>36669</td>\n",
       "      <td>36669</td>\n",
       "      <td>36669</td>\n",
       "      <td>36669</td>\n",
       "      <td>36669</td>\n",
       "      <td>33404</td>\n",
       "      <td>36669</td>\n",
       "      <td>36669</td>\n",
       "      <td>36669</td>\n",
       "      <td>36669</td>\n",
       "      <td>36669</td>\n",
       "    </tr>\n",
       "    <tr>\n",
       "      <th>3.0</th>\n",
       "      <td>14925</td>\n",
       "      <td>14925</td>\n",
       "      <td>14925</td>\n",
       "      <td>14925</td>\n",
       "      <td>14925</td>\n",
       "      <td>14925</td>\n",
       "      <td>14925</td>\n",
       "      <td>14798</td>\n",
       "      <td>14925</td>\n",
       "      <td>14925</td>\n",
       "      <td>14925</td>\n",
       "      <td>14925</td>\n",
       "      <td>14925</td>\n",
       "    </tr>\n",
       "  </tbody>\n",
       "</table>\n",
       "</div>"
      ],
      "text/plain": [
       "           employee_id  department  region  gender  recruitment_channel  \\\n",
       "education                                                                 \n",
       "1.0                805         805     805     805                  805   \n",
       "2.0              36669       36669   36669   36669                36669   \n",
       "3.0              14925       14925   14925   14925                14925   \n",
       "\n",
       "           no_of_trainings    age  previous_year_rating  length_of_service  \\\n",
       "education                                                                    \n",
       "1.0                    805    805                   458                805   \n",
       "2.0                  36669  36669                 33404              36669   \n",
       "3.0                  14925  14925                 14798              14925   \n",
       "\n",
       "           KPIs_met >80%  awards_won?  avg_training_score  is_promoted  \n",
       "education                                                               \n",
       "1.0                  805          805                 805          805  \n",
       "2.0                36669        36669               36669        36669  \n",
       "3.0                14925        14925               14925        14925  "
      ]
     },
     "execution_count": 8,
     "metadata": {},
     "output_type": "execute_result"
    }
   ],
   "source": [
    "train_data.groupby(['education']).count()"
   ]
  },
  {
   "cell_type": "code",
   "execution_count": 9,
   "metadata": {},
   "outputs": [
    {
     "data": {
      "text/plain": [
       "True     36669\n",
       "False    18139\n",
       "Name: education, dtype: int64"
      ]
     },
     "execution_count": 9,
     "metadata": {},
     "output_type": "execute_result"
    }
   ],
   "source": [
    "(train_data['education']==2).value_counts()"
   ]
  },
  {
   "cell_type": "code",
   "execution_count": 10,
   "metadata": {},
   "outputs": [
    {
     "data": {
      "text/plain": [
       "array(['f', 'm'], dtype=object)"
      ]
     },
     "execution_count": 10,
     "metadata": {},
     "output_type": "execute_result"
    }
   ],
   "source": [
    "train_data['gender'].unique()"
   ]
  },
  {
   "cell_type": "code",
   "execution_count": 11,
   "metadata": {},
   "outputs": [
    {
     "data": {
      "text/plain": [
       "array(['sourcing', 'other', 'referred'], dtype=object)"
      ]
     },
     "execution_count": 11,
     "metadata": {},
     "output_type": "execute_result"
    }
   ],
   "source": [
    "train_data['recruitment_channel'].unique()"
   ]
  },
  {
   "cell_type": "code",
   "execution_count": 12,
   "metadata": {},
   "outputs": [
    {
     "data": {
      "text/plain": [
       "array([ 1,  2,  3,  4,  7,  5,  6,  8, 10,  9])"
      ]
     },
     "execution_count": 12,
     "metadata": {},
     "output_type": "execute_result"
    }
   ],
   "source": [
    "train_data['no_of_trainings'].unique()"
   ]
  },
  {
   "cell_type": "code",
   "execution_count": 13,
   "metadata": {},
   "outputs": [
    {
     "data": {
      "text/plain": [
       "array([35, 30, 34, 39, 45, 31, 33, 28, 32, 49, 37, 38, 41, 27, 29, 26, 24,\n",
       "       57, 40, 42, 23, 59, 44, 50, 56, 20, 25, 47, 36, 46, 60, 43, 22, 54,\n",
       "       58, 48, 53, 55, 51, 52, 21])"
      ]
     },
     "execution_count": 13,
     "metadata": {},
     "output_type": "execute_result"
    }
   ],
   "source": [
    "train_data['age'].unique()"
   ]
  },
  {
   "cell_type": "code",
   "execution_count": 14,
   "metadata": {},
   "outputs": [
    {
     "data": {
      "text/plain": [
       "array([ 5.,  3.,  1.,  4., nan,  2.])"
      ]
     },
     "execution_count": 14,
     "metadata": {},
     "output_type": "execute_result"
    }
   ],
   "source": [
    "train_data['previous_year_rating'].unique()"
   ]
  },
  {
   "cell_type": "code",
   "execution_count": 15,
   "metadata": {},
   "outputs": [
    {
     "data": {
      "text/html": [
       "<div>\n",
       "<style scoped>\n",
       "    .dataframe tbody tr th:only-of-type {\n",
       "        vertical-align: middle;\n",
       "    }\n",
       "\n",
       "    .dataframe tbody tr th {\n",
       "        vertical-align: top;\n",
       "    }\n",
       "\n",
       "    .dataframe thead th {\n",
       "        text-align: right;\n",
       "    }\n",
       "</style>\n",
       "<table border=\"1\" class=\"dataframe\">\n",
       "  <thead>\n",
       "    <tr style=\"text-align: right;\">\n",
       "      <th></th>\n",
       "      <th>employee_id</th>\n",
       "      <th>department</th>\n",
       "      <th>region</th>\n",
       "      <th>education</th>\n",
       "      <th>gender</th>\n",
       "      <th>recruitment_channel</th>\n",
       "      <th>no_of_trainings</th>\n",
       "      <th>age</th>\n",
       "      <th>length_of_service</th>\n",
       "      <th>KPIs_met &gt;80%</th>\n",
       "      <th>awards_won?</th>\n",
       "      <th>avg_training_score</th>\n",
       "      <th>is_promoted</th>\n",
       "    </tr>\n",
       "    <tr>\n",
       "      <th>previous_year_rating</th>\n",
       "      <th></th>\n",
       "      <th></th>\n",
       "      <th></th>\n",
       "      <th></th>\n",
       "      <th></th>\n",
       "      <th></th>\n",
       "      <th></th>\n",
       "      <th></th>\n",
       "      <th></th>\n",
       "      <th></th>\n",
       "      <th></th>\n",
       "      <th></th>\n",
       "      <th></th>\n",
       "    </tr>\n",
       "  </thead>\n",
       "  <tbody>\n",
       "    <tr>\n",
       "      <th>1.0</th>\n",
       "      <td>6223</td>\n",
       "      <td>6223</td>\n",
       "      <td>6223</td>\n",
       "      <td>5887</td>\n",
       "      <td>6223</td>\n",
       "      <td>6223</td>\n",
       "      <td>6223</td>\n",
       "      <td>6223</td>\n",
       "      <td>6223</td>\n",
       "      <td>6223</td>\n",
       "      <td>6223</td>\n",
       "      <td>6223</td>\n",
       "      <td>6223</td>\n",
       "    </tr>\n",
       "    <tr>\n",
       "      <th>2.0</th>\n",
       "      <td>4225</td>\n",
       "      <td>4225</td>\n",
       "      <td>4225</td>\n",
       "      <td>4035</td>\n",
       "      <td>4225</td>\n",
       "      <td>4225</td>\n",
       "      <td>4225</td>\n",
       "      <td>4225</td>\n",
       "      <td>4225</td>\n",
       "      <td>4225</td>\n",
       "      <td>4225</td>\n",
       "      <td>4225</td>\n",
       "      <td>4225</td>\n",
       "    </tr>\n",
       "    <tr>\n",
       "      <th>3.0</th>\n",
       "      <td>18618</td>\n",
       "      <td>18618</td>\n",
       "      <td>18618</td>\n",
       "      <td>17867</td>\n",
       "      <td>18618</td>\n",
       "      <td>18618</td>\n",
       "      <td>18618</td>\n",
       "      <td>18618</td>\n",
       "      <td>18618</td>\n",
       "      <td>18618</td>\n",
       "      <td>18618</td>\n",
       "      <td>18618</td>\n",
       "      <td>18618</td>\n",
       "    </tr>\n",
       "    <tr>\n",
       "      <th>4.0</th>\n",
       "      <td>9877</td>\n",
       "      <td>9877</td>\n",
       "      <td>9877</td>\n",
       "      <td>9509</td>\n",
       "      <td>9877</td>\n",
       "      <td>9877</td>\n",
       "      <td>9877</td>\n",
       "      <td>9877</td>\n",
       "      <td>9877</td>\n",
       "      <td>9877</td>\n",
       "      <td>9877</td>\n",
       "      <td>9877</td>\n",
       "      <td>9877</td>\n",
       "    </tr>\n",
       "    <tr>\n",
       "      <th>5.0</th>\n",
       "      <td>11741</td>\n",
       "      <td>11741</td>\n",
       "      <td>11741</td>\n",
       "      <td>11362</td>\n",
       "      <td>11741</td>\n",
       "      <td>11741</td>\n",
       "      <td>11741</td>\n",
       "      <td>11741</td>\n",
       "      <td>11741</td>\n",
       "      <td>11741</td>\n",
       "      <td>11741</td>\n",
       "      <td>11741</td>\n",
       "      <td>11741</td>\n",
       "    </tr>\n",
       "  </tbody>\n",
       "</table>\n",
       "</div>"
      ],
      "text/plain": [
       "                      employee_id  department  region  education  gender  \\\n",
       "previous_year_rating                                                       \n",
       "1.0                          6223        6223    6223       5887    6223   \n",
       "2.0                          4225        4225    4225       4035    4225   \n",
       "3.0                         18618       18618   18618      17867   18618   \n",
       "4.0                          9877        9877    9877       9509    9877   \n",
       "5.0                         11741       11741   11741      11362   11741   \n",
       "\n",
       "                      recruitment_channel  no_of_trainings    age  \\\n",
       "previous_year_rating                                                \n",
       "1.0                                  6223             6223   6223   \n",
       "2.0                                  4225             4225   4225   \n",
       "3.0                                 18618            18618  18618   \n",
       "4.0                                  9877             9877   9877   \n",
       "5.0                                 11741            11741  11741   \n",
       "\n",
       "                      length_of_service  KPIs_met >80%  awards_won?  \\\n",
       "previous_year_rating                                                  \n",
       "1.0                                6223           6223         6223   \n",
       "2.0                                4225           4225         4225   \n",
       "3.0                               18618          18618        18618   \n",
       "4.0                                9877           9877         9877   \n",
       "5.0                               11741          11741        11741   \n",
       "\n",
       "                      avg_training_score  is_promoted  \n",
       "previous_year_rating                                   \n",
       "1.0                                 6223         6223  \n",
       "2.0                                 4225         4225  \n",
       "3.0                                18618        18618  \n",
       "4.0                                 9877         9877  \n",
       "5.0                                11741        11741  "
      ]
     },
     "execution_count": 15,
     "metadata": {},
     "output_type": "execute_result"
    }
   ],
   "source": [
    "train_data.groupby(['previous_year_rating']).count()"
   ]
  },
  {
   "cell_type": "code",
   "execution_count": 16,
   "metadata": {},
   "outputs": [
    {
     "data": {
      "text/plain": [
       "array([ 8,  4,  7, 10,  2,  5,  6,  1,  3, 16,  9, 11, 26, 12, 17, 14, 13,\n",
       "       19, 15, 23, 18, 20, 22, 25, 28, 24, 31, 21, 29, 30, 34, 27, 33, 32,\n",
       "       37])"
      ]
     },
     "execution_count": 16,
     "metadata": {},
     "output_type": "execute_result"
    }
   ],
   "source": [
    "train_data['length_of_service'].unique()"
   ]
  },
  {
   "cell_type": "code",
   "execution_count": 17,
   "metadata": {},
   "outputs": [
    {
     "data": {
      "text/plain": [
       "array([1, 0])"
      ]
     },
     "execution_count": 17,
     "metadata": {},
     "output_type": "execute_result"
    }
   ],
   "source": [
    "train_data['KPIs_met >80%'].unique()"
   ]
  },
  {
   "cell_type": "code",
   "execution_count": 18,
   "metadata": {},
   "outputs": [
    {
     "data": {
      "text/plain": [
       "array([0, 1])"
      ]
     },
     "execution_count": 18,
     "metadata": {},
     "output_type": "execute_result"
    }
   ],
   "source": [
    "train_data['awards_won?'].unique()"
   ]
  },
  {
   "cell_type": "code",
   "execution_count": 19,
   "metadata": {},
   "outputs": [
    {
     "data": {
      "text/plain": [
       "array([49, 60, 50, 73, 85, 59, 63, 83, 54, 77, 80, 84, 51, 46, 75, 57, 70,\n",
       "       68, 79, 44, 72, 61, 48, 58, 87, 47, 52, 88, 71, 65, 62, 53, 78, 91,\n",
       "       82, 69, 55, 74, 86, 90, 92, 67, 89, 56, 76, 81, 45, 64, 39, 94, 93,\n",
       "       66, 95, 42, 96, 40, 99, 43, 97, 41, 98])"
      ]
     },
     "execution_count": 19,
     "metadata": {},
     "output_type": "execute_result"
    }
   ],
   "source": [
    "train_data['avg_training_score'].unique()"
   ]
  },
  {
   "cell_type": "code",
   "execution_count": 20,
   "metadata": {},
   "outputs": [
    {
     "data": {
      "text/plain": [
       "array([0, 1])"
      ]
     },
     "execution_count": 20,
     "metadata": {},
     "output_type": "execute_result"
    }
   ],
   "source": [
    "train_data['is_promoted'].unique()"
   ]
  },
  {
   "cell_type": "code",
   "execution_count": 21,
   "metadata": {},
   "outputs": [
    {
     "data": {
      "text/plain": [
       "<bound method DataFrame.count of        employee_id         department     region  education gender  \\\n",
       "10           29934         Technology  region_23        NaN      m   \n",
       "21           33332         Operations  region_15        NaN      m   \n",
       "23           71177        Procurement   region_5        2.0      m   \n",
       "29           74759  Sales & Marketing   region_4        2.0      m   \n",
       "32           35465  Sales & Marketing   region_7        NaN      f   \n",
       "43           17423  Sales & Marketing   region_2        NaN      m   \n",
       "56           45709  Sales & Marketing  region_31        2.0      f   \n",
       "58           26599  Sales & Marketing  region_16        2.0      m   \n",
       "62            9150          Analytics  region_22        2.0      f   \n",
       "66           77981            Finance  region_22        2.0      m   \n",
       "67           16502  Sales & Marketing  region_22        2.0      m   \n",
       "82           66013  Sales & Marketing   region_2        NaN      m   \n",
       "84           44575              Legal   region_7        2.0      m   \n",
       "87           69094  Sales & Marketing   region_2        NaN      m   \n",
       "89            9589  Sales & Marketing  region_31        2.0      f   \n",
       "90           62658  Sales & Marketing   region_2        NaN      f   \n",
       "96           64109         Technology  region_26        2.0      f   \n",
       "111          51444                 HR  region_13        2.0      f   \n",
       "123          41746         Operations  region_22        2.0      f   \n",
       "125           5461          Analytics   region_8        2.0      m   \n",
       "127          66874  Sales & Marketing  region_27        2.0      f   \n",
       "135           5102         Operations   region_7        2.0      m   \n",
       "141          50593            Finance  region_23        2.0      m   \n",
       "160          45157                 HR   region_4        2.0      m   \n",
       "178          28314            Finance  region_26        2.0      m   \n",
       "189           6254         Operations   region_2        NaN      f   \n",
       "204          60761         Operations  region_16        NaN      f   \n",
       "214          17833          Analytics   region_4        2.0      m   \n",
       "220          43676        Procurement   region_2        2.0      m   \n",
       "231          57235  Sales & Marketing  region_26        NaN      m   \n",
       "...            ...                ...        ...        ...    ...   \n",
       "54587        39089         Operations  region_31        NaN      m   \n",
       "54588        29221  Sales & Marketing  region_28        2.0      m   \n",
       "54591        45472         Operations  region_22        1.0      m   \n",
       "54596        43241  Sales & Marketing   region_2        NaN      m   \n",
       "54599         7570  Sales & Marketing  region_23        NaN      m   \n",
       "54606        15401          Analytics   region_2        NaN      m   \n",
       "54611        55808  Sales & Marketing  region_28        2.0      m   \n",
       "54624        57131            Finance   region_2        2.0      m   \n",
       "54627        19097  Sales & Marketing  region_26        2.0      m   \n",
       "54629         9682         Operations  region_23        2.0      f   \n",
       "54632        48169        Procurement   region_4        2.0      m   \n",
       "54638        45494  Sales & Marketing  region_19        2.0      m   \n",
       "54655         2349          Analytics   region_7        NaN      m   \n",
       "54659        64521         Technology   region_2        2.0      f   \n",
       "54666         4348        Procurement  region_31        2.0      f   \n",
       "54671        14949          Analytics  region_32        NaN      m   \n",
       "54683        16933  Sales & Marketing   region_4        2.0      m   \n",
       "54686        56112          Analytics  region_22        NaN      f   \n",
       "54690        51079          Analytics   region_6        2.0      f   \n",
       "54692        14821  Sales & Marketing   region_2        NaN      f   \n",
       "54700        28029         Technology  region_26        2.0      f   \n",
       "54703        74615                R&D  region_31        2.0      m   \n",
       "54717         7684          Analytics   region_2        NaN      m   \n",
       "54729         1797                 HR   region_2        NaN      f   \n",
       "54734        11685         Operations  region_15        2.0      m   \n",
       "54742        38935  Sales & Marketing  region_31        NaN      m   \n",
       "54746        10546            Finance   region_6        2.0      m   \n",
       "54773        37919            Finance   region_2        2.0      m   \n",
       "54801        12431         Technology  region_26        2.0      f   \n",
       "54806        13614  Sales & Marketing   region_9        NaN      m   \n",
       "\n",
       "      recruitment_channel  no_of_trainings  age  previous_year_rating  \\\n",
       "10               sourcing                1   30                   NaN   \n",
       "21               sourcing                1   41                   4.0   \n",
       "23                  other                1   27                   NaN   \n",
       "29               sourcing                1   26                   NaN   \n",
       "32               sourcing                1   24                   1.0   \n",
       "43                  other                3   24                   2.0   \n",
       "56                  other                1   29                   NaN   \n",
       "58                  other                2   27                   NaN   \n",
       "62                  other                1   28                   NaN   \n",
       "66                  other                1   27                   NaN   \n",
       "67               sourcing                1   27                   NaN   \n",
       "82               sourcing                2   25                   3.0   \n",
       "84                  other                1   29                   NaN   \n",
       "87               sourcing                1   39                   1.0   \n",
       "89                  other                1   31                   NaN   \n",
       "90               sourcing                1   20                   NaN   \n",
       "96               sourcing                1   23                   NaN   \n",
       "111                 other                1   30                   NaN   \n",
       "123              sourcing                1   27                   NaN   \n",
       "125                 other                1   28                   NaN   \n",
       "127                 other                1   30                   NaN   \n",
       "135              sourcing                1   24                   NaN   \n",
       "141              sourcing                1   31                   NaN   \n",
       "160                 other                1   27                   NaN   \n",
       "178                 other                1   23                   NaN   \n",
       "189                 other                1   33                   4.0   \n",
       "204                 other                1   31                   4.0   \n",
       "214              sourcing                1   28                   NaN   \n",
       "220                 other                4   29                   NaN   \n",
       "231                 other                1   22                   4.0   \n",
       "...                   ...              ...  ...                   ...   \n",
       "54587            sourcing                1   27                   2.0   \n",
       "54588            sourcing                1   30                   NaN   \n",
       "54591               other                1   26                   NaN   \n",
       "54596            sourcing                1   36                   1.0   \n",
       "54599               other                1   24                   2.0   \n",
       "54606            sourcing                1   31                   2.0   \n",
       "54611               other                1   25                   NaN   \n",
       "54624               other                1   24                   NaN   \n",
       "54627               other                1   23                   NaN   \n",
       "54629            sourcing                1   30                   NaN   \n",
       "54632               other                1   28                   NaN   \n",
       "54638               other                1   29                   NaN   \n",
       "54655               other                2   25                   4.0   \n",
       "54659            sourcing                2   25                   NaN   \n",
       "54666               other                1   26                   NaN   \n",
       "54671            sourcing                1   27                   3.0   \n",
       "54683            sourcing                1   27                   NaN   \n",
       "54686            sourcing                1   28                   3.0   \n",
       "54690               other                1   27                   NaN   \n",
       "54692            sourcing                1   35                   3.0   \n",
       "54700            sourcing                1   29                   NaN   \n",
       "54703            sourcing                1   30                   NaN   \n",
       "54717            sourcing                1   32                   3.0   \n",
       "54729               other                1   28                   3.0   \n",
       "54734            sourcing                1   31                   NaN   \n",
       "54742               other                1   28                   4.0   \n",
       "54746               other                1   28                   NaN   \n",
       "54773               other                1   23                   NaN   \n",
       "54801            sourcing                1   31                   NaN   \n",
       "54806            sourcing                1   29                   1.0   \n",
       "\n",
       "       length_of_service  KPIs_met >80%  awards_won?  avg_training_score  \\\n",
       "10                     1              0            0                  77   \n",
       "21                    11              0            0                  57   \n",
       "23                     1              0            0                  70   \n",
       "29                     1              0            0                  44   \n",
       "32                     2              0            0                  48   \n",
       "43                     2              0            0                  48   \n",
       "56                     1              0            0                  49   \n",
       "58                     1              1            0                  47   \n",
       "62                     1              1            0                  80   \n",
       "66                     1              1            1                  58   \n",
       "67                     1              0            0                  61   \n",
       "82                     2              0            0                  53   \n",
       "84                     1              0            0                  65   \n",
       "87                     9              0            0                  49   \n",
       "89                     1              0            0                  51   \n",
       "90                     1              0            0                  55   \n",
       "96                     1              0            0                  77   \n",
       "111                    1              1            0                  54   \n",
       "123                    1              1            0                  58   \n",
       "125                    1              1            0                  83   \n",
       "127                    1              0            0                  50   \n",
       "135                    1              1            0                  56   \n",
       "141                    1              1            0                  56   \n",
       "160                    1              1            0                  50   \n",
       "178                    1              0            0                  61   \n",
       "189                    9              0            0                  64   \n",
       "204                    2              0            0                  62   \n",
       "214                    1              0            0                  85   \n",
       "220                    1              0            0                  68   \n",
       "231                    2              0            0                  51   \n",
       "...                  ...            ...          ...                 ...   \n",
       "54587                  1              0            0                  59   \n",
       "54588                  1              0            0                  53   \n",
       "54591                  1              0            0                  64   \n",
       "54596                  5              0            0                  49   \n",
       "54599                  3              0            0                  48   \n",
       "54606                  6              0            0                  81   \n",
       "54611                  1              1            0                  54   \n",
       "54624                  1              0            0                  71   \n",
       "54627                  1              0            0                  51   \n",
       "54629                  1              1            0                  61   \n",
       "54632                  1              0            0                  74   \n",
       "54638                  1              0            0                  50   \n",
       "54655                  3              0            0                  83   \n",
       "54659                  1              0            0                  79   \n",
       "54666                  1              1            0                  65   \n",
       "54671                  2              0            0                  84   \n",
       "54683                  1              0            0                  53   \n",
       "54686                  1              0            0                  86   \n",
       "54690                  1              0            0                  81   \n",
       "54692                  7              0            0                  53   \n",
       "54700                  1              0            0                  82   \n",
       "54703                  1              1            0                  88   \n",
       "54717                  4              0            0                  86   \n",
       "54729                  2              0            0                  53   \n",
       "54734                  1              1            0                  56   \n",
       "54742                  3              0            0                  47   \n",
       "54746                  1              1            0                  61   \n",
       "54773                  1              1            0                  61   \n",
       "54801                  1              0            0                  78   \n",
       "54806                  2              0            0                  45   \n",
       "\n",
       "       is_promoted  \n",
       "10               0  \n",
       "21               0  \n",
       "23               0  \n",
       "29               0  \n",
       "32               0  \n",
       "43               0  \n",
       "56               0  \n",
       "58               0  \n",
       "62               0  \n",
       "66               1  \n",
       "67               1  \n",
       "82               0  \n",
       "84               1  \n",
       "87               0  \n",
       "89               0  \n",
       "90               0  \n",
       "96               0  \n",
       "111              0  \n",
       "123              0  \n",
       "125              0  \n",
       "127              0  \n",
       "135              0  \n",
       "141              0  \n",
       "160              0  \n",
       "178              0  \n",
       "189              0  \n",
       "204              0  \n",
       "214              0  \n",
       "220              0  \n",
       "231              0  \n",
       "...            ...  \n",
       "54587            0  \n",
       "54588            0  \n",
       "54591            0  \n",
       "54596            0  \n",
       "54599            0  \n",
       "54606            0  \n",
       "54611            0  \n",
       "54624            1  \n",
       "54627            0  \n",
       "54629            0  \n",
       "54632            0  \n",
       "54638            0  \n",
       "54655            0  \n",
       "54659            0  \n",
       "54666            0  \n",
       "54671            0  \n",
       "54683            0  \n",
       "54686            0  \n",
       "54690            0  \n",
       "54692            0  \n",
       "54700            0  \n",
       "54703            0  \n",
       "54717            0  \n",
       "54729            0  \n",
       "54734            1  \n",
       "54742            0  \n",
       "54746            0  \n",
       "54773            0  \n",
       "54801            0  \n",
       "54806            0  \n",
       "\n",
       "[6148 rows x 14 columns]>"
      ]
     },
     "execution_count": 21,
     "metadata": {},
     "output_type": "execute_result"
    }
   ],
   "source": [
    "################### Calculation of missing values in the data ###########################\n",
    "\n",
    "(train_data[train_data.apply(lambda x: x.count(), axis=1)< 14]).count# 6148 rows have missing values"
   ]
  },
  {
   "cell_type": "code",
   "execution_count": 22,
   "metadata": {},
   "outputs": [
    {
     "data": {
      "text/plain": [
       "14"
      ]
     },
     "execution_count": 22,
     "metadata": {},
     "output_type": "execute_result"
    }
   ],
   "source": [
    "len(train_data.columns)"
   ]
  },
  {
   "cell_type": "code",
   "execution_count": 23,
   "metadata": {},
   "outputs": [
    {
     "data": {
      "text/plain": [
       "employee_id                0\n",
       "department                 0\n",
       "region                     0\n",
       "education               2409\n",
       "gender                     0\n",
       "recruitment_channel        0\n",
       "no_of_trainings            0\n",
       "age                        0\n",
       "previous_year_rating    4124\n",
       "length_of_service          0\n",
       "KPIs_met >80%              0\n",
       "awards_won?                0\n",
       "avg_training_score         0\n",
       "is_promoted                0\n",
       "dtype: int64"
      ]
     },
     "execution_count": 23,
     "metadata": {},
     "output_type": "execute_result"
    }
   ],
   "source": [
    "train_data.isnull().sum(axis=0)"
   ]
  },
  {
   "cell_type": "code",
   "execution_count": 25,
   "metadata": {},
   "outputs": [],
   "source": [
    "data=train_data.dropna()"
   ]
  },
  {
   "cell_type": "code",
   "execution_count": 26,
   "metadata": {},
   "outputs": [
    {
     "data": {
      "text/plain": [
       "employee_id             0\n",
       "department              0\n",
       "region                  0\n",
       "education               0\n",
       "gender                  0\n",
       "recruitment_channel     0\n",
       "no_of_trainings         0\n",
       "age                     0\n",
       "previous_year_rating    0\n",
       "length_of_service       0\n",
       "KPIs_met >80%           0\n",
       "awards_won?             0\n",
       "avg_training_score      0\n",
       "is_promoted             0\n",
       "dtype: int64"
      ]
     },
     "execution_count": 26,
     "metadata": {},
     "output_type": "execute_result"
    }
   ],
   "source": [
    "data.isnull().sum(axis=0)"
   ]
  },
  {
   "cell_type": "code",
   "execution_count": 27,
   "metadata": {},
   "outputs": [
    {
     "data": {
      "text/html": [
       "<div>\n",
       "<style scoped>\n",
       "    .dataframe tbody tr th:only-of-type {\n",
       "        vertical-align: middle;\n",
       "    }\n",
       "\n",
       "    .dataframe tbody tr th {\n",
       "        vertical-align: top;\n",
       "    }\n",
       "\n",
       "    .dataframe thead th {\n",
       "        text-align: right;\n",
       "    }\n",
       "</style>\n",
       "<table border=\"1\" class=\"dataframe\">\n",
       "  <thead>\n",
       "    <tr style=\"text-align: right;\">\n",
       "      <th></th>\n",
       "      <th>employee_id</th>\n",
       "      <th>department</th>\n",
       "      <th>region</th>\n",
       "      <th>education</th>\n",
       "      <th>gender</th>\n",
       "      <th>recruitment_channel</th>\n",
       "      <th>no_of_trainings</th>\n",
       "      <th>age</th>\n",
       "      <th>previous_year_rating</th>\n",
       "      <th>length_of_service</th>\n",
       "      <th>KPIs_met &gt;80%</th>\n",
       "      <th>awards_won?</th>\n",
       "      <th>avg_training_score</th>\n",
       "      <th>is_promoted</th>\n",
       "    </tr>\n",
       "  </thead>\n",
       "  <tbody>\n",
       "    <tr>\n",
       "      <th>0</th>\n",
       "      <td>65438</td>\n",
       "      <td>Sales &amp; Marketing</td>\n",
       "      <td>region_7</td>\n",
       "      <td>3.0</td>\n",
       "      <td>f</td>\n",
       "      <td>sourcing</td>\n",
       "      <td>1</td>\n",
       "      <td>35</td>\n",
       "      <td>5.0</td>\n",
       "      <td>8</td>\n",
       "      <td>1</td>\n",
       "      <td>0</td>\n",
       "      <td>49</td>\n",
       "      <td>0</td>\n",
       "    </tr>\n",
       "    <tr>\n",
       "      <th>1</th>\n",
       "      <td>65141</td>\n",
       "      <td>Operations</td>\n",
       "      <td>region_22</td>\n",
       "      <td>2.0</td>\n",
       "      <td>m</td>\n",
       "      <td>other</td>\n",
       "      <td>1</td>\n",
       "      <td>30</td>\n",
       "      <td>5.0</td>\n",
       "      <td>4</td>\n",
       "      <td>0</td>\n",
       "      <td>0</td>\n",
       "      <td>60</td>\n",
       "      <td>0</td>\n",
       "    </tr>\n",
       "    <tr>\n",
       "      <th>2</th>\n",
       "      <td>7513</td>\n",
       "      <td>Sales &amp; Marketing</td>\n",
       "      <td>region_19</td>\n",
       "      <td>2.0</td>\n",
       "      <td>m</td>\n",
       "      <td>sourcing</td>\n",
       "      <td>1</td>\n",
       "      <td>34</td>\n",
       "      <td>3.0</td>\n",
       "      <td>7</td>\n",
       "      <td>0</td>\n",
       "      <td>0</td>\n",
       "      <td>50</td>\n",
       "      <td>0</td>\n",
       "    </tr>\n",
       "    <tr>\n",
       "      <th>3</th>\n",
       "      <td>2542</td>\n",
       "      <td>Sales &amp; Marketing</td>\n",
       "      <td>region_23</td>\n",
       "      <td>2.0</td>\n",
       "      <td>m</td>\n",
       "      <td>other</td>\n",
       "      <td>2</td>\n",
       "      <td>39</td>\n",
       "      <td>1.0</td>\n",
       "      <td>10</td>\n",
       "      <td>0</td>\n",
       "      <td>0</td>\n",
       "      <td>50</td>\n",
       "      <td>0</td>\n",
       "    </tr>\n",
       "    <tr>\n",
       "      <th>4</th>\n",
       "      <td>48945</td>\n",
       "      <td>Technology</td>\n",
       "      <td>region_26</td>\n",
       "      <td>2.0</td>\n",
       "      <td>m</td>\n",
       "      <td>other</td>\n",
       "      <td>1</td>\n",
       "      <td>45</td>\n",
       "      <td>3.0</td>\n",
       "      <td>2</td>\n",
       "      <td>0</td>\n",
       "      <td>0</td>\n",
       "      <td>73</td>\n",
       "      <td>0</td>\n",
       "    </tr>\n",
       "  </tbody>\n",
       "</table>\n",
       "</div>"
      ],
      "text/plain": [
       "   employee_id         department     region  education gender  \\\n",
       "0        65438  Sales & Marketing   region_7        3.0      f   \n",
       "1        65141         Operations  region_22        2.0      m   \n",
       "2         7513  Sales & Marketing  region_19        2.0      m   \n",
       "3         2542  Sales & Marketing  region_23        2.0      m   \n",
       "4        48945         Technology  region_26        2.0      m   \n",
       "\n",
       "  recruitment_channel  no_of_trainings  age  previous_year_rating  \\\n",
       "0            sourcing                1   35                   5.0   \n",
       "1               other                1   30                   5.0   \n",
       "2            sourcing                1   34                   3.0   \n",
       "3               other                2   39                   1.0   \n",
       "4               other                1   45                   3.0   \n",
       "\n",
       "   length_of_service  KPIs_met >80%  awards_won?  avg_training_score  \\\n",
       "0                  8              1            0                  49   \n",
       "1                  4              0            0                  60   \n",
       "2                  7              0            0                  50   \n",
       "3                 10              0            0                  50   \n",
       "4                  2              0            0                  73   \n",
       "\n",
       "   is_promoted  \n",
       "0            0  \n",
       "1            0  \n",
       "2            0  \n",
       "3            0  \n",
       "4            0  "
      ]
     },
     "execution_count": 27,
     "metadata": {},
     "output_type": "execute_result"
    }
   ],
   "source": [
    "data.head(5)"
   ]
  },
  {
   "cell_type": "code",
   "execution_count": 33,
   "metadata": {},
   "outputs": [],
   "source": [
    "data=data.drop(data.columns[[0,1,2,4,5]],axis=1)"
   ]
  },
  {
   "cell_type": "code",
   "execution_count": 34,
   "metadata": {},
   "outputs": [
    {
     "data": {
      "text/html": [
       "<div>\n",
       "<style scoped>\n",
       "    .dataframe tbody tr th:only-of-type {\n",
       "        vertical-align: middle;\n",
       "    }\n",
       "\n",
       "    .dataframe tbody tr th {\n",
       "        vertical-align: top;\n",
       "    }\n",
       "\n",
       "    .dataframe thead th {\n",
       "        text-align: right;\n",
       "    }\n",
       "</style>\n",
       "<table border=\"1\" class=\"dataframe\">\n",
       "  <thead>\n",
       "    <tr style=\"text-align: right;\">\n",
       "      <th></th>\n",
       "      <th>education</th>\n",
       "      <th>no_of_trainings</th>\n",
       "      <th>age</th>\n",
       "      <th>previous_year_rating</th>\n",
       "      <th>length_of_service</th>\n",
       "      <th>KPIs_met &gt;80%</th>\n",
       "      <th>awards_won?</th>\n",
       "      <th>avg_training_score</th>\n",
       "      <th>is_promoted</th>\n",
       "    </tr>\n",
       "  </thead>\n",
       "  <tbody>\n",
       "    <tr>\n",
       "      <th>0</th>\n",
       "      <td>3.0</td>\n",
       "      <td>1</td>\n",
       "      <td>35</td>\n",
       "      <td>5.0</td>\n",
       "      <td>8</td>\n",
       "      <td>1</td>\n",
       "      <td>0</td>\n",
       "      <td>49</td>\n",
       "      <td>0</td>\n",
       "    </tr>\n",
       "    <tr>\n",
       "      <th>1</th>\n",
       "      <td>2.0</td>\n",
       "      <td>1</td>\n",
       "      <td>30</td>\n",
       "      <td>5.0</td>\n",
       "      <td>4</td>\n",
       "      <td>0</td>\n",
       "      <td>0</td>\n",
       "      <td>60</td>\n",
       "      <td>0</td>\n",
       "    </tr>\n",
       "    <tr>\n",
       "      <th>2</th>\n",
       "      <td>2.0</td>\n",
       "      <td>1</td>\n",
       "      <td>34</td>\n",
       "      <td>3.0</td>\n",
       "      <td>7</td>\n",
       "      <td>0</td>\n",
       "      <td>0</td>\n",
       "      <td>50</td>\n",
       "      <td>0</td>\n",
       "    </tr>\n",
       "    <tr>\n",
       "      <th>3</th>\n",
       "      <td>2.0</td>\n",
       "      <td>2</td>\n",
       "      <td>39</td>\n",
       "      <td>1.0</td>\n",
       "      <td>10</td>\n",
       "      <td>0</td>\n",
       "      <td>0</td>\n",
       "      <td>50</td>\n",
       "      <td>0</td>\n",
       "    </tr>\n",
       "    <tr>\n",
       "      <th>4</th>\n",
       "      <td>2.0</td>\n",
       "      <td>1</td>\n",
       "      <td>45</td>\n",
       "      <td>3.0</td>\n",
       "      <td>2</td>\n",
       "      <td>0</td>\n",
       "      <td>0</td>\n",
       "      <td>73</td>\n",
       "      <td>0</td>\n",
       "    </tr>\n",
       "  </tbody>\n",
       "</table>\n",
       "</div>"
      ],
      "text/plain": [
       "   education  no_of_trainings  age  previous_year_rating  length_of_service  \\\n",
       "0        3.0                1   35                   5.0                  8   \n",
       "1        2.0                1   30                   5.0                  4   \n",
       "2        2.0                1   34                   3.0                  7   \n",
       "3        2.0                2   39                   1.0                 10   \n",
       "4        2.0                1   45                   3.0                  2   \n",
       "\n",
       "   KPIs_met >80%  awards_won?  avg_training_score  is_promoted  \n",
       "0              1            0                  49            0  \n",
       "1              0            0                  60            0  \n",
       "2              0            0                  50            0  \n",
       "3              0            0                  50            0  \n",
       "4              0            0                  73            0  "
      ]
     },
     "execution_count": 34,
     "metadata": {},
     "output_type": "execute_result"
    }
   ],
   "source": [
    "data.head(5)"
   ]
  },
  {
   "cell_type": "code",
   "execution_count": 47,
   "metadata": {},
   "outputs": [
    {
     "data": {
      "text/plain": [
       "0    91.302918\n",
       "1     8.697082\n",
       "Name: is_promoted, dtype: float64"
      ]
     },
     "execution_count": 47,
     "metadata": {},
     "output_type": "execute_result"
    }
   ],
   "source": [
    "data['is_promoted'].value_counts()/np.sum(data['is_promoted'].value_counts().values)*100\n",
    "\n",
    "## This is the case of class imbalance"
   ]
  },
  {
   "cell_type": "code",
   "execution_count": null,
   "metadata": {},
   "outputs": [],
   "source": []
  }
 ],
 "metadata": {
  "kernelspec": {
   "display_name": "Python 3",
   "language": "python",
   "name": "python3"
  },
  "language_info": {
   "codemirror_mode": {
    "name": "ipython",
    "version": 3
   },
   "file_extension": ".py",
   "mimetype": "text/x-python",
   "name": "python",
   "nbconvert_exporter": "python",
   "pygments_lexer": "ipython3",
   "version": "3.6.5"
  }
 },
 "nbformat": 4,
 "nbformat_minor": 2
}
