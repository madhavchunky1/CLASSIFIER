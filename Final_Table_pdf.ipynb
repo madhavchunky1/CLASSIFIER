{
 "cells": [
  {
   "cell_type": "code",
   "execution_count": 1,
   "metadata": {},
   "outputs": [],
   "source": [
    "import cv2 \n",
    "import numpy as np\n",
    "import matplotlib.pyplot as plt\n",
    "import sklearn.metrics\n",
    "%matplotlib inline\n",
    "import pandas as pd\n",
    "from sklearn.metrics.pairwise import cosine_similarity\n",
    "from sklearn.metrics.pairwise import manhattan_distances\n",
    "from sklearn.metrics import log_loss"
   ]
  },
  {
   "cell_type": "code",
   "execution_count": 2,
   "metadata": {},
   "outputs": [],
   "source": [
    "inputfile = '/home/madhav/Documents/YOLO 2 _Project/All/img4.jpg'\n",
    "output_cosine = '/home/madhav/Desktop/img1.png'\n",
    "output_cross_entropy = '/home/madhav/Desktop/img2.png'\n",
    "output_manhattan = '/home/madhav/Desktop/img3.png'"
   ]
  },
  {
   "cell_type": "code",
   "execution_count": 3,
   "metadata": {
    "scrolled": true
   },
   "outputs": [],
   "source": [
    "# Read File\n",
    "# img_first = cv2.imread('/home/madhav/Documents/YOLO 2 _Project/All/img2.jpg',cv2.IMREAD_GRAYSCALE)\n",
    "img_first = cv2.imread(inputfile)\n",
    "img_first = img_first[:,:,0]/255\n",
    "# plt.imshow(img_first,cmap='gray');"
   ]
  },
  {
   "cell_type": "code",
   "execution_count": 4,
   "metadata": {
    "scrolled": true
   },
   "outputs": [],
   "source": [
    "# increase/ decrease pixel intensity\n",
    "img_mod = img_first.copy()\n",
    "img_mod[img_first < 0.95] = 0\n",
    "# plt.imshow(img_mod,cmap='gray');"
   ]
  },
  {
   "cell_type": "code",
   "execution_count": 5,
   "metadata": {},
   "outputs": [
    {
     "data": {
      "text/plain": [
       "True"
      ]
     },
     "execution_count": 5,
     "metadata": {},
     "output_type": "execute_result"
    }
   ],
   "source": [
    "# cosine similarity\n",
    "check_vector = (np.zeros([1,img_first.shape[1]]) + 0.001)\n",
    "similarity_vector = cosine_similarity(pd.DataFrame(img_mod),check_vector)\n",
    "# pd.Series(similarity_vector.ravel()).value_counts();\n",
    "img_1 = pd.DataFrame(img_mod.copy())\n",
    "img_1[similarity_vector.ravel()>0.8] = 1\n",
    "img_1 = np.array(img_1)\n",
    "# plt.imshow(img_1,cmap='gray');\n",
    "cv2.imwrite(output_cosine,img_1*255)"
   ]
  },
  {
   "cell_type": "code",
   "execution_count": 6,
   "metadata": {
    "scrolled": true
   },
   "outputs": [
    {
     "data": {
      "text/plain": [
       "True"
      ]
     },
     "execution_count": 6,
     "metadata": {},
     "output_type": "execute_result"
    }
   ],
   "source": [
    "# log loss \n",
    "check_vector = np.zeros(img_first.shape[1])\n",
    "empty_list = []\n",
    "log_loss_score = np.array(empty_list)\n",
    "for i in range(img_first.shape[0]):\n",
    "    score = log_loss(check_vector,img_first[i,:],labels=[0,1])\n",
    "    log_loss_score = np.append(log_loss_score,score)\n",
    "# log_loss_score\n",
    "# plt.hist(pd.Series(log_loss_score));\n",
    "# pd.Series(log_loss_score).max(),pd.Series(log_loss_score).min()\n",
    "\n",
    "img_2 = pd.DataFrame(img_mod.copy())\n",
    "img_2[log_loss_score > 24] = 1\n",
    "img_2 = np.array(img_2)\n",
    "# plt.imshow(img_2,cmap='gray');\n",
    "cv2.imwrite(output_cross_entropy,img_2*255)"
   ]
  },
  {
   "cell_type": "code",
   "execution_count": 42,
   "metadata": {},
   "outputs": [],
   "source": [
    "# Manhattan\n",
    "check_vector = np.zeros([1,img_first.shape[1]])\n",
    "similarity_vector = manhattan_distances(pd.DataFrame(img_mod),check_vector)\n",
    "# plt.hist(pd.Series(similarity_vector.ravel()));\n",
    "img_3 = pd.DataFrame(img_mod.copy())\n",
    "img_3[similarity_vector.ravel()>1150] = 1\n",
    "img_3 = np.array(img_3)\n",
    "# plt.imshow(img_3,cmap='gray');\n",
    "cv2.imwrite(output_manhattan,img_3*255);"
   ]
  },
  {
   "cell_type": "code",
   "execution_count": 43,
   "metadata": {},
   "outputs": [
    {
     "data": {
      "text/plain": [
       "array([[1654.],\n",
       "       [1654.],\n",
       "       [1654.],\n",
       "       ...,\n",
       "       [1654.],\n",
       "       [1654.],\n",
       "       [1654.]])"
      ]
     },
     "execution_count": 43,
     "metadata": {},
     "output_type": "execute_result"
    }
   ],
   "source": [
    "similarity_vector"
   ]
  },
  {
   "cell_type": "code",
   "execution_count": 44,
   "metadata": {},
   "outputs": [],
   "source": [
    "# Jaccard similarity\n",
    "from math import*\n",
    " \n",
    "def jaccard_similarity(x,y):\n",
    " \n",
    "    intersection_cardinality = len(set.intersection(*[set(x), set(y)]))\n",
    "    union_cardinality = len(set.union(*[set(x), set(y)]))\n",
    "    return intersection_cardinality/float(union_cardinality)\n",
    " \n",
    "#print jaccard_similarity([0,1,2,5,6],[0,2,3,5,7,9])\n"
   ]
  },
  {
   "cell_type": "code",
   "execution_count": 56,
   "metadata": {},
   "outputs": [],
   "source": [
    "check_vector = np.zeros([1,img_first.shape[1]])\n",
    "similarity_vector = jaccard_similarity(pd.DataFrame(img_mod),pd.DataFrame(check_vector))"
   ]
  },
  {
   "cell_type": "code",
   "execution_count": 57,
   "metadata": {},
   "outputs": [
    {
     "data": {
      "text/plain": [
       "1.0"
      ]
     },
     "execution_count": 57,
     "metadata": {},
     "output_type": "execute_result"
    }
   ],
   "source": [
    "similarity_vector"
   ]
  },
  {
   "cell_type": "code",
   "execution_count": null,
   "metadata": {},
   "outputs": [],
   "source": []
  }
 ],
 "metadata": {
  "kernelspec": {
   "display_name": "Python 3",
   "language": "python",
   "name": "python3"
  },
  "language_info": {
   "codemirror_mode": {
    "name": "ipython",
    "version": 3
   },
   "file_extension": ".py",
   "mimetype": "text/x-python",
   "name": "python",
   "nbconvert_exporter": "python",
   "pygments_lexer": "ipython3",
   "version": "3.6.5"
  }
 },
 "nbformat": 4,
 "nbformat_minor": 2
}
