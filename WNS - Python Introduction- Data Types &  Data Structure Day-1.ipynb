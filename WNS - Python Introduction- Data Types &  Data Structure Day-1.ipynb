{
 "cells": [
  {
   "cell_type": "markdown",
   "metadata": {},
   "source": [
    "##                                            -------------------------------\n",
    "##                                           | WNS Python Training |\n",
    "##                                            ------------------------------"
   ]
  },
  {
   "cell_type": "markdown",
   "metadata": {},
   "source": [
    "## Day-1: Session Starts! "
   ]
  },
  {
   "cell_type": "markdown",
   "metadata": {},
   "source": [
    "## 1. Print "
   ]
  },
  {
   "cell_type": "code",
   "execution_count": 73,
   "metadata": {},
   "outputs": [
    {
     "name": "stdout",
     "output_type": "stream",
     "text": [
      "This is my first line of code in python\n"
     ]
    }
   ],
   "source": [
    "#Printing the text\n",
    "print(\"This is my first line of code in python\")"
   ]
  },
  {
   "cell_type": "code",
   "execution_count": 74,
   "metadata": {},
   "outputs": [
    {
     "name": "stdout",
     "output_type": "stream",
     "text": [
      "Hello Everyone,\n",
      "\n",
      "This is in the next line\n"
     ]
    }
   ],
   "source": [
    "print(\"Hello Everyone,\\n\\nThis is in the next line\")"
   ]
  },
  {
   "cell_type": "code",
   "execution_count": 76,
   "metadata": {},
   "outputs": [],
   "source": [
    "# Storing Text(In Python terms \"String\")\n",
    "name = \"Jolly Nate\""
   ]
  },
  {
   "cell_type": "code",
   "execution_count": 77,
   "metadata": {},
   "outputs": [
    {
     "data": {
      "text/plain": [
       "str"
      ]
     },
     "execution_count": 77,
     "metadata": {},
     "output_type": "execute_result"
    }
   ],
   "source": [
    "# Checking the type of variable\n",
    "type(name)\n",
    "# Tip-1:Any string or character in python will be written with the double Quote(\"\") or Single Quote('')"
   ]
  },
  {
   "cell_type": "markdown",
   "metadata": {},
   "source": [
    "## 2. Integer and Numeric Type"
   ]
  },
  {
   "cell_type": "code",
   "execution_count": 78,
   "metadata": {},
   "outputs": [
    {
     "name": "stdout",
     "output_type": "stream",
     "text": [
      "7\n"
     ]
    }
   ],
   "source": [
    "# Printing integer\n",
    "print(7)"
   ]
  },
  {
   "cell_type": "code",
   "execution_count": 79,
   "metadata": {},
   "outputs": [
    {
     "data": {
      "text/plain": [
       "int"
      ]
     },
     "execution_count": 79,
     "metadata": {},
     "output_type": "execute_result"
    }
   ],
   "source": [
    "# Integer Type \n",
    "first_int = 7\n",
    "type(first_int)"
   ]
  },
  {
   "cell_type": "code",
   "execution_count": 80,
   "metadata": {},
   "outputs": [
    {
     "data": {
      "text/plain": [
       "float"
      ]
     },
     "execution_count": 80,
     "metadata": {},
     "output_type": "execute_result"
    }
   ],
   "source": [
    "# Numeric Type(In Python, it's FLOAT)\n",
    "float_var = 7.1\n",
    "type(float_var)"
   ]
  },
  {
   "cell_type": "markdown",
   "metadata": {},
   "source": [
    "## 3. Arithmetic Operations"
   ]
  },
  {
   "cell_type": "code",
   "execution_count": 81,
   "metadata": {},
   "outputs": [],
   "source": [
    "# Adding two integers \n",
    "a = 16\n",
    "b = 3"
   ]
  },
  {
   "cell_type": "code",
   "execution_count": 82,
   "metadata": {},
   "outputs": [
    {
     "data": {
      "text/plain": [
       "19"
      ]
     },
     "execution_count": 82,
     "metadata": {},
     "output_type": "execute_result"
    }
   ],
   "source": [
    "# Addition\n",
    "a+b"
   ]
  },
  {
   "cell_type": "code",
   "execution_count": 83,
   "metadata": {},
   "outputs": [
    {
     "name": "stdout",
     "output_type": "stream",
     "text": [
      "RAM Shyam\n"
     ]
    }
   ],
   "source": [
    "# String Additions\n",
    "print(\"RAM\" + \" Shyam\")"
   ]
  },
  {
   "cell_type": "code",
   "execution_count": 84,
   "metadata": {},
   "outputs": [
    {
     "data": {
      "text/plain": [
       "13"
      ]
     },
     "execution_count": 84,
     "metadata": {},
     "output_type": "execute_result"
    }
   ],
   "source": [
    "# Subtraction \n",
    "a-b"
   ]
  },
  {
   "cell_type": "code",
   "execution_count": 85,
   "metadata": {},
   "outputs": [
    {
     "data": {
      "text/plain": [
       "48"
      ]
     },
     "execution_count": 85,
     "metadata": {},
     "output_type": "execute_result"
    }
   ],
   "source": [
    "# Multiplication \n",
    "a*b"
   ]
  },
  {
   "cell_type": "code",
   "execution_count": 86,
   "metadata": {},
   "outputs": [
    {
     "data": {
      "text/plain": [
       "5.333333333333333"
      ]
     },
     "execution_count": 86,
     "metadata": {},
     "output_type": "execute_result"
    }
   ],
   "source": [
    "# Division \n",
    "a/b"
   ]
  },
  {
   "cell_type": "code",
   "execution_count": 87,
   "metadata": {},
   "outputs": [
    {
     "data": {
      "text/plain": [
       "5"
      ]
     },
     "execution_count": 87,
     "metadata": {},
     "output_type": "execute_result"
    }
   ],
   "source": [
    "# // (divide and floor) or int() can also give the same result\n",
    "a//b "
   ]
  },
  {
   "cell_type": "code",
   "execution_count": 88,
   "metadata": {},
   "outputs": [
    {
     "data": {
      "text/plain": [
       "1"
      ]
     },
     "execution_count": 88,
     "metadata": {},
     "output_type": "execute_result"
    }
   ],
   "source": [
    "# % (modulo)[Remainder]\n",
    "a%b"
   ]
  },
  {
   "cell_type": "code",
   "execution_count": 89,
   "metadata": {},
   "outputs": [
    {
     "data": {
      "text/plain": [
       "4096"
      ]
     },
     "execution_count": 89,
     "metadata": {},
     "output_type": "execute_result"
    }
   ],
   "source": [
    "# ** Square \n",
    "a**b"
   ]
  },
  {
   "cell_type": "code",
   "execution_count": 90,
   "metadata": {},
   "outputs": [
    {
     "data": {
      "text/plain": [
       "13.8"
      ]
     },
     "execution_count": 90,
     "metadata": {},
     "output_type": "execute_result"
    }
   ],
   "source": [
    "#BODMAS:\n",
    "((4/5)-1+(10/2*2)+4)"
   ]
  },
  {
   "cell_type": "code",
   "execution_count": 91,
   "metadata": {},
   "outputs": [
    {
     "data": {
      "text/plain": [
       "6"
      ]
     },
     "execution_count": 91,
     "metadata": {},
     "output_type": "execute_result"
    }
   ],
   "source": [
    "# Python shortcuts\n",
    "num = 5\n",
    "num += 1\n",
    "num"
   ]
  },
  {
   "cell_type": "code",
   "execution_count": 92,
   "metadata": {},
   "outputs": [
    {
     "name": "stdout",
     "output_type": "stream",
     "text": [
      "5\n"
     ]
    }
   ],
   "source": [
    "num -= 1\n",
    "print(num)"
   ]
  },
  {
   "cell_type": "code",
   "execution_count": 93,
   "metadata": {},
   "outputs": [
    {
     "name": "stdout",
     "output_type": "stream",
     "text": [
      "True\n"
     ]
    }
   ],
   "source": [
    "#Logical Operators\n",
    "print(3 < 4)"
   ]
  },
  {
   "cell_type": "code",
   "execution_count": 94,
   "metadata": {},
   "outputs": [
    {
     "name": "stdout",
     "output_type": "stream",
     "text": [
      "False\n"
     ]
    }
   ],
   "source": [
    "print(True and False) "
   ]
  },
  {
   "cell_type": "code",
   "execution_count": 95,
   "metadata": {},
   "outputs": [
    {
     "name": "stdout",
     "output_type": "stream",
     "text": [
      "I AM UPPER CASED\n",
      "i am lower cased\n"
     ]
    }
   ],
   "source": [
    "# Upper Case & Lower case\n",
    "small = \"i am upper cased\"\n",
    "print(small.upper())\n",
    "\n",
    "large = \"I AM LOWER CASED\"\n",
    "print(large.lower())"
   ]
  },
  {
   "cell_type": "code",
   "execution_count": 96,
   "metadata": {},
   "outputs": [],
   "source": [
    "some_sentence = \"There is a space at the end    \""
   ]
  },
  {
   "cell_type": "code",
   "execution_count": 97,
   "metadata": {},
   "outputs": [
    {
     "data": {
      "text/plain": [
       "'There is a space at the end'"
      ]
     },
     "execution_count": 97,
     "metadata": {},
     "output_type": "execute_result"
    }
   ],
   "source": [
    "some_sentence.strip()"
   ]
  },
  {
   "cell_type": "code",
   "execution_count": 98,
   "metadata": {},
   "outputs": [
    {
     "data": {
      "text/plain": [
       "'There is a space at the end'"
      ]
     },
     "execution_count": 98,
     "metadata": {},
     "output_type": "execute_result"
    }
   ],
   "source": [
    "# Right Strip\n",
    "some_sentence.rstrip()"
   ]
  },
  {
   "cell_type": "code",
   "execution_count": 99,
   "metadata": {},
   "outputs": [
    {
     "name": "stdout",
     "output_type": "stream",
     "text": [
      "4\n"
     ]
    },
    {
     "data": {
      "text/plain": [
       "str"
      ]
     },
     "execution_count": 99,
     "metadata": {},
     "output_type": "execute_result"
    }
   ],
   "source": [
    "increment = \"4%\"\n",
    "type(increment)\n",
    "print(increment.strip('%')) \n",
    "type(increment)"
   ]
  },
  {
   "cell_type": "code",
   "execution_count": 101,
   "metadata": {},
   "outputs": [
    {
     "name": "stdout",
     "output_type": "stream",
     "text": [
      "   There is space at the start\n",
      "There is space at the start\n"
     ]
    }
   ],
   "source": [
    "# Left Strip \n",
    "start = \"   There is space at the start\"\n",
    "print(start)\n",
    "print(start.lstrip())"
   ]
  },
  {
   "cell_type": "code",
   "execution_count": 102,
   "metadata": {},
   "outputs": [
    {
     "name": "stdout",
     "output_type": "stream",
     "text": [
      "   Trim whitespaces  \n",
      "Trim whitespaces\n"
     ]
    }
   ],
   "source": [
    "spaces = \"   Trim whitespaces  \"\n",
    "print(spaces)\n",
    "print(spaces.strip())"
   ]
  },
  {
   "cell_type": "code",
   "execution_count": 103,
   "metadata": {},
   "outputs": [
    {
     "name": "stdout",
     "output_type": "stream",
     "text": [
      "444\n"
     ]
    }
   ],
   "source": [
    "num_with_chars = '*444#'\n",
    "print(num_with_chars.rstrip('#').lstrip('*'))"
   ]
  },
  {
   "cell_type": "code",
   "execution_count": 104,
   "metadata": {},
   "outputs": [
    {
     "name": "stdout",
     "output_type": "stream",
     "text": [
      "My name is Chiranjeev and I am 24 years old\n"
     ]
    }
   ],
   "source": [
    "# Special Case: The format method (Its a new way of optimising the python codes)\n",
    "\n",
    "# we may want to construct strings from combination of information. This is where the format() method is useful.\n",
    "\n",
    "# For Example, \n",
    "\n",
    "Age = 24\n",
    "Name = \"Chiranjeev\"\n",
    "print(\"My name is {1} and I am {0} years old\".format(Age,Name))\n"
   ]
  },
  {
   "cell_type": "code",
   "execution_count": 105,
   "metadata": {},
   "outputs": [
    {
     "data": {
      "text/plain": [
       "3.145"
      ]
     },
     "execution_count": 105,
     "metadata": {},
     "output_type": "execute_result"
    }
   ],
   "source": [
    "# Type Conversion\n",
    "# Sometimes it is necessary to convert one data type into another. This can be done by using typecasting \n",
    "\n",
    "# Converting string to numeric float type \n",
    "float(\"3.145\")"
   ]
  },
  {
   "cell_type": "code",
   "execution_count": 106,
   "metadata": {},
   "outputs": [
    {
     "data": {
      "text/plain": [
       "3"
      ]
     },
     "execution_count": 106,
     "metadata": {},
     "output_type": "execute_result"
    }
   ],
   "source": [
    "# Converting string to numeric int type \n",
    "int(\"3\")"
   ]
  },
  {
   "cell_type": "code",
   "execution_count": 107,
   "metadata": {},
   "outputs": [
    {
     "name": "stdout",
     "output_type": "stream",
     "text": [
      "Chiranjeev and Rohan both are engaged with WNS. Rohan's age is 27 and Chiranjeev's age is 24\n"
     ]
    }
   ],
   "source": [
    "# PPT Example\n",
    "\n",
    "X1 = \"Chiranjeev\"\n",
    "X2 = \"Rohan\"\n",
    "X3 = 24\n",
    "X4 = 27\n",
    "X5 = \"WNS\"\n",
    "\n",
    "print(\"{0} and {1} both are engaged with {4}. {1}'s age is {3} and {0}'s age is {2}\".format(X1,X2,X3,X4,X5))\n"
   ]
  },
  {
   "cell_type": "markdown",
   "metadata": {},
   "source": [
    "## 4. Problem Solving Skills: Business Problem"
   ]
  },
  {
   "cell_type": "code",
   "execution_count": 39,
   "metadata": {},
   "outputs": [
    {
     "data": {
      "text/plain": [
       "'\\nGood Morning [Customer_Name], \\n\\nI have a great deal for you today! \\nWe are selling [Product_Name] in INR [Product_Price] to you with [offer_percentage] discount. Please visit our website now to get more\\ninformation!\\n\\nThanks, \\nRaj\\n'"
      ]
     },
     "execution_count": 39,
     "metadata": {},
     "output_type": "execute_result"
    }
   ],
   "source": [
    "# A marketing person wants to send an automatic personalise email to few target customers: \n",
    "# He wants to promote some of the companies products such as computer in INR 30000, DSLR in INR 15000 \n",
    "# or Iphone in INR 22000. \n",
    "\n",
    "# Below is a Subject and mail body resp, to be sent through an email:\n",
    "\n",
    "# Subject \n",
    "'''\n",
    "Hurry Up! [customer_name] - This offer available to you only!\n",
    "'''\n",
    "\n",
    "# Mail Body\n",
    "'''\n",
    "Good Morning [Customer_Name], \n",
    "\n",
    "I have a great deal for you today! \n",
    "We are selling [Product_Name] in INR [Product_Price] to you with [offer_percentage] discount. Please visit our website now to get more\n",
    "information!\n",
    "\n",
    "Thanks, \n",
    "Raj\n",
    "'''\n",
    "\n",
    "# Now, you need to send this email to: Rohan and sale him computer in 30000 with 6000 discount:\n"
   ]
  },
  {
   "cell_type": "code",
   "execution_count": 42,
   "metadata": {},
   "outputs": [],
   "source": [
    "# Input Variables \n",
    "Customer_Name = 'Rohan'\n",
    "Product_Price = 40000\n",
    "offer_amount = 6000\n",
    "Product_Name = 'Computer'"
   ]
  },
  {
   "cell_type": "code",
   "execution_count": 108,
   "metadata": {},
   "outputs": [],
   "source": [
    "Subject = \"Hurry Up! \" + Customer_Name + \" - This offer available to you only!\"\n",
    "mail_body = \"Good Morning \"+ Customer_Name+\",\\n\\nI have a great deal for you today! \\nWe are selling \" + Product_Name+\" in INR \"+str(Product_Price)+\" to you with \"+str(int((offer_amount/Product_Price)*100)) +\"% discount. Please visit our website now to get more information \\n\\nThanks,\\nRaj\""
   ]
  },
  {
   "cell_type": "code",
   "execution_count": 109,
   "metadata": {},
   "outputs": [
    {
     "name": "stdout",
     "output_type": "stream",
     "text": [
      "Good Morning Rohan,\n",
      "\n",
      "I have a great deal for you today! \n",
      "We are selling Computer in INR 40000 to you with 15% discount. Please visit our website now to get more information \n",
      "\n",
      "Thanks,\n",
      "Raj\n"
     ]
    }
   ],
   "source": [
    "print(mail_body)"
   ]
  },
  {
   "cell_type": "markdown",
   "metadata": {},
   "source": [
    "## 5. Outlook Application"
   ]
  },
  {
   "cell_type": "code",
   "execution_count": 110,
   "metadata": {},
   "outputs": [],
   "source": [
    "# Outlook Setup \n",
    "import win32com.client as win32\n",
    "outlook = win32.Dispatch('outlook.application')"
   ]
  },
  {
   "cell_type": "code",
   "execution_count": 111,
   "metadata": {},
   "outputs": [],
   "source": [
    "mail = outlook.CreateItem(0)\n",
    "mail.To = 'chiranjeev.patidar@wns.com'\n",
    "mail.Subject = Subject\n",
    "mail.Body = mail_body"
   ]
  },
  {
   "cell_type": "code",
   "execution_count": 112,
   "metadata": {},
   "outputs": [],
   "source": [
    "# Mail Displaying \n",
    "mail.display()"
   ]
  },
  {
   "cell_type": "code",
   "execution_count": 150,
   "metadata": {},
   "outputs": [],
   "source": [
    "# Sending email\n",
    "mail.Send()"
   ]
  },
  {
   "cell_type": "markdown",
   "metadata": {},
   "source": [
    "## 6. Lists "
   ]
  },
  {
   "cell_type": "code",
   "execution_count": 48,
   "metadata": {},
   "outputs": [
    {
     "name": "stdout",
     "output_type": "stream",
     "text": [
      "[]\n",
      "[1, 2, 4]\n",
      "['R', 'Python', 'SAS', 'Scala', 42]\n"
     ]
    }
   ],
   "source": [
    "# Data structures are a special way of storing and accessing data and \n",
    "# play an important role in manipulations as well. \n",
    "# We will be covering the most widely used python data structures starting with lists. \n",
    "# Function Type: []\n",
    "\n",
    "# Example-1\n",
    "initial_list = []\n",
    "print(initial_list)\n",
    "\n",
    "# Example-2\n",
    "list_1 = [1,2,4]\n",
    "print(list_1)\n",
    "\n",
    "# Example-3\n",
    "Prog_language = ['R','Python', 'SAS', 'Scala', 42]\n",
    "print(Prog_language)"
   ]
  },
  {
   "cell_type": "code",
   "execution_count": 49,
   "metadata": {},
   "outputs": [
    {
     "name": "stdout",
     "output_type": "stream",
     "text": [
      "42\n",
      "<class 'int'>\n",
      "<class 'str'>\n"
     ]
    }
   ],
   "source": [
    "# Subseting, Slicing, Dicing Lists \n",
    "\n",
    "# Printing first element of list 'Prog_language'\n",
    "print(Prog_language[4])\n",
    "print(type(Prog_language[4]))\n",
    "print(type(Prog_language[2]))"
   ]
  },
  {
   "cell_type": "code",
   "execution_count": 50,
   "metadata": {},
   "outputs": [
    {
     "name": "stdout",
     "output_type": "stream",
     "text": [
      "['Python', 'SAS']\n"
     ]
    }
   ],
   "source": [
    "print(Prog_language[1:3])"
   ]
  },
  {
   "cell_type": "code",
   "execution_count": 51,
   "metadata": {},
   "outputs": [
    {
     "name": "stdout",
     "output_type": "stream",
     "text": [
      "['R', 'Python']\n"
     ]
    }
   ],
   "source": [
    "print(Prog_language[0:2])"
   ]
  },
  {
   "cell_type": "code",
   "execution_count": 52,
   "metadata": {},
   "outputs": [
    {
     "name": "stdout",
     "output_type": "stream",
     "text": [
      "['ram', 'romeo', 'ravan', [1, 2, 34]]\n"
     ]
    }
   ],
   "source": [
    "# Appending two lists \n",
    "list_1 = [1,2,34]\n",
    "list_2 = ['ram','romeo','ravan']\n",
    "list_2.append(list_1)\n",
    "print(list_2)"
   ]
  },
  {
   "cell_type": "code",
   "execution_count": 55,
   "metadata": {},
   "outputs": [
    {
     "data": {
      "text/plain": [
       "2"
      ]
     },
     "execution_count": 55,
     "metadata": {},
     "output_type": "execute_result"
    }
   ],
   "source": [
    "list_2[3][1]"
   ]
  },
  {
   "cell_type": "code",
   "execution_count": 57,
   "metadata": {},
   "outputs": [
    {
     "name": "stdout",
     "output_type": "stream",
     "text": [
      "[1, 2, 34, 'ram', 'romeo', 'ravan']\n"
     ]
    }
   ],
   "source": [
    "# Adding two lists elements in one list\n",
    "list_1 = [1,2,34]\n",
    "list_2 = ['ram','romeo','ravan']\n",
    "print(list_1+list_2)\n"
   ]
  },
  {
   "cell_type": "code",
   "execution_count": 58,
   "metadata": {},
   "outputs": [
    {
     "data": {
      "text/plain": [
       "['ram', 'romeo', 'ravan']"
      ]
     },
     "execution_count": 58,
     "metadata": {},
     "output_type": "execute_result"
    }
   ],
   "source": [
    "list_2"
   ]
  },
  {
   "cell_type": "code",
   "execution_count": 59,
   "metadata": {},
   "outputs": [
    {
     "data": {
      "text/plain": [
       "['ram', 'romeo', 'ravan', 1, 2, 34]"
      ]
     },
     "execution_count": 59,
     "metadata": {},
     "output_type": "execute_result"
    }
   ],
   "source": [
    "# Or extend() can also help us join two lists elementwise\n",
    "list_2.extend(list_1)\n",
    "\n",
    "list_2"
   ]
  },
  {
   "cell_type": "code",
   "execution_count": 54,
   "metadata": {},
   "outputs": [
    {
     "name": "stdout",
     "output_type": "stream",
     "text": [
      "['Raj', 'Rahul']\n"
     ]
    }
   ],
   "source": [
    "# Subtracting common elements from 1st list\n",
    "list_1 = ['Ram',\"Raj\",\"Rome\",\"Rahul\"]\n",
    "list_2 = ['Rome','Ram',12,34]\n",
    "\n",
    "list_3 = list(set(list_1)- set(list_2))\n",
    "print(list_3)"
   ]
  },
  {
   "cell_type": "code",
   "execution_count": 60,
   "metadata": {},
   "outputs": [
    {
     "name": "stdout",
     "output_type": "stream",
     "text": [
      "[1, 2, 34]\n",
      "['Shyam', 2, 34]\n"
     ]
    }
   ],
   "source": [
    "# Replacing elements values in the list \n",
    "print(list_1)\n",
    "list_1[0] = \"Shyam\"\n",
    "print(list_1)"
   ]
  },
  {
   "cell_type": "code",
   "execution_count": 62,
   "metadata": {},
   "outputs": [],
   "source": [
    "# Splitting the text into list elements\n",
    "mail = \"Hi CP, this is to inform you that I'm not well today. I won't be coming to office, but I'm available on call. Thanks.\""
   ]
  },
  {
   "cell_type": "code",
   "execution_count": 63,
   "metadata": {},
   "outputs": [
    {
     "name": "stdout",
     "output_type": "stream",
     "text": [
      "[\"Hi CP, this is to inform you that I'm not well today\", \" I won't be coming to office, but I'm available on call\", ' Thanks', '']\n"
     ]
    }
   ],
   "source": [
    "sentences_in_mail = mail.split('.')\n",
    "print(sentences_in_mail)"
   ]
  },
  {
   "cell_type": "code",
   "execution_count": 64,
   "metadata": {},
   "outputs": [
    {
     "data": {
      "text/plain": [
       "4"
      ]
     },
     "execution_count": 64,
     "metadata": {},
     "output_type": "execute_result"
    }
   ],
   "source": [
    "# Counting total elements\n",
    "len(sentences_in_mail)"
   ]
  },
  {
   "cell_type": "code",
   "execution_count": 66,
   "metadata": {},
   "outputs": [
    {
     "name": "stdout",
     "output_type": "stream",
     "text": [
      "Hi CP, this is to inform you that I'm not well today---- I won't be coming to office, but I'm available on call---- Thanks----\n"
     ]
    }
   ],
   "source": [
    "# Joining all the list elements into a single element\n",
    "mail = \"----\".join(sentences_in_mail)\n",
    "print(mail)"
   ]
  },
  {
   "cell_type": "code",
   "execution_count": 113,
   "metadata": {},
   "outputs": [
    {
     "name": "stdout",
     "output_type": "stream",
     "text": [
      "Number of apples is 2\n"
     ]
    }
   ],
   "source": [
    "# Slicing the string elements\n",
    "val = [\"2 apples\",\"123\"]\n",
    "no_of_apples = val[0][0] \n",
    "print('Number of apples is', no_of_apples)"
   ]
  },
  {
   "cell_type": "code",
   "execution_count": 70,
   "metadata": {},
   "outputs": [
    {
     "data": {
      "text/plain": [
       "str"
      ]
     },
     "execution_count": 70,
     "metadata": {},
     "output_type": "execute_result"
    }
   ],
   "source": [
    "type(val)"
   ]
  },
  {
   "cell_type": "code",
   "execution_count": 68,
   "metadata": {},
   "outputs": [
    {
     "name": "stdout",
     "output_type": "stream",
     "text": [
      "s\n",
      "apples\n",
      "apples\n"
     ]
    }
   ],
   "source": [
    "# Printing \"apples\"\n",
    "print(val[7])\n",
    "print(val[2:])\n",
    "print(val[2:8])"
   ]
  },
  {
   "cell_type": "code",
   "execution_count": 272,
   "metadata": {},
   "outputs": [
    {
     "name": "stdout",
     "output_type": "stream",
     "text": [
      "app\n"
     ]
    }
   ],
   "source": [
    "#slicing by specifying start and end index\n",
    "print(val[2:5])"
   ]
  },
  {
   "cell_type": "code",
   "execution_count": 62,
   "metadata": {},
   "outputs": [
    {
     "name": "stdout",
     "output_type": "stream",
     "text": [
      "5 oranges\n"
     ]
    }
   ],
   "source": [
    "# Example \n",
    "batch = \"5 oranges 3 monkeys n\"\n",
    "fruits = batch[ :9]\n",
    "print(fruits)"
   ]
  },
  {
   "cell_type": "code",
   "execution_count": 63,
   "metadata": {},
   "outputs": [
    {
     "name": "stdout",
     "output_type": "stream",
     "text": [
      "5 oranges 3 monkeys\n"
     ]
    }
   ],
   "source": [
    "# deleting the last two characters from the string\n",
    "print(batch[ :-2])"
   ]
  },
  {
   "cell_type": "code",
   "execution_count": 64,
   "metadata": {},
   "outputs": [
    {
     "name": "stdout",
     "output_type": "stream",
     "text": [
      "3 monkeys\n"
     ]
    }
   ],
   "source": [
    "# Extracting only specific portion of data \n",
    "animals = batch[10:-2]\n",
    "print(animals)"
   ]
  },
  {
   "cell_type": "markdown",
   "metadata": {},
   "source": [
    "## 7. Problem Solving Skills: Business Problem (Continue...) Application of lists"
   ]
  },
  {
   "cell_type": "code",
   "execution_count": 65,
   "metadata": {},
   "outputs": [],
   "source": [
    "# Old way of sending emails\n",
    "# Input Variables \n",
    "Customer_Name = 'Rohan'\n",
    "Product_Price = 40000\n",
    "offer_amount = 6000\n",
    "Product_Name = 'Computer'"
   ]
  },
  {
   "cell_type": "code",
   "execution_count": 66,
   "metadata": {},
   "outputs": [],
   "source": [
    "cust_info = [['Rohan',40000,6000,'Computer'],\n",
    "             ['Chiranjeev',50000,5000,'DSLR'],\n",
    "             ['Ram',70000,12000,'Apple Laptop'],\n",
    "             ['Ravan',80000,5000,'Computer']]"
   ]
  },
  {
   "cell_type": "code",
   "execution_count": 67,
   "metadata": {},
   "outputs": [
    {
     "data": {
      "text/plain": [
       "'\\nGood Morning [Customer_Name], \\n\\nI have a great deal for you today! \\nWe are selling [Product_Name] in INR [Product_Price] to you with [offer_percentage] discount. Please visit our website now to get more\\ninformation!\\n\\nThanks, \\nRaj\\n'"
      ]
     },
     "execution_count": 67,
     "metadata": {},
     "output_type": "execute_result"
    }
   ],
   "source": [
    "# Below is a Subject and mail body resp, to be sent through an email:\n",
    "\n",
    "# Subject \n",
    "'''\n",
    "Hurry Up! [customer_name] - This offer available to you only!\n",
    "'''\n",
    "\n",
    "# Mail Body\n",
    "'''\n",
    "Good Morning [Customer_Name], \n",
    "\n",
    "I have a great deal for you today! \n",
    "We are selling [Product_Name] in INR [Product_Price] to you with [offer_percentage] discount. Please visit our website now to get more\n",
    "information!\n",
    "\n",
    "Thanks, \n",
    "Raj\n",
    "'''\n"
   ]
  },
  {
   "cell_type": "code",
   "execution_count": 68,
   "metadata": {},
   "outputs": [
    {
     "name": "stdout",
     "output_type": "stream",
     "text": [
      "Good Morning Rohan,\n",
      "\n",
      "I have a great deal for you today! \n",
      "We are selling Computer in INR 40000 to you with 15.0% discount. Please visit our website now to get more information \n",
      "\n",
      "Thanks,\n",
      "Raj\n"
     ]
    }
   ],
   "source": [
    "# First Customer\n",
    "mail_body_cust1 = (\"Good Morning {0},\\n\\nI have a great deal for you today! \\nWe are selling {3} in INR {1} to you with {4}% discount. Please visit our website now to get more information \\n\\nThanks,\\nRaj\").format(cust_info[0][0],cust_info[0][1],cust_info[0][2],cust_info[0][3],(cust_info[0][2]/cust_info[0][1])*100)\n",
    "print(mail_body_cust1)"
   ]
  },
  {
   "cell_type": "code",
   "execution_count": 69,
   "metadata": {},
   "outputs": [
    {
     "name": "stdout",
     "output_type": "stream",
     "text": [
      "Good Morning Chiranjeev,\n",
      "\n",
      "I have a great deal for you today! \n",
      "We are selling DSLR in INR 50000 to you with 10.0% discount. Please visit our website now to get more information \n",
      "\n",
      "Thanks,\n",
      "Raj\n"
     ]
    }
   ],
   "source": [
    "# Second Customer\n",
    "mail_body_cust2 = (\"Good Morning {0},\\n\\nI have a great deal for you today! \\nWe are selling {3} in INR {1} to you with {4}% discount. Please visit our website now to get more information \\n\\nThanks,\\nRaj\").format(cust_info[1][0],cust_info[1][1],cust_info[1][2],cust_info[1][3],(cust_info[1][2]/cust_info[1][1])*100)\n",
    "print(mail_body_cust2)"
   ]
  },
  {
   "cell_type": "code",
   "execution_count": 70,
   "metadata": {},
   "outputs": [
    {
     "name": "stdout",
     "output_type": "stream",
     "text": [
      "Good Morning Ram,\n",
      "\n",
      "I have a great deal for you today! \n",
      "We are selling Apple Laptop in INR 70000 to you with 17% discount. Please visit our website now to get more information \n",
      "\n",
      "Thanks,\n",
      "Raj\n"
     ]
    }
   ],
   "source": [
    "# Third Customer\n",
    "mail_body_cust3 = (\"Good Morning {0},\\n\\nI have a great deal for you today! \\nWe are selling {3} in INR {1} to you with {4}% discount. Please visit our website now to get more information \\n\\nThanks,\\nRaj\").format(cust_info[2][0],cust_info[2][1],cust_info[2][2],cust_info[2][3],int((cust_info[2][2]/cust_info[2][1])*100))\n",
    "print(mail_body_cust3)"
   ]
  },
  {
   "cell_type": "code",
   "execution_count": 71,
   "metadata": {},
   "outputs": [
    {
     "name": "stdout",
     "output_type": "stream",
     "text": [
      "Good Morning Ravan,\n",
      "\n",
      "I have a great deal for you today! \n",
      "We are selling Computer in INR 80000 to you with 6% discount. Please visit our website now to get more information \n",
      "\n",
      "Thanks,\n",
      "Raj\n"
     ]
    }
   ],
   "source": [
    "# Forth Customer\n",
    "mail_body_cust4 = (\"Good Morning {0},\\n\\nI have a great deal for you today! \\nWe are selling {3} in INR {1} to you with {4}% discount. Please visit our website now to get more information \\n\\nThanks,\\nRaj\").format(cust_info[3][0],cust_info[3][1],cust_info[3][2],cust_info[3][3],int((cust_info[3][2]/cust_info[3][1])*100))\n",
    "print(mail_body_cust4)"
   ]
  },
  {
   "cell_type": "markdown",
   "metadata": {},
   "source": [
    "## 8. Tuples"
   ]
  },
  {
   "cell_type": "code",
   "execution_count": 73,
   "metadata": {},
   "outputs": [
    {
     "name": "stdout",
     "output_type": "stream",
     "text": [
      "Monty Python\n"
     ]
    }
   ],
   "source": [
    "# Tuples are data structures that are similar to lists in all aspects except in the way \n",
    "# they are declared and how much they allow themselves to be modified.\n",
    "first_tuple = (\"Monty Python\", 30, \"Baker Street\", 5.8)\n",
    "print(first_tuple[0])\n",
    "\n"
   ]
  },
  {
   "cell_type": "code",
   "execution_count": 74,
   "metadata": {},
   "outputs": [
    {
     "name": "stdout",
     "output_type": "stream",
     "text": [
      "('Mumbai', 18.9949521, 72.8141853)\n"
     ]
    }
   ],
   "source": [
    "city_tuple = (\"Mumbai\", 18.9949521, 72.8141853) \n",
    "print(city_tuple)"
   ]
  },
  {
   "cell_type": "code",
   "execution_count": 75,
   "metadata": {},
   "outputs": [
    {
     "name": "stdout",
     "output_type": "stream",
     "text": [
      "('Mumbai', 18.9949521, 72.8141853)\n"
     ]
    }
   ],
   "source": [
    "new_tuple = city_tuple\n",
    "print(new_tuple)"
   ]
  },
  {
   "cell_type": "code",
   "execution_count": 76,
   "metadata": {},
   "outputs": [
    {
     "ename": "TypeError",
     "evalue": "'tuple' object does not support item assignment",
     "output_type": "error",
     "traceback": [
      "\u001b[1;31m---------------------------------------------------------------------------\u001b[0m",
      "\u001b[1;31mTypeError\u001b[0m                                 Traceback (most recent call last)",
      "\u001b[1;32m<ipython-input-76-982b4cccb849>\u001b[0m in \u001b[0;36m<module>\u001b[1;34m()\u001b[0m\n\u001b[0;32m      1\u001b[0m \u001b[1;31m# Tuples are immutable. We cann't change the values inside any tuple\u001b[0m\u001b[1;33m\u001b[0m\u001b[1;33m\u001b[0m\u001b[0m\n\u001b[1;32m----> 2\u001b[1;33m \u001b[0mnew_tuple\u001b[0m\u001b[1;33m[\u001b[0m\u001b[1;36m1\u001b[0m\u001b[1;33m]\u001b[0m \u001b[1;33m=\u001b[0m \u001b[1;36m13.8877\u001b[0m\u001b[1;33m\u001b[0m\u001b[0m\n\u001b[0m",
      "\u001b[1;31mTypeError\u001b[0m: 'tuple' object does not support item assignment"
     ]
    }
   ],
   "source": [
    "# Tuples are immutable. We cann't change the values inside any tuple\n",
    "new_tuple[1] = 13.8877"
   ]
  },
  {
   "cell_type": "code",
   "execution_count": 77,
   "metadata": {},
   "outputs": [
    {
     "name": "stdout",
     "output_type": "stream",
     "text": [
      "('Mumbai', 18.9949521)\n",
      "2\n"
     ]
    }
   ],
   "source": [
    "# Negative index in Tuples: Similar to Lists\n",
    "b = city_tuple[:-1]\n",
    "print(b)\n",
    "print(len(b))"
   ]
  },
  {
   "cell_type": "code",
   "execution_count": 78,
   "metadata": {},
   "outputs": [
    {
     "name": "stdout",
     "output_type": "stream",
     "text": [
      "c is: ['Mumbai', 18.9949521]\n",
      "c is now a tuple: ('Mumbai', 18.9949521)\n"
     ]
    }
   ],
   "source": [
    "# Converting list to tuple\n",
    "c = list(b)\n",
    "print(\"c is: {0}\".format(c))\n",
    "\n",
    "\n",
    "c= tuple(c)\n",
    "print(\"c is now a tuple: {0}\".format(c))"
   ]
  },
  {
   "cell_type": "code",
   "execution_count": 79,
   "metadata": {},
   "outputs": [
    {
     "ename": "AttributeError",
     "evalue": "'tuple' object has no attribute 'extend'",
     "output_type": "error",
     "traceback": [
      "\u001b[1;31m---------------------------------------------------------------------------\u001b[0m",
      "\u001b[1;31mAttributeError\u001b[0m                            Traceback (most recent call last)",
      "\u001b[1;32m<ipython-input-79-81120798bedb>\u001b[0m in \u001b[0;36m<module>\u001b[1;34m()\u001b[0m\n\u001b[0;32m      1\u001b[0m \u001b[1;31m# Appending of two or more tuples are not possible\u001b[0m\u001b[1;33m\u001b[0m\u001b[1;33m\u001b[0m\u001b[0m\n\u001b[0;32m      2\u001b[0m \u001b[0md\u001b[0m \u001b[1;33m=\u001b[0m \u001b[1;33m(\u001b[0m\u001b[1;34m'12'\u001b[0m\u001b[1;33m,\u001b[0m\u001b[1;34m\"123\"\u001b[0m\u001b[1;33m)\u001b[0m\u001b[1;33m\u001b[0m\u001b[0m\n\u001b[1;32m----> 3\u001b[1;33m \u001b[0mc\u001b[0m\u001b[1;33m.\u001b[0m\u001b[0mextend\u001b[0m\u001b[1;33m(\u001b[0m\u001b[0md\u001b[0m\u001b[1;33m)\u001b[0m\u001b[1;33m\u001b[0m\u001b[0m\n\u001b[0m",
      "\u001b[1;31mAttributeError\u001b[0m: 'tuple' object has no attribute 'extend'"
     ]
    }
   ],
   "source": [
    "# Appending of two or more tuples are not possible\n",
    "d = ('12',\"123\")\n",
    "c.extend(d)"
   ]
  },
  {
   "cell_type": "code",
   "execution_count": 80,
   "metadata": {},
   "outputs": [
    {
     "name": "stdout",
     "output_type": "stream",
     "text": [
      "('Mumbai', 18.9949521, '12', '123')\n"
     ]
    }
   ],
   "source": [
    "# Addition of two tuples are possible \n",
    "print(c+d)"
   ]
  },
  {
   "cell_type": "markdown",
   "metadata": {},
   "source": [
    "## 9. Dictionaries "
   ]
  },
  {
   "cell_type": "code",
   "execution_count": 81,
   "metadata": {},
   "outputs": [
    {
     "name": "stdout",
     "output_type": "stream",
     "text": [
      "<class 'dict'>\n"
     ]
    }
   ],
   "source": [
    "# Empty Dictionary\n",
    "empty_dictionary = {}\n",
    "print(type(empty_dictionary))"
   ]
  },
  {
   "cell_type": "code",
   "execution_count": 71,
   "metadata": {},
   "outputs": [
    {
     "name": "stdout",
     "output_type": "stream",
     "text": [
      "{'Name': 'Bob romeo', 'Age': 35, 'Height': '5.6 ft', 'Hobby': 'Music'}\n"
     ]
    }
   ],
   "source": [
    "# Example-1 \n",
    "bio_data = {'Name': 'Bob romeo', 'Age':35, 'Height':\"5.6 ft\", 'Hobby': 'Music'}\n",
    "print(bio_data)"
   ]
  },
  {
   "cell_type": "code",
   "execution_count": 83,
   "metadata": {},
   "outputs": [
    {
     "name": "stdout",
     "output_type": "stream",
     "text": [
      "Music\n"
     ]
    }
   ],
   "source": [
    "hobby = bio_data['Hobby']\n",
    "print(hobby)"
   ]
  },
  {
   "cell_type": "code",
   "execution_count": 72,
   "metadata": {},
   "outputs": [
    {
     "name": "stdout",
     "output_type": "stream",
     "text": [
      "35\n",
      "35\n"
     ]
    }
   ],
   "source": [
    "age = bio_data['Age']\n",
    "print(age)\n",
    "\n",
    "# OR \n",
    "\n",
    "age = bio_data.get('Age')\n",
    "print(age)"
   ]
  },
  {
   "cell_type": "code",
   "execution_count": 85,
   "metadata": {},
   "outputs": [
    {
     "name": "stdout",
     "output_type": "stream",
     "text": [
      "{'Name': 'Bob romeo', 'Age': 36, 'Height': '5.6 ft', 'Hobby': 'Music'}\n"
     ]
    }
   ],
   "source": [
    "# Changing Value in bio_data dictionary \n",
    "bio_data['Age'] = 36\n",
    "print(bio_data)"
   ]
  },
  {
   "cell_type": "code",
   "execution_count": 86,
   "metadata": {},
   "outputs": [
    {
     "name": "stdout",
     "output_type": "stream",
     "text": [
      "['Name', 'Age', 'Height', 'Hobby']\n",
      "['Bob romeo', 36, '5.6 ft', 'Music']\n"
     ]
    }
   ],
   "source": [
    "#get list of keys\n",
    "print(list(bio_data.keys()))\n",
    "\n",
    "#get list of values\n",
    "print(list(bio_data.values()))"
   ]
  },
  {
   "cell_type": "code",
   "execution_count": 87,
   "metadata": {},
   "outputs": [
    {
     "name": "stdout",
     "output_type": "stream",
     "text": [
      "{'Country': 'Jamaica', 'Songs': ['One Love', 'Misty Morning']}\n"
     ]
    }
   ],
   "source": [
    "# Creating new dictionary \n",
    "new_dictionary = dict(Country='Jamaica', Songs=['One Love','Misty Morning'])\n",
    "print(new_dictionary)"
   ]
  },
  {
   "cell_type": "code",
   "execution_count": 88,
   "metadata": {},
   "outputs": [
    {
     "name": "stdout",
     "output_type": "stream",
     "text": [
      "{'Name': 'Bob romeo', 'Age': 36, 'Height': '5.6 ft', 'Hobby': 'Music', 'Country': 'Jamaica', 'Songs': ['One Love', 'Misty Morning']}\n"
     ]
    }
   ],
   "source": [
    "# Updating the bio_data dictionary with additional information \n",
    "bio_data.update(new_dictionary)\n",
    "print(bio_data)"
   ]
  },
  {
   "cell_type": "code",
   "execution_count": 89,
   "metadata": {},
   "outputs": [
    {
     "name": "stdout",
     "output_type": "stream",
     "text": [
      "{1: ['Shivam Bansal', 24], 2: ['Udit Bansal', 25], 3: ['Sonam Gupta', 26], 4: ['Saif Ansari', 24], 5: ['Huzefa Calcuttawala', 27]}\n"
     ]
    }
   ],
   "source": [
    "# Example-2\n",
    "students_data = { 1:['Shivam Bansal', 24] , 2:['Udit Bansal',25], 3:['Sonam Gupta', 26], 4:['Saif Ansari',24], 5:['Huzefa Calcuttawala',27]}\n",
    "print(students_data)"
   ]
  },
  {
   "cell_type": "code",
   "execution_count": 90,
   "metadata": {},
   "outputs": [
    {
     "name": "stdout",
     "output_type": "stream",
     "text": [
      "5\n"
     ]
    }
   ],
   "source": [
    "# Printing length of dictionary i.e total count of keys in dict\n",
    "print(len(students_data))"
   ]
  },
  {
   "cell_type": "code",
   "execution_count": 91,
   "metadata": {},
   "outputs": [
    {
     "name": "stdout",
     "output_type": "stream",
     "text": [
      "[['Shivam Bansal', 24], ['Udit Bansal', 25], ['Sonam Gupta', 26], ['Saif Ansari', 24], ['Huzefa Calcuttawala', 27]]\n"
     ]
    }
   ],
   "source": [
    "#see all the details of students in lists. \n",
    "print(list(students_data.values()))"
   ]
  },
  {
   "cell_type": "code",
   "execution_count": 92,
   "metadata": {},
   "outputs": [
    {
     "name": "stdout",
     "output_type": "stream",
     "text": [
      "{1: ['Shivam Bansal', 24], 2: ['Udit Bansal', 25], 3: ['Sonam Gupta', 26], 4: ['Saif Ansari', 24], 5: ['Huzefa Calcuttawala', 27], 6: ['Manasi Sharma', 22]}\n"
     ]
    }
   ],
   "source": [
    "# Adding 6th students details in student data dict\n",
    "students_data[6] = ['Manasi Sharma', 22]\n",
    "print(students_data)\n"
   ]
  },
  {
   "cell_type": "code",
   "execution_count": 93,
   "metadata": {},
   "outputs": [
    {
     "name": "stdout",
     "output_type": "stream",
     "text": [
      "{1: ['Shivam Bansal', 24], 3: ['Sonam Gupta', 26], 4: ['Saif Ansari', 24], 5: ['Huzefa Calcuttawala', 27], 6: ['Manasi Sharma', 22]}\n"
     ]
    }
   ],
   "source": [
    "# Deleting 2nd key of dictionary\n",
    "del students_data[2]\n",
    "print(students_data)"
   ]
  },
  {
   "cell_type": "code",
   "execution_count": 94,
   "metadata": {},
   "outputs": [],
   "source": [
    "# Nested Dict.\n",
    "Dictionary= {1: 'Geeks', 2: 'For', 3: {'A' : 'Welcome', 'B' : 'To', 'C' : 'Geeks'}}"
   ]
  },
  {
   "cell_type": "code",
   "execution_count": 95,
   "metadata": {},
   "outputs": [
    {
     "data": {
      "text/plain": [
       "{1: 'Geeks', 2: 'For', 3: {'A': 'Welcome', 'B': 'To', 'C': 'Geeks'}}"
      ]
     },
     "execution_count": 95,
     "metadata": {},
     "output_type": "execute_result"
    }
   ],
   "source": [
    "Dictionary"
   ]
  },
  {
   "cell_type": "code",
   "execution_count": 114,
   "metadata": {},
   "outputs": [],
   "source": [
    "import flask"
   ]
  },
  {
   "cell_type": "code",
   "execution_count": null,
   "metadata": {},
   "outputs": [],
   "source": []
  }
 ],
 "metadata": {
  "anaconda-cloud": {},
  "kernelspec": {
   "display_name": "Python 3",
   "language": "python",
   "name": "python3"
  },
  "language_info": {
   "codemirror_mode": {
    "name": "ipython",
    "version": 3
   },
   "file_extension": ".py",
   "mimetype": "text/x-python",
   "name": "python",
   "nbconvert_exporter": "python",
   "pygments_lexer": "ipython3",
   "version": "3.6.4"
  }
 },
 "nbformat": 4,
 "nbformat_minor": 1
}
