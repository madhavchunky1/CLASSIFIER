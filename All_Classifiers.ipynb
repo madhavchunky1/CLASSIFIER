{
 "cells": [
  {
   "cell_type": "code",
   "execution_count": 1,
   "metadata": {},
   "outputs": [
    {
     "name": "stderr",
     "output_type": "stream",
     "text": [
      "/home/madhav/anaconda3/lib/python3.6/site-packages/sklearn/cross_validation.py:41: DeprecationWarning: This module was deprecated in version 0.18 in favor of the model_selection module into which all the refactored classes and functions are moved. Also note that the interface of the new CV iterators are different from that of this module. This module will be removed in 0.20.\n",
      "  \"This module will be removed in 0.20.\", DeprecationWarning)\n"
     ]
    }
   ],
   "source": [
    "######### Importing all the required packages ###################\n",
    "\n",
    "import numpy as np\n",
    "import pandas as pd\n",
    "from sklearn import preprocessing\n",
    "import matplotlib.pyplot as plt \n",
    "from sklearn.linear_model import LogisticRegression\n",
    "from sklearn import metrics\n",
    "from imblearn.over_sampling import SMOTE\n",
    "from sklearn.linear_model import LogisticRegression\n",
    "from sklearn.cross_validation import train_test_split\n",
    "import seaborn as sns\n",
    "\n",
    "\n",
    "import dataset "
   ]
  },
  {
   "cell_type": "code",
   "execution_count": 2,
   "metadata": {},
   "outputs": [],
   "source": [
    "####################### Data Import ####################\n",
    "data = pd.read_csv(\"/home/madhav/Desktop/MADHAV/Telcom_Data.csv\")\n",
    "data=pd.DataFrame(data)"
   ]
  },
  {
   "cell_type": "code",
   "execution_count": 3,
   "metadata": {},
   "outputs": [
    {
     "name": "stdout",
     "output_type": "stream",
     "text": [
      "<class 'pandas.core.frame.DataFrame'>\n",
      "RangeIndex: 3333 entries, 0 to 3332\n",
      "Data columns (total 21 columns):\n",
      "state                     3333 non-null object\n",
      "account length            3333 non-null int64\n",
      "area code                 3333 non-null int64\n",
      "phone number              3333 non-null object\n",
      "international plan        3333 non-null object\n",
      "voice mail plan           3333 non-null object\n",
      "number vmail messages     3333 non-null int64\n",
      "total day minutes         3333 non-null float64\n",
      "total day calls           3333 non-null int64\n",
      "total day charge          3333 non-null float64\n",
      "total eve minutes         3333 non-null float64\n",
      "total eve calls           3333 non-null int64\n",
      "total eve charge          3333 non-null float64\n",
      "total night minutes       3333 non-null float64\n",
      "total night calls         3333 non-null int64\n",
      "total night charge        3333 non-null float64\n",
      "total intl minutes        3333 non-null float64\n",
      "total intl calls          3333 non-null int64\n",
      "total intl charge         3333 non-null float64\n",
      "customer service calls    3333 non-null int64\n",
      "churn                     3333 non-null bool\n",
      "dtypes: bool(1), float64(8), int64(8), object(4)\n",
      "memory usage: 524.1+ KB\n"
     ]
    }
   ],
   "source": [
    "data.info()"
   ]
  },
  {
   "cell_type": "code",
   "execution_count": 4,
   "metadata": {},
   "outputs": [
    {
     "data": {
      "text/plain": [
       "(3333, 21)"
      ]
     },
     "execution_count": 4,
     "metadata": {},
     "output_type": "execute_result"
    }
   ],
   "source": [
    "data.shape"
   ]
  },
  {
   "cell_type": "code",
   "execution_count": 5,
   "metadata": {},
   "outputs": [
    {
     "data": {
      "text/plain": [
       "state                      object\n",
       "account length              int64\n",
       "area code                   int64\n",
       "phone number               object\n",
       "international plan         object\n",
       "voice mail plan            object\n",
       "number vmail messages       int64\n",
       "total day minutes         float64\n",
       "total day calls             int64\n",
       "total day charge          float64\n",
       "total eve minutes         float64\n",
       "total eve calls             int64\n",
       "total eve charge          float64\n",
       "total night minutes       float64\n",
       "total night calls           int64\n",
       "total night charge        float64\n",
       "total intl minutes        float64\n",
       "total intl calls            int64\n",
       "total intl charge         float64\n",
       "customer service calls      int64\n",
       "churn                        bool\n",
       "dtype: object"
      ]
     },
     "execution_count": 5,
     "metadata": {},
     "output_type": "execute_result"
    }
   ],
   "source": [
    "data.dtypes"
   ]
  },
  {
   "cell_type": "code",
   "execution_count": 6,
   "metadata": {},
   "outputs": [],
   "source": [
    "############################### OUTLIER REMOVAL #######################################################"
   ]
  },
  {
   "cell_type": "code",
   "execution_count": 7,
   "metadata": {},
   "outputs": [
    {
     "data": {
      "text/plain": [
       "{'whiskers': [<matplotlib.lines.Line2D at 0x7f9c430ad438>,\n",
       "  <matplotlib.lines.Line2D at 0x7f9c430ad8d0>],\n",
       " 'caps': [<matplotlib.lines.Line2D at 0x7f9c430adcf8>,\n",
       "  <matplotlib.lines.Line2D at 0x7f9c430bf160>],\n",
       " 'boxes': [<matplotlib.lines.Line2D at 0x7f9c430ad2e8>],\n",
       " 'medians': [<matplotlib.lines.Line2D at 0x7f9c430bf588>],\n",
       " 'fliers': [<matplotlib.lines.Line2D at 0x7f9c430bf9b0>],\n",
       " 'means': []}"
      ]
     },
     "execution_count": 7,
     "metadata": {},
     "output_type": "execute_result"
    },
    {
     "data": {
      "image/png": "[encoded data removed]",
      "text/plain": [
       "<Figure size 432x288 with 1 Axes>"
      ]
     },
     "metadata": {},
     "output_type": "display_data"
    }
   ],
   "source": [
    "acclen_in = data[data['account length'] <208]\n",
    "plt.boxplot(acclen_in['account length'])"
   ]
  },
  {
   "cell_type": "code",
   "execution_count": 8,
   "metadata": {},
   "outputs": [
    {
     "data": {
      "text/plain": [
       "{'whiskers': [<matplotlib.lines.Line2D at 0x7f9c42fc4198>,\n",
       "  <matplotlib.lines.Line2D at 0x7f9c42fc4630>],\n",
       " 'caps': [<matplotlib.lines.Line2D at 0x7f9c42fc4a58>,\n",
       "  <matplotlib.lines.Line2D at 0x7f9c42fc4e80>],\n",
       " 'boxes': [<matplotlib.lines.Line2D at 0x7f9c42fc4048>],\n",
       " 'medians': [<matplotlib.lines.Line2D at 0x7f9c42fce2e8>],\n",
       " 'fliers': [<matplotlib.lines.Line2D at 0x7f9c42fce710>],\n",
       " 'means': []}"
      ]
     },
     "execution_count": 8,
     "metadata": {},
     "output_type": "execute_result"
    },
    {
     "data": {
      "image/png": "[encoded data removed]",
      "text/plain": [
       "<Figure size 432x288 with 1 Axes>"
      ]
     },
     "metadata": {},
     "output_type": "display_data"
    }
   ],
   "source": [
    "daymin_in = acclen_in[(acclen_in['total day minutes'] <324) & (acclen_in['total day minutes']>36) ]\n",
    "plt.boxplot(daymin_in['total day minutes'])"
   ]
  },
  {
   "cell_type": "code",
   "execution_count": 9,
   "metadata": {},
   "outputs": [
    {
     "data": {
      "text/plain": [
       "{'whiskers': [<matplotlib.lines.Line2D at 0x7f9c42f9ec88>,\n",
       "  <matplotlib.lines.Line2D at 0x7f9c42fa7160>],\n",
       " 'caps': [<matplotlib.lines.Line2D at 0x7f9c42fa7588>,\n",
       "  <matplotlib.lines.Line2D at 0x7f9c42fa79b0>],\n",
       " 'boxes': [<matplotlib.lines.Line2D at 0x7f9c42f9eb38>],\n",
       " 'medians': [<matplotlib.lines.Line2D at 0x7f9c42fa7dd8>],\n",
       " 'fliers': [<matplotlib.lines.Line2D at 0x7f9c42fb1240>],\n",
       " 'means': []}"
      ]
     },
     "execution_count": 9,
     "metadata": {},
     "output_type": "execute_result"
    },
    {
     "data": {
      "image/png": "[encoded data removed]",
      "text/plain": [
       "<Figure size 432x288 with 1 Axes>"
      ]
     },
     "metadata": {},
     "output_type": "display_data"
    }
   ],
   "source": [
    "daycall_in = daymin_in[(daymin_in['total day calls'] <156) & (daymin_in['total day calls']>48) ]\n",
    "plt.boxplot(daycall_in['total day calls'])"
   ]
  },
  {
   "cell_type": "code",
   "execution_count": 10,
   "metadata": {},
   "outputs": [
    {
     "data": {
      "text/plain": [
       "{'whiskers': [<matplotlib.lines.Line2D at 0x7f9c42f7f240>,\n",
       "  <matplotlib.lines.Line2D at 0x7f9c42f7f6d8>],\n",
       " 'caps': [<matplotlib.lines.Line2D at 0x7f9c42f7fb00>,\n",
       "  <matplotlib.lines.Line2D at 0x7f9c42f7ff28>],\n",
       " 'boxes': [<matplotlib.lines.Line2D at 0x7f9c42f7f0f0>],\n",
       " 'medians': [<matplotlib.lines.Line2D at 0x7f9c42f08390>],\n",
       " 'fliers': [<matplotlib.lines.Line2D at 0x7f9c42f087b8>],\n",
       " 'means': []}"
      ]
     },
     "execution_count": 10,
     "metadata": {},
     "output_type": "execute_result"
    },
    {
     "data": {
      "image/png": "[encoded data removed]",
      "text/plain": [
       "<Figure size 432x288 with 1 Axes>"
      ]
     },
     "metadata": {},
     "output_type": "display_data"
    }
   ],
   "source": [
    "daychar_in = daycall_in[(daycall_in['total day charge'] <200) & (daycall_in['total day charge']>0)]\n",
    "plt.boxplot(daychar_in['total day charge'])"
   ]
  },
  {
   "cell_type": "code",
   "execution_count": 11,
   "metadata": {},
   "outputs": [
    {
     "data": {
      "text/plain": [
       "{'whiskers': [<matplotlib.lines.Line2D at 0x7f9c42ed8470>,\n",
       "  <matplotlib.lines.Line2D at 0x7f9c42ed8908>],\n",
       " 'caps': [<matplotlib.lines.Line2D at 0x7f9c42ed8d30>,\n",
       "  <matplotlib.lines.Line2D at 0x7f9c42ee1198>],\n",
       " 'boxes': [<matplotlib.lines.Line2D at 0x7f9c42ed8320>],\n",
       " 'medians': [<matplotlib.lines.Line2D at 0x7f9c42ee15c0>],\n",
       " 'fliers': [<matplotlib.lines.Line2D at 0x7f9c42ee19e8>],\n",
       " 'means': []}"
      ]
     },
     "execution_count": 11,
     "metadata": {},
     "output_type": "execute_result"
    },
    {
     "data": {
      "image/png": "[encoded data removed]",
      "text/plain": [
       "<Figure size 432x288 with 1 Axes>"
      ]
     },
     "metadata": {},
     "output_type": "display_data"
    }
   ],
   "source": [
    "evemin_in = daychar_in[(daychar_in['total eve minutes'] <335) & (daychar_in['total eve minutes']>67) ]\n",
    "plt.boxplot(evemin_in['total eve minutes'])"
   ]
  },
  {
   "cell_type": "code",
   "execution_count": 12,
   "metadata": {},
   "outputs": [
    {
     "data": {
      "text/plain": [
       "{'whiskers': [<matplotlib.lines.Line2D at 0x7f9c42eb2550>,\n",
       "  <matplotlib.lines.Line2D at 0x7f9c42eb29e8>],\n",
       " 'caps': [<matplotlib.lines.Line2D at 0x7f9c42eb2e10>,\n",
       "  <matplotlib.lines.Line2D at 0x7f9c42eb9278>],\n",
       " 'boxes': [<matplotlib.lines.Line2D at 0x7f9c42eb2400>],\n",
       " 'medians': [<matplotlib.lines.Line2D at 0x7f9c42eb96a0>],\n",
       " 'fliers': [<matplotlib.lines.Line2D at 0x7f9c42eb9ac8>],\n",
       " 'means': []}"
      ]
     },
     "execution_count": 12,
     "metadata": {},
     "output_type": "execute_result"
    },
    {
     "data": {
      "image/png": "[encoded data removed]",
      "text/plain": [
       "<Figure size 432x288 with 1 Axes>"
      ]
     },
     "metadata": {},
     "output_type": "display_data"
    }
   ],
   "source": [
    "evecall_in = evemin_in[(evemin_in['total eve calls'] <152) & (evemin_in['total eve calls']>65) ]\n",
    "plt.boxplot(evecall_in['total eve calls'])"
   ]
  },
  {
   "cell_type": "code",
   "execution_count": 13,
   "metadata": {},
   "outputs": [
    {
     "data": {
      "text/plain": [
       "{'whiskers': [<matplotlib.lines.Line2D at 0x7f9c42e08128>,\n",
       "  <matplotlib.lines.Line2D at 0x7f9c42e085c0>],\n",
       " 'caps': [<matplotlib.lines.Line2D at 0x7f9c42e089e8>,\n",
       "  <matplotlib.lines.Line2D at 0x7f9c42e08e10>],\n",
       " 'boxes': [<matplotlib.lines.Line2D at 0x7f9c42e7bf98>],\n",
       " 'medians': [<matplotlib.lines.Line2D at 0x7f9c42e0f278>],\n",
       " 'fliers': [<matplotlib.lines.Line2D at 0x7f9c42e0f6a0>],\n",
       " 'means': []}"
      ]
     },
     "execution_count": 13,
     "metadata": {},
     "output_type": "execute_result"
    },
    {
     "data": {
      "image/png": "[encoded data removed]",
      "text/plain": [
       "<Figure size 432x288 with 1 Axes>"
      ]
     },
     "metadata": {},
     "output_type": "display_data"
    }
   ],
   "source": [
    "evechr_in = evecall_in[(evecall_in['total eve charge'] <30.91) & (evecall_in['total eve charge']>0) ]\n",
    "plt.boxplot(evechr_in['total eve charge'])"
   ]
  },
  {
   "cell_type": "code",
   "execution_count": 14,
   "metadata": {},
   "outputs": [
    {
     "data": {
      "text/plain": [
       "{'whiskers': [<matplotlib.lines.Line2D at 0x7f9c42ddf0f0>,\n",
       "  <matplotlib.lines.Line2D at 0x7f9c42ddf588>],\n",
       " 'caps': [<matplotlib.lines.Line2D at 0x7f9c42ddf9b0>,\n",
       "  <matplotlib.lines.Line2D at 0x7f9c42ddfdd8>],\n",
       " 'boxes': [<matplotlib.lines.Line2D at 0x7f9c42dd6f60>],\n",
       " 'medians': [<matplotlib.lines.Line2D at 0x7f9c42de9240>],\n",
       " 'fliers': [<matplotlib.lines.Line2D at 0x7f9c42de9668>],\n",
       " 'means': []}"
      ]
     },
     "execution_count": 14,
     "metadata": {},
     "output_type": "execute_result"
    },
    {
     "data": {
      "image/png": "[encoded data removed]",
      "text/plain": [
       "<Figure size 432x288 with 1 Axes>"
      ]
     },
     "metadata": {},
     "output_type": "display_data"
    }
   ],
   "source": [
    "nitmin_in = evechr_in[(evechr_in['total night minutes']<342) & (evechr_in['total night minutes']>66)]\n",
    "plt.boxplot(nitmin_in['total night minutes'])"
   ]
  },
  {
   "cell_type": "code",
   "execution_count": 15,
   "metadata": {},
   "outputs": [
    {
     "name": "stderr",
     "output_type": "stream",
     "text": [
      "/home/madhav/anaconda3/lib/python3.6/site-packages/ipykernel_launcher.py:1: UserWarning: Boolean Series key will be reindexed to match DataFrame index.\n",
      "  \"\"\"Entry point for launching an IPython kernel.\n"
     ]
    },
    {
     "data": {
      "text/plain": [
       "{'whiskers': [<matplotlib.lines.Line2D at 0x7f9c42dbc208>,\n",
       "  <matplotlib.lines.Line2D at 0x7f9c42dbc6a0>],\n",
       " 'caps': [<matplotlib.lines.Line2D at 0x7f9c42dbcac8>,\n",
       "  <matplotlib.lines.Line2D at 0x7f9c42dbcef0>],\n",
       " 'boxes': [<matplotlib.lines.Line2D at 0x7f9c42dbc0b8>],\n",
       " 'medians': [<matplotlib.lines.Line2D at 0x7f9c42d44358>],\n",
       " 'fliers': [<matplotlib.lines.Line2D at 0x7f9c42d44780>],\n",
       " 'means': []}"
      ]
     },
     "execution_count": 15,
     "metadata": {},
     "output_type": "execute_result"
    },
    {
     "data": {
      "image/png": "[encoded data removed]",
      "text/plain": [
       "<Figure size 432x288 with 1 Axes>"
      ]
     },
     "metadata": {},
     "output_type": "display_data"
    }
   ],
   "source": [
    "nitcal_in = nitmin_in[(nitmin_in['total night calls']< 153) & (data['total night calls']>46)]\n",
    "plt.boxplot(nitcal_in['total night calls'])"
   ]
  },
  {
   "cell_type": "code",
   "execution_count": 16,
   "metadata": {},
   "outputs": [
    {
     "data": {
      "text/plain": [
       "{'whiskers': [<matplotlib.lines.Line2D at 0x7f9c42d122b0>,\n",
       "  <matplotlib.lines.Line2D at 0x7f9c42d12748>],\n",
       " 'caps': [<matplotlib.lines.Line2D at 0x7f9c42d12b70>,\n",
       "  <matplotlib.lines.Line2D at 0x7f9c42d12f98>],\n",
       " 'boxes': [<matplotlib.lines.Line2D at 0x7f9c42d12160>],\n",
       " 'medians': [<matplotlib.lines.Line2D at 0x7f9c42d1c400>],\n",
       " 'fliers': [<matplotlib.lines.Line2D at 0x7f9c42d1c828>],\n",
       " 'means': []}"
      ]
     },
     "execution_count": 16,
     "metadata": {},
     "output_type": "execute_result"
    },
    {
     "data": {
      "image/png": "[encoded data removed]",
      "text/plain": [
       "<Figure size 432x288 with 1 Axes>"
      ]
     },
     "metadata": {},
     "output_type": "display_data"
    }
   ],
   "source": [
    "nitcha_in = nitcal_in[(nitcal_in['total night charge']< 15) & (nitcal_in['total night charge']>3)]\n",
    "plt.boxplot(nitcha_in['total night charge'])"
   ]
  },
  {
   "cell_type": "code",
   "execution_count": 17,
   "metadata": {},
   "outputs": [
    {
     "name": "stderr",
     "output_type": "stream",
     "text": [
      "/home/madhav/anaconda3/lib/python3.6/site-packages/ipykernel_launcher.py:1: UserWarning: Boolean Series key will be reindexed to match DataFrame index.\n",
      "  \"\"\"Entry point for launching an IPython kernel.\n"
     ]
    },
    {
     "data": {
      "text/plain": [
       "{'whiskers': [<matplotlib.lines.Line2D at 0x7f9c42ceb630>,\n",
       "  <matplotlib.lines.Line2D at 0x7f9c42cebac8>],\n",
       " 'caps': [<matplotlib.lines.Line2D at 0x7f9c42cebef0>,\n",
       "  <matplotlib.lines.Line2D at 0x7f9c42cf4358>],\n",
       " 'boxes': [<matplotlib.lines.Line2D at 0x7f9c42ceb4e0>],\n",
       " 'medians': [<matplotlib.lines.Line2D at 0x7f9c42cf4780>],\n",
       " 'fliers': [<matplotlib.lines.Line2D at 0x7f9c42cf4ba8>],\n",
       " 'means': []}"
      ]
     },
     "execution_count": 17,
     "metadata": {},
     "output_type": "execute_result"
    },
    {
     "data": {
      "image/png": "[encoded data removed]",
      "text/plain": [
       "<Figure size 432x288 with 1 Axes>"
      ]
     },
     "metadata": {},
     "output_type": "display_data"
    }
   ],
   "source": [
    "intlmin_in = nitcha_in[(nitcha_in['total intl minutes']< 17.5) & (data['total intl minutes']>3.1)]\n",
    "plt.boxplot(intlmin_in['total intl minutes'])"
   ]
  },
  {
   "cell_type": "code",
   "execution_count": 18,
   "metadata": {},
   "outputs": [
    {
     "name": "stderr",
     "output_type": "stream",
     "text": [
      "/home/madhav/anaconda3/lib/python3.6/site-packages/ipykernel_launcher.py:1: UserWarning: Boolean Series key will be reindexed to match DataFrame index.\n",
      "  \"\"\"Entry point for launching an IPython kernel.\n"
     ]
    },
    {
     "data": {
      "text/plain": [
       "{'whiskers': [<matplotlib.lines.Line2D at 0x7f9c42c4e080>,\n",
       "  <matplotlib.lines.Line2D at 0x7f9c42c4e518>],\n",
       " 'caps': [<matplotlib.lines.Line2D at 0x7f9c42c4e940>,\n",
       "  <matplotlib.lines.Line2D at 0x7f9c42c4ed68>],\n",
       " 'boxes': [<matplotlib.lines.Line2D at 0x7f9c42c43ef0>],\n",
       " 'medians': [<matplotlib.lines.Line2D at 0x7f9c42c561d0>],\n",
       " 'fliers': [<matplotlib.lines.Line2D at 0x7f9c42c565f8>],\n",
       " 'means': []}"
      ]
     },
     "execution_count": 18,
     "metadata": {},
     "output_type": "execute_result"
    },
    {
     "data": {
      "image/png": "[encoded data removed]",
      "text/plain": [
       "<Figure size 432x288 with 1 Axes>"
      ]
     },
     "metadata": {},
     "output_type": "display_data"
    }
   ],
   "source": [
    "intlchrg_in = intlmin_in[(intlmin_in['total intl charge']< 200) & (data['total intl charge']>0)]\n",
    "plt.boxplot(intlchrg_in['total intl charge'])"
   ]
  },
  {
   "cell_type": "code",
   "execution_count": 19,
   "metadata": {},
   "outputs": [
    {
     "data": {
      "text/plain": [
       "{'whiskers': [<matplotlib.lines.Line2D at 0x7f9c42c24f98>,\n",
       "  <matplotlib.lines.Line2D at 0x7f9c42c2d470>],\n",
       " 'caps': [<matplotlib.lines.Line2D at 0x7f9c42c2d898>,\n",
       "  <matplotlib.lines.Line2D at 0x7f9c42c2dcc0>],\n",
       " 'boxes': [<matplotlib.lines.Line2D at 0x7f9c42c24e48>],\n",
       " 'medians': [<matplotlib.lines.Line2D at 0x7f9c42c38128>],\n",
       " 'fliers': [<matplotlib.lines.Line2D at 0x7f9c42c38550>],\n",
       " 'means': []}"
      ]
     },
     "execution_count": 19,
     "metadata": {},
     "output_type": "execute_result"
    },
    {
     "data": {
      "image/png": "[encoded data removed]",
      "text/plain": [
       "<Figure size 432x288 with 1 Axes>"
      ]
     },
     "metadata": {},
     "output_type": "display_data"
    }
   ],
   "source": [
    "cuscall_in = intlchrg_in[(intlchrg_in['customer service calls'] < 4.0) & (intlchrg_in['customer service calls']>0)]\n",
    "plt.boxplot(cuscall_in['customer service calls'])"
   ]
  },
  {
   "cell_type": "code",
   "execution_count": 20,
   "metadata": {},
   "outputs": [],
   "source": [
    "######### Data Import ####################\n",
    "#data = pd.read_csv(\"/home/madhav/Desktop/MADHAV/finaldata.csv\")\n",
    "data=cuscall_in"
   ]
  },
  {
   "cell_type": "code",
   "execution_count": 21,
   "metadata": {},
   "outputs": [
    {
     "data": {
      "text/plain": [
       "(2109, 21)"
      ]
     },
     "execution_count": 21,
     "metadata": {},
     "output_type": "execute_result"
    }
   ],
   "source": [
    "######## View of data #########\n",
    "\n",
    "data.shape  ## Number of rows and columns "
   ]
  },
  {
   "cell_type": "code",
   "execution_count": 22,
   "metadata": {},
   "outputs": [
    {
     "data": {
      "text/plain": [
       "21"
      ]
     },
     "execution_count": 22,
     "metadata": {},
     "output_type": "execute_result"
    }
   ],
   "source": [
    "len(data.columns) ## Number of variables"
   ]
  },
  {
   "cell_type": "code",
   "execution_count": 23,
   "metadata": {},
   "outputs": [
    {
     "data": {
      "text/html": [
       "<div>\n",
       "<style scoped>\n",
       "    .dataframe tbody tr th:only-of-type {\n",
       "        vertical-align: middle;\n",
       "    }\n",
       "\n",
       "    .dataframe tbody tr th {\n",
       "        vertical-align: top;\n",
       "    }\n",
       "\n",
       "    .dataframe thead th {\n",
       "        text-align: right;\n",
       "    }\n",
       "</style>\n",
       "<table border=\"1\" class=\"dataframe\">\n",
       "  <thead>\n",
       "    <tr style=\"text-align: right;\">\n",
       "      <th></th>\n",
       "      <th>state</th>\n",
       "      <th>account length</th>\n",
       "      <th>area code</th>\n",
       "      <th>phone number</th>\n",
       "      <th>international plan</th>\n",
       "      <th>voice mail plan</th>\n",
       "      <th>number vmail messages</th>\n",
       "      <th>total day minutes</th>\n",
       "      <th>total day calls</th>\n",
       "      <th>total day charge</th>\n",
       "      <th>...</th>\n",
       "      <th>total eve calls</th>\n",
       "      <th>total eve charge</th>\n",
       "      <th>total night minutes</th>\n",
       "      <th>total night calls</th>\n",
       "      <th>total night charge</th>\n",
       "      <th>total intl minutes</th>\n",
       "      <th>total intl calls</th>\n",
       "      <th>total intl charge</th>\n",
       "      <th>customer service calls</th>\n",
       "      <th>churn</th>\n",
       "    </tr>\n",
       "  </thead>\n",
       "  <tbody>\n",
       "    <tr>\n",
       "      <th>0</th>\n",
       "      <td>KS</td>\n",
       "      <td>128</td>\n",
       "      <td>415</td>\n",
       "      <td>382-4657</td>\n",
       "      <td>no</td>\n",
       "      <td>yes</td>\n",
       "      <td>25</td>\n",
       "      <td>265.1</td>\n",
       "      <td>110</td>\n",
       "      <td>45.07</td>\n",
       "      <td>...</td>\n",
       "      <td>99</td>\n",
       "      <td>16.78</td>\n",
       "      <td>244.7</td>\n",
       "      <td>91</td>\n",
       "      <td>11.01</td>\n",
       "      <td>10.0</td>\n",
       "      <td>3</td>\n",
       "      <td>2.70</td>\n",
       "      <td>1</td>\n",
       "      <td>False</td>\n",
       "    </tr>\n",
       "    <tr>\n",
       "      <th>1</th>\n",
       "      <td>OH</td>\n",
       "      <td>107</td>\n",
       "      <td>415</td>\n",
       "      <td>371-7191</td>\n",
       "      <td>no</td>\n",
       "      <td>yes</td>\n",
       "      <td>26</td>\n",
       "      <td>161.6</td>\n",
       "      <td>123</td>\n",
       "      <td>27.47</td>\n",
       "      <td>...</td>\n",
       "      <td>103</td>\n",
       "      <td>16.62</td>\n",
       "      <td>254.4</td>\n",
       "      <td>103</td>\n",
       "      <td>11.45</td>\n",
       "      <td>13.7</td>\n",
       "      <td>3</td>\n",
       "      <td>3.70</td>\n",
       "      <td>1</td>\n",
       "      <td>False</td>\n",
       "    </tr>\n",
       "    <tr>\n",
       "      <th>4</th>\n",
       "      <td>OK</td>\n",
       "      <td>75</td>\n",
       "      <td>415</td>\n",
       "      <td>330-6626</td>\n",
       "      <td>yes</td>\n",
       "      <td>no</td>\n",
       "      <td>0</td>\n",
       "      <td>166.7</td>\n",
       "      <td>113</td>\n",
       "      <td>28.34</td>\n",
       "      <td>...</td>\n",
       "      <td>122</td>\n",
       "      <td>12.61</td>\n",
       "      <td>186.9</td>\n",
       "      <td>121</td>\n",
       "      <td>8.41</td>\n",
       "      <td>10.1</td>\n",
       "      <td>3</td>\n",
       "      <td>2.73</td>\n",
       "      <td>3</td>\n",
       "      <td>False</td>\n",
       "    </tr>\n",
       "    <tr>\n",
       "      <th>12</th>\n",
       "      <td>IA</td>\n",
       "      <td>168</td>\n",
       "      <td>408</td>\n",
       "      <td>363-1107</td>\n",
       "      <td>no</td>\n",
       "      <td>no</td>\n",
       "      <td>0</td>\n",
       "      <td>128.8</td>\n",
       "      <td>96</td>\n",
       "      <td>21.90</td>\n",
       "      <td>...</td>\n",
       "      <td>71</td>\n",
       "      <td>8.92</td>\n",
       "      <td>141.1</td>\n",
       "      <td>128</td>\n",
       "      <td>6.35</td>\n",
       "      <td>11.2</td>\n",
       "      <td>2</td>\n",
       "      <td>3.02</td>\n",
       "      <td>1</td>\n",
       "      <td>False</td>\n",
       "    </tr>\n",
       "    <tr>\n",
       "      <th>13</th>\n",
       "      <td>MT</td>\n",
       "      <td>95</td>\n",
       "      <td>510</td>\n",
       "      <td>394-8006</td>\n",
       "      <td>no</td>\n",
       "      <td>no</td>\n",
       "      <td>0</td>\n",
       "      <td>156.6</td>\n",
       "      <td>88</td>\n",
       "      <td>26.62</td>\n",
       "      <td>...</td>\n",
       "      <td>75</td>\n",
       "      <td>21.05</td>\n",
       "      <td>192.3</td>\n",
       "      <td>115</td>\n",
       "      <td>8.65</td>\n",
       "      <td>12.3</td>\n",
       "      <td>5</td>\n",
       "      <td>3.32</td>\n",
       "      <td>3</td>\n",
       "      <td>False</td>\n",
       "    </tr>\n",
       "  </tbody>\n",
       "</table>\n",
       "<p>5 rows × 21 columns</p>\n",
       "</div>"
      ],
      "text/plain": [
       "   state  account length  area code phone number international plan  \\\n",
       "0     KS             128        415     382-4657                 no   \n",
       "1     OH             107        415     371-7191                 no   \n",
       "4     OK              75        415     330-6626                yes   \n",
       "12    IA             168        408     363-1107                 no   \n",
       "13    MT              95        510     394-8006                 no   \n",
       "\n",
       "   voice mail plan  number vmail messages  total day minutes  total day calls  \\\n",
       "0              yes                     25              265.1              110   \n",
       "1              yes                     26              161.6              123   \n",
       "4               no                      0              166.7              113   \n",
       "12              no                      0              128.8               96   \n",
       "13              no                      0              156.6               88   \n",
       "\n",
       "    total day charge  ...    total eve calls  total eve charge  \\\n",
       "0              45.07  ...                 99             16.78   \n",
       "1              27.47  ...                103             16.62   \n",
       "4              28.34  ...                122             12.61   \n",
       "12             21.90  ...                 71              8.92   \n",
       "13             26.62  ...                 75             21.05   \n",
       "\n",
       "    total night minutes  total night calls  total night charge  \\\n",
       "0                 244.7                 91               11.01   \n",
       "1                 254.4                103               11.45   \n",
       "4                 186.9                121                8.41   \n",
       "12                141.1                128                6.35   \n",
       "13                192.3                115                8.65   \n",
       "\n",
       "    total intl minutes  total intl calls  total intl charge  \\\n",
       "0                 10.0                 3               2.70   \n",
       "1                 13.7                 3               3.70   \n",
       "4                 10.1                 3               2.73   \n",
       "12                11.2                 2               3.02   \n",
       "13                12.3                 5               3.32   \n",
       "\n",
       "    customer service calls  churn  \n",
       "0                        1  False  \n",
       "1                        1  False  \n",
       "4                        3  False  \n",
       "12                       1  False  \n",
       "13                       3  False  \n",
       "\n",
       "[5 rows x 21 columns]"
      ]
     },
     "execution_count": 23,
     "metadata": {},
     "output_type": "execute_result"
    }
   ],
   "source": [
    "data.head(5)      ## Top 5 rows of the data "
   ]
  },
  {
   "cell_type": "code",
   "execution_count": 24,
   "metadata": {},
   "outputs": [
    {
     "data": {
      "text/html": [
       "<div>\n",
       "<style scoped>\n",
       "    .dataframe tbody tr th:only-of-type {\n",
       "        vertical-align: middle;\n",
       "    }\n",
       "\n",
       "    .dataframe tbody tr th {\n",
       "        vertical-align: top;\n",
       "    }\n",
       "\n",
       "    .dataframe thead th {\n",
       "        text-align: right;\n",
       "    }\n",
       "</style>\n",
       "<table border=\"1\" class=\"dataframe\">\n",
       "  <thead>\n",
       "    <tr style=\"text-align: right;\">\n",
       "      <th></th>\n",
       "      <th>account length</th>\n",
       "      <th>area code</th>\n",
       "      <th>number vmail messages</th>\n",
       "      <th>total day minutes</th>\n",
       "      <th>total day calls</th>\n",
       "      <th>total day charge</th>\n",
       "      <th>total eve minutes</th>\n",
       "      <th>total eve calls</th>\n",
       "      <th>total eve charge</th>\n",
       "      <th>total night minutes</th>\n",
       "      <th>total night calls</th>\n",
       "      <th>total night charge</th>\n",
       "      <th>total intl minutes</th>\n",
       "      <th>total intl calls</th>\n",
       "      <th>total intl charge</th>\n",
       "      <th>customer service calls</th>\n",
       "    </tr>\n",
       "  </thead>\n",
       "  <tbody>\n",
       "    <tr>\n",
       "      <th>count</th>\n",
       "      <td>2109.000000</td>\n",
       "      <td>2109.000000</td>\n",
       "      <td>2109.000000</td>\n",
       "      <td>2109.000000</td>\n",
       "      <td>2109.000000</td>\n",
       "      <td>2109.000000</td>\n",
       "      <td>2109.000000</td>\n",
       "      <td>2109.000000</td>\n",
       "      <td>2109.000000</td>\n",
       "      <td>2109.000000</td>\n",
       "      <td>2109.000000</td>\n",
       "      <td>2109.000000</td>\n",
       "      <td>2109.000000</td>\n",
       "      <td>2109.000000</td>\n",
       "      <td>2109.000000</td>\n",
       "      <td>2109.00000</td>\n",
       "    </tr>\n",
       "    <tr>\n",
       "      <th>mean</th>\n",
       "      <td>100.680417</td>\n",
       "      <td>437.196776</td>\n",
       "      <td>8.146989</td>\n",
       "      <td>179.986297</td>\n",
       "      <td>100.678521</td>\n",
       "      <td>30.598179</td>\n",
       "      <td>200.702750</td>\n",
       "      <td>101.550972</td>\n",
       "      <td>17.059915</td>\n",
       "      <td>200.375771</td>\n",
       "      <td>100.320057</td>\n",
       "      <td>9.016932</td>\n",
       "      <td>10.261830</td>\n",
       "      <td>4.546230</td>\n",
       "      <td>2.771219</td>\n",
       "      <td>1.68753</td>\n",
       "    </tr>\n",
       "    <tr>\n",
       "      <th>std</th>\n",
       "      <td>39.447396</td>\n",
       "      <td>42.446424</td>\n",
       "      <td>13.700518</td>\n",
       "      <td>52.166353</td>\n",
       "      <td>19.226504</td>\n",
       "      <td>8.868195</td>\n",
       "      <td>48.595106</td>\n",
       "      <td>17.396860</td>\n",
       "      <td>4.130660</td>\n",
       "      <td>48.278056</td>\n",
       "      <td>18.889835</td>\n",
       "      <td>2.172660</td>\n",
       "      <td>2.570126</td>\n",
       "      <td>2.485512</td>\n",
       "      <td>0.693919</td>\n",
       "      <td>0.75922</td>\n",
       "    </tr>\n",
       "    <tr>\n",
       "      <th>min</th>\n",
       "      <td>1.000000</td>\n",
       "      <td>408.000000</td>\n",
       "      <td>0.000000</td>\n",
       "      <td>37.700000</td>\n",
       "      <td>49.000000</td>\n",
       "      <td>6.410000</td>\n",
       "      <td>69.200000</td>\n",
       "      <td>66.000000</td>\n",
       "      <td>5.880000</td>\n",
       "      <td>67.700000</td>\n",
       "      <td>48.000000</td>\n",
       "      <td>3.050000</td>\n",
       "      <td>3.300000</td>\n",
       "      <td>1.000000</td>\n",
       "      <td>0.890000</td>\n",
       "      <td>1.00000</td>\n",
       "    </tr>\n",
       "    <tr>\n",
       "      <th>25%</th>\n",
       "      <td>73.000000</td>\n",
       "      <td>408.000000</td>\n",
       "      <td>0.000000</td>\n",
       "      <td>144.100000</td>\n",
       "      <td>88.000000</td>\n",
       "      <td>24.500000</td>\n",
       "      <td>167.200000</td>\n",
       "      <td>88.000000</td>\n",
       "      <td>14.210000</td>\n",
       "      <td>167.300000</td>\n",
       "      <td>87.000000</td>\n",
       "      <td>7.530000</td>\n",
       "      <td>8.500000</td>\n",
       "      <td>3.000000</td>\n",
       "      <td>2.300000</td>\n",
       "      <td>1.00000</td>\n",
       "    </tr>\n",
       "    <tr>\n",
       "      <th>50%</th>\n",
       "      <td>101.000000</td>\n",
       "      <td>415.000000</td>\n",
       "      <td>0.000000</td>\n",
       "      <td>179.900000</td>\n",
       "      <td>101.000000</td>\n",
       "      <td>30.580000</td>\n",
       "      <td>201.400000</td>\n",
       "      <td>101.000000</td>\n",
       "      <td>17.120000</td>\n",
       "      <td>199.500000</td>\n",
       "      <td>101.000000</td>\n",
       "      <td>8.980000</td>\n",
       "      <td>10.300000</td>\n",
       "      <td>4.000000</td>\n",
       "      <td>2.780000</td>\n",
       "      <td>2.00000</td>\n",
       "    </tr>\n",
       "    <tr>\n",
       "      <th>75%</th>\n",
       "      <td>127.000000</td>\n",
       "      <td>510.000000</td>\n",
       "      <td>20.000000</td>\n",
       "      <td>215.600000</td>\n",
       "      <td>114.000000</td>\n",
       "      <td>36.650000</td>\n",
       "      <td>233.800000</td>\n",
       "      <td>114.000000</td>\n",
       "      <td>19.870000</td>\n",
       "      <td>233.700000</td>\n",
       "      <td>113.000000</td>\n",
       "      <td>10.520000</td>\n",
       "      <td>12.000000</td>\n",
       "      <td>6.000000</td>\n",
       "      <td>3.240000</td>\n",
       "      <td>2.00000</td>\n",
       "    </tr>\n",
       "    <tr>\n",
       "      <th>max</th>\n",
       "      <td>205.000000</td>\n",
       "      <td>510.000000</td>\n",
       "      <td>51.000000</td>\n",
       "      <td>322.500000</td>\n",
       "      <td>152.000000</td>\n",
       "      <td>54.830000</td>\n",
       "      <td>330.600000</td>\n",
       "      <td>151.000000</td>\n",
       "      <td>28.100000</td>\n",
       "      <td>329.200000</td>\n",
       "      <td>152.000000</td>\n",
       "      <td>14.810000</td>\n",
       "      <td>17.300000</td>\n",
       "      <td>20.000000</td>\n",
       "      <td>4.670000</td>\n",
       "      <td>3.00000</td>\n",
       "    </tr>\n",
       "  </tbody>\n",
       "</table>\n",
       "</div>"
      ],
      "text/plain": [
       "       account length    area code  number vmail messages  total day minutes  \\\n",
       "count     2109.000000  2109.000000            2109.000000        2109.000000   \n",
       "mean       100.680417   437.196776               8.146989         179.986297   \n",
       "std         39.447396    42.446424              13.700518          52.166353   \n",
       "min          1.000000   408.000000               0.000000          37.700000   \n",
       "25%         73.000000   408.000000               0.000000         144.100000   \n",
       "50%        101.000000   415.000000               0.000000         179.900000   \n",
       "75%        127.000000   510.000000              20.000000         215.600000   \n",
       "max        205.000000   510.000000              51.000000         322.500000   \n",
       "\n",
       "       total day calls  total day charge  total eve minutes  total eve calls  \\\n",
       "count      2109.000000       2109.000000        2109.000000      2109.000000   \n",
       "mean        100.678521         30.598179         200.702750       101.550972   \n",
       "std          19.226504          8.868195          48.595106        17.396860   \n",
       "min          49.000000          6.410000          69.200000        66.000000   \n",
       "25%          88.000000         24.500000         167.200000        88.000000   \n",
       "50%         101.000000         30.580000         201.400000       101.000000   \n",
       "75%         114.000000         36.650000         233.800000       114.000000   \n",
       "max         152.000000         54.830000         330.600000       151.000000   \n",
       "\n",
       "       total eve charge  total night minutes  total night calls  \\\n",
       "count       2109.000000          2109.000000        2109.000000   \n",
       "mean          17.059915           200.375771         100.320057   \n",
       "std            4.130660            48.278056          18.889835   \n",
       "min            5.880000            67.700000          48.000000   \n",
       "25%           14.210000           167.300000          87.000000   \n",
       "50%           17.120000           199.500000         101.000000   \n",
       "75%           19.870000           233.700000         113.000000   \n",
       "max           28.100000           329.200000         152.000000   \n",
       "\n",
       "       total night charge  total intl minutes  total intl calls  \\\n",
       "count         2109.000000         2109.000000       2109.000000   \n",
       "mean             9.016932           10.261830          4.546230   \n",
       "std              2.172660            2.570126          2.485512   \n",
       "min              3.050000            3.300000          1.000000   \n",
       "25%              7.530000            8.500000          3.000000   \n",
       "50%              8.980000           10.300000          4.000000   \n",
       "75%             10.520000           12.000000          6.000000   \n",
       "max             14.810000           17.300000         20.000000   \n",
       "\n",
       "       total intl charge  customer service calls  \n",
       "count        2109.000000              2109.00000  \n",
       "mean            2.771219                 1.68753  \n",
       "std             0.693919                 0.75922  \n",
       "min             0.890000                 1.00000  \n",
       "25%             2.300000                 1.00000  \n",
       "50%             2.780000                 2.00000  \n",
       "75%             3.240000                 2.00000  \n",
       "max             4.670000                 3.00000  "
      ]
     },
     "execution_count": 24,
     "metadata": {},
     "output_type": "execute_result"
    }
   ],
   "source": [
    "## Exploratory Analysis\n",
    "data.describe()"
   ]
  },
  {
   "cell_type": "code",
   "execution_count": 25,
   "metadata": {},
   "outputs": [
    {
     "data": {
      "text/plain": [
       "(2109, 21)"
      ]
     },
     "execution_count": 25,
     "metadata": {},
     "output_type": "execute_result"
    }
   ],
   "source": [
    "## Checking the NA\n",
    "data.dropna()\n",
    "data.shape # Hence , there is no NA values."
   ]
  },
  {
   "cell_type": "code",
   "execution_count": 26,
   "metadata": {},
   "outputs": [
    {
     "data": {
      "text/plain": [
       "array(['KS', 'OH', 'OK', 'IA', 'MT', 'ID', 'VT', 'TX', 'SC', 'NE', 'HI',\n",
       "       'NH', 'AZ', 'GA', 'MA', 'AK', 'NJ', 'AR', 'WI', 'OR', 'MI', 'DE',\n",
       "       'IN', 'VA', 'UT', 'CO', 'CA', 'MN', 'NC', 'WA', 'NM', 'NV', 'MD',\n",
       "       'WV', 'KY', 'DC', 'ME', 'MS', 'MO', 'AL', 'FL', 'LA', 'RI', 'NY',\n",
       "       'WY', 'PA', 'TN', 'SD', 'IL', 'ND', 'CT'], dtype=object)"
      ]
     },
     "execution_count": 26,
     "metadata": {},
     "output_type": "execute_result"
    }
   ],
   "source": [
    "data['state'].unique() "
   ]
  },
  {
   "cell_type": "code",
   "execution_count": 27,
   "metadata": {},
   "outputs": [
    {
     "data": {
      "text/plain": [
       "array([415, 408, 510])"
      ]
     },
     "execution_count": 27,
     "metadata": {},
     "output_type": "execute_result"
    }
   ],
   "source": [
    "data['area code'].unique() "
   ]
  },
  {
   "cell_type": "code",
   "execution_count": 28,
   "metadata": {},
   "outputs": [
    {
     "data": {
      "text/plain": [
       "array(['no', 'yes'], dtype=object)"
      ]
     },
     "execution_count": 28,
     "metadata": {},
     "output_type": "execute_result"
    }
   ],
   "source": [
    "data['international plan'].unique() "
   ]
  },
  {
   "cell_type": "code",
   "execution_count": 29,
   "metadata": {},
   "outputs": [
    {
     "data": {
      "text/plain": [
       "array(['yes', 'no'], dtype=object)"
      ]
     },
     "execution_count": 29,
     "metadata": {},
     "output_type": "execute_result"
    }
   ],
   "source": [
    "data['voice mail plan'].unique() "
   ]
  },
  {
   "cell_type": "code",
   "execution_count": 30,
   "metadata": {},
   "outputs": [
    {
     "data": {
      "text/plain": [
       "array([25, 26,  0, 27, 37, 33, 28, 30, 34, 41, 24, 35, 29, 21, 32, 36, 43,\n",
       "       31, 38, 23, 22, 40, 48, 18, 39, 45, 16, 20, 17, 14, 42, 19, 51, 15,\n",
       "       11, 47, 44, 12,  4, 13,  8, 50,  9])"
      ]
     },
     "execution_count": 30,
     "metadata": {},
     "output_type": "execute_result"
    }
   ],
   "source": [
    "data['number vmail messages'].unique() "
   ]
  },
  {
   "cell_type": "code",
   "execution_count": 31,
   "metadata": {},
   "outputs": [
    {
     "data": {
      "text/plain": [
       "array([110, 123, 113,  96,  88, 139, 114,  90, 103,  76,  73, 117, 105,\n",
       "       118,  80,  64, 106,  94, 102,  82,  77,  67,  97, 120, 133, 108,\n",
       "        57, 112, 129,  83,  91,  98,  74,  70,  93, 146,  72,  99, 104,\n",
       "       101, 125,  61, 100,  71, 131,  92, 124, 119,  52, 115, 109, 107,\n",
       "        86,  87, 121, 116, 151, 126, 111,  68, 145,  95,  85,  78, 140,\n",
       "       122,  79,  55,  89, 135,  66,  81, 134,  63,  53,  84,  65, 141,\n",
       "       128, 132,  69, 137,  75, 138, 144, 143, 130, 150,  54, 127, 147,\n",
       "        56,  58,  51, 148,  60, 136, 152,  59,  49, 142,  62])"
      ]
     },
     "execution_count": 31,
     "metadata": {},
     "output_type": "execute_result"
    }
   ],
   "source": [
    "data['total day calls'].unique() "
   ]
  },
  {
   "cell_type": "code",
   "execution_count": 32,
   "metadata": {},
   "outputs": [
    {
     "data": {
      "text/plain": [
       "array([ 3,  2,  5,  4,  6,  1,  9,  8,  7, 10, 11, 12, 13, 18, 15, 14, 20,\n",
       "       17])"
      ]
     },
     "execution_count": 32,
     "metadata": {},
     "output_type": "execute_result"
    }
   ],
   "source": [
    "data['total intl calls'].unique()"
   ]
  },
  {
   "cell_type": "code",
   "execution_count": 33,
   "metadata": {},
   "outputs": [
    {
     "data": {
      "text/plain": [
       "array([1, 3, 2])"
      ]
     },
     "execution_count": 33,
     "metadata": {},
     "output_type": "execute_result"
    }
   ],
   "source": [
    "data['customer service calls'].unique()"
   ]
  },
  {
   "cell_type": "code",
   "execution_count": 34,
   "metadata": {},
   "outputs": [
    {
     "name": "stderr",
     "output_type": "stream",
     "text": [
      "/home/madhav/anaconda3/lib/python3.6/site-packages/ipykernel_launcher.py:3: SettingWithCopyWarning: \n",
      "A value is trying to be set on a copy of a slice from a DataFrame.\n",
      "Try using .loc[row_indexer,col_indexer] = value instead\n",
      "\n",
      "See the caveats in the documentation: http://pandas.pydata.org/pandas-docs/stable/indexing.html#indexing-view-versus-copy\n",
      "  This is separate from the ipykernel package so we can avoid doing imports until\n",
      "/home/madhav/anaconda3/lib/python3.6/site-packages/ipykernel_launcher.py:4: SettingWithCopyWarning: \n",
      "A value is trying to be set on a copy of a slice from a DataFrame.\n",
      "Try using .loc[row_indexer,col_indexer] = value instead\n",
      "\n",
      "See the caveats in the documentation: http://pandas.pydata.org/pandas-docs/stable/indexing.html#indexing-view-versus-copy\n",
      "  after removing the cwd from sys.path.\n",
      "/home/madhav/anaconda3/lib/python3.6/site-packages/ipykernel_launcher.py:5: SettingWithCopyWarning: \n",
      "A value is trying to be set on a copy of a slice from a DataFrame.\n",
      "Try using .loc[row_indexer,col_indexer] = value instead\n",
      "\n",
      "See the caveats in the documentation: http://pandas.pydata.org/pandas-docs/stable/indexing.html#indexing-view-versus-copy\n",
      "  \"\"\"\n"
     ]
    }
   ],
   "source": [
    "# Making Dummy Variables for boolean variables \n",
    "\n",
    "data['international plan'] = np.where(data['international plan']=='Yes', 1,0)\n",
    "data['voice mail plan'] = np.where(data['voice mail plan']=='Yes', 1,0)\n",
    "data['churn'] = np.where(data['churn']==True, 1,0)"
   ]
  },
  {
   "cell_type": "code",
   "execution_count": 35,
   "metadata": {},
   "outputs": [],
   "source": [
    "# Making dummy variable for categorical variables\n",
    "\n",
    "data = pd.get_dummies(data,columns=['area code','customer service calls'])"
   ]
  },
  {
   "cell_type": "code",
   "execution_count": 36,
   "metadata": {},
   "outputs": [
    {
     "data": {
      "text/plain": [
       "Index(['state', 'account length', 'phone number', 'international plan',\n",
       "       'voice mail plan', 'number vmail messages', 'total day minutes',\n",
       "       'total day calls', 'total day charge', 'total eve minutes',\n",
       "       'total eve calls', 'total eve charge', 'total night minutes',\n",
       "       'total night calls', 'total night charge', 'total intl minutes',\n",
       "       'total intl calls', 'total intl charge', 'churn', 'area code_408',\n",
       "       'area code_415', 'area code_510', 'customer service calls_1',\n",
       "       'customer service calls_2', 'customer service calls_3'],\n",
       "      dtype='object')"
      ]
     },
     "execution_count": 36,
     "metadata": {},
     "output_type": "execute_result"
    }
   ],
   "source": [
    "data.columns"
   ]
  },
  {
   "cell_type": "code",
   "execution_count": 37,
   "metadata": {},
   "outputs": [],
   "source": [
    "## These variables are subjective in nature\n",
    "data= data.drop(['state','phone number'], axis=1)"
   ]
  },
  {
   "cell_type": "code",
   "execution_count": 38,
   "metadata": {},
   "outputs": [],
   "source": [
    "######################   STANDARDISATION OF VARIABLES ################################################\n",
    "## Making the column name in upper case\n",
    "data.columns=map(str.upper,data.columns)"
   ]
  },
  {
   "cell_type": "code",
   "execution_count": 39,
   "metadata": {},
   "outputs": [],
   "source": [
    "## Subset variables that needs to be standardised\n",
    "final_data=data[['ACCOUNT LENGTH','NUMBER VMAIL MESSAGES','TOTAL DAY MINUTES', 'TOTAL DAY CALLS',\n",
    "        'TOTAL EVE MINUTES', 'TOTAL EVE CALLS',\n",
    "        'TOTAL NIGHT MINUTES', 'TOTAL NIGHT CALLS',\n",
    "        'TOTAL INTL MINUTES', 'TOTAL INTL CALLS']]"
   ]
  },
  {
   "cell_type": "code",
   "execution_count": 40,
   "metadata": {},
   "outputs": [],
   "source": [
    "from sklearn import preprocessing\n",
    "clustervar = final_data.copy()\n",
    "clustervar['ACCOUNT LENGTH']=preprocessing.scale(clustervar['ACCOUNT LENGTH'].astype('float64'))\n",
    "clustervar['NUMBER VMAIL MESSAGES']=preprocessing.scale(clustervar['NUMBER VMAIL MESSAGES'].astype('float64'))\n",
    "clustervar['TOTAL DAY MINUTES']=preprocessing.scale(clustervar['TOTAL DAY MINUTES'].astype('float64'))\n",
    "clustervar['TOTAL DAY CALLS']=preprocessing.scale(clustervar['TOTAL DAY CALLS'].astype('float64'))\n",
    "#clustervar['TOTAL DAY CHARGE']=preprocessing.scale(clustervar['TOTAL DAY CHARGE'].astype('float64'))\n",
    "clustervar['TOTAL EVE MINUTES']=preprocessing.scale(clustervar['TOTAL EVE MINUTES'].astype('float64'))\n",
    "clustervar['TOTAL EVE CALLS']=preprocessing.scale(clustervar['TOTAL EVE CALLS'].astype('float64'))\n",
    "#clustervar['TOTAL EVE CHARGE']=preprocessing.scale(clustervar['TOTAL EVE CHARGE'].astype('float64'))\n",
    "clustervar['TOTAL NIGHT MINUTES']=preprocessing.scale(clustervar['TOTAL NIGHT MINUTES'].astype('float64'))\n",
    "clustervar['TOTAL NIGHT CALLS']=preprocessing.scale(clustervar['TOTAL NIGHT CALLS'].astype('float64'))\n",
    "#clustervar['TOTAL NIGHT CHARGE']=preprocessing.scale(clustervar['TOTAL NIGHT CHARGE'].astype('float64'))\n",
    "clustervar['TOTAL INTL MINUTES']=preprocessing.scale(clustervar['TOTAL INTL MINUTES'].astype('float64'))\n",
    "clustervar['TOTAL INTL CALLS']=preprocessing.scale(clustervar['TOTAL INTL CALLS'].astype('float64'))\n",
    "#clustervar['TOTAL INTL CHARGE']=preprocessing.scale(clustervar['TOTAL INTL CHARGE'].astype('float64'))"
   ]
  },
  {
   "cell_type": "code",
   "execution_count": 41,
   "metadata": {},
   "outputs": [],
   "source": [
    "strdata = pd.DataFrame(clustervar)"
   ]
  },
  {
   "cell_type": "code",
   "execution_count": 42,
   "metadata": {},
   "outputs": [],
   "source": [
    "#Concatenatinating the dataset \n",
    "final_data = pd.concat([strdata,data['INTERNATIONAL PLAN'],data['VOICE MAIL PLAN'],\n",
    "       data['CHURN'], data['AREA CODE_408'], data['AREA CODE_415'],\n",
    "       data['AREA CODE_510'], data['CUSTOMER SERVICE CALLS_1'], data['CUSTOMER SERVICE CALLS_2'],\n",
    "       data['CUSTOMER SERVICE CALLS_3']], axis=1)"
   ]
  },
  {
   "cell_type": "code",
   "execution_count": 43,
   "metadata": {},
   "outputs": [],
   "source": [
    " # Deciding Independent and Dependent variables\n",
    "\n",
    "X = final_data.drop('CHURN',axis=1)\n",
    "y = final_data['CHURN']"
   ]
  },
  {
   "cell_type": "code",
   "execution_count": 44,
   "metadata": {},
   "outputs": [],
   "source": [
    "###################### CALCULATION OF INFORMATION VALUE ##########################################"
   ]
  },
  {
   "cell_type": "code",
   "execution_count": 45,
   "metadata": {},
   "outputs": [],
   "source": [
    "# Calculate information value\n",
    "def calc_iv(df, feature, target, pr=False):\n",
    "    \"\"\"\n",
    "    Set pr=True to enable printing of output.\n",
    "    \n",
    "    Output: \n",
    "      * iv: float,\n",
    "      * data: pandas.DataFrame\n",
    "    \"\"\"\n",
    "\n",
    "    lst = []\n",
    "\n",
    "    df[feature] = df[feature].fillna(\"NULL\")\n",
    "\n",
    "    for i in range(df[feature].nunique()):\n",
    "        val = list(df[feature].unique())[i]\n",
    "        lst.append([feature,                                                        # Variable\n",
    "                    val,                                                            # Value\n",
    "                    df[df[feature] == val].count()[feature],                        # All\n",
    "                    df[(df[feature] == val) & (df[target] == 0)].count()[feature],  # Good (think: Fraud == 0)\n",
    "                    df[(df[feature] == val) & (df[target] == 1)].count()[feature]]) # Bad (think: Fraud == 1)\n",
    "\n",
    "    data = pd.DataFrame(lst, columns=['Variable', 'Value', 'All', 'Good', 'Bad'])\n",
    "\n",
    "    data['Share'] = data['All'] / data['All'].sum()\n",
    "    data['Bad Rate'] = data['Bad'] / data['All']\n",
    "    data['Distribution Good'] = (data['All'] - data['Bad']) / (data['All'].sum() - data['Bad'].sum())\n",
    "    data['Distribution Bad'] = data['Bad'] / data['Bad'].sum()\n",
    "    data['WoE'] = np.log(data['Distribution Good'] / data['Distribution Bad'])\n",
    "\n",
    "    data = data.replace({'WoE': {np.inf: 0, -np.inf: 0}})\n",
    "\n",
    "    data['IV'] = data['WoE'] * (data['Distribution Good'] - data['Distribution Bad'])\n",
    "\n",
    "    data = data.sort_values(by=['Variable', 'Value'], ascending=[True, True])\n",
    "    data.index = range(len(data.index))\n",
    "\n",
    "    if pr:\n",
    "        print(data)\n",
    "        print('IV = ', data['IV'].sum())\n",
    "\n",
    "\n",
    "    iv = data['IV'].sum()\n",
    "    # print(iv)\n",
    "\n",
    "    return iv, data"
   ]
  },
  {
   "cell_type": "code",
   "execution_count": 46,
   "metadata": {},
   "outputs": [
    {
     "data": {
      "text/plain": [
       "Index(['ACCOUNT LENGTH', 'INTERNATIONAL PLAN', 'VOICE MAIL PLAN',\n",
       "       'NUMBER VMAIL MESSAGES', 'TOTAL DAY MINUTES', 'TOTAL DAY CALLS',\n",
       "       'TOTAL DAY CHARGE', 'TOTAL EVE MINUTES', 'TOTAL EVE CALLS',\n",
       "       'TOTAL EVE CHARGE', 'TOTAL NIGHT MINUTES', 'TOTAL NIGHT CALLS',\n",
       "       'TOTAL NIGHT CHARGE', 'TOTAL INTL MINUTES', 'TOTAL INTL CALLS',\n",
       "       'TOTAL INTL CHARGE', 'CHURN', 'AREA CODE_408', 'AREA CODE_415',\n",
       "       'AREA CODE_510', 'CUSTOMER SERVICE CALLS_1', 'CUSTOMER SERVICE CALLS_2',\n",
       "       'CUSTOMER SERVICE CALLS_3'],\n",
       "      dtype='object')"
      ]
     },
     "execution_count": 46,
     "metadata": {},
     "output_type": "execute_result"
    }
   ],
   "source": [
    "data.columns"
   ]
  },
  {
   "cell_type": "code",
   "execution_count": 47,
   "metadata": {},
   "outputs": [],
   "source": [
    "iv , dat = calc_iv(data,'CUSTOMER SERVICE CALLS_3','CHURN', pr=False)"
   ]
  },
  {
   "cell_type": "code",
   "execution_count": 48,
   "metadata": {},
   "outputs": [
    {
     "data": {
      "text/plain": [
       "0.0006503308047073079"
      ]
     },
     "execution_count": 48,
     "metadata": {},
     "output_type": "execute_result"
    }
   ],
   "source": [
    "iv"
   ]
  },
  {
   "cell_type": "code",
   "execution_count": 49,
   "metadata": {},
   "outputs": [],
   "source": [
    "########################## INFORMATION VALUE OF ALL VARIABLES ############################################\n",
    "\n",
    "#account length                    0.4559\n",
    "#international plan                0.0\n",
    "#voice mail plan                   0.0\n",
    "#number vmail messages             0.0816\n",
    "#total day minutes                 0.6653\n",
    "#total day calls                   0.3290\n",
    "#total day charge                  0.6653\n",
    "#total eve minutes                 0.8949\n",
    "#total eve calls                   0.2707\n",
    "#total eve charge                  0.9261\n",
    "#total night minutes               1.0621\n",
    "#total night calls                 0.3968\n",
    "#total night charge                1.0393\n",
    "#total intl minutes                0.4724\n",
    "#total intl calls                  0.1227\n",
    "#total intl charge                 0.4724\n",
    "#customer service calls_1          0.0025\n",
    "#customer service calls_2          0.0054\n",
    "#customer service calls_3          0.0006\n"
   ]
  },
  {
   "cell_type": "code",
   "execution_count": 50,
   "metadata": {},
   "outputs": [],
   "source": [
    "## Splitting the test train dataset\n",
    "from sklearn.cross_validation import train_test_split\n",
    "\n",
    "X_train, X_test, y_train, y_test = train_test_split(X, y, test_size=0.3, random_state=0,stratify=y)"
   ]
  },
  {
   "cell_type": "code",
   "execution_count": 51,
   "metadata": {},
   "outputs": [],
   "source": [
    "################################# LOGISTIC REGRESSION #######################################################\n",
    "\n",
    "logreg = LogisticRegression()\n",
    "model=logreg.fit(X_train, y_train)\n",
    "y_pred = logreg.predict(X_test)"
   ]
  },
  {
   "cell_type": "code",
   "execution_count": 52,
   "metadata": {},
   "outputs": [
    {
     "name": "stdout",
     "output_type": "stream",
     "text": [
      "                          ACCOUNT LENGTH  NUMBER VMAIL MESSAGES  \\\n",
      "ACCOUNT LENGTH                  1.000000              -0.008484   \n",
      "NUMBER VMAIL MESSAGES          -0.008484               1.000000   \n",
      "TOTAL DAY MINUTES               0.019216               0.021179   \n",
      "TOTAL DAY CALLS                 0.050406              -0.015299   \n",
      "TOTAL EVE MINUTES              -0.010215               0.005135   \n",
      "TOTAL EVE CALLS                 0.017354               0.003042   \n",
      "TOTAL NIGHT MINUTES             0.005983              -0.005862   \n",
      "TOTAL NIGHT CALLS              -0.012981               0.010310   \n",
      "TOTAL INTL MINUTES              0.015499               0.012062   \n",
      "TOTAL INTL CALLS                0.016011              -0.002791   \n",
      "INTERNATIONAL PLAN                   NaN                    NaN   \n",
      "VOICE MAIL PLAN                      NaN                    NaN   \n",
      "AREA CODE_408                   0.024305               0.002430   \n",
      "AREA CODE_415                  -0.007693               0.019779   \n",
      "AREA CODE_510                  -0.015649              -0.025199   \n",
      "CUSTOMER SERVICE CALLS_1        0.032546               0.027359   \n",
      "CUSTOMER SERVICE CALLS_2       -0.039727               0.007374   \n",
      "CUSTOMER SERVICE CALLS_3        0.006118              -0.044539   \n",
      "\n",
      "                          TOTAL DAY MINUTES  TOTAL DAY CALLS  \\\n",
      "ACCOUNT LENGTH                     0.019216         0.050406   \n",
      "NUMBER VMAIL MESSAGES              0.021179        -0.015299   \n",
      "TOTAL DAY MINUTES                  1.000000         0.016393   \n",
      "TOTAL DAY CALLS                    0.016393         1.000000   \n",
      "TOTAL EVE MINUTES                 -0.004934        -0.018450   \n",
      "TOTAL EVE CALLS                    0.012190         0.000375   \n",
      "TOTAL NIGHT MINUTES                0.007281         0.036036   \n",
      "TOTAL NIGHT CALLS                  0.028074        -0.003559   \n",
      "TOTAL INTL MINUTES                -0.010518        -0.001852   \n",
      "TOTAL INTL CALLS                   0.004910        -0.011274   \n",
      "INTERNATIONAL PLAN                      NaN              NaN   \n",
      "VOICE MAIL PLAN                         NaN              NaN   \n",
      "AREA CODE_408                     -0.057045         0.002451   \n",
      "AREA CODE_415                      0.048531        -0.016131   \n",
      "AREA CODE_510                      0.001676         0.016084   \n",
      "CUSTOMER SERVICE CALLS_1           0.005293         0.046396   \n",
      "CUSTOMER SERVICE CALLS_2          -0.029898        -0.032139   \n",
      "CUSTOMER SERVICE CALLS_3           0.029556        -0.021127   \n",
      "\n",
      "                          TOTAL EVE MINUTES  TOTAL EVE CALLS  \\\n",
      "ACCOUNT LENGTH                    -0.010215         0.017354   \n",
      "NUMBER VMAIL MESSAGES              0.005135         0.003042   \n",
      "TOTAL DAY MINUTES                 -0.004934         0.012190   \n",
      "TOTAL DAY CALLS                   -0.018450         0.000375   \n",
      "TOTAL EVE MINUTES                  1.000000        -0.015657   \n",
      "TOTAL EVE CALLS                   -0.015657         1.000000   \n",
      "TOTAL NIGHT MINUTES               -0.021305        -0.001504   \n",
      "TOTAL NIGHT CALLS                 -0.001399         0.003558   \n",
      "TOTAL INTL MINUTES                -0.041152         0.025851   \n",
      "TOTAL INTL CALLS                   0.014295         0.011325   \n",
      "INTERNATIONAL PLAN                      NaN              NaN   \n",
      "VOICE MAIL PLAN                         NaN              NaN   \n",
      "AREA CODE_408                     -0.038259        -0.002790   \n",
      "AREA CODE_415                      0.033505         0.005045   \n",
      "AREA CODE_510                      0.000023        -0.002990   \n",
      "CUSTOMER SERVICE CALLS_1           0.033335         0.009706   \n",
      "CUSTOMER SERVICE CALLS_2          -0.013637         0.003543   \n",
      "CUSTOMER SERVICE CALLS_3          -0.026700        -0.016930   \n",
      "\n",
      "                          TOTAL NIGHT MINUTES  TOTAL NIGHT CALLS  \\\n",
      "ACCOUNT LENGTH                       0.005983          -0.012981   \n",
      "NUMBER VMAIL MESSAGES               -0.005862           0.010310   \n",
      "TOTAL DAY MINUTES                    0.007281           0.028074   \n",
      "TOTAL DAY CALLS                      0.036036          -0.003559   \n",
      "TOTAL EVE MINUTES                   -0.021305          -0.001399   \n",
      "TOTAL EVE CALLS                     -0.001504           0.003558   \n",
      "TOTAL NIGHT MINUTES                  1.000000           0.006728   \n",
      "TOTAL NIGHT CALLS                    0.006728           1.000000   \n",
      "TOTAL INTL MINUTES                  -0.009535          -0.004028   \n",
      "TOTAL INTL CALLS                    -0.007484          -0.019073   \n",
      "INTERNATIONAL PLAN                        NaN                NaN   \n",
      "VOICE MAIL PLAN                           NaN                NaN   \n",
      "AREA CODE_408                       -0.013824          -0.026295   \n",
      "AREA CODE_415                        0.031011           0.006647   \n",
      "AREA CODE_510                       -0.021737           0.018858   \n",
      "CUSTOMER SERVICE CALLS_1            -0.001061          -0.006069   \n",
      "CUSTOMER SERVICE CALLS_2            -0.003605           0.029015   \n",
      "CUSTOMER SERVICE CALLS_3             0.005771          -0.027470   \n",
      "\n",
      "                          TOTAL INTL MINUTES  TOTAL INTL CALLS  \\\n",
      "ACCOUNT LENGTH                      0.015499          0.016011   \n",
      "NUMBER VMAIL MESSAGES               0.012062         -0.002791   \n",
      "TOTAL DAY MINUTES                  -0.010518          0.004910   \n",
      "TOTAL DAY CALLS                    -0.001852         -0.011274   \n",
      "TOTAL EVE MINUTES                  -0.041152          0.014295   \n",
      "TOTAL EVE CALLS                     0.025851          0.011325   \n",
      "TOTAL NIGHT MINUTES                -0.009535         -0.007484   \n",
      "TOTAL NIGHT CALLS                  -0.004028         -0.019073   \n",
      "TOTAL INTL MINUTES                  1.000000         -0.030122   \n",
      "TOTAL INTL CALLS                   -0.030122          1.000000   \n",
      "INTERNATIONAL PLAN                       NaN               NaN   \n",
      "VOICE MAIL PLAN                          NaN               NaN   \n",
      "AREA CODE_408                      -0.017550         -0.007511   \n",
      "AREA CODE_415                       0.042902          0.042137   \n",
      "AREA CODE_510                      -0.031658         -0.040896   \n",
      "CUSTOMER SERVICE CALLS_1           -0.005132          0.012183   \n",
      "CUSTOMER SERVICE CALLS_2            0.012068         -0.017422   \n",
      "CUSTOMER SERVICE CALLS_3           -0.008037          0.005399   \n",
      "\n",
      "                          INTERNATIONAL PLAN  VOICE MAIL PLAN  AREA CODE_408  \\\n",
      "ACCOUNT LENGTH                           NaN              NaN       0.024305   \n",
      "NUMBER VMAIL MESSAGES                    NaN              NaN       0.002430   \n",
      "TOTAL DAY MINUTES                        NaN              NaN      -0.057045   \n",
      "TOTAL DAY CALLS                          NaN              NaN       0.002451   \n",
      "TOTAL EVE MINUTES                        NaN              NaN      -0.038259   \n",
      "TOTAL EVE CALLS                          NaN              NaN      -0.002790   \n",
      "TOTAL NIGHT MINUTES                      NaN              NaN      -0.013824   \n",
      "TOTAL NIGHT CALLS                        NaN              NaN      -0.026295   \n",
      "TOTAL INTL MINUTES                       NaN              NaN      -0.017550   \n",
      "TOTAL INTL CALLS                         NaN              NaN      -0.007511   \n",
      "INTERNATIONAL PLAN                       NaN              NaN            NaN   \n",
      "VOICE MAIL PLAN                          NaN              NaN            NaN   \n",
      "AREA CODE_408                            NaN              NaN       1.000000   \n",
      "AREA CODE_415                            NaN              NaN      -0.577464   \n",
      "AREA CODE_510                            NaN              NaN      -0.343718   \n",
      "CUSTOMER SERVICE CALLS_1                 NaN              NaN       0.049266   \n",
      "CUSTOMER SERVICE CALLS_2                 NaN              NaN       0.002040   \n",
      "CUSTOMER SERVICE CALLS_3                 NaN              NaN      -0.066506   \n",
      "\n",
      "                          AREA CODE_415  AREA CODE_510  \\\n",
      "ACCOUNT LENGTH                -0.007693      -0.015649   \n",
      "NUMBER VMAIL MESSAGES          0.019779      -0.025199   \n",
      "TOTAL DAY MINUTES              0.048531       0.001676   \n",
      "TOTAL DAY CALLS               -0.016131       0.016084   \n",
      "TOTAL EVE MINUTES              0.033505       0.000023   \n",
      "TOTAL EVE CALLS                0.005045      -0.002990   \n",
      "TOTAL NIGHT MINUTES            0.031011      -0.021737   \n",
      "TOTAL NIGHT CALLS              0.006647       0.018858   \n",
      "TOTAL INTL MINUTES             0.042902      -0.031658   \n",
      "TOTAL INTL CALLS               0.042137      -0.040896   \n",
      "INTERNATIONAL PLAN                  NaN            NaN   \n",
      "VOICE MAIL PLAN                     NaN            NaN   \n",
      "AREA CODE_408                 -0.577464      -0.343718   \n",
      "AREA CODE_415                  1.000000      -0.568190   \n",
      "AREA CODE_510                 -0.568190       1.000000   \n",
      "CUSTOMER SERVICE CALLS_1      -0.005537      -0.043288   \n",
      "CUSTOMER SERVICE CALLS_2      -0.000015      -0.002038   \n",
      "CUSTOMER SERVICE CALLS_3       0.007214       0.058736   \n",
      "\n",
      "                          CUSTOMER SERVICE CALLS_1  CUSTOMER SERVICE CALLS_2  \\\n",
      "ACCOUNT LENGTH                            0.032546                 -0.039727   \n",
      "NUMBER VMAIL MESSAGES                     0.027359                  0.007374   \n",
      "TOTAL DAY MINUTES                         0.005293                 -0.029898   \n",
      "TOTAL DAY CALLS                           0.046396                 -0.032139   \n",
      "TOTAL EVE MINUTES                         0.033335                 -0.013637   \n",
      "TOTAL EVE CALLS                           0.009706                  0.003543   \n",
      "TOTAL NIGHT MINUTES                      -0.001061                 -0.003605   \n",
      "TOTAL NIGHT CALLS                        -0.006069                  0.029015   \n",
      "TOTAL INTL MINUTES                       -0.005132                  0.012068   \n",
      "TOTAL INTL CALLS                          0.012183                 -0.017422   \n",
      "INTERNATIONAL PLAN                             NaN                       NaN   \n",
      "VOICE MAIL PLAN                                NaN                       NaN   \n",
      "AREA CODE_408                             0.049266                  0.002040   \n",
      "AREA CODE_415                            -0.005537                 -0.000015   \n",
      "AREA CODE_510                            -0.043288                 -0.002038   \n",
      "CUSTOMER SERVICE CALLS_1                  1.000000                 -0.686317   \n",
      "CUSTOMER SERVICE CALLS_2                 -0.686317                  1.000000   \n",
      "CUSTOMER SERVICE CALLS_3                 -0.463147                 -0.326729   \n",
      "\n",
      "                          CUSTOMER SERVICE CALLS_3  \n",
      "ACCOUNT LENGTH                            0.006118  \n",
      "NUMBER VMAIL MESSAGES                    -0.044539  \n",
      "TOTAL DAY MINUTES                         0.029556  \n",
      "TOTAL DAY CALLS                          -0.021127  \n",
      "TOTAL EVE MINUTES                        -0.026700  \n",
      "TOTAL EVE CALLS                          -0.016930  \n",
      "TOTAL NIGHT MINUTES                       0.005771  \n",
      "TOTAL NIGHT CALLS                        -0.027470  \n",
      "TOTAL INTL MINUTES                       -0.008037  \n",
      "TOTAL INTL CALLS                          0.005399  \n",
      "INTERNATIONAL PLAN                             NaN  \n",
      "VOICE MAIL PLAN                                NaN  \n",
      "AREA CODE_408                            -0.066506  \n",
      "AREA CODE_415                             0.007214  \n",
      "AREA CODE_510                             0.058736  \n",
      "CUSTOMER SERVICE CALLS_1                 -0.463147  \n",
      "CUSTOMER SERVICE CALLS_2                 -0.326729  \n",
      "CUSTOMER SERVICE CALLS_3                  1.000000  \n"
     ]
    }
   ],
   "source": [
    "print(X.corr())"
   ]
  },
  {
   "cell_type": "code",
   "execution_count": 53,
   "metadata": {},
   "outputs": [],
   "source": [
    "## Function to get highly correlated variables\n",
    "\n",
    "def get_redundant_pairs(df):\n",
    "    '''Get diagonal and lower triangular pairs of correlation matrix'''\n",
    "    pairs_to_drop = set()\n",
    "    cols = df.columns\n",
    "    for i in range(0, df.shape[1]):\n",
    "        for j in range(0, i+1):\n",
    "            pairs_to_drop.add((cols[i], cols[j]))\n",
    "    return pairs_to_drop\n",
    "\n",
    "def get_top_abs_correlations(df, n=5):\n",
    "    au_corr = df.corr().abs().unstack()\n",
    "    labels_to_drop = get_redundant_pairs(df)\n",
    "    au_corr = au_corr.drop(labels=labels_to_drop).sort_values(ascending=False)\n",
    "    return au_corr[0:n]"
   ]
  },
  {
   "cell_type": "code",
   "execution_count": 54,
   "metadata": {},
   "outputs": [
    {
     "name": "stdout",
     "output_type": "stream",
     "text": [
      "Top Absolute Correlations\n",
      "CUSTOMER SERVICE CALLS_1  CUSTOMER SERVICE CALLS_2    0.686317\n",
      "AREA CODE_408             AREA CODE_415               0.577464\n",
      "AREA CODE_415             AREA CODE_510               0.568190\n",
      "CUSTOMER SERVICE CALLS_1  CUSTOMER SERVICE CALLS_3    0.463147\n",
      "AREA CODE_408             AREA CODE_510               0.343718\n",
      "CUSTOMER SERVICE CALLS_2  CUSTOMER SERVICE CALLS_3    0.326729\n",
      "AREA CODE_408             CUSTOMER SERVICE CALLS_3    0.066506\n",
      "AREA CODE_510             CUSTOMER SERVICE CALLS_3    0.058736\n",
      "TOTAL DAY MINUTES         AREA CODE_408               0.057045\n",
      "ACCOUNT LENGTH            TOTAL DAY CALLS             0.050406\n",
      "AREA CODE_408             CUSTOMER SERVICE CALLS_1    0.049266\n",
      "TOTAL DAY MINUTES         AREA CODE_415               0.048531\n",
      "TOTAL DAY CALLS           CUSTOMER SERVICE CALLS_1    0.046396\n",
      "NUMBER VMAIL MESSAGES     CUSTOMER SERVICE CALLS_3    0.044539\n",
      "AREA CODE_510             CUSTOMER SERVICE CALLS_1    0.043288\n",
      "TOTAL INTL MINUTES        AREA CODE_415               0.042902\n",
      "TOTAL INTL CALLS          AREA CODE_415               0.042137\n",
      "TOTAL EVE MINUTES         TOTAL INTL MINUTES          0.041152\n",
      "TOTAL INTL CALLS          AREA CODE_510               0.040896\n",
      "ACCOUNT LENGTH            CUSTOMER SERVICE CALLS_2    0.039727\n",
      "TOTAL EVE MINUTES         AREA CODE_408               0.038259\n",
      "TOTAL DAY CALLS           TOTAL NIGHT MINUTES         0.036036\n",
      "TOTAL EVE MINUTES         AREA CODE_415               0.033505\n",
      "                          CUSTOMER SERVICE CALLS_1    0.033335\n",
      "ACCOUNT LENGTH            CUSTOMER SERVICE CALLS_1    0.032546\n",
      "TOTAL DAY CALLS           CUSTOMER SERVICE CALLS_2    0.032139\n",
      "TOTAL INTL MINUTES        AREA CODE_510               0.031658\n",
      "TOTAL NIGHT MINUTES       AREA CODE_415               0.031011\n",
      "TOTAL INTL MINUTES        TOTAL INTL CALLS            0.030122\n",
      "TOTAL DAY MINUTES         CUSTOMER SERVICE CALLS_2    0.029898\n",
      "                          CUSTOMER SERVICE CALLS_3    0.029556\n",
      "dtype: float64\n"
     ]
    }
   ],
   "source": [
    "print(\"Top Absolute Correlations\")\n",
    "print(get_top_abs_correlations(X, 31))"
   ]
  },
  {
   "cell_type": "code",
   "execution_count": 55,
   "metadata": {},
   "outputs": [
    {
     "name": "stdout",
     "output_type": "stream",
     "text": [
      "Accuracy: 0.9036334913112164\n",
      "F1 score: 0.22784810126582278\n",
      "Recall: 0.13636363636363635\n",
      "Precision: 0.6923076923076923\n",
      "\n",
      " clasification report:\n",
      "              precision    recall  f1-score   support\n",
      "\n",
      "          0       0.91      0.99      0.95       567\n",
      "          1       0.69      0.14      0.23        66\n",
      "\n",
      "avg / total       0.89      0.90      0.87       633\n",
      "\n",
      "\n",
      " confussion matrix:\n",
      " [[563   4]\n",
      " [ 57   9]]\n"
     ]
    }
   ],
   "source": [
    "from sklearn.metrics import precision_score,recall_score, confusion_matrix, classification_report,accuracy_score, f1_score\n",
    "\n",
    "print('Accuracy:', accuracy_score(y_test, y_pred))\n",
    "print('F1 score:', f1_score(y_test , y_pred ))\n",
    "print('Recall:', recall_score(y_test,  y_pred))\n",
    "print('Precision:', precision_score(y_test,  y_pred))\n",
    "print('\\n clasification report:\\n', classification_report(y_test, y_pred))\n",
    "print('\\n confussion matrix:\\n',confusion_matrix(y_test,  y_pred))"
   ]
  },
  {
   "cell_type": "code",
   "execution_count": 56,
   "metadata": {},
   "outputs": [
    {
     "data": {
      "text/plain": [
       "620"
      ]
     },
     "execution_count": 56,
     "metadata": {},
     "output_type": "execute_result"
    }
   ],
   "source": [
    "len(y_pred) - sum(y_pred) ## No of 0 in y predicted "
   ]
  },
  {
   "cell_type": "code",
   "execution_count": 57,
   "metadata": {},
   "outputs": [
    {
     "data": {
      "text/plain": [
       "13"
      ]
     },
     "execution_count": 57,
     "metadata": {},
     "output_type": "execute_result"
    }
   ],
   "source": [
    "sum(y_pred)"
   ]
  },
  {
   "cell_type": "code",
   "execution_count": 58,
   "metadata": {},
   "outputs": [
    {
     "data": {
      "text/plain": [
       "0    89.5211\n",
       "1    10.4789\n",
       "Name: CHURN, dtype: float64"
      ]
     },
     "execution_count": 58,
     "metadata": {},
     "output_type": "execute_result"
    }
   ],
   "source": [
    "final_data['CHURN'].value_counts()/np.sum(final_data['CHURN'].value_counts().values)*100 # Raw Data\n",
    "\n",
    "# This is the case of class imbalance ."
   ]
  },
  {
   "cell_type": "code",
   "execution_count": 59,
   "metadata": {},
   "outputs": [
    {
     "name": "stdout",
     "output_type": "stream",
     "text": [
      "Accuracy: 0.9083728278041074\n",
      "F1 score: 0.21621621621621626\n",
      "Recall: 0.12121212121212122\n",
      "Precision: 1.0\n",
      "\n",
      " clasification report:\n",
      "              precision    recall  f1-score   support\n",
      "\n",
      "          0       0.91      1.00      0.95       567\n",
      "          1       1.00      0.12      0.22        66\n",
      "\n",
      "avg / total       0.92      0.91      0.87       633\n",
      "\n",
      "\n",
      " confussion matrix:\n",
      " [[567   0]\n",
      " [ 58   8]]\n"
     ]
    }
   ],
   "source": [
    "                          ## KNN Classifier\n",
    "\n",
    "from sklearn.neighbors import KNeighborsClassifier  \n",
    "classifier = KNeighborsClassifier(n_neighbors=5)  \n",
    "classifier.fit(X_train, y_train) \n",
    "\n",
    "y_pred = classifier.predict(X_test)\n",
    "\n",
    "#Evaluating the Algorithm\n",
    "\n",
    "from sklearn.metrics import precision_score,recall_score, confusion_matrix, classification_report,accuracy_score, f1_score\n",
    "\n",
    "print('Accuracy:', accuracy_score(y_test, y_pred))\n",
    "print('F1 score:', f1_score(y_test , y_pred ))\n",
    "print('Recall:', recall_score(y_test,  y_pred))\n",
    "print('Precision:', precision_score(y_test,  y_pred))\n",
    "print('\\n clasification report:\\n', classification_report(y_test, y_pred))\n",
    "print('\\n confussion matrix:\\n',confusion_matrix(y_test,  y_pred))"
   ]
  },
  {
   "cell_type": "code",
   "execution_count": 60,
   "metadata": {},
   "outputs": [
    {
     "name": "stdout",
     "output_type": "stream",
     "text": [
      "Accuracy: 0.8641390205371248\n",
      "F1 score: 0.30645161290322576\n",
      "Recall: 0.2878787878787879\n",
      "Precision: 0.3275862068965517\n",
      "\n",
      " clasification report:\n",
      "              precision    recall  f1-score   support\n",
      "\n",
      "          0       0.92      0.93      0.92       567\n",
      "          1       0.33      0.29      0.31        66\n",
      "\n",
      "avg / total       0.86      0.86      0.86       633\n",
      "\n",
      "\n",
      " confussion matrix:\n",
      " [[528  39]\n",
      " [ 47  19]]\n"
     ]
    }
   ],
   "source": [
    "################################## Decision Tree ######################################\n",
    "\n",
    "# Training\n",
    "from sklearn.tree import DecisionTreeClassifier  \n",
    "classifier = DecisionTreeClassifier()  \n",
    "classifier.fit(X_train, y_train)\n",
    "\n",
    "#Predictions\n",
    "y_pred = classifier.predict(X_test)\n",
    "\n",
    "\n",
    "from sklearn.metrics import precision_score,recall_score, confusion_matrix, classification_report,accuracy_score, f1_score\n",
    "\n",
    "print('Accuracy:', accuracy_score(y_test, y_pred))\n",
    "print('F1 score:', f1_score(y_test , y_pred ))\n",
    "print('Recall:', recall_score(y_test,  y_pred))\n",
    "print('Precision:', precision_score(y_test,  y_pred))\n",
    "print('\\n clasification report:\\n', classification_report(y_test, y_pred))\n",
    "print('\\n confussion matrix:\\n',confusion_matrix(y_test,  y_pred))"
   ]
  },
  {
   "cell_type": "code",
   "execution_count": 61,
   "metadata": {},
   "outputs": [
    {
     "name": "stdout",
     "output_type": "stream",
     "text": [
      "Accuracy: 0.9115323854660348\n",
      "F1 score: 0.2631578947368421\n",
      "Recall: 0.15151515151515152\n",
      "Precision: 1.0\n",
      "\n",
      " clasification report:\n",
      "              precision    recall  f1-score   support\n",
      "\n",
      "          0       0.91      1.00      0.95       567\n",
      "          1       1.00      0.15      0.26        66\n",
      "\n",
      "avg / total       0.92      0.91      0.88       633\n",
      "\n",
      "\n",
      " confussion matrix:\n",
      " [[567   0]\n",
      " [ 56  10]]\n"
     ]
    }
   ],
   "source": [
    "################################ Random Forest ##################################################\n",
    "\n",
    "from sklearn.ensemble import RandomForestClassifier\n",
    "\n",
    "# Create a random forest Classifier. By convention, clf means 'Classifier'\n",
    "clf = RandomForestClassifier(n_jobs=2, random_state=0)\n",
    "\n",
    " #Train the Classifier to take the training features and learn how they relate\n",
    "# to the training y (the species)\n",
    "clf.fit(X_train,y_train)\n",
    "\n",
    "# Apply the Classifier we trained to the test data (which, remember, it has never seen before)\n",
    "y_pred = clf.predict(X_test)\n",
    "\n",
    "\n",
    "# Create confusion matrix\n",
    "\n",
    "from sklearn.metrics import precision_score,recall_score, confusion_matrix, classification_report,accuracy_score, f1_score\n",
    "\n",
    "print('Accuracy:', accuracy_score(y_test, y_pred))\n",
    "print('F1 score:', f1_score(y_test , y_pred ))\n",
    "print('Recall:', recall_score(y_test,  y_pred))\n",
    "print('Precision:', precision_score(y_test,  y_pred))\n",
    "print('\\n clasification report:\\n', classification_report(y_test, y_pred))\n",
    "print('\\n confussion matrix:\\n',confusion_matrix(y_test,  y_pred))"
   ]
  },
  {
   "cell_type": "code",
   "execution_count": 62,
   "metadata": {},
   "outputs": [
    {
     "name": "stdout",
     "output_type": "stream",
     "text": [
      "Accuracy: 0.9052132701421801\n",
      "F1 score: 0.1891891891891892\n",
      "Recall: 0.10606060606060606\n",
      "Precision: 0.875\n",
      "\n",
      " clasification report:\n",
      "              precision    recall  f1-score   support\n",
      "\n",
      "          0       0.91      1.00      0.95       567\n",
      "          1       0.88      0.11      0.19        66\n",
      "\n",
      "avg / total       0.90      0.91      0.87       633\n",
      "\n",
      "\n",
      " confussion matrix:\n",
      " [[566   1]\n",
      " [ 59   7]]\n"
     ]
    }
   ],
   "source": [
    "################################## KANIVE BAYES CLASSIFIER #######################\n",
    "\n",
    "# training the model on training set\n",
    "from sklearn.naive_bayes import GaussianNB\n",
    "gnb = GaussianNB()\n",
    "gnb.fit(X_train, y_train)\n",
    "\n",
    "# making predictions on the testing set\n",
    "y_pred = gnb.predict(X_test)\n",
    "\n",
    "\n",
    "from sklearn.metrics import precision_score,recall_score, confusion_matrix, classification_report,accuracy_score, f1_score\n",
    "\n",
    "print('Accuracy:', accuracy_score(y_test, y_pred))\n",
    "print('F1 score:', f1_score(y_test , y_pred ))\n",
    "print('Recall:', recall_score(y_test,  y_pred))\n",
    "print('Precision:', precision_score(y_test,  y_pred))\n",
    "print('\\n clasification report:\\n', classification_report(y_test, y_pred))\n",
    "print('\\n confussion matrix:\\n',confusion_matrix(y_test,  y_pred))"
   ]
  },
  {
   "cell_type": "code",
   "execution_count": 63,
   "metadata": {},
   "outputs": [
    {
     "name": "stdout",
     "output_type": "stream",
     "text": [
      "Accuracy: 0.7819905213270142\n",
      "F1 score: 0.3300970873786408\n",
      "Recall: 0.5151515151515151\n",
      "Precision: 0.24285714285714285\n",
      "\n",
      " clasification report:\n",
      "              precision    recall  f1-score   support\n",
      "\n",
      "          0       0.94      0.81      0.87       567\n",
      "          1       0.24      0.52      0.33        66\n",
      "\n",
      "avg / total       0.86      0.78      0.81       633\n",
      "\n",
      "\n",
      " confussion matrix:\n",
      " [[461 106]\n",
      " [ 32  34]]\n"
     ]
    }
   ],
   "source": [
    "#Import svm model\n",
    "from sklearn import svm\n",
    "\n",
    "#Create a svm Classifier\n",
    "clf = svm.SVC(kernel='linear',C=1.0,class_weight='balanced') # Linear Kernel\n",
    "\n",
    "#Train the model using the training sets\n",
    "clf.fit(X_train, y_train)\n",
    "\n",
    "#Predict the response for test dataset\n",
    "y_pred = clf.predict(X_test)\n",
    "\n",
    "\n",
    "\n",
    "print('Accuracy:', accuracy_score(y_test, y_pred))\n",
    "print('F1 score:', f1_score(y_test , y_pred ))\n",
    "print('Recall:', recall_score(y_test,  y_pred))\n",
    "print('Precision:', precision_score(y_test,  y_pred))\n",
    "print('\\n clasification report:\\n', classification_report(y_test, y_pred))\n",
    "print('\\n confussion matrix:\\n',confusion_matrix(y_test,  y_pred))"
   ]
  },
  {
   "cell_type": "code",
   "execution_count": null,
   "metadata": {},
   "outputs": [],
   "source": []
  }
 ],
 "metadata": {
  "kernelspec": {
   "display_name": "Python 3",
   "language": "python",
   "name": "python3"
  },
  "language_info": {
   "codemirror_mode": {
    "name": "ipython",
    "version": 3
   },
   "file_extension": ".py",
   "mimetype": "text/x-python",
   "name": "python",
   "nbconvert_exporter": "python",
   "pygments_lexer": "ipython3",
   "version": "3.6.5"
  }
 },
 "nbformat": 4,
 "nbformat_minor": 2
}
