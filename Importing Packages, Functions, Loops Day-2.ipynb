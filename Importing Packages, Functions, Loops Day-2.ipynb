{
 "cells": [
  {
   "cell_type": "code",
   "execution_count": 12,
   "metadata": {},
   "outputs": [],
   "source": [
    "#                                            -------------------------------\n",
    "#                                                 | WNS Python Training |\n",
    "#                                            ------------------------------\n",
    "### Day-2: Session Starts!########\n",
    "##################################"
   ]
  },
  {
   "cell_type": "markdown",
   "metadata": {},
   "source": [
    "## 1. Import Packages"
   ]
  },
  {
   "cell_type": "code",
   "execution_count": 69,
   "metadata": {},
   "outputs": [
    {
     "name": "stdout",
     "output_type": "stream",
     "text": [
      "Packages contains Modules, modules contain functions \n",
      "Packages ---> Modules ---> Functions/Methods\n"
     ]
    }
   ],
   "source": [
    "########################\n",
    "# Importing Few Packages\n",
    "print(\"Packages contains Modules, modules contain functions \")\n",
    "print(\"Packages ---> Modules ---> Functions/Methods\")\n"
   ]
  },
  {
   "cell_type": "code",
   "execution_count": 70,
   "metadata": {},
   "outputs": [],
   "source": [
    "# Type-1 (as np - represents the nampe of package in your local system\n",
    "import numpy as np"
   ]
  },
  {
   "cell_type": "code",
   "execution_count": 71,
   "metadata": {},
   "outputs": [],
   "source": [
    "# Type 2: Name is not defined but import all the modules with all the functions present in numpy package\n",
    "from numpy import *"
   ]
  },
  {
   "cell_type": "code",
   "execution_count": 72,
   "metadata": {},
   "outputs": [],
   "source": [
    "# Type-3: Import specific module and all the functions that are assigned to that module \n",
    "from numpy.matlib import *"
   ]
  },
  {
   "cell_type": "code",
   "execution_count": 73,
   "metadata": {},
   "outputs": [],
   "source": [
    "# Type-4: Import machine learning package:sklearn\n",
    "# FROM package_name.module_name IMPORT function_name \n",
    "from sklearn.linear_model import LogisticRegression\n",
    "\n",
    "#or : Package - Support Vector Machine \n",
    "from sklearn.svm import LinearSVC"
   ]
  },
  {
   "cell_type": "markdown",
   "metadata": {},
   "source": [
    "## 2. Functions"
   ]
  },
  {
   "cell_type": "code",
   "execution_count": 74,
   "metadata": {},
   "outputs": [
    {
     "name": "stdout",
     "output_type": "stream",
     "text": [
      "My name is Chiranjeev\n"
     ]
    }
   ],
   "source": [
    "# Simple function: without any argument \n",
    "def print_name():\n",
    "    print('My name is Chiranjeev')\n",
    "\n",
    "# Calling print_name function\n",
    "print_name()"
   ]
  },
  {
   "cell_type": "code",
   "execution_count": 75,
   "metadata": {},
   "outputs": [
    {
     "name": "stdout",
     "output_type": "stream",
     "text": [
      "My name is Rohan\n"
     ]
    }
   ],
   "source": [
    "# Simple function with an argument\n",
    "def print_name(name):\n",
    "    print('My name is {0}'.format(name))\n",
    "\n",
    "# Calling print_name function\n",
    "print_name(\"Rohan\")"
   ]
  },
  {
   "cell_type": "code",
   "execution_count": 76,
   "metadata": {},
   "outputs": [
    {
     "name": "stdout",
     "output_type": "stream",
     "text": [
      "9\n"
     ]
    }
   ],
   "source": [
    "# Simple function with an argument with return()\n",
    "# Squaring an integer value \n",
    "def square(num):\n",
    "    out = num**2\n",
    "    return(out)\n",
    "\n",
    "# Using a square function\n",
    "num_sqr = square(3)\n",
    "print(num_sqr)"
   ]
  },
  {
   "cell_type": "code",
   "execution_count": 77,
   "metadata": {},
   "outputs": [
    {
     "name": "stdout",
     "output_type": "stream",
     "text": [
      "chiranjeev Ram Shyam\n"
     ]
    }
   ],
   "source": [
    "# Lambda Expression: It is an another way of defining functions but with a difference. \n",
    "# They aren't capable of  multiple expressions and can only handle single expressions. \n",
    "# The format of lambda statements are: \n",
    "  ###  function_name  = lambda <space>  input_parameters  :  output_parameters \n",
    "    \n",
    "# Example-1: Converting list to strings\n",
    "join_string = lambda x : ' '.join(x)\n",
    "print(join_string(['chiranjeev','Ram','Shyam']))"
   ]
  },
  {
   "cell_type": "code",
   "execution_count": 78,
   "metadata": {},
   "outputs": [
    {
     "name": "stdout",
     "output_type": "stream",
     "text": [
      "12\n"
     ]
    }
   ],
   "source": [
    "# Example-2: Calculating product of two products \n",
    "product = lambda x, y : x*y\n",
    "print(product(3,4))"
   ]
  },
  {
   "cell_type": "markdown",
   "metadata": {},
   "source": [
    "## 3. Problem Solving Skills: Business Problem (Continue)"
   ]
  },
  {
   "cell_type": "code",
   "execution_count": 79,
   "metadata": {},
   "outputs": [],
   "source": [
    "\n",
    "# A marketing person wants to send an automatic personalise email to few target customers: \n",
    "# He wants to promote some of the companies products such as computer in INR 30000, DSLR in INR 15000 \n",
    "# or Iphone in INR 22000. \n",
    "\n",
    "# Below is a Subject and mail body resp, to be sent through an email:\n",
    "\n",
    "# Subject \n",
    "'''\n",
    "Hurry Up! [customer_name] - This offer available to you only!\n",
    "'''\n",
    "\n",
    "# Mail Body\n",
    "'''\n",
    "Good Morning [Customer_Name], \n",
    "\n",
    "I have a great deal for you today! \n",
    "We are selling [Product_Name] in INR [Product_Price] to you with [offer_percentage] discount. Please visit our website now to get more\n",
    "information!\n",
    "\n",
    "Thanks, \n",
    "Raj\n",
    "'''\n",
    "\n",
    "# Now, we need to send an email to 4 person with different product config.\n",
    "cust_info = [['Rohan',40000,6000,'Computer'],\n",
    "             ['Chiranjeev',50000,5000,'DSLR'],\n",
    "             ['Ram',70000,12000,'Apple Laptop'],\n",
    "             ['Ravan',80000,5000,'Computer']]\n"
   ]
  },
  {
   "cell_type": "code",
   "execution_count": 80,
   "metadata": {},
   "outputs": [],
   "source": [
    "# Solutions\n",
    "def mail_function(var1,var2,var3,var4):\n",
    "    subject =  (\"Hurry Up! {0} - This offer available to you only!\").format(var1)\n",
    "    mail_body = (\"Good Morning {0},\\n\\nI have a great deal for you today! \\nWe are selling {3} in INR {1} to you with {4}% discount. Please visit our website now to get more information \\n\\nThanks,\\nRaj\").format(var1,var2,var3,var4,(var3/var2)*100)\n",
    "    return(subject,mail_body)"
   ]
  },
  {
   "cell_type": "code",
   "execution_count": 81,
   "metadata": {},
   "outputs": [
    {
     "name": "stdout",
     "output_type": "stream",
     "text": [
      "##Subject###\n",
      "\n",
      "Hurry Up! Rohan - This offer available to you only!\n",
      "\n",
      "\n",
      "###Mail_Body###\n",
      "\n",
      "Good Morning Rohan,\n",
      "\n",
      "I have a great deal for you today! \n",
      "We are selling Computer in INR 40000 to you with 15.0% discount. Please visit our website now to get more information \n",
      "\n",
      "Thanks,\n",
      "Raj\n"
     ]
    }
   ],
   "source": [
    "# Customer-1: Rohan \n",
    "print(\"##Subject###\\n\")\n",
    "print(mail_function(cust_info[0][0],cust_info[0][1],cust_info[0][2],cust_info[0][3])[0])\n",
    "print(\"\\n\")\n",
    "print(\"###Mail_Body###\\n\")\n",
    "print(mail_function(cust_info[0][0],cust_info[0][1],cust_info[0][2],cust_info[0][3])[1])"
   ]
  },
  {
   "cell_type": "code",
   "execution_count": 82,
   "metadata": {},
   "outputs": [
    {
     "name": "stdout",
     "output_type": "stream",
     "text": [
      "##Subject###\n",
      "\n",
      "Hurry Up! Chiranjeev - This offer available to you only!\n",
      "\n",
      "\n",
      "###Mail_Body###\n",
      "\n",
      "Good Morning Chiranjeev,\n",
      "\n",
      "I have a great deal for you today! \n",
      "We are selling DSLR in INR 50000 to you with 10.0% discount. Please visit our website now to get more information \n",
      "\n",
      "Thanks,\n",
      "Raj\n"
     ]
    }
   ],
   "source": [
    "# Customer-2: Chiranjeev \n",
    "print(\"##Subject###\\n\")\n",
    "print(mail_function(cust_info[1][0],cust_info[1][1],cust_info[1][2],cust_info[1][3])[0])\n",
    "print(\"\\n\")\n",
    "print(\"###Mail_Body###\\n\")\n",
    "print(mail_function(cust_info[1][0],cust_info[1][1],cust_info[1][2],cust_info[1][3])[1])"
   ]
  },
  {
   "cell_type": "code",
   "execution_count": 83,
   "metadata": {},
   "outputs": [
    {
     "name": "stdout",
     "output_type": "stream",
     "text": [
      "##Subject###\n",
      "\n",
      "Hurry Up! Ram - This offer available to you only!\n",
      "\n",
      "\n",
      "###Mail_Body###\n",
      "\n",
      "Good Morning Ram,\n",
      "\n",
      "I have a great deal for you today! \n",
      "We are selling Apple Laptop in INR 70000 to you with 17.142857142857142% discount. Please visit our website now to get more information \n",
      "\n",
      "Thanks,\n",
      "Raj\n"
     ]
    }
   ],
   "source": [
    "# Customer-3: Ram \n",
    "print(\"##Subject###\\n\")\n",
    "print(mail_function(cust_info[2][0],cust_info[2][1],cust_info[2][2],cust_info[2][3])[0])\n",
    "print(\"\\n\")\n",
    "print(\"###Mail_Body###\\n\")\n",
    "print(mail_function(cust_info[2][0],cust_info[2][1],cust_info[2][2],cust_info[2][3])[1])"
   ]
  },
  {
   "cell_type": "code",
   "execution_count": 84,
   "metadata": {},
   "outputs": [
    {
     "name": "stdout",
     "output_type": "stream",
     "text": [
      "##Subject###\n",
      "\n",
      "Hurry Up! Ravan - This offer available to you only!\n",
      "\n",
      "\n",
      "###Mail_Body###\n",
      "\n",
      "Good Morning Ravan,\n",
      "\n",
      "I have a great deal for you today! \n",
      "We are selling Computer in INR 80000 to you with 6.25% discount. Please visit our website now to get more information \n",
      "\n",
      "Thanks,\n",
      "Raj\n"
     ]
    }
   ],
   "source": [
    "# Customer-4: Ravan \n",
    "print(\"##Subject###\\n\")\n",
    "print(mail_function(cust_info[3][0],cust_info[3][1],cust_info[3][2],cust_info[3][3])[0])\n",
    "print(\"\\n\")\n",
    "print(\"###Mail_Body###\\n\")\n",
    "print(mail_function(cust_info[3][0],cust_info[3][1],cust_info[3][2],cust_info[3][3])[1])"
   ]
  },
  {
   "cell_type": "markdown",
   "metadata": {},
   "source": [
    "## 4. Outlook Application - Optional Exercise"
   ]
  },
  {
   "cell_type": "code",
   "execution_count": 85,
   "metadata": {},
   "outputs": [],
   "source": [
    "# Send an email to the below email ids \n",
    "############################\n",
    "email_ids = ['rohan.bhatia@wns.com','chiranjeev.patidar@wns.com','ram.kumar@wns.com','ravan.kamal@wns.com']"
   ]
  },
  {
   "cell_type": "code",
   "execution_count": 86,
   "metadata": {},
   "outputs": [],
   "source": [
    "# Outlook Setup  # No need to import packages multiple times\n",
    "import win32com.client as win32\n",
    "outlook = win32.Dispatch('outlook.application')"
   ]
  },
  {
   "cell_type": "code",
   "execution_count": 87,
   "metadata": {},
   "outputs": [],
   "source": [
    "# Preparing an email\n",
    "mail = outlook.CreateItem(0)\n",
    "mail.To = ';'.join(email_ids)\n",
    "mail.Subject = mail_function(cust_info[3][0],cust_info[3][1],cust_info[3][2],cust_info[3][3])[0]\n",
    "mail.Body =  mail_function(cust_info[3][0],cust_info[3][1],cust_info[3][2],cust_info[3][3])[1]\n",
    "\n",
    "# Mail Displaying \n",
    "mail.display() # What's the problem here? "
   ]
  },
  {
   "cell_type": "code",
   "execution_count": 88,
   "metadata": {},
   "outputs": [],
   "source": [
    "# Mail Displaying \n",
    "mail.display() # What's the problem here? "
   ]
  },
  {
   "cell_type": "markdown",
   "metadata": {},
   "source": [
    "## 5. Loops"
   ]
  },
  {
   "cell_type": "code",
   "execution_count": 16,
   "metadata": {},
   "outputs": [
    {
     "name": "stdout",
     "output_type": "stream",
     "text": [
      "1\n",
      "2\n",
      "3\n",
      "4\n",
      "5\n"
     ]
    }
   ],
   "source": [
    "# For loop\n",
    "\n",
    "# First Loop on lists: \n",
    "list_1 = [1,2,3,4,5]\n",
    "for i in list_1:\n",
    "    print(i)"
   ]
  },
  {
   "cell_type": "code",
   "execution_count": 19,
   "metadata": {},
   "outputs": [
    {
     "name": "stdout",
     "output_type": "stream",
     "text": [
      "1\n",
      "2\n",
      "3\n",
      "4\n",
      "5\n"
     ]
    }
   ],
   "source": [
    "# Range function with loop\n",
    "for i in range(1,6):\n",
    "    print(i)"
   ]
  },
  {
   "cell_type": "code",
   "execution_count": 20,
   "metadata": {},
   "outputs": [
    {
     "name": "stdout",
     "output_type": "stream",
     "text": [
      "C\n",
      "h\n",
      "i\n",
      "r\n",
      "a\n",
      "n\n",
      "j\n",
      "e\n",
      "e\n",
      "v\n"
     ]
    }
   ],
   "source": [
    "# Loop on String value \n",
    "#Looping on a string\n",
    "my_string = \"Chiranjeev\"\n",
    "\n",
    "for alphabet in my_string:\n",
    "    print(alphabet)"
   ]
  },
  {
   "cell_type": "code",
   "execution_count": 21,
   "metadata": {},
   "outputs": [
    {
     "name": "stdout",
     "output_type": "stream",
     "text": [
      "Chiranjeev 20 Maths\n",
      "Rohan 21 Physics\n",
      "Pranav 22 Biology\n",
      "Bhaskar 23 Science\n"
     ]
    }
   ],
   "source": [
    "# Looping through multiple lists at the same time\n",
    "list_1 = ['Chiranjeev','Rohan','Pranav','Bhaskar']\n",
    "list_2 = [20,21,22,23,24]\n",
    "list_3 = ['Maths','Physics','Biology','Science']\n",
    "\n",
    "for (x,y,z) in zip(list_1,list_2,list_3):\n",
    "    print(x,y,z)"
   ]
  },
  {
   "cell_type": "code",
   "execution_count": 23,
   "metadata": {},
   "outputs": [],
   "source": [
    "# Importing text file in Python \n",
    "# Let's first define the path location of file \n",
    "path = 'C:/Users/u281311/Desktop/Python_WNS_content/Final WNS/Final WNS Python Scripts/Day-2/'"
   ]
  },
  {
   "cell_type": "code",
   "execution_count": null,
   "metadata": {},
   "outputs": [],
   "source": [
    "path = \"C/Users/u281311/Desktop/Python_WNS_content/Final WNS/Final WNS Python Scripts/Day-2/\""
   ]
  },
  {
   "cell_type": "code",
   "execution_count": 24,
   "metadata": {},
   "outputs": [],
   "source": [
    "text_file= open(path+'text_file.txt', \"r\")\n",
    "lines = text_file.readlines()"
   ]
  },
  {
   "cell_type": "code",
   "execution_count": 25,
   "metadata": {},
   "outputs": [
    {
     "data": {
      "text/plain": [
       "['Name          Age   Email_Address                  Phone_Number\\n',\n",
       " 'Chiranjeev    24    chiranjeev.patidar@wns.com     1234567776\\n',\n",
       " 'Rohan         25    rohan.bhatia@wns.com           2334545576\\n',\n",
       " 'Bhaskar       26    bhaskar.shrama@wns.com         5656737745\\n',\n",
       " 'Pranav        26    pranav.anand@wns.com           6576447776\\n',\n",
       " 'Sharmaji      32    sharmaji.shrama@wns.com        1653456785']"
      ]
     },
     "execution_count": 25,
     "metadata": {},
     "output_type": "execute_result"
    }
   ],
   "source": [
    "# Printing all the lines \n",
    "lines"
   ]
  },
  {
   "cell_type": "code",
   "execution_count": 26,
   "metadata": {},
   "outputs": [
    {
     "data": {
      "text/plain": [
       "'Name          Age   Email_Address                  Phone_Number\\n'"
      ]
     },
     "execution_count": 26,
     "metadata": {},
     "output_type": "execute_result"
    }
   ],
   "source": [
    "# Printing first list of text file \n",
    "lines[0]"
   ]
  },
  {
   "cell_type": "code",
   "execution_count": 27,
   "metadata": {},
   "outputs": [
    {
     "data": {
      "text/plain": [
       "64"
      ]
     },
     "execution_count": 27,
     "metadata": {},
     "output_type": "execute_result"
    }
   ],
   "source": [
    "len(lines[0])"
   ]
  },
  {
   "cell_type": "code",
   "execution_count": 30,
   "metadata": {},
   "outputs": [
    {
     "data": {
      "text/plain": [
       "'Chiranjeev    24    chiranjeev.patidar@wns.com     1234567776\\n'"
      ]
     },
     "execution_count": 30,
     "metadata": {},
     "output_type": "execute_result"
    }
   ],
   "source": [
    "# 2nd Lines\n",
    "lines[1]"
   ]
  },
  {
   "cell_type": "code",
   "execution_count": 31,
   "metadata": {},
   "outputs": [
    {
     "name": "stdout",
     "output_type": "stream",
     "text": [
      "['Chiranjeev', 'Rohan', 'Bhaskar', 'Pranav', 'Sharmaji']\n"
     ]
    }
   ],
   "source": [
    "# Looping to create a list of names only from text file \n",
    "name_list = []\n",
    "for i in range(len(lines)):\n",
    "    name_list.append(lines[i][0:14].strip())  \n",
    "    \n",
    "names = name_list[1:]\n",
    "print(names)"
   ]
  },
  {
   "cell_type": "code",
   "execution_count": 32,
   "metadata": {},
   "outputs": [
    {
     "name": "stdout",
     "output_type": "stream",
     "text": [
      "['chiranjeev.patidar@wns.com', 'rohan.bhatia@wns.com', 'bhaskar.shrama@wns.com', 'pranav.anand@wns.com', 'sharmaji.shrama@wns.com']\n"
     ]
    }
   ],
   "source": [
    "# Similarly, if we want to extract email ids then, again we need to write a loop to do the task \n",
    "email_list=[]\n",
    "for i in range(len(lines)):\n",
    "    email_list.append(lines[i][20:51].strip())\n",
    "    \n",
    "email_list = email_list[1:]\n",
    "print(email_list)"
   ]
  },
  {
   "cell_type": "code",
   "execution_count": 33,
   "metadata": {},
   "outputs": [],
   "source": [
    "# Let's create a function to the same thing for all the variables \n",
    "def var_list(data,start_num,end_num):\n",
    "    list_1 = []\n",
    "    for i in range(len(data)):\n",
    "        list_1.append(lines[i][start_num:end_num].strip())\n",
    "    list_1 = list_1[1:]\n",
    "    return(list_1)    "
   ]
  },
  {
   "cell_type": "code",
   "execution_count": 34,
   "metadata": {},
   "outputs": [
    {
     "name": "stdout",
     "output_type": "stream",
     "text": [
      "['Chiranjeev', 'Rohan', 'Bhaskar', 'Pranav', 'Sharmaji']\n"
     ]
    }
   ],
   "source": [
    "# Names \n",
    "names = var_list(lines,0,14)\n",
    "print(names )"
   ]
  },
  {
   "cell_type": "code",
   "execution_count": 35,
   "metadata": {},
   "outputs": [
    {
     "name": "stdout",
     "output_type": "stream",
     "text": [
      "['chiranjeev.patidar@wns.com', 'rohan.bhatia@wns.com', 'bhaskar.shrama@wns.com', 'pranav.anand@wns.com', 'sharmaji.shrama@wns.com']\n"
     ]
    }
   ],
   "source": [
    "# Emails \n",
    "emails = var_list(lines,20,51)\n",
    "print(emails)"
   ]
  },
  {
   "cell_type": "code",
   "execution_count": 36,
   "metadata": {},
   "outputs": [
    {
     "name": "stdout",
     "output_type": "stream",
     "text": [
      "['24', '25', '26', '26', '32']\n"
     ]
    }
   ],
   "source": [
    "# Age \n",
    "Age = var_list(lines,14,20)\n",
    "print(Age)"
   ]
  },
  {
   "cell_type": "code",
   "execution_count": 37,
   "metadata": {},
   "outputs": [
    {
     "name": "stdout",
     "output_type": "stream",
     "text": [
      "['1234567776', '2334545576', '5656737745', '6576447776', '1653456785']\n"
     ]
    }
   ],
   "source": [
    "# Phone Number \n",
    "Phone_num = var_list(lines,51,100)\n",
    "print(Phone_num)"
   ]
  },
  {
   "cell_type": "markdown",
   "metadata": {},
   "source": [
    "## 5. Conditional Statements: IF-Else "
   ]
  },
  {
   "cell_type": "code",
   "execution_count": 38,
   "metadata": {},
   "outputs": [],
   "source": [
    "# The very basic of control structures are Conditional Statements. \n",
    "# First If condition"
   ]
  },
  {
   "cell_type": "code",
   "execution_count": 29,
   "metadata": {},
   "outputs": [
    {
     "name": "stdout",
     "output_type": "stream",
     "text": [
      "yes,the score is zero\n"
     ]
    }
   ],
   "source": [
    "# Change score value to 0\n",
    "score=1\n",
    "if score==1:\n",
    "    print(\"yes,the score is zero\")"
   ]
  },
  {
   "cell_type": "code",
   "execution_count": null,
   "metadata": {},
   "outputs": [],
   "source": []
  },
  {
   "cell_type": "code",
   "execution_count": 30,
   "metadata": {},
   "outputs": [
    {
     "name": "stdout",
     "output_type": "stream",
     "text": [
      "Enter your test score : 12\n",
      "No, the score is 12\n"
     ]
    }
   ],
   "source": [
    "# Let's modify the above code. ask user to input the value\n",
    "score = int(input(\"Enter your test score : \"))\n",
    "if score ==0:\n",
    "    print(\"Yes, the score is zero\")\n",
    "else: \n",
    "    print(\"No, the score is {0}\".format(score))"
   ]
  },
  {
   "cell_type": "code",
   "execution_count": 31,
   "metadata": {},
   "outputs": [],
   "source": [
    "# Scoring conditions \n",
    "# School -A: defines passing score and distinction score as follows: \n",
    "passing = 40\n",
    "distinction = 90"
   ]
  },
  {
   "cell_type": "code",
   "execution_count": 32,
   "metadata": {},
   "outputs": [
    {
     "name": "stdout",
     "output_type": "stream",
     "text": [
      "Please enter your Maths score : 60\n"
     ]
    }
   ],
   "source": [
    "# Ask student to write his/her score\n",
    "score = int(input(\"Please enter your Maths score : \"))"
   ]
  },
  {
   "cell_type": "code",
   "execution_count": 36,
   "metadata": {},
   "outputs": [
    {
     "name": "stdout",
     "output_type": "stream",
     "text": [
      "You have passed!\n"
     ]
    }
   ],
   "source": [
    "if score >= distinction:\n",
    "     print(\"You're at the top! You’ve earned a distinction!\")\n",
    "\n",
    "if score >= passing and score < distinction:\n",
    "    print(\"You have passed!\")\n",
    "\n",
    "if score < passing:\n",
    "    print(\"Sorry! You have failed\")"
   ]
  },
  {
   "cell_type": "code",
   "execution_count": 38,
   "metadata": {},
   "outputs": [],
   "source": [
    "# Develop a portal where a student is only allowed to write his/her number. \n",
    "# Combination of function + Conditional Statements \n",
    "def student_result(score):\n",
    "    if score >= distinction:\n",
    "        print(\"You're at the top! You’ve earned a distinction!\")\n",
    "\n",
    "    if score >= passing and score < distinction:\n",
    "       \n",
    "        print(\"You have passed!\")\n",
    "\n",
    "    if score < passing:\n",
    "        print(\"Sorry! You have failed\")"
   ]
  },
  {
   "cell_type": "code",
   "execution_count": 40,
   "metadata": {},
   "outputs": [
    {
     "name": "stdout",
     "output_type": "stream",
     "text": [
      "Sorry! You have failed\n"
     ]
    }
   ],
   "source": [
    "# See the results\n",
    "student_result(30)"
   ]
  },
  {
   "cell_type": "code",
   "execution_count": 46,
   "metadata": {},
   "outputs": [],
   "source": [
    "# Simple Practice Question:\n",
    "\n",
    "#### Write a function:\"Num_definition\"  which takes an integer argument ####\n",
    "# You would need to print below message:If -  \n",
    "# Num = 24. This number is Even number and divisible by 4\n",
    "# Num = 18. This number is Even number but not divisible by 4\n",
    "# Num = 9. This number is odd number and divisible by 3\n",
    "# Num = 7. This number is odd number but not divisible by 3\n"
   ]
  },
  {
   "cell_type": "code",
   "execution_count": 41,
   "metadata": {},
   "outputs": [],
   "source": [
    "def Num_definition(num):\n",
    "    if num%2==0:\n",
    "        if num%4==0:\n",
    "            print(\"This number is Even and divisible by 4\")\n",
    "        else:\n",
    "            print(\"This number is Even but not divisible by 4\")\n",
    "    else:\n",
    "        if num%3==0:\n",
    "            print(\"This number is odd and divisible by 3\")\n",
    "        else:\n",
    "            print(\"This number is odd but not divisible by 3\")   "
   ]
  },
  {
   "cell_type": "code",
   "execution_count": 43,
   "metadata": {},
   "outputs": [
    {
     "name": "stdout",
     "output_type": "stream",
     "text": [
      "This number is Even and divisible by 4\n"
     ]
    }
   ],
   "source": [
    "# Check the results\n",
    "Num_definition(8)"
   ]
  },
  {
   "cell_type": "code",
   "execution_count": 45,
   "metadata": {},
   "outputs": [
    {
     "name": "stdout",
     "output_type": "stream",
     "text": [
      "Bad review!\n"
     ]
    }
   ],
   "source": [
    "# IF conditions on Text data \n",
    "statement = \"The coffee is bad\"\n",
    "if 'bad' in statement:\n",
    "    print(\"Bad review!\")\n"
   ]
  },
  {
   "cell_type": "code",
   "execution_count": 47,
   "metadata": {},
   "outputs": [],
   "source": [
    "statement2 = \"This phone works great\"\n",
    "if 'bad' in statement2:\n",
    "    print(\"This is not a bad review\")"
   ]
  },
  {
   "cell_type": "markdown",
   "metadata": {},
   "source": [
    "## 6. Problem Solving Skills: Business Problem (Continue) - Loops"
   ]
  },
  {
   "cell_type": "code",
   "execution_count": null,
   "metadata": {},
   "outputs": [],
   "source": []
  },
  {
   "cell_type": "code",
   "execution_count": 48,
   "metadata": {},
   "outputs": [],
   "source": [
    "\n",
    "# A marketing person wants to send an automatic personalise email to few target customers: \n",
    "# He wants to promote some of the companies products such as computer in INR 30000, DSLR in INR 15000 \n",
    "# or Iphone in INR 22000. \n",
    "\n",
    "# Below is a Subject and mail body resp, to be sent through an email:\n",
    "\n",
    "# Subject \n",
    "'''\n",
    "Hurry Up! [customer_name] - This offer available to you only!\n",
    "'''\n",
    "\n",
    "# Mail Body\n",
    "'''\n",
    "Good Morning [Customer_Name], \n",
    "\n",
    "I have a great deal for you today! \n",
    "We are selling [Product_Name] in INR [Product_Price] to you with [offer_percentage] discount. Please visit our website now to get more\n",
    "information!\n",
    "\n",
    "Thanks, \n",
    "Raj\n",
    "'''\n",
    "\n",
    "# Now, we need to send an email to 4 person with different product config.\n",
    "cust_info = [['Rohan',40000,6000,'Computer'],\n",
    "             ['Chiranjeev',50000,5000,'DSLR'],\n",
    "             ['Ram',70000,12000,'Apple Laptop'],\n",
    "             ['Ravan',80000,5000,'Computer']]\n"
   ]
  },
  {
   "cell_type": "code",
   "execution_count": 50,
   "metadata": {},
   "outputs": [
    {
     "name": "stdout",
     "output_type": "stream",
     "text": [
      "0\n",
      "1\n",
      "2\n",
      "3\n"
     ]
    }
   ],
   "source": [
    "for i in range(len(cust_info)):\n",
    "    print(i)"
   ]
  },
  {
   "cell_type": "code",
   "execution_count": 52,
   "metadata": {},
   "outputs": [],
   "source": [
    "# Now, we have a function too\n",
    "def mail_function(var1,var2,var3,var4):\n",
    "    subject =  (\"Hurry Up! {0} - This offer available to you only!\").format(var1)\n",
    "    mail_body = (\"Good Morning {0},\\n\\nI have a great deal for you today! \\nWe are selling {3} in INR {1} to you with {4}% discount. Please visit our website now to get more information \\n\\nThanks,\\nRaj\").format(var1,var2,var3,var4,int((var3/var2)*100))\n",
    "    return(subject,mail_body)"
   ]
  },
  {
   "cell_type": "code",
   "execution_count": 53,
   "metadata": {},
   "outputs": [],
   "source": [
    "# And the last task is to automatically send an email just based on his name:\n",
    "# Send an email to the below email ids\n",
    "############################\n",
    "email_ids = ['rohan.bhatia@wns.com','chiranjeev.patidar@wns.com','ram.kumar@wns.com','ravan.kamal@wns.com']"
   ]
  },
  {
   "cell_type": "code",
   "execution_count": 56,
   "metadata": {},
   "outputs": [],
   "source": [
    "# Outlook Setup \n",
    "import win32com.client as win32\n",
    "#outlook = win32.Dispatch('outlook.application')"
   ]
  },
  {
   "cell_type": "code",
   "execution_count": 54,
   "metadata": {},
   "outputs": [
    {
     "name": "stdout",
     "output_type": "stream",
     "text": [
      "Subject\n",
      "Hurry Up! Rohan - This offer available to you only!\n",
      "\n",
      "Mail Body\n",
      "Good Morning Rohan,\n",
      "\n",
      "I have a great deal for you today! \n",
      "We are selling Computer in INR 40000 to you with 15% discount. Please visit our website now to get more information \n",
      "\n",
      "Thanks,\n",
      "Raj\n",
      "---------------------------------\n",
      "\n",
      "\n",
      "Subject\n",
      "Hurry Up! Chiranjeev - This offer available to you only!\n",
      "\n",
      "Mail Body\n",
      "Good Morning Chiranjeev,\n",
      "\n",
      "I have a great deal for you today! \n",
      "We are selling DSLR in INR 50000 to you with 10% discount. Please visit our website now to get more information \n",
      "\n",
      "Thanks,\n",
      "Raj\n",
      "---------------------------------\n",
      "\n",
      "\n",
      "Subject\n",
      "Hurry Up! Ram - This offer available to you only!\n",
      "\n",
      "Mail Body\n",
      "Good Morning Ram,\n",
      "\n",
      "I have a great deal for you today! \n",
      "We are selling Apple Laptop in INR 70000 to you with 17% discount. Please visit our website now to get more information \n",
      "\n",
      "Thanks,\n",
      "Raj\n",
      "---------------------------------\n",
      "\n",
      "\n",
      "Subject\n",
      "Hurry Up! Ravan - This offer available to you only!\n",
      "\n",
      "Mail Body\n",
      "Good Morning Ravan,\n",
      "\n",
      "I have a great deal for you today! \n",
      "We are selling Computer in INR 80000 to you with 6% discount. Please visit our website now to get more information \n",
      "\n",
      "Thanks,\n",
      "Raj\n",
      "---------------------------------\n",
      "\n",
      "\n"
     ]
    }
   ],
   "source": [
    "for i in range(len(cust_info)):\n",
    "    print(\"Subject\")\n",
    "    print(mail_function(cust_info[i][0],cust_info[i][1],cust_info[i][2],cust_info[i][3])[0])\n",
    "    print(\"\\nMail Body\")\n",
    "    print(mail_function(cust_info[i][0],cust_info[i][1],cust_info[i][2],cust_info[i][3])[1])\n",
    "    print(\"---------------------------------\")\n",
    "    print(\"\\n\")    "
   ]
  },
  {
   "cell_type": "code",
   "execution_count": 54,
   "metadata": {},
   "outputs": [],
   "source": [
    "# Optional Exercise"
   ]
  },
  {
   "cell_type": "code",
   "execution_count": 59,
   "metadata": {},
   "outputs": [
    {
     "name": "stdout",
     "output_type": "stream",
     "text": [
      "['Rohan', 40000, 6000, 'Computer'] rohan.bhatia@wns.com\n",
      "['Chiranjeev', 50000, 5000, 'DSLR'] chiranjeev.patidar@wns.com\n",
      "['Ram', 70000, 12000, 'Apple Laptop'] ram.kumar@wns.com\n",
      "['Ravan', 80000, 5000, 'Computer'] ravan.kamal@wns.com\n"
     ]
    }
   ],
   "source": [
    "for i,j in zip(cust_info,email_ids):\n",
    "    print(i,j)"
   ]
  },
  {
   "cell_type": "code",
   "execution_count": 57,
   "metadata": {},
   "outputs": [],
   "source": [
    "for i,j in zip(range(len(cust_info)),email_ids):\n",
    "    # Preparing an email\n",
    "    # Outlook Setup  # No need to import packages multiple times\n",
    "    #import win32com.client as win32\n",
    "    outlook = win32.Dispatch('outlook.application')\n",
    "    mail = outlook.CreateItem(0)\n",
    "    mail.To = j\n",
    "    mail.Subject = mail_function(cust_info[i][0],cust_info[i][1],cust_info[i][2],cust_info[i][3])[0]\n",
    "    mail.Body =  mail_function(cust_info[i][0],cust_info[i][1],cust_info[i][2],cust_info[i][3])[1]\n",
    "    # Mail Displaying \n",
    "    mail.display() # What's the problem here? "
   ]
  },
  {
   "cell_type": "code",
   "execution_count": 56,
   "metadata": {},
   "outputs": [],
   "source": [
    "#################################\n",
    "### Final Assignment of a Day ###\n",
    "#################################"
   ]
  },
  {
   "cell_type": "code",
   "execution_count": 57,
   "metadata": {},
   "outputs": [
    {
     "data": {
      "text/plain": [
       "'\\n1. Print - \"Welcome to the ABC bank ATM Machine\"\\n\\n2. Ask User to write the correct PIN number\\n  2.1 If PIN is Wrong, ask him/her to re-try one more time [He can max try 2 time, \\n       and then return him at end with message - \"Your Card is blocked, Please contact the branch \\n       for the security purpose\"]\\n\\n3. Now PIN is correct, ask user to select the account to do the transaction:\\n   \"Please select the type of Account\\n 1. Saving Account\\n 2. Current Account\\n\"\\n   3.1 - If user selects Saving account,then ask him how much do he want to withdraw: \\n   3.2 - If user selects Current accountm then print - \"Current Account is under maintenance, \\n         please use saving account for the transaction\": and redirect user one more time to 3.1 option \\n\\n4. Now, user input the amount in decimal of 100 if not please give him one more chance to correct the amount. \\n\\n5. Now - Based on the amount, ask user, what denomination would he/she prefer to withdraw: \\n   \\n   For Example,\\n        5.1 If user wants to withdraw more than 2000: \\n             - Then ask user : What denomination would you prefer:\\n                               1. 2000\\n                               2. 500\\n                               3. 100\\n        5.2 If user wants to withdraw amount 500 to 2000: \\n             - Then ask user : What denomination would you prefer:\\n                               1. 500\\n                               2. 100\\n        5.3 If user wants to withdraw less than 500:\\n             - Then ask user : Only Rs 100  Notes are for you:\\n                               1. 100                      \\n            \\n6. Now, based on step-5, if a user wants 5.1 step - calculate the number of notes and return the result\\n     For example if a user wants to withdraw Rs 2700: and he/she prefer 2000 note, then return : \\n     \\n          \"Please Wait your transaction is under process:\\n           You can collect:-\\n                ----------------------------\\n                RS 2000 Note = 1\\n                RS 500 Note = 1\\n                RS 100 Note = 2\\n       \\n       but if user prefers Rs 500 notes then, \\n       \\n        \"Please Wait your transaction is under process:\\n           You can collect:-\\n                ----------------------------\\n                RS 500 Note = 5\\n                RS 100 Note = 2\\n                \\n      but if user prefers Rs 100 notes then, \\n       \\n        \"Please Wait your transaction is under process:\\n           You can collect:-\\n                ----------------------------\\n                RS 100 Note = 27 \\n       \\n7. Repeat the same steps for all the other options\\n    \\n8. At the end, print: \\n\\n            print(\"#############################################\")\\n            print(\"### Thanks for using our Bank ATM Machine ###\")\\n            print(\"#############################################\")\\n       \\n'"
      ]
     },
     "execution_count": 57,
     "metadata": {},
     "output_type": "execute_result"
    }
   ],
   "source": [
    "# Objective: \n",
    "\n",
    "# An Indian Bank wants to optimise their ATM Machine Program.\n",
    "# Due to recent RBI policies changes after demonetization, bank wants to add few more information on the ATM screen \n",
    "# when customer try to withdraw an amount.\n",
    "\n",
    "# Let's say a customer want to withdraw some amount: \n",
    "# He/She needs to go through the below mention steps to get the successful transaction \n",
    "\n",
    "'''\n",
    "1. Print - \"Welcome to the ABC bank ATM Machine\"\n",
    "\n",
    "2. Ask User to write the correct PIN number\n",
    "  2.1 If PIN is Wrong, ask him/her to re-try one more time [He can max try 2 time, \n",
    "       and then return him at end with message - \"Your Card is blocked, Please contact the branch \n",
    "       for the security purpose\"]\n",
    "\n",
    "3. Now PIN is correct, ask user to select the account to do the transaction:\n",
    "   \"Please select the type of Account\\n 1. Saving Account\\n 2. Current Account\\n\"\n",
    "   3.1 - If user selects Saving account,then ask him how much do he want to withdraw: \n",
    "   3.2 - If user selects Current accountm then print - \"Current Account is under maintenance, \n",
    "         please use saving account for the transaction\": and redirect user one more time to 3.1 option \n",
    "\n",
    "4. Now, user input the amount in decimal of 100 if not please give him one more chance to correct the amount. \n",
    "\n",
    "5. Now - Based on the amount, ask user, what denomination would he/she prefer to withdraw: \n",
    "   \n",
    "   For Example,\n",
    "        5.1 If user wants to withdraw more than 2000: \n",
    "             - Then ask user : What denomination would you prefer:\n",
    "                               1. 2000\n",
    "                               2. 500\n",
    "                               3. 100\n",
    "        5.2 If user wants to withdraw amount 500 to 2000: \n",
    "             - Then ask user : What denomination would you prefer:\n",
    "                               1. 500\n",
    "                               2. 100\n",
    "        5.3 If user wants to withdraw less than 500:\n",
    "             - Then ask user : Only Rs 100  Notes are for you:\n",
    "                               1. 100                      \n",
    "            \n",
    "6. Now, based on step-5, if a user wants 5.1 step - calculate the number of notes and return the result\n",
    "     For example if a user wants to withdraw Rs 2700: and he/she prefer 2000 note, then return : \n",
    "     \n",
    "          \"Please Wait your transaction is under process:\n",
    "           You can collect:-\n",
    "                ----------------------------\n",
    "                RS 2000 Note = 1\n",
    "                RS 500 Note = 1\n",
    "                RS 100 Note = 2\n",
    "       \n",
    "       but if user prefers Rs 500 notes then, \n",
    "       \n",
    "        \"Please Wait your transaction is under process:\n",
    "           You can collect:-\n",
    "                ----------------------------\n",
    "                RS 500 Note = 5\n",
    "                RS 100 Note = 2\n",
    "                \n",
    "      but if user prefers Rs 100 notes then, \n",
    "       \n",
    "        \"Please Wait your transaction is under process:\n",
    "           You can collect:-\n",
    "                ----------------------------\n",
    "                RS 100 Note = 27 \n",
    "       \n",
    "7. Repeat the same steps for all the other options\n",
    "    \n",
    "8. At the end, print: \n",
    "\n",
    "            print(\"#############################################\")\n",
    "            print(\"### Thanks for using our Bank ATM Machine ###\")\n",
    "            print(\"#############################################\")\n",
    "       \n",
    "'''\n"
   ]
  },
  {
   "cell_type": "code",
   "execution_count": 1,
   "metadata": {},
   "outputs": [
    {
     "data": {
      "text/plain": [
       "'\\n### Correct ATM_PIN = 1234\\n###  Amt = 2000, that a user wants to withdraw\\n### He/she prefers Rs 500 note denomination\\n\\n#--------------Welcome to the ABC bank ATM Machine--------------#\\n-----------------------------------------------------------------\\nPlease write your PIN Number: 1234\\n-----------------------------------------------------------------\\nPlease select the type of Account\\n 1. Saving Account\\n 2. Current Account\\n\\n1\\nYou have selected Saving Account.\\n\\nHow much do you want to withdraw:\\n2700\\nWhat denomination would you prefer:\\n1. 2000\\n2. 500\\n3. 100\\n2\\n-----------------------------------------------------------------\\nPlease Wait your transaction is under process:\\nYou can collect:-\\n    ----------------------------\\n        RS 500 Note = 5\\n        RS 100 Note = 2\\n    ----------------------------\\n#############################################\\n### Thanks for using our Bank ATM Machine ###\\n#############################################\\n-----------------------------------------------------------------\\n\\n\\n'"
      ]
     },
     "execution_count": 1,
     "metadata": {},
     "output_type": "execute_result"
    }
   ],
   "source": [
    "# Sample Solution #\n",
    "\n",
    "'''\n",
    "### Correct ATM_PIN = 1234\n",
    "###  Amt = 2000, that a user wants to withdraw\n",
    "### He/she prefers Rs 500 note denomination\n",
    "\n",
    "#--------------Welcome to the ABC bank ATM Machine--------------#\n",
    "-----------------------------------------------------------------\n",
    "Please write your PIN Number: 1234\n",
    "-----------------------------------------------------------------\n",
    "Please select the type of Account\n",
    " 1. Saving Account\n",
    " 2. Current Account\n",
    "\n",
    "1\n",
    "You have selected Saving Account.\n",
    "\n",
    "How much do you want to withdraw:\n",
    "2700\n",
    "What denomination would you prefer:\n",
    "1. 2000\n",
    "2. 500\n",
    "3. 100\n",
    "2\n",
    "-----------------------------------------------------------------\n",
    "Please Wait your transaction is under process:\n",
    "You can collect:-\n",
    "    ----------------------------\n",
    "        RS 500 Note = 5\n",
    "        RS 100 Note = 2\n",
    "    ----------------------------\n",
    "#############################################\n",
    "### Thanks for using our Bank ATM Machine ###\n",
    "#############################################\n",
    "-----------------------------------------------------------------\n",
    "\n",
    "\n",
    "'''"
   ]
  },
  {
   "cell_type": "code",
   "execution_count": 60,
   "metadata": {},
   "outputs": [],
   "source": [
    "def atm_program(bank_pin):\n",
    "    \n",
    "    print(\"#--------------Welcome to the ABC bank ATM Machine--------------#\")\n",
    "    print(\"-----------------------------------------------------------------\")\n",
    "    usr = input(\"Please write your PIN Number: \")\n",
    "    pin_num = str(bank_pin)\n",
    "    if (pin_num==str(usr)):\n",
    "        #print(\"Function Requires\")\n",
    "        print(\"-----------------------------------------------------------------\")\n",
    "        correct_pin()\n",
    "        \n",
    "    else:\n",
    "        print(\"Your PIN is Incorrect, please try one more time\")\n",
    "        usr = input(\"Please write your PIN Number: \")\n",
    "        if (pin_num==str(usr)):\n",
    "            #print('Function Requires')\n",
    "            print(\"-----------------------------------------------------------------\")\n",
    "            correct_pin()   \n",
    "        else:\n",
    "            print(\"\\n----------------------------Important Note -----------------------------\")\n",
    "            print(\"Your Card is blocked, please contact the branch for the security purpose\")\n",
    "            print(\"------------------------------------------------------------------------\")\n",
    "            print(\"#############################################\")\n",
    "            print(\"### Thanks for using our Bank ATM Machine ###\")\n",
    "            print(\"#############################################\")"
   ]
  },
  {
   "cell_type": "code",
   "execution_count": 61,
   "metadata": {},
   "outputs": [],
   "source": [
    "def correct_pin():\n",
    "    print('Please select the type of Account\\n 1. Saving Account\\n 2. Current Account\\n')\n",
    "    usr = input()\n",
    "    if(str(1)==str(usr)):\n",
    "        saving_account()  \n",
    "    else:\n",
    "        print(\"Current Account is under maintenance, please use saving account for the transaction\\n\")\n",
    "        print('Please select the type of Account again\\n 1. Saving Account\\n 2. Current Account\\n')\n",
    "        usr = input()\n",
    "        if(str(1)==str(usr)):\n",
    "            saving_account()\n",
    "        "
   ]
  },
  {
   "cell_type": "code",
   "execution_count": 62,
   "metadata": {},
   "outputs": [],
   "source": [
    "def saving_account():\n",
    "    print('You have selected Saving Account.\\n\\nHow much do you want to withdraw:')\n",
    "    usr = input()\n",
    "    \n",
    "    if(int(usr)%100==0):\n",
    "        check = select_note_display(int(usr))\n",
    "        denom_input = input()\n",
    "        print(\"-----------------------------------------------------------------\")\n",
    "        amt_type(int(usr),check,denom_input)\n",
    "        print(\"-----------------------------------------------------------------\")\n",
    "    else:\n",
    "        print(\"Please write the correct amount. It should be in denomination of 100\")\n",
    "        usr = input()\n",
    "        check = select_note_display(int(usr))\n",
    "        denom_input = input()\n",
    "        print(\"-----------------------------------------------------------------\")\n",
    "        amt_type(int(usr),check,denom_input)\n",
    "        print(\"-----------------------------------------------------------------\")"
   ]
  },
  {
   "cell_type": "code",
   "execution_count": 63,
   "metadata": {},
   "outputs": [],
   "source": [
    "def amount_fig(amt,note):\n",
    "    flag = int(amt/note)\n",
    "    if(flag>1):\n",
    "        flag=1    \n",
    "    return(flag)"
   ]
  },
  {
   "cell_type": "code",
   "execution_count": 64,
   "metadata": {},
   "outputs": [],
   "source": [
    "def select_note_display(amt):\n",
    "    flag_2000 = amount_fig(amt,2000)\n",
    "    flag_500 = amount_fig(amt,500)\n",
    "    total = flag_2000+flag_500\n",
    "    \n",
    "    if(total==2):\n",
    "        print(\"What denomination would you prefer:\\n1. 2000\\n2. 500\\n3. 100\")\n",
    "        check = '2000'\n",
    "    \n",
    "    if(total==1):\n",
    "        print(\"What denomination would you prefer:\\n1. 500\\n2. 100\")\n",
    "        check = '500'\n",
    "                \n",
    "    if(total==0):\n",
    "        print(\"You have only Rs 100 denomination available to you:\\n1. 100 \")\n",
    "        check = '100'\n",
    "        \n",
    "    return(check)         "
   ]
  },
  {
   "cell_type": "code",
   "execution_count": 65,
   "metadata": {},
   "outputs": [],
   "source": [
    "def amt_type(amt,check,flag):\n",
    "    if(str('2000')==check):\n",
    "        if (str(1)==str(flag)):\n",
    "            note_2000 = int(amt/2000)\n",
    "            remaining_amt = amt - note_2000*2000\n",
    "            note_500 = int(remaining_amt/500)\n",
    "            note_100 = int((remaining_amt-500*note_500)/100)\n",
    "            print(\"Please Wait your transaction is under process:\\nYou can collect:-\")\n",
    "            print(\"\\t----------------------------\")\n",
    "            if(note_2000!=0):\n",
    "                print(\"\\t\\tRS 2000 Note = \"+str(note_2000))\n",
    "            if(note_500!=0):\n",
    "                print(\"\\t\\tRS 500 Note = \"+str(note_500))\n",
    "            if(note_100!=0):\n",
    "                print(\"\\t\\tRS 100 Note = \"+str(note_100))    \n",
    "            print(\"\\t----------------------------\")\n",
    "        elif(str(2)==str(flag)):\n",
    "            note_500 = int(amt/500)\n",
    "            note_100 = int((amt-500*note_500)/100)\n",
    "            print(\"Please Wait your transaction is under process:\\nYou can collect:-\")\n",
    "            print(\"\\t----------------------------\")\n",
    "            if(note_500!=0):\n",
    "                print(\"\\t\\tRS 500 Note = \"+str(note_500))\n",
    "            if(note_100!=0):\n",
    "                print(\"\\t\\tRS 100 Note = \"+str(note_100))    \n",
    "            print(\"\\t----------------------------\")\n",
    "        else:\n",
    "            note_100 = int(amt/100)\n",
    "            print(\"Please Wait your transaction is under process:\\nYou can collect:-\")\n",
    "            print(\"\\t----------------------------\")\n",
    "            print(\"\\t\\tRS 100 Note = \"+str(note_100)) \n",
    "            print(\"\\t----------------------------\")\n",
    "    elif(str('500')==check):\n",
    "        if(str(1)==flag):\n",
    "            note_500 = int(amt/500)\n",
    "            note_100 = int((amt-500*note_500)/100)\n",
    "            print(\"Please Wait your transaction is under process:\\nYou can collect:-\")\n",
    "            print(\"\\t----------------------------\")\n",
    "            if(note_500!=0):\n",
    "                print(\"\\t\\tRS 500 Note = \"+str(note_500))\n",
    "            if(note_100!=0):\n",
    "                print(\"\\t\\tRS 100 Note = \"+str(note_100))    \n",
    "            print(\"\\t----------------------------\")\n",
    "        else:\n",
    "            note_100 = int(amt/100)\n",
    "            print(\"Please Wait your transaction is under process:\\nYou can collect:-\")\n",
    "            print(\"\\t----------------------------\")\n",
    "            print(\"\\t\\tRS 100 Note = \"+str(note_100)) \n",
    "            print(\"\\t----------------------------\")\n",
    "            \n",
    "    else:\n",
    "        note_100 = int(amt/100)\n",
    "        print(\"Please Wait your transaction is under process:\\nYou can collect:-\")\n",
    "        print(\"\\t----------------------------\")\n",
    "        print(\"\\t\\tRS 100 Note = \"+str(note_100)) \n",
    "        print(\"\\t----------------------------\")\n",
    "    \n",
    "    print(\"#############################################\")\n",
    "    print(\"### Thanks for using our Bank ATM Machine ###\")\n",
    "    print(\"#############################################\")"
   ]
  },
  {
   "cell_type": "code",
   "execution_count": 68,
   "metadata": {},
   "outputs": [
    {
     "name": "stdout",
     "output_type": "stream",
     "text": [
      "#--------------Welcome to the ABC bank ATM Machine--------------#\n",
      "-----------------------------------------------------------------\n",
      "Please write your PIN Number: 1234\n",
      "-----------------------------------------------------------------\n",
      "Please select the type of Account\n",
      " 1. Saving Account\n",
      " 2. Current Account\n",
      "\n",
      "1\n",
      "You have selected Saving Account.\n",
      "\n",
      "How much do you want to withdraw:\n",
      "1200\n",
      "What denomination would you prefer:\n",
      "1. 500\n",
      "2. 100\n",
      "2\n",
      "-----------------------------------------------------------------\n",
      "Please Wait your transaction is under process:\n",
      "You can collect:-\n",
      "\t----------------------------\n",
      "\t\tRS 100 Note = 12\n",
      "\t----------------------------\n",
      "#############################################\n",
      "### Thanks for using our Bank ATM Machine ###\n",
      "#############################################\n",
      "-----------------------------------------------------------------\n"
     ]
    }
   ],
   "source": [
    "# Testing an Application: \n",
    "# ATM Program takes a Correct PIN Number that bank has in their database\n",
    "atm_program(1234)"
   ]
  },
  {
   "cell_type": "code",
   "execution_count": 102,
   "metadata": {},
   "outputs": [],
   "source": [
    "from flask import Flask\n",
    "from flask_restful import reqparse, abort, Api, Resource\n",
    "import pickle\n",
    "import numpy as np\n",
    "#from model import NLPModel"
   ]
  },
  {
   "cell_type": "code",
   "execution_count": 103,
   "metadata": {},
   "outputs": [
    {
     "ename": "ModuleNotFoundError",
     "evalue": "No module named 'NLPmodel'",
     "output_type": "error",
     "traceback": [
      "\u001b[1;31m---------------------------------------------------------------------------\u001b[0m",
      "\u001b[1;31mModuleNotFoundError\u001b[0m                       Traceback (most recent call last)",
      "\u001b[1;32m<ipython-input-103-6eb8758803fa>\u001b[0m in \u001b[0;36m<module>\u001b[1;34m()\u001b[0m\n\u001b[1;32m----> 1\u001b[1;33m \u001b[1;32mimport\u001b[0m \u001b[0mNLPmodel\u001b[0m\u001b[1;33m\u001b[0m\u001b[0m\n\u001b[0m",
      "\u001b[1;31mModuleNotFoundError\u001b[0m: No module named 'NLPmodel'"
     ]
    }
   ],
   "source": []
  },
  {
   "cell_type": "code",
   "execution_count": null,
   "metadata": {},
   "outputs": [],
   "source": []
  }
 ],
 "metadata": {
  "kernelspec": {
   "display_name": "Python 3",
   "language": "python",
   "name": "python3"
  },
  "language_info": {
   "codemirror_mode": {
    "name": "ipython",
    "version": 3
   },
   "file_extension": ".py",
   "mimetype": "text/x-python",
   "name": "python",
   "nbconvert_exporter": "python",
   "pygments_lexer": "ipython3",
   "version": "3.6.4"
  }
 },
 "nbformat": 4,
 "nbformat_minor": 2
}
